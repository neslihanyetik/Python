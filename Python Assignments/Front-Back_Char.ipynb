{
 "cells": [
  {
   "cell_type": "markdown",
   "metadata": {},
   "source": [
    "- Given a string, return a new string where the first and last chars have been exchanged."
   ]
  },
  {
   "cell_type": "code",
   "execution_count": 5,
   "metadata": {},
   "outputs": [
    {
     "name": "stdout",
     "output_type": "stream",
     "text": [
      "ylaruswac\n",
      "ba\n",
      "a\n"
     ]
    }
   ],
   "source": [
    "def front_back(word):\n",
    "    if len(word)== 1:\n",
    "        return words\n",
    "    else:\n",
    "        return word[-1:] + word[1:-1] + word[:1]\n",
    "\n",
    "\n",
    "print(front_back('clarusway'))\n",
    "\n",
    "print(front_back('ab'))\n",
    "\n",
    "print(front_back('a'))\n",
    "    "
   ]
  },
  {
   "cell_type": "code",
   "execution_count": null,
   "metadata": {},
   "outputs": [],
   "source": []
  }
 ],
 "metadata": {
  "kernelspec": {
   "display_name": "Python 3",
   "language": "python",
   "name": "python3"
  },
  "language_info": {
   "codemirror_mode": {
    "name": "ipython",
    "version": 3
   },
   "file_extension": ".py",
   "mimetype": "text/x-python",
   "name": "python",
   "nbconvert_exporter": "python",
   "pygments_lexer": "ipython3",
   "version": "3.8.3"
  }
 },
 "nbformat": 4,
 "nbformat_minor": 4
}
