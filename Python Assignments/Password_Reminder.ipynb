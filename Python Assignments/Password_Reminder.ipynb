{
 "cells": [
  {
   "cell_type": "code",
   "execution_count": 5,
   "metadata": {},
   "outputs": [
    {
     "name": "stdout",
     "output_type": "stream",
     "text": [
      "Adınızı giriniz: joseph\n",
      "Hello, Joseph! The password is : W@12\n"
     ]
    }
   ],
   "source": [
    "name1 = input(\"Adınızı giriniz: \").capitalize()\n",
    "\n",
    "if (name1 == \"Joseph\"):\n",
    "    print(\"Hello, Joseph! The password is : W@12\")\n",
    "else:\n",
    "    print(\"Hello, Amina! See you later.\")"
   ]
  },
  {
   "cell_type": "code",
   "execution_count": null,
   "metadata": {},
   "outputs": [],
   "source": []
  }
 ],
 "metadata": {
  "kernelspec": {
   "display_name": "Python 3",
   "language": "python",
   "name": "python3"
  },
  "language_info": {
   "codemirror_mode": {
    "name": "ipython",
    "version": 3
   },
   "file_extension": ".py",
   "mimetype": "text/x-python",
   "name": "python",
   "nbconvert_exporter": "python",
   "pygments_lexer": "ipython3",
   "version": "3.8.3"
  }
 },
 "nbformat": 4,
 "nbformat_minor": 4
}
