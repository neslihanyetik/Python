{
 "cells": [
  {
   "cell_type": "code",
   "execution_count": null,
   "metadata": {},
   "outputs": [],
   "source": [
    "Aluminum foil has a thickness of 0.025mm. A roll is formed by tightly winding it around a tube with an outside diameter of 4cm. \n",
    "Given the length of the foil in cm, write a function that returns the diameter of the roll in cm measured at its thickest point. \n",
    "Round the result to four places.\n",
    "\n",
    "Examples foil(0) ➞ 4.0\n",
    "\n",
    "foil(50) ➞ 4.02\n",
    "\n",
    "foil(4321) ➞ 5.4575\n",
    "\n",
    "foil(10000) ➞ 6.9175"
   ]
  },
  {
   "cell_type": "code",
   "execution_count": 1,
   "metadata": {},
   "outputs": [
    {
     "data": {
      "text/plain": [
       "4.3825"
      ]
     },
     "execution_count": 1,
     "metadata": {},
     "output_type": "execute_result"
    }
   ],
   "source": [
    "def foil(length):\n",
    "    from math import pi\n",
    "    diameter, perimeter = 4, 4*pi\n",
    "    while (length >= perimeter) :\n",
    "        length -= perimeter\n",
    "        diameter += 0.0025 * 2\n",
    "        perimeter = diameter * pi\n",
    "    if 0 < length < perimeter/2 : diameter += 0.0025\n",
    "    elif perimeter/2 <= length < perimeter : diameter += 0.0025 * 2\n",
    "    return round(diameter,4)\n",
    "\n",
    "foil(1000)"
   ]
  },
  {
   "cell_type": "code",
   "execution_count": 2,
   "metadata": {},
   "outputs": [
    {
     "data": {
      "text/plain": [
       "4.3825"
      ]
     },
     "execution_count": 2,
     "metadata": {},
     "output_type": "execute_result"
    }
   ],
   "source": [
    "def foil(length):\n",
    "    from math import pi\n",
    "    diameter, perimeter = 4, 4*pi\n",
    "    while (length >= perimeter) :\n",
    "        length -= perimeter\n",
    "        diameter += 0.0025 * 2\n",
    "        perimeter = diameter * pi\n",
    "    if 0 < length < perimeter/2 : diameter += 0.0025\n",
    "    elif perimeter/2 <= length < perimeter : diameter += 0.0025 * 2\n",
    "    return round(diameter,4)\n",
    "\n",
    "foil(1000)"
   ]
  },
  {
   "cell_type": "code",
   "execution_count": 3,
   "metadata": {},
   "outputs": [
    {
     "data": {
      "text/plain": [
       "'Cap: 6.9175 cm || Tur: 583 || Artik Uzunluk: 8.9028 cm'"
      ]
     },
     "execution_count": 3,
     "metadata": {},
     "output_type": "execute_result"
    }
   ],
   "source": [
    "from math import pi\n",
    "def foil(uzunluk):\n",
    "    p = pi\n",
    "    r, n, toplam, liste = 2, 0, 0, []\n",
    "    if uzunluk < 2 * p * r:\n",
    "        if uzunluk < (2 * p * r) / 2:\n",
    "            if uzunluk != 0:\n",
    "                cap = 4.0025\n",
    "            else: cap = 4\n",
    "        else: cap = 4.005\n",
    "    else:\n",
    "        while toplam <= uzunluk:\n",
    "            toplam += 2 * p * (r + 0.0025 * n)\n",
    "            liste.append(toplam)\n",
    "            n += 1\n",
    "        if uzunluk - liste[-2] < (2 * p * (r + 0.050 * n)) / 2:\n",
    "            cap = 4 + ((n * 2) - 1) * 0.0025\n",
    "        else: cap = 4 + (n * 2) * 0.0025\n",
    "    if n > 0:\n",
    "        return f'Cap: {round(cap, 4)} cm || Tur: {n-1} || Artik Uzunluk: {round(uzunluk - liste[-2], 4)} cm'\n",
    "    else: return f'Cap: {cap} cm'\n",
    "    \n",
    "foil(10000)"
   ]
  },
  {
   "cell_type": "code",
   "execution_count": 4,
   "metadata": {},
   "outputs": [
    {
     "data": {
      "text/plain": [
       "6.9175"
      ]
     },
     "execution_count": 4,
     "metadata": {},
     "output_type": "execute_result"
    }
   ],
   "source": [
    "def foil(length) :\n",
    "    from math import pi\n",
    "    alm_thick = 0.0025\n",
    "    a, n, rounder_sum = 0,0,0\n",
    "    \n",
    "    while length >= rounder_sum :\n",
    "        rounder_sum = ( 2 * pi) * ( 2 * n + alm_thick * a)\n",
    "        a += n   \n",
    "        n += 1\n",
    "    if length == 0 :\n",
    "        diameter = 4.0\n",
    "    elif rounder_sum - length >= (pi * (4 + n * alm_thick)) / 2 :\n",
    "        diameter = 4 +  (2 * (n-2) * alm_thick) + 0.0025\n",
    "    else :\n",
    "        diameter = 4 +  (2 * (n-1) * alm_thick)\n",
    "      \n",
    "    return round(diameter, 4)\n",
    "foil(10000)"
   ]
  },
  {
   "cell_type": "code",
   "execution_count": null,
   "metadata": {},
   "outputs": [],
   "source": []
  }
 ],
 "metadata": {
  "kernelspec": {
   "display_name": "Python 3",
   "language": "python",
   "name": "python3"
  },
  "language_info": {
   "codemirror_mode": {
    "name": "ipython",
    "version": 3
   },
   "file_extension": ".py",
   "mimetype": "text/x-python",
   "name": "python",
   "nbconvert_exporter": "python",
   "pygments_lexer": "ipython3",
   "version": "3.8.3"
  }
 },
 "nbformat": 4,
 "nbformat_minor": 4
}
