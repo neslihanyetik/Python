{
 "cells": [
  {
   "cell_type": "markdown",
   "metadata": {},
   "source": [
    "## Astonishing Numbers\n",
    "In this challenge, you have to establish if a given integer is an Astonishing number. An Astonishing number is an integer that, when partitioned into two parts a (left) and b (right), is equal to the sum of the consecutive numbers from a up to b (if a is lower than b), or from b up to a (if a is greater than b).\n",
    "\n",
    "Given a positive integer num, implement a function that returns:\n",
    "\n",
    "The string \"AB-Astonishing\" if num is an Astonishing number and the partition a is lower than b.\n",
    "The string \"BA-Astonishing\" if num is an Astonishing number and the partition a is greater than b.\n",
    "False if num is not an Astonishing number.\n",
    "\n",
    "\n",
    "### https://edabit.com/challenge/76pRYoqrmEQQtFAME"
   ]
  },
  {
   "cell_type": "code",
   "execution_count": 2,
   "metadata": {},
   "outputs": [
    {
     "name": "stdout",
     "output_type": "stream",
     "text": [
      "BA-Astonishing\n"
     ]
    }
   ],
   "source": [
    "def astonish(number):\n",
    "  str_num = str(number)\n",
    "  lst = []\n",
    "  k= 0\n",
    "  while k < len(str_num) -1:\n",
    "    a = int(str_num[:k+1])\n",
    "    b = int(str_num[k+1:])\n",
    "    lst.append((a,b))\n",
    "    k += 1\n",
    "  for k in lst:\n",
    "    if k[0] > k[1]:\n",
    "      ba_total = 0\n",
    "      for ard in range(k[1], k[0] +1):\n",
    "        ba_total += ard\n",
    "      if number == ba_total:\n",
    "        print(\"BA-Astonishing\")\n",
    "        break\n",
    "    elif k[0] < k[1]:\n",
    "      ab_total = 0\n",
    "      for ard in range(k[0], k[1] +1):\n",
    "        ab_total += ard\n",
    "      if number == ab_total:\n",
    "        print(\"AB-Astonishing\")\n",
    "        break\n",
    "\n",
    "  else:\n",
    "    print(False)\n",
    "\n",
    "astonish(2002077) "
   ]
  },
  {
   "cell_type": "code",
   "execution_count": 3,
   "metadata": {},
   "outputs": [
    {
     "name": "stdout",
     "output_type": "stream",
     "text": [
      "[2158002, 4315815, 6453918, 8455995, 208863279, 20250384786]\n",
      "Thats not astonishing\n"
     ]
    }
   ],
   "source": [
    "user=\"2002077\"\n",
    "user_str=\"\"\n",
    "user_list,first_list=[],[]\n",
    "sayac=1\n",
    "while sayac!=len(user):\n",
    "    first_num=user[:sayac]\n",
    "    kalan_num=user[sayac:].lstrip(\"0\")\n",
    "    first_list.append(first_num)\n",
    "    user_list.append(kalan_num)\n",
    "    sayac+=1\n",
    "if user_list[len(user_list)-1]==\"\":user_list[len(user_list)-1]=\"0\"\n",
    "first_list=[int(i) for i in first_list]\n",
    "user_list=[int(j) for j in user_list]\n",
    "zipo=zip(first_list,user_list)\n",
    "zipo=[tuple(sorted(tiro)) for tiro in zipo]\n",
    "toplam,toplist=0,[]\n",
    "for a,b in zipo:\n",
    "    for tito in range(a,b+1):\n",
    "        toplam+=tito\n",
    "    toplist.append(toplam)\n",
    "print(toplist)\n",
    "if int(user) in toplist:print(\"yeah it is astonishing\")\n",
    "else:print(\"Thats not astonishing\")"
   ]
  },
  {
   "cell_type": "code",
   "execution_count": 4,
   "metadata": {},
   "outputs": [
    {
     "name": "stdout",
     "output_type": "stream",
     "text": [
      "BA-Astonishing\n"
     ]
    }
   ],
   "source": [
    "num = 2002077\n",
    "num = str(num)\n",
    "lst=[]\n",
    "for i in range(len(str(num))-1):\n",
    "    lst.append((num[:i+1]))\n",
    "    lst.append((num[i+1:]))\n",
    "for j in range(len(lst)-1):\n",
    "    if int(lst[j]) > int(lst[j+1]):\n",
    "        a = sum([k for k in range(int(lst[j+1]),int(lst[j])+1)])\n",
    "        if a == int(num):\n",
    "            print(\"BA-Astonishing\" )\n",
    "            break\n",
    "    if int(lst[j+1]) > int(lst[j]):\n",
    "        b = sum([k for k in range(int(lst[j]),int(lst[j+1])+1)])\n",
    "        if b == int(num):\n",
    "            print(\"AB-Astonishing\" )\n",
    "            break\n",
    "if a != int(num) and b != int(num):\n",
    "    print(False)"
   ]
  },
  {
   "cell_type": "code",
   "execution_count": null,
   "metadata": {},
   "outputs": [],
   "source": [
    "num = int(input(\"Enter the positive integer bigger than 9: \"))\n",
    "def astonishing(num):\n",
    "    a = str(num)\n",
    "    result_A = 0\n",
    "    result_B = 0\n",
    "    \n",
    "    for i in range(1,len(str(num))):\n",
    "        if int(a[:i]) < int(a[i:]):\n",
    "            for j in range(int(a[:i]),int(a[i:])+1):\n",
    "                result_A = result_A + j\n",
    "            if result_A == num:\n",
    "                break\n",
    "        else:\n",
    "            for j in range(int(a[i:]),int(a[:i])+1):\n",
    "                result_B = result_B + j\n",
    "            if result_B == num:\n",
    "                break       \n",
    "                                   \n",
    "    if result_A == num:\n",
    "                print(\"AB-Astonishing\")\n",
    "    elif result_B == num:\n",
    "                print(\"BA-Astonishing\")\n",
    "    else:\n",
    "        print(False)\n",
    "astonishing(num)    "
   ]
  },
  {
   "cell_type": "code",
   "execution_count": null,
   "metadata": {},
   "outputs": [],
   "source": []
  }
 ],
 "metadata": {
  "kernelspec": {
   "display_name": "Python 3",
   "language": "python",
   "name": "python3"
  },
  "language_info": {
   "codemirror_mode": {
    "name": "ipython",
    "version": 3
   },
   "file_extension": ".py",
   "mimetype": "text/x-python",
   "name": "python",
   "nbconvert_exporter": "python",
   "pygments_lexer": "ipython3",
   "version": "3.8.3"
  }
 },
 "nbformat": 4,
 "nbformat_minor": 4
}
