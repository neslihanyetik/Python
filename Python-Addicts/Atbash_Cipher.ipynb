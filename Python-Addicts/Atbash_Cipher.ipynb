{
 "cells": [
  {
   "cell_type": "code",
   "execution_count": null,
   "metadata": {},
   "outputs": [],
   "source": [
    "The Atbash cipher is an encryption method in which each letter of a word is replaced with its \"mirror\" letter in the alphabet: A <=> Z; B <=> Y; C <=> X; etc.\n",
    "\n",
    "Create a function that takes a string and applies the Atbash cipher to it.\n",
    "\n",
    "Examples atbash(\"apple\") ➞ \"zkkov\"\n",
    "\n",
    "atbash(\"Hello world!\") ➞ \"Svool dliow!\"\n",
    "\n",
    "atbash(\"Christmas is the 25th of December\") ➞ \"Xsirhgnzh rh gsv 25gs lu Wvxvnyvi\" Notes Capitalisation should be retained. Non-alphabetic characters should not be altered."
   ]
  },
  {
   "cell_type": "code",
   "execution_count": 2,
   "metadata": {},
   "outputs": [
    {
     "data": {
      "text/plain": [
       "'zkkov!'"
      ]
     },
     "execution_count": 2,
     "metadata": {},
     "output_type": "execute_result"
    }
   ],
   "source": [
    "def atbash_cipher(text):\n",
    "    new_text = ''\n",
    "    for i in text:\n",
    "        if (ord(i) <=122 and ord(i) >= 97) or (ord(i) <= 90 and ord(i) >=65):\n",
    "            if ord(i) >= 97 and ord(i) <= 122:\n",
    "                i = ord(i)\n",
    "                x = 219 - i\n",
    "                y = chr(x)\n",
    "                new_text += y\n",
    "            else:\n",
    "                i = ord(i)\n",
    "                x = 155 - i\n",
    "                y = chr(x)\n",
    "                new_text += y\n",
    "        else:\n",
    "            y = i\n",
    "            new_text += y\n",
    "    return new_text\n",
    "\n",
    "atbash_cipher(\"apple!\")"
   ]
  },
  {
   "cell_type": "code",
   "execution_count": 3,
   "metadata": {},
   "outputs": [
    {
     "data": {
      "text/plain": [
       "'zkkov!'"
      ]
     },
     "execution_count": 3,
     "metadata": {},
     "output_type": "execute_result"
    }
   ],
   "source": [
    "def atbash_cipher(text):\n",
    "    new_text = ''\n",
    "    for i in text:\n",
    "        if (ord(i) <=122 and ord(i) >= 97) or (ord(i) <= 90 and ord(i) >=65):\n",
    "            if ord(i) >= 97 and ord(i) <= 122:\n",
    "                i = ord(i)\n",
    "                x = 219 - i\n",
    "                y = chr(x)\n",
    "                new_text += y\n",
    "            else:\n",
    "                i = ord(i)\n",
    "                x = 155 - i\n",
    "                y = chr(x)\n",
    "                new_text += y\n",
    "        else:\n",
    "            y = i\n",
    "            new_text += y\n",
    "    return new_text\n",
    "\n",
    "atbash_cipher(\"apple!\")"
   ]
  },
  {
   "cell_type": "code",
   "execution_count": 4,
   "metadata": {},
   "outputs": [
    {
     "data": {
      "text/plain": [
       "'zkkov!'"
      ]
     },
     "execution_count": 4,
     "metadata": {},
     "output_type": "execute_result"
    }
   ],
   "source": [
    "def atbash(txt):\n",
    "    liste = {\"a\":\"z\", \"b\":\"y\", \"c\":\"x\", \"d\":\"w\",\"e\":\"v\",\"f\":\"u\",\"g\":\"t\",\"h\":\"s\",\"i\":\"r\",\"j\":\"q\",\"k\":\"p\",\"l\":\"o\",\"m\":\"n\"}\n",
    "    liste2 = {j:i for i,j in liste.items()}\n",
    "    liste.update(liste2)\n",
    "    liste3 = {i.upper():j.upper() for i,j in liste.items()}\n",
    "    liste.update(liste3)\n",
    "    return \"\".join(liste[i] if i.isalpha() else i for i in txt)\n",
    "atbash(\"apple!\")"
   ]
  },
  {
   "cell_type": "code",
   "execution_count": null,
   "metadata": {},
   "outputs": [],
   "source": []
  },
  {
   "cell_type": "code",
   "execution_count": null,
   "metadata": {},
   "outputs": [],
   "source": []
  },
  {
   "cell_type": "code",
   "execution_count": null,
   "metadata": {},
   "outputs": [],
   "source": []
  },
  {
   "cell_type": "code",
   "execution_count": null,
   "metadata": {},
   "outputs": [],
   "source": []
  }
 ],
 "metadata": {
  "kernelspec": {
   "display_name": "Python 3",
   "language": "python",
   "name": "python3"
  },
  "language_info": {
   "codemirror_mode": {
    "name": "ipython",
    "version": 3
   },
   "file_extension": ".py",
   "mimetype": "text/x-python",
   "name": "python",
   "nbconvert_exporter": "python",
   "pygments_lexer": "ipython3",
   "version": "3.8.3"
  }
 },
 "nbformat": 4,
 "nbformat_minor": 4
}
