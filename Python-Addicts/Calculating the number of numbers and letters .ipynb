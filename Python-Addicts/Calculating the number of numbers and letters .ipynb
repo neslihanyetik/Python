{
 "cells": [
  {
   "cell_type": "markdown",
   "metadata": {},
   "source": [
    "Bir dize kabul eden ve rakam ve harf sayısını hesaplayan bir Python programı yazın. \n",
    "\n",
    "Örnek Veri : Python 3.2\n",
    "\n",
    "Beklenen Çıktı :\n",
    "\n",
    "Harfler 6\n",
    "Rakam 2\n",
    "7 replies"
   ]
  },
  {
   "cell_type": "code",
   "execution_count": null,
   "metadata": {},
   "outputs": [],
   "source": [
    "buyuk_harf = [chr(i) for i in range(65, 91)]\n",
    "kucuk_harf = [chr(i) for i in range(97, 123)]\n",
    "rakam = [chr(i) for i in range(48, 58)]\n",
    "rakam_s = 0\n",
    "harf_s = 0\n",
    "metin = input('Please enter a text > ')\n",
    "for i in metin:\n",
    "    if i in buyuk_harf:\n",
    "        harf_s += 1\n",
    "    elif i in kucuk_harf:\n",
    "        harf_s += 1\n",
    "    elif i in rakam:\n",
    "        rakam_s += 1\n",
    "print('There are {} letter(s) and {} number(s) in this text.'.format(harf_s, rakam_s))"
   ]
  },
  {
   "cell_type": "code",
   "execution_count": null,
   "metadata": {},
   "outputs": [],
   "source": [
    "value = input(\"please enter a value: \").strip().lower()\n",
    "ascıı_letter = [97, 98, 99, 100, 101, 102, 103, 104, 105, 106, 107, 108, 109, 110, 111, 112, 113, 114, 115, 116, 117, 118, 119, 120, 121]\n",
    "ascıı_number = [48, 49, 50, 51, 52, 53, 54, 55, 56, 57]\n",
    "let_list = []\n",
    "digit_list = []\n",
    "other_symbols = []\n",
    "\n",
    "for i in value:\n",
    "  if ord(i) in ascıı_letter:\n",
    "    let_list.append(i)\n",
    "  elif ord(i) in ascıı_number:\n",
    "    digit_list.append(i)\n",
    "  else:\n",
    "    other_symbols.append(i)\n",
    "print(f\"this value has {len(let_list)} letters \")\n",
    "print(f\"this value has {len(digit_list)} digits \" )\n",
    "print(f\"this value has {len(other_symbols)} other symbols \")"
   ]
  },
  {
   "cell_type": "code",
   "execution_count": null,
   "metadata": {},
   "outputs": [],
   "source": [
    "numbers = [\"0\",\"1\",\"2\",\"3\",\"4\",\"5\",\"6\",\"7\",\"8\",\"9\"]\n",
    "letters = [\"A\", \"B\", \"C\", \"D\", \"E\", \"F\", \"G\", \"H\", \"I\", \"J\", \"K\", \"L\", \"M\", \"N\", \"O\", \"P\", \"Q\", \"R\", \"S\", \"T\", \"U\", \"V\", \"W\", \"X\", \"Y\", \"Z\", \"a\", \"b\", \"c\", \"d\", \"e\", \"f\", \"g\", \"h\", \"i\", \"j\", \"k\", \"l\", \"m\", \"n\", \"o\", \"p\", \"q\", \"r\", \"s\", \"t\", \"u\", \"v\", \"w\", \"x\", \"y\", \"z\"]\n",
    "numbers_counter = 0\n",
    "letter_counter = 0\n",
    "a = input(\"Please write your string\")\n",
    "for i in a:\n",
    "    if i in numbers:\n",
    "        numbers_counter += 1\n",
    "        \n",
    "    elif i in letters:\n",
    "        letter_counter += 1\n",
    "print(f\"The letter have include {letter_counter} letter.\")\n",
    "print(f\"The letter have include {numbers_counter} numbers.\")"
   ]
  },
  {
   "cell_type": "code",
   "execution_count": null,
   "metadata": {},
   "outputs": [],
   "source": [
    "number = (\"0,1,2,3,4,5,6,7,8,9\")\n",
    "letter = (\"a,b,c,ç,d,e,f,g,ğ,h,ı,i,j,k,l,m,n,o,ö,p,r,s,ş,t,u,ü,q,w,y,z,x,v\").title()\n",
    "letter2 = (\"a,b,c,ç,d,e,f,g,ğ,h,ı,i,j,k,l,m,n,o,ö,p,r,s,ş,t,u,ü,q,w,y,z,x,v\")\n",
    "word = input(\"Type a word...:\")\n",
    "number_count = 0\n",
    "letter_count = 0\n",
    "for i in word :\n",
    "    if i in number :\n",
    "        number_count += 1\n",
    "    elif i in letter :\n",
    "        letter_count += 1\n",
    "    elif i in letter2 :\n",
    "        letter_count += 1\n",
    "print(\"{} numbers, {} letters.\".format(number_count,letter_count))"
   ]
  },
  {
   "cell_type": "code",
   "execution_count": null,
   "metadata": {},
   "outputs": [],
   "source": [
    "numbers = (\"0,1,2,3,4,5,6,7,8,9\")\n",
    "letters = (\"a,b,c,ç,d,e,f,g,ğ,h,ı,i,j,k,l,m,n,o,ö,p,r,s,ş,t,u,ü,q,w,y,z,x,v\")\n",
    "word = input(\"Type a word...:\").lower()\n",
    "numbers_count = 0\n",
    "letters_count = 0\n",
    "for i in word :\n",
    "    if i in numbers :\n",
    "        numbers_count += 1\n",
    "    elif i in letters :\n",
    "        letters_count += 1\n",
    "print(\"Word is composed of {} numbers, {} letters.\".format(numbers_count,letters_count))"
   ]
  },
  {
   "cell_type": "code",
   "execution_count": null,
   "metadata": {},
   "outputs": [],
   "source": [
    "s = input(\"Input a string\")\n",
    "d=l=0\n",
    "for c in s:\n",
    "    if c.isdigit():\n",
    "        d=d+1\n",
    "    elif c.isalpha():\n",
    "        l=l+1\n",
    "    else:\n",
    "        pass\n",
    "print(\"Letters\", l)\n",
    "print(\"Digits\", d)"
   ]
  },
  {
   "cell_type": "code",
   "execution_count": null,
   "metadata": {},
   "outputs": [],
   "source": [
    "sentence = 'Clarusway 009/21 course'\n",
    "let =[]\n",
    "num = []\n",
    "for i in sentence:\n",
    "  if i.isnumeric() :\n",
    "    num.append(i)\n",
    "  else:\n",
    "    let.append(i)\n",
    "print(f\"letters :{len(let)} \\nnumbers:{len(num)}\")"
   ]
  }
 ],
 "metadata": {
  "kernelspec": {
   "display_name": "Python 3",
   "language": "python",
   "name": "python3"
  },
  "language_info": {
   "codemirror_mode": {
    "name": "ipython",
    "version": 3
   },
   "file_extension": ".py",
   "mimetype": "text/x-python",
   "name": "python",
   "nbconvert_exporter": "python",
   "pygments_lexer": "ipython3",
   "version": "3.8.3"
  }
 },
 "nbformat": 4,
 "nbformat_minor": 4
}
