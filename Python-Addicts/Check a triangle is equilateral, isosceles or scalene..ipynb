{
 "cells": [
  {
   "cell_type": "markdown",
   "metadata": {},
   "source": [
    "Write a Python program to check a triangle is equilateral, isosceles or scalene.\n",
    "Note :\n",
    "An equilateral triangle is a triangle in which all three sides are equal.\n",
    "A scalene triangle is a triangle that has three unequal sides.\n",
    "An isosceles triangle is a triangle with (at least) two equal sides.\n",
    "Sample Output:\n",
    "x: 6\n",
    "y:8\n",
    "z:12\n",
    "Scalene triangle\n"
   ]
  },
  {
   "cell_type": "code",
   "execution_count": null,
   "metadata": {},
   "outputs": [
    {
     "name": "stdout",
     "output_type": "stream",
     "text": [
      "üçgen kenarlarını girin\n"
     ]
    }
   ],
   "source": [
    "print(\"üçgen kenarlarını girin\")\n",
    "kenar=[]\n",
    "for i in range(3):\n",
    "   # x=int(input(\"{0} inci üçgen kenarını girin: \".format(i)))\n",
    "  x=int(input(f\"{i+1} inci üçgen kenarını girin: \"))\n",
    "  kenar.append(x)\n",
    "print(kenar)\n",
    "if kenar[0]==kenar[1]==kenar[2]:\n",
    "  print(\"eşkenar\")\n",
    "elif kenar[0]==kenar[1] or kenar[0]==kenar[2] or kenar[1]==kenar[2]:\n",
    "  print(\"ikizkenar\")\n",
    "else:\n",
    "  print(\"çeşitkenar3\")"
   ]
  },
  {
   "cell_type": "code",
   "execution_count": null,
   "metadata": {},
   "outputs": [],
   "source": [
    "x = int(input(\"ilk kenarı giriniz: \"))\n",
    "y = int(input(\"ikinci kenarı giriniz: \"))\n",
    "z = int(input(\"üçüncü kenarı giriniz: \"))\n",
    "if x == y == z:\n",
    "    print(\"eşkenar\")\n",
    "elif x == y or y == z or x == z:\n",
    "    print(\"ikizkenar\")\n",
    "else:\n",
    "    print(\"scalena\")"
   ]
  },
  {
   "cell_type": "code",
   "execution_count": null,
   "metadata": {},
   "outputs": [],
   "source": []
  }
 ],
 "metadata": {
  "kernelspec": {
   "display_name": "Python 3",
   "language": "python",
   "name": "python3"
  },
  "language_info": {
   "codemirror_mode": {
    "name": "ipython",
    "version": 3
   },
   "file_extension": ".py",
   "mimetype": "text/x-python",
   "name": "python",
   "nbconvert_exporter": "python",
   "pygments_lexer": "ipython3",
   "version": "3.8.3"
  }
 },
 "nbformat": 4,
 "nbformat_minor": 4
}
