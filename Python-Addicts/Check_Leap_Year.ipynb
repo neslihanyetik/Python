{
 "cells": [
  {
   "cell_type": "markdown",
   "metadata": {},
   "source": [
    "Soru: Kullanıcıdan kontrol edilmek üzere bir yıl girmesini isteyiniz. Girilen yılın artık yıl olup olmadığını çıktı veren bir python programı yazınız.\n",
    "Artık yıl, Miladî takvimde (Gregoryen takvim) 365 yerine 366 günü olan yıl. Bu fazladan gün (artık gün), normalde 28 gün olan şubat ayına 29 Şubat'ın eklenmesi ile elde edilir. Dört yılda bir yapılan bu uygulamanın nedeni Dünya'nın Güneş çevresinde dönme süresinin (astronomik yıl), Güneş'in aynı meridyenden iki kez geçişi arasındaki ortalama zamanın (gün) tam katı olmamasıdır. Bir astronomik yıl yaklaşık olarak 365,242 gün olmasına rağmen[1] normal bir takvim yılı 365 gündür. (Wikipedia) "
   ]
  },
  {
   "cell_type": "code",
   "execution_count": null,
   "metadata": {},
   "outputs": [],
   "source": [
    "Year = int(input(\"Enter a year: \"))\n",
    "x = Year % 4 == 0\n",
    "y = Year % 100 != 0\n",
    "z = Year % 400 == 0\n",
    "leap_year = (x and y) or z\n",
    "print(leap_year)"
   ]
  },
  {
   "cell_type": "code",
   "execution_count": null,
   "metadata": {},
   "outputs": [],
   "source": [
    "year = int(input(\"Enter a year :\"))\n",
    "if (year%4 == 0 and year%100 != 0 ) or (year%100 == 0 and year%400 == 0):\n",
    "  print('This is a leap year')\n",
    "else :\n",
    "  print('This is not a leap year')"
   ]
  },
  {
   "cell_type": "code",
   "execution_count": null,
   "metadata": {},
   "outputs": [],
   "source": [
    "Yıl = int (input (\"Bir yıl giriniz: \"))\n",
    "if Yıl%4 ==0:\n",
    "  if Yıl%100==0  and Yıl%400 !=0:\n",
    "    print(Yıl, \"bir artık yıl değildir. 365 gün vardır.\")\n",
    "  else:\n",
    "    print(Yıl, \"bir artık yıl olup bu yılda 366 gün vardır.\")\n",
    "else:\n",
    "  print(Yıl, \"bir artık yıl değildir. 365 gün vardır.\")"
   ]
  },
  {
   "cell_type": "code",
   "execution_count": null,
   "metadata": {},
   "outputs": [],
   "source": [
    "year = int(input(\"Enter a year :\"))\n",
    "if (year%4 == 0 and year%100 != 0 ) or (year%100 == 0 and year%400 == 0):\n",
    "  print('This is a leap year')\n",
    "else :\n",
    "  print('This is not a leap year')"
   ]
  },
  {
   "cell_type": "code",
   "execution_count": null,
   "metadata": {},
   "outputs": [],
   "source": []
  }
 ],
 "metadata": {
  "kernelspec": {
   "display_name": "Python 3",
   "language": "python",
   "name": "python3"
  },
  "language_info": {
   "codemirror_mode": {
    "name": "ipython",
    "version": 3
   },
   "file_extension": ".py",
   "mimetype": "text/x-python",
   "name": "python",
   "nbconvert_exporter": "python",
   "pygments_lexer": "ipython3",
   "version": "3.8.3"
  }
 },
 "nbformat": 4,
 "nbformat_minor": 4
}
