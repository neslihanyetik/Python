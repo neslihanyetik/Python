{
 "cells": [
  {
   "cell_type": "markdown",
   "metadata": {},
   "source": [
    "\n",
    "Bu işlemler bakiye sorgulama, para yatırma, para çekme ve çıkış işlemlerini yapmasını istiyoruz. 1 tuşuna basınca Bakiye Sorgulama 2 tuşuna basınca Para Yatırma 3 tuşuna basınca Para Çekme ve q tuşuna basınca Çıkış işlemlerini yapmasını istiyoruz. Başlangıç bakiyesi 1000 TL olsun örneğin. birde \"q\" çıkış tuşuna basana kadar sürekli hangi işlemi yapacağımızı sorsun, ayrıca belirttiğimiz sayıdan ve \"q\" dan başka brişey girerse kullanıcı hata versin ve tekrar sorsun işlemin ne olduğunu... Kolay Gelsin..."
   ]
  },
  {
   "cell_type": "code",
   "execution_count": null,
   "metadata": {},
   "outputs": [],
   "source": [
    "main_display ='##############################\\n\\nClarusway Bank\\'a Hosglediniz\\n\\\n",
    "\\n\\n##############################\\n\\nIslemler\\n\\n1-) Bakiye Sorgulama\\n\\n2-) Para Yatirma\\n\\n3-) Para Cekme'\n",
    "print(main_display)\n",
    "bakiye = 1000\n",
    "while True :\n",
    "    soru = input('Lütfen yapmak istediginiz islemi tuslayin cikis icin \\'q\\' ya basin ')\n",
    "    if soru == 'q':\n",
    "        print('bizi tercih ettiginiz icin tesekküre ederiz')\n",
    "        break\n",
    "    elif soru == '1':\n",
    "        print('bakiyeniz {}'.format(bakiye))\n",
    "    elif soru =='2':\n",
    "        soru_2 = input('Lütfen yatiralacak tutari tuslayin')\n",
    "        yeni_bakiye = bakiye + int(soru_2)\n",
    "        print('yeni bakiyeniz {}'.format(yeni_bakiye))\n",
    "    elif soru == '3':\n",
    "        soru_3 = input('Lutfen cekmek istediginiz tutari tuslayin')\n",
    "        yeni_bakiye_1 =bakiye - int(soru_3)\n",
    "        print('yeni bakiyeniz {}'.format(yeni_bakiye_1))\n",
    "    else:\n",
    "        print('Yanlis bir giris yaptiniz lütfen tekrar deneyin')\n"
   ]
  },
  {
   "cell_type": "code",
   "execution_count": null,
   "metadata": {},
   "outputs": [],
   "source": [
    "\n",
    "balance = 1000\n",
    "while True:\n",
    "    print(\"Welcome to the Bank Of Clarus\", \"\\n\", \"\\n\", \"Please select the action you want to take\", \"\\n\", \"\\n\", \"1-Balance inquiry\", \"\\n\", \"2-Invest in\", \"\\n\", \"3-Draft\", \"\\n\", \"Press q to exit\")\n",
    "    x = str(input(\"Press any key\"))\n",
    "    if x == \"1\":\n",
    "        print(\"Your Balance is:\", balance)    \n",
    "    elif x == \"2\":\n",
    "        a = int(input(\"Add your money.Up to 40 pieces. Please entry amount\"))\n",
    "        balance = balance + a\n",
    "        print(\"Your new balance is: \",balance)\n",
    "    elif x == \"3\":\n",
    "        b = int(input(\"Enter the amount you want to draft:\"))\n",
    "        if balance >= b:\n",
    "            balance = balance -b\n",
    "            print(\"Available balance is:\", balance)\n",
    "        else:\n",
    "            print(\"Insufficient balance\")\n",
    "    elif x == \"q\":\n",
    "        print(\"See you again\")\n",
    "        break\n",
    "    else:\n",
    "        print(\"Try again\")\n",
    "    question_ = str(input(\"Would you like to take another action? (press 'y' : yes, 'n' : no)\"))\n",
    "    if question_ == \"y\":\n",
    "        True\n",
    "    else:\n",
    "        break"
   ]
  },
  {
   "cell_type": "code",
   "execution_count": null,
   "metadata": {},
   "outputs": [],
   "source": [
    "dongu = True\n",
    "bakiye = 1000\n",
    "start = '\\033[94m'\n",
    "end = \"\\033[0;0m\"\n",
    "while dongu: \n",
    "    print('''\n",
    "    Welcome to Clarusway Bank\n",
    "\n",
    "    1. Bakiye Sorgulama\n",
    "    2. Para Yatirma\n",
    "    3. Para Cekme\n",
    "\n",
    "    Cikis icin 'q' tusuna basiniz.\n",
    "    ''')\n",
    "\n",
    "    islem = input('Yapmak istediginiz islemin numarasini giriniz > ')\n",
    "    print()\n",
    "    print()\n",
    "    print()\n",
    "    if islem == '1':\n",
    "        print(start + f\"Kalan bakiyeniz {bakiye} TL'dir.\" + end)\n",
    "    elif islem == '2':\n",
    "        yatis = int(input('Yatirmak istediginiz miktari giriniz > '))\n",
    "        bakiye = bakiye + yatis\n",
    "    elif islem == '3':\n",
    "        cekim = int(input('Cekmek istediginiz miktari giriniz >'))\n",
    "        bakiye = bakiye - cekim\n",
    "    elif islem.lower() == 'q':\n",
    "        print(start + 'Clarusway Bank Iyi Gunler Diler.' + end)\n",
    "        dongu = False\n",
    "    else:\n",
    "        print(start + 'Lutfen girdiginiz islem numarasini kontrol ederek tekrar giris yapiniz.' + end)"
   ]
  },
  {
   "cell_type": "code",
   "execution_count": null,
   "metadata": {},
   "outputs": [],
   "source": []
  },
  {
   "cell_type": "code",
   "execution_count": null,
   "metadata": {},
   "outputs": [],
   "source": []
  }
 ],
 "metadata": {
  "kernelspec": {
   "display_name": "Python 3",
   "language": "python",
   "name": "python3"
  },
  "language_info": {
   "codemirror_mode": {
    "name": "ipython",
    "version": 3
   },
   "file_extension": ".py",
   "mimetype": "text/x-python",
   "name": "python",
   "nbconvert_exporter": "python",
   "pygments_lexer": "ipython3",
   "version": "3.8.3"
  }
 },
 "nbformat": 4,
 "nbformat_minor": 4
}
