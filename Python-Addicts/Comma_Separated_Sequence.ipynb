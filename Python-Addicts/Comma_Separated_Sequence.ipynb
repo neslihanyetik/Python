{
 "cells": [
  {
   "cell_type": "markdown",
   "metadata": {},
   "source": [
    "Write a program that accepts a comma separated sequence of words as input and prints the words in a comma-separated sequence after sorting them alphabetically. Suppose the following input is supplied to the program: without,hello,bag,world Then, the output should be: bag,hello,without,world"
   ]
  },
  {
   "cell_type": "code",
   "execution_count": 1,
   "metadata": {},
   "outputs": [
    {
     "data": {
      "text/plain": [
       "['adsum', 'bean', 'burak', 'dustin', 'enzo', 'muhammet', 'murat', 'steive']"
      ]
     },
     "execution_count": 1,
     "metadata": {},
     "output_type": "execute_result"
    }
   ],
   "source": [
    "def comma(string):\n",
    "    liste = string.split(\",\")\n",
    "    liste1 = []\n",
    "    for i in liste:\n",
    "        liste1.append(i.lower())\n",
    "    return sorted(liste1)\n",
    "comma(\"steive,dustin,Bean,Enzo,murat,adsum,muhammet,burak\")"
   ]
  },
  {
   "cell_type": "code",
   "execution_count": 2,
   "metadata": {},
   "outputs": [
    {
     "data": {
      "text/plain": [
       "['adsum', 'bean', 'burak', 'dustin', 'enzo', 'muhammet', 'murat', 'steive']"
      ]
     },
     "execution_count": 2,
     "metadata": {},
     "output_type": "execute_result"
    }
   ],
   "source": [
    "def comma(string):\n",
    "    liste = string.split(\",\")\n",
    "    liste1 = []\n",
    "    for i in liste:\n",
    "        liste1.append(i.lower())\n",
    "    return sorted(liste1)\n",
    "comma(\"steive,dustin,Bean,Enzo,murat,adsum,muhammet,burak\")"
   ]
  },
  {
   "cell_type": "code",
   "execution_count": null,
   "metadata": {},
   "outputs": [],
   "source": []
  },
  {
   "cell_type": "code",
   "execution_count": null,
   "metadata": {},
   "outputs": [],
   "source": []
  },
  {
   "cell_type": "code",
   "execution_count": null,
   "metadata": {},
   "outputs": [],
   "source": []
  }
 ],
 "metadata": {
  "kernelspec": {
   "display_name": "Python 3",
   "language": "python",
   "name": "python3"
  },
  "language_info": {
   "codemirror_mode": {
    "name": "ipython",
    "version": 3
   },
   "file_extension": ".py",
   "mimetype": "text/x-python",
   "name": "python",
   "nbconvert_exporter": "python",
   "pygments_lexer": "ipython3",
   "version": "3.8.3"
  }
 },
 "nbformat": 4,
 "nbformat_minor": 4
}
