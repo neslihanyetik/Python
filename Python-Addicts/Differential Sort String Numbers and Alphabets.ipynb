{
 "cells": [
  {
   "cell_type": "markdown",
   "metadata": {},
   "source": [
    "- Program to Sort the Characters of  String  Alphabet Symbols followed by Numeric Values\n",
    "* Input:  MHMMT1453\n",
    "* Output: HMMMT1345"
   ]
  },
  {
   "cell_type": "code",
   "execution_count": 2,
   "metadata": {},
   "outputs": [
    {
     "data": {
      "text/plain": [
       "'HMMMT1345'"
      ]
     },
     "execution_count": 2,
     "metadata": {},
     "output_type": "execute_result"
    }
   ],
   "source": [
    "def sirala(text):\n",
    "    harf, rakam = [], []\n",
    "    for i in text:\n",
    "        if i.isalpha():harf.append(i)\n",
    "        else:rakam.append(i)\n",
    "    harf.sort()\n",
    "    rakam.sort()\n",
    "    toplam = harf + rakam\n",
    "    sonuc = ''.join(toplam)\n",
    "    return sonuc\n",
    "\n",
    "sirala('MHMMT1453')"
   ]
  },
  {
   "cell_type": "code",
   "execution_count": 3,
   "metadata": {},
   "outputs": [
    {
     "data": {
      "text/plain": [
       "'HMMMT1345'"
      ]
     },
     "execution_count": 3,
     "metadata": {},
     "output_type": "execute_result"
    }
   ],
   "source": [
    "def sort_char(text):\n",
    "\n",
    "  letters = filter(lambda x: x.isalpha(), text)\n",
    "  nums = filter(lambda x: x.isnumeric(), text)\n",
    "\n",
    "  return \"\".join(sorted(letters) + sorted(nums))\n",
    "\n",
    "sort_char(\"MHMMT1453\")"
   ]
  },
  {
   "cell_type": "code",
   "execution_count": 7,
   "metadata": {},
   "outputs": [
    {
     "name": "stdout",
     "output_type": "stream",
     "text": [
      "HMMMT1345\n"
     ]
    }
   ],
   "source": [
    "text = \"MHMMT1453\"\n",
    "alpha = []\n",
    "num = []\n",
    "for i in text:\n",
    "    if i.isalpha():\n",
    "        alpha.append(i)\n",
    "    else:\n",
    "        num.append(i)\n",
    "result = ''.join(sorted(alpha)+sorted(num))\n",
    "print(result)"
   ]
  },
  {
   "cell_type": "code",
   "execution_count": 8,
   "metadata": {},
   "outputs": [
    {
     "data": {
      "text/plain": [
       "'HMMMT1345'"
      ]
     },
     "execution_count": 8,
     "metadata": {},
     "output_type": "execute_result"
    }
   ],
   "source": [
    "def sort_(text):\n",
    "    alpha = []\n",
    "    num = []\n",
    "    for i in text:\n",
    "        if i.isalpha():\n",
    "            alpha.append(i)\n",
    "        else:\n",
    "            num.append(i)\n",
    "    result =''.join(sorted(alpha)+sorted(num))\n",
    "    return result\n",
    "sort_(\"MHMMT1453\")"
   ]
  },
  {
   "cell_type": "code",
   "execution_count": 9,
   "metadata": {},
   "outputs": [
    {
     "data": {
      "text/plain": [
       "'HMMMT1345'"
      ]
     },
     "execution_count": 9,
     "metadata": {},
     "output_type": "execute_result"
    }
   ],
   "source": [
    "def sort_(text):\n",
    "    alpha = []\n",
    "    num = []\n",
    "    for i in text:\n",
    "        if i.isalpha():\n",
    "            alpha.append(i)\n",
    "        else:\n",
    "            num.append(i)\n",
    "    result =''.join(sorted(alpha)+sorted(num))\n",
    "    return result\n",
    "sort_(\"MHMMT1453\")"
   ]
  },
  {
   "cell_type": "code",
   "execution_count": 6,
   "metadata": {},
   "outputs": [
    {
     "name": "stdout",
     "output_type": "stream",
     "text": [
      "HMMMT1345\n"
     ]
    }
   ],
   "source": [
    "text = \"MHMMT1453\"\n",
    "alpha, num = [],[]\n",
    "for i in text:\n",
    "    if i.isalpha():alpha.append(i)\n",
    "    else:num.append(i)\n",
    "result = ''.join(sorted(alpha)+sorted(num))\n",
    "print(result)"
   ]
  },
  {
   "cell_type": "code",
   "execution_count": null,
   "metadata": {},
   "outputs": [],
   "source": []
  }
 ],
 "metadata": {
  "kernelspec": {
   "display_name": "Python 3",
   "language": "python",
   "name": "python3"
  },
  "language_info": {
   "codemirror_mode": {
    "name": "ipython",
    "version": 3
   },
   "file_extension": ".py",
   "mimetype": "text/x-python",
   "name": "python",
   "nbconvert_exporter": "python",
   "pygments_lexer": "ipython3",
   "version": "3.8.3"
  }
 },
 "nbformat": 4,
 "nbformat_minor": 4
}
