{
 "cells": [
  {
   "cell_type": "markdown",
   "metadata": {},
   "source": [
    "## Disarium Number\n",
    "A number is said to be Disarium if the sum of its digits raised to their respective positions is the number itself.\n",
    "\n",
    "Create a function that determines whether a number is a Disarium or not.\n",
    "### https://edabit.com/challenge/yvJbdkmKHvCNtcZy9"
   ]
  },
  {
   "cell_type": "code",
   "execution_count": null,
   "metadata": {},
   "outputs": [],
   "source": [
    "def basamak(n):    \n",
    "    a = 0    \n",
    "    while(n != 0):    \n",
    "        a = a + 1   \n",
    "        n = n//10    \n",
    "    return a    \n",
    "     \n",
    "number =int( input(\"bir sayi girin \"))    \n",
    "b = top = 0    \n",
    "len = basamak(number)    \n",
    "        \n",
    "n = number   \n",
    "    \n",
    "while(number > 0):    \n",
    "    b = number%10    \n",
    "    top = top + int(b**len)    \n",
    "    number = number//10    \n",
    "    len = len - 1   \n",
    "   \n",
    "if(top == n):    \n",
    "    print(str(n) + \" disarium number\")    \n",
    "else:    \n",
    "    print(str(n) + \" disarium number degil\")  "
   ]
  },
  {
   "cell_type": "code",
   "execution_count": null,
   "metadata": {},
   "outputs": [],
   "source": [
    "checking_number = input(\"Please write a number for checking is it disarium or not?:\")\n",
    "checking_number_list = list(checking_number)\n",
    "sum_of_disarium = 0\n",
    "for i in range(len(checking_number_list)):\n",
    "    sum_of_disarium += (int(checking_number_list[i]) ** (i+1))\n",
    "if int(checking_number) == sum_of_disarium:\n",
    "    print(f\"{checking_number} is a disarium number.\")\n",
    "else:\n",
    "    print(f\"{checking_number} is not a disarium number.\")"
   ]
  },
  {
   "cell_type": "code",
   "execution_count": null,
   "metadata": {},
   "outputs": [],
   "source": [
    "number = input('Enter a number > ')\n",
    "total = 0\n",
    "sayac = 1\n",
    "for i in number:\n",
    "    total = (int(i) ** sayac) + total\n",
    "    sayac += 1\n",
    "print(total)\n",
    "if total == int(number):\n",
    "    print('{} is a Disarium number.'.format(number))\n",
    "else:\n",
    "    print('{} is not a Disarium number.'.format(number))"
   ]
  },
  {
   "cell_type": "code",
   "execution_count": null,
   "metadata": {},
   "outputs": [],
   "source": [
    "sayı=int(input(\"sayı giriniz : \"))\n",
    "x=str(sayı)\n",
    "x=list(x)\n",
    "liste=[]\n",
    "liste1=[]\n",
    "t=0\n",
    "for i in x:\n",
    "  liste.append(int(i))\n",
    "for j in liste:\n",
    "  t+=1\n",
    "  total=j**t\n",
    "  liste1.append(total)\n",
    "  y=sum(liste1)\n",
    "if y==sayı:\n",
    "  print(\"girdiğiniz sayı disarium \")\n",
    "else:\n",
    "  print(\"girdiğiniz sayı disarium değil\")"
   ]
  },
  {
   "cell_type": "code",
   "execution_count": null,
   "metadata": {},
   "outputs": [],
   "source": [
    "def is_disarium(x):\n",
    "    list_x = list(str(x))\n",
    "    sum_a = 0\n",
    "    y = 1\n",
    "    for i in list_x :\n",
    "        b = int(i) ** y\n",
    "        y += 1\n",
    "        sum_a += b\n",
    "    if sum_a == x:\n",
    "        return True\n",
    "    else:\n",
    "        return False\n"
   ]
  }
 ],
 "metadata": {
  "kernelspec": {
   "display_name": "Python 3",
   "language": "python",
   "name": "python3"
  },
  "language_info": {
   "codemirror_mode": {
    "name": "ipython",
    "version": 3
   },
   "file_extension": ".py",
   "mimetype": "text/x-python",
   "name": "python",
   "nbconvert_exporter": "python",
   "pygments_lexer": "ipython3",
   "version": "3.8.3"
  }
 },
 "nbformat": 4,
 "nbformat_minor": 4
}
