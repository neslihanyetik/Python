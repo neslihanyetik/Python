{
 "cells": [
  {
   "cell_type": "markdown",
   "metadata": {},
   "source": [
    "Task: Time for some fake graphics! Let’s say we want to draw game boards that look like this:\n",
    " --- --- --- \n",
    "|   |   |   | \n",
    " --- --- ---  \n",
    "|   |   |   | \n",
    " --- --- ---  \n",
    "|   |   |   | \n",
    " --- --- --- \n",
    "This one is 3x3 (like in tic tac toe). Obviously, they come in many other sizes (8x8 for chess, 19x19 for Go, and many more).\n",
    "Ask the user what size game board they want to draw, and draw it for them to the screen using Python’s print statement."
   ]
  },
  {
   "cell_type": "code",
   "execution_count": 39,
   "metadata": {},
   "outputs": [
    {
     "name": "stdout",
     "output_type": "stream",
     "text": [
      "Welcome to the Game!!!\n",
      "What size of game board do you want me to draw? (e.g., 3X3) > 3X3\n",
      " --- --- ---\n",
      "|   |   |   |   \n",
      " --- --- ---\n",
      "|   |   |   |   \n",
      " --- --- ---\n",
      "|   |   |   |   \n",
      " --- --- ---\n"
     ]
    }
   ],
   "source": [
    "print('Welcome to the Game!!!')\n",
    "size = input('What size of game board do you want me to draw? (e.g., 3X3) > ')\n",
    "index = size.upper().find('X')\n",
    "row = int(size[:index])\n",
    "column = int(size[index +1 :])\n",
    "row_print = \" ---\"\n",
    "column_print = \"|   \"\n",
    "for i in range(row):\n",
    "    print(row_print * column)\n",
    "    print(column_print * (column + 1))\n",
    "print(row_print * column)"
   ]
  },
  {
   "cell_type": "code",
   "execution_count": null,
   "metadata": {},
   "outputs": [],
   "source": [
    "print('Welcome to the Game!!!')\n",
    "size = input('What size of game board do you want me to draw? (e.g., 3X3) > ')\n",
    "row = int(size)\n",
    "column = int(size)\n",
    "row_print = \" ---\"\n",
    "column_print = \"|   \"\n",
    "for i in range(row):\n",
    "    print(row_print * column)\n",
    "    print(column_print * (column + 1))\n",
    "print(row_print * column)"
   ]
  },
  {
   "cell_type": "code",
   "execution_count": null,
   "metadata": {},
   "outputs": [],
   "source": [
    "x = int(input(\"enter the line board size: \"))\n",
    "y = int(input(\"enter the column board size: \"))\n",
    "a = \" _ _ _ \"\n",
    "b = \"|\"\n",
    "print(x*(\" \" + a) + \"\\n\" + y*(x*(b + a)+ b + \"\\n\"))"
   ]
  },
  {
   "cell_type": "code",
   "execution_count": null,
   "metadata": {},
   "outputs": [],
   "source": [
    "matrix = int(input(\"A*A size of matrix, Enter A: \"))\n",
    "for i in range(0,matrix):\n",
    "  if i<matrix:\n",
    "    print(\"{}\\n{}|\".format(\" ---\"*matrix, \"|   \"*matrix))\n",
    "print(\"{}\".format(\" ---\"*matrix))"
   ]
  },
  {
   "cell_type": "code",
   "execution_count": null,
   "metadata": {},
   "outputs": [],
   "source": [
    "a = int(input(\"What size of your game board? : \"))\n",
    "i = 0\n",
    "while i < a :\n",
    "    print(\" --- \"*a)\n",
    "    print(\"|    \"*(a+1))\n",
    "    i +=1\n",
    "print(\" --- \"*a)"
   ]
  }
 ],
 "metadata": {
  "kernelspec": {
   "display_name": "Python 3",
   "language": "python",
   "name": "python3"
  },
  "language_info": {
   "codemirror_mode": {
    "name": "ipython",
    "version": 3
   },
   "file_extension": ".py",
   "mimetype": "text/x-python",
   "name": "python",
   "nbconvert_exporter": "python",
   "pygments_lexer": "ipython3",
   "version": "3.8.3"
  }
 },
 "nbformat": 4,
 "nbformat_minor": 4
}
