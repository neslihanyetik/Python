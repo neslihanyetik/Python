{
 "cells": [
  {
   "cell_type": "code",
   "execution_count": null,
   "metadata": {},
   "outputs": [],
   "source": [
    "Write a function that when given a URL as a string, parses out just the domain name and returns it as a string.\n",
    "For example:\n",
    "domain_name(\"http://github.com/carbonfive/raygun\") == \"github\" \n",
    "domain_name(\"http://www.zombie-bites.com\") == \"zombie-bites\"\n",
    "domain_name(\"https://www.cnet.com\") == \"cnet\""
   ]
  },
  {
   "cell_type": "code",
   "execution_count": 11,
   "metadata": {},
   "outputs": [
    {
     "data": {
      "text/plain": [
       "'cnet'"
      ]
     },
     "execution_count": 11,
     "metadata": {},
     "output_type": "execute_result"
    }
   ],
   "source": [
    "def domain_name(url):\n",
    "    return url.split(\"//\")[-1].split(\"www.\")[-1].split(\".\")[0]\n",
    "\n",
    "domain_name(\"https://www.cnet.com\")"
   ]
  },
  {
   "cell_type": "code",
   "execution_count": 15,
   "metadata": {},
   "outputs": [
    {
     "name": "stdout",
     "output_type": "stream",
     "text": [
      "zombie-bites\n"
     ]
    }
   ],
   "source": [
    "def domain(domain):    \n",
    "    import re\n",
    "    result = ''.join(re.findall('^http.+/(\\S+)\\.', domain))\n",
    "    if result.startswith('www'):\n",
    "        result = ''.join(re.findall('^www.(\\S+)', result))\n",
    "    return result\n",
    "\n",
    "domain_name(\"http://www.zombie-bites.com\")"
   ]
  },
  {
   "cell_type": "code",
   "execution_count": 13,
   "metadata": {},
   "outputs": [
    {
     "name": "stdout",
     "output_type": "stream",
     "text": [
      "github\n"
     ]
    }
   ],
   "source": [
    "def domain_name(domain):\n",
    "    points,com=[i for i in range(len(domain)) if domain[i]==\".\" or domain[i]==\"/\"],\".com\"\n",
    "    index=domain.index(com)\n",
    "    crack_dom=domain[points[1]+1:index]\n",
    "    if crack_dom[3]==\".\":\n",
    "        return print(crack_dom[4:])\n",
    "    else:\n",
    "        return print(crack_dom)\n",
    "    \n",
    "domain_name(\"http://github.com/carbonfive/raygun\")"
   ]
  },
  {
   "cell_type": "code",
   "execution_count": 7,
   "metadata": {},
   "outputs": [],
   "source": []
  },
  {
   "cell_type": "code",
   "execution_count": null,
   "metadata": {},
   "outputs": [],
   "source": []
  }
 ],
 "metadata": {
  "kernelspec": {
   "display_name": "Python 3",
   "language": "python",
   "name": "python3"
  },
  "language_info": {
   "codemirror_mode": {
    "name": "ipython",
    "version": 3
   },
   "file_extension": ".py",
   "mimetype": "text/x-python",
   "name": "python",
   "nbconvert_exporter": "python",
   "pygments_lexer": "ipython3",
   "version": "3.8.3"
  }
 },
 "nbformat": 4,
 "nbformat_minor": 4
}
