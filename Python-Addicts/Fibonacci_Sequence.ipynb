{
 "cells": [
  {
   "cell_type": "markdown",
   "metadata": {},
   "source": [
    "Fibonacci dizisini 0 ile 50 arasında almak için bir Python programı yazın .\n",
    "\n",
    "Not: Fibonacci Dizisi, 0, 1, 1, 2, 3, 5, 8, 13, 21, sayıları dizisidir .\n",
    "\n",
    "Her sonraki sayı, kendisinden önceki iki sayı toplanarak bulunur.\n",
    "\n",
    "Beklenen Çıktı : 1 1 2 3 5 8 13 21 34 "
   ]
  },
  {
   "cell_type": "code",
   "execution_count": 26,
   "metadata": {},
   "outputs": [
    {
     "name": "stdout",
     "output_type": "stream",
     "text": [
      "fibonacci sayıları: [1, 2, 3, 5, 8, 13, 21, 34]\n"
     ]
    }
   ],
   "source": [
    "x,y=0,1\n",
    "fibonacci=[]\n",
    "while x+y<50:\n",
    "    x,y = y,x+y\n",
    "    fibonacci.append(y)\n",
    "print(\"fibonacci sayıları:\", fibonacci)"
   ]
  },
  {
   "cell_type": "code",
   "execution_count": 28,
   "metadata": {},
   "outputs": [
    {
     "name": "stdout",
     "output_type": "stream",
     "text": [
      "[0, 1, 1, 2, 3, 5, 8, 13, 21, 34, 55, 89, 144, 233, 377, 610, 987, 1597, 2584, 4181, 6765, 10946, 17711, 28657, 46368, 75025, 121393, 196418, 317811, 514229, 832040, 1346269, 2178309, 3524578, 5702887, 9227465, 14930352, 24157817, 39088169, 63245986, 102334155, 165580141, 267914296, 433494437, 701408733, 1134903170, 1836311903, 2971215073, 4807526976, 7778742049]\n",
      "50\n"
     ]
    }
   ],
   "source": [
    "liste = [0,1]\n",
    "a,b=0,1\n",
    "while a<48:\n",
    "    toplam=liste[a] + liste[b]\n",
    "    liste.insert(b+1,toplam)\n",
    "    a += 1\n",
    "    b += 1\n",
    "print(liste)\n",
    "print(len(liste))"
   ]
  },
  {
   "cell_type": "code",
   "execution_count": 29,
   "metadata": {},
   "outputs": [
    {
     "name": "stdout",
     "output_type": "stream",
     "text": [
      "fibonacci sayıları: [1, 1, 2, 3, 5, 8, 13, 21, 34]\n"
     ]
    }
   ],
   "source": [
    "x, y, z = 0, 1, 2\n",
    "iboilenaci=[]\n",
    "while z < 50:\n",
    "    z = x + y\n",
    "    x = y\n",
    "    y = z\n",
    "    iboilenaci.append(x)\n",
    "print(\"fibonacci sayıları:\", iboilenaci)"
   ]
  },
  {
   "cell_type": "code",
   "execution_count": 30,
   "metadata": {},
   "outputs": [
    {
     "name": "stdout",
     "output_type": "stream",
     "text": [
      "Please enter a number : 98\n",
      "[1, 1, 2, 3, 5, 8, 13, 21, 34, 55, 89, 144, 233, 377, 610, 987, 1597, 2584, 4181, 6765, 10946, 17711, 28657, 46368, 75025, 121393, 196418, 317811, 514229, 832040, 1346269, 2178309, 3524578, 5702887, 9227465, 14930352, 24157817, 39088169, 63245986, 102334155, 165580141, 267914296, 433494437, 701408733, 1134903170, 1836311903, 2971215073, 4807526976, 7778742049, 12586269025, 20365011074, 32951280099, 53316291173, 86267571272, 139583862445, 225851433717, 365435296162, 591286729879, 956722026041, 1548008755920, 2504730781961, 4052739537881, 6557470319842, 10610209857723, 17167680177565, 27777890035288, 44945570212853, 72723460248141, 117669030460994, 190392490709135, 308061521170129, 498454011879264, 806515533049393, 1304969544928657, 2111485077978050, 3416454622906707, 5527939700884757, 8944394323791464, 14472334024676221, 23416728348467685, 37889062373143906, 61305790721611591, 99194853094755497, 160500643816367088, 259695496911122585, 420196140727489673, 679891637638612258, 1100087778366101931, 1779979416004714189, 2880067194370816120, 4660046610375530309, 7540113804746346429, 12200160415121876738, 19740274219868223167, 31940434634990099905, 51680708854858323072, 83621143489848422977]\n"
     ]
    }
   ],
   "source": [
    "n = int(input(\"Please enter a number : \"))\n",
    "fib_list = [0, 1]\n",
    "i = 2\n",
    "while len(fib_list)<=n:\n",
    "    fib_list.append(fib_list[i-1]+fib_list[i-2])\n",
    "    i+=1\n",
    "del (fib_list[0],fib_list[-1])\n",
    "print(fib_list)"
   ]
  }
 ],
 "metadata": {
  "kernelspec": {
   "display_name": "Python 3",
   "language": "python",
   "name": "python3"
  },
  "language_info": {
   "codemirror_mode": {
    "name": "ipython",
    "version": 3
   },
   "file_extension": ".py",
   "mimetype": "text/x-python",
   "name": "python",
   "nbconvert_exporter": "python",
   "pygments_lexer": "ipython3",
   "version": "3.8.3"
  }
 },
 "nbformat": 4,
 "nbformat_minor": 4
}
