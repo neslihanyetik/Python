{
 "cells": [
  {
   "cell_type": "markdown",
   "metadata": {},
   "source": [
    "Kullanıcıdan bir cümle alan ve cümle içerisinde geçen sesli harflerin her birinden kaçar tane olduğunu çıktı veren bir program yazınız.\n",
    "\n",
    "Girilen harflerin küçük/büyük olabileceği ihtimalini göz önünde bulundurunuz.\n",
    "\n",
    "Beklenen Çıktı:\n",
    "\n",
    "cümle: Sakla samanı gelir zamanı.\n",
    "\n",
    "a: 6\n",
    "\n",
    "ı: 2\n",
    "\n",
    "e: 1\n",
    "\n",
    "i: 1"
   ]
  },
  {
   "cell_type": "code",
   "execution_count": 14,
   "metadata": {},
   "outputs": [
    {
     "name": "stdout",
     "output_type": "stream",
     "text": [
      "kelime giriniz : neslihan\n",
      "{'e': 1, 'i': 1, 'a': 1}\n"
     ]
    }
   ],
   "source": [
    "kelime=str(input(\"kelime giriniz : \")).lower()\n",
    "kelime=list(kelime)\n",
    "liste1=[]\n",
    "liste2={}\n",
    "liste=(\"a\",\"e\",\"ı\",\"i\",\"o\",\"ö\",\"u\",\"ü\")\n",
    "for i in kelime:\n",
    " if i in liste:\n",
    "   liste1.append(i)\n",
    "for i in liste1:\n",
    "        if i in liste2:\n",
    "            liste2[i] += 1\n",
    "        else:\n",
    "            liste2[i] = 1\n",
    "print(liste2)"
   ]
  },
  {
   "cell_type": "code",
   "execution_count": 15,
   "metadata": {},
   "outputs": [
    {
     "name": "stdout",
     "output_type": "stream",
     "text": [
      "{'a': 6, 'i': 3, 'e': 1}\n"
     ]
    }
   ],
   "source": [
    "cumle = \"Sakla samani gelir zamani\"\n",
    "vowels = \"aeiouAEIOU\"\n",
    "a={}\n",
    "for i in cumle:\n",
    "    if i in vowels:\n",
    "        if i not in a:\n",
    "            a[i] = 1\n",
    "        else:\n",
    "            a[i] = cumle.count(i)  \n",
    "print(a)"
   ]
  },
  {
   "cell_type": "code",
   "execution_count": 16,
   "metadata": {},
   "outputs": [
    {
     "name": "stdout",
     "output_type": "stream",
     "text": [
      "Enter your text here > yetik\n",
      "e: 1\n",
      "i: 1\n"
     ]
    }
   ],
   "source": [
    "text = input('Enter your text here > ')\n",
    "vowels = ['a', 'e', 'u', 'i', 'o']  # for only English characters\n",
    "dictt = {}\n",
    "for i in text:\n",
    "    if i in vowels:\n",
    "        if i not in dictt:\n",
    "            dictt[i] = 1\n",
    "        else:\n",
    "            dictt[i] += 1\n",
    "print('\\n'.join(\"{}: {}\".format(k, v) for k, v in dictt.items()))"
   ]
  },
  {
   "cell_type": "code",
   "execution_count": 17,
   "metadata": {},
   "outputs": [
    {
     "name": "stdout",
     "output_type": "stream",
     "text": [
      "Enter your text here > clarusway\n",
      "a: 2\n",
      "u: 1\n"
     ]
    }
   ],
   "source": [
    "# A different solution\n",
    "\n",
    "text = input('Enter your text here > ')\n",
    "vowels = ['a', 'e', 'u', 'i', 'o']  # for only English characters\n",
    "dictt = {}\n",
    "for i in text:\n",
    "    if i in vowels:\n",
    "        dictt[i] = dictt.get(i, 0) + 1\n",
    "print('\\n'.join(\"{}: {}\".format(k, v) for k, v in dictt.items()))\n"
   ]
  },
  {
   "cell_type": "code",
   "execution_count": 18,
   "metadata": {},
   "outputs": [
    {
     "name": "stdout",
     "output_type": "stream",
     "text": [
      "enter a sentence: bsjsasbbsvaklkıu\n",
      "bsjsasbbsvaklkıu \n",
      "The wovels in this sentence are  {'ı', 'u', 'a'} \n",
      " {'a': 2, 'ı': 1, 'u': 1}\n"
     ]
    }
   ],
   "source": [
    "wovels = \"a\", \"e\", \"i\", \"o\", \"u\", \"ü\", \"ö\", \"ı\"\n",
    "sentence = input(\"enter a sentence: \").strip()\n",
    "sentence_format = list(sentence.replace(\" \",\"\").lower())\n",
    "wovels_check = []\n",
    "number = {}\n",
    "for i in range(len(sentence_format)):\n",
    "    if sentence_format[i] in wovels:\n",
    "        wovels_check.append(sentence_format[i])\n",
    "for x in wovels_check:\n",
    "    number.update({x:wovels_check.count(x)})\n",
    "print(sentence, \"\\nThe wovels in this sentence are \",set(wovels_check),\"\\n\",number)"
   ]
  },
  {
   "cell_type": "code",
   "execution_count": null,
   "metadata": {},
   "outputs": [],
   "source": [
    "sentence = list((input('Enter a sentence, please :').lower()))\n",
    "vowels = ['a', 'e', 'i', 'o', 'u', 'ı', 'ü','ö']\n",
    "for i in vowels :\n",
    "    if i in sentence :\n",
    "        print( i+':', sentence.count(i))"
   ]
  },
  {
   "cell_type": "code",
   "execution_count": null,
   "metadata": {},
   "outputs": [],
   "source": [
    "sentence=input('Write a sentence to count the vowel letters in it: ')\n",
    "sentence=list(sentence.lower())\n",
    "vowel=set('aeuıoüiö')\n",
    "for i in vowel:\n",
    "  print(f\"The letter '{i}' is repeated {sentence.count(i)} times in the sentence.\")"
   ]
  },
  {
   "cell_type": "code",
   "execution_count": null,
   "metadata": {},
   "outputs": [],
   "source": [
    "cumle = list((input('Enter a sentence, please :').lower()))\n",
    "famous = ['a', 'ı', 'e', 'i', 'o', 'u', 'ö', 'ü']\n",
    "for i in famous :\n",
    "    if i in cumle :\n",
    "        print( i+':', cumle.count(i))"
   ]
  }
 ],
 "metadata": {
  "kernelspec": {
   "display_name": "Python 3",
   "language": "python",
   "name": "python3"
  },
  "language_info": {
   "codemirror_mode": {
    "name": "ipython",
    "version": 3
   },
   "file_extension": ".py",
   "mimetype": "text/x-python",
   "name": "python",
   "nbconvert_exporter": "python",
   "pygments_lexer": "ipython3",
   "version": "3.8.3"
  }
 },
 "nbformat": 4,
 "nbformat_minor": 4
}
