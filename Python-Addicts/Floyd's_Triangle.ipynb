{
 "cells": [
  {
   "cell_type": "code",
   "execution_count": 1,
   "metadata": {},
   "outputs": [
    {
     "name": "stdout",
     "output_type": "stream",
     "text": [
      "sayı giriniz  : 12\n",
      "1  \n",
      "2  3  \n",
      "4  5  6  \n",
      "7  8  9  10  \n",
      "11  12  13  14  15  \n",
      "16  17  18  19  20  21  \n",
      "22  23  24  25  26  27  28  \n",
      "29  30  31  32  33  34  35  36  \n",
      "37  38  39  40  41  42  43  44  45  \n",
      "46  47  48  49  50  51  52  53  54  55  \n",
      "56  57  58  59  60  61  62  63  64  65  66  \n",
      "67  68  69  70  71  72  73  74  75  76  77  78  \n"
     ]
    }
   ],
   "source": [
    "sayı = int(input(\"sayı giriniz  : \"))\n",
    "x = 1\n",
    "for i in range(1, sayı + 1):\n",
    "    for j in range(1, i + 1):        \n",
    "        print(x, end = '  ')\n",
    "        x = x + 1\n",
    "    print()"
   ]
  },
  {
   "cell_type": "code",
   "execution_count": 4,
   "metadata": {},
   "outputs": [
    {
     "name": "stdout",
     "output_type": "stream",
     "text": [
      "Enter a number > 10\n",
      "    1\n",
      "    2    3\n",
      "    4    5    6\n",
      "    7    8    9   10\n"
     ]
    }
   ],
   "source": [
    "number = int(input('Enter a number > '))\n",
    "num = 1\n",
    "satir = 1\n",
    "while num < number + 1:\n",
    "    for i in range(num, satir + num):\n",
    "        print(f\"{i:>5}\", end = '')\n",
    "    print()\n",
    "    num += satir\n",
    "    satir += 1"
   ]
  },
  {
   "cell_type": "code",
   "execution_count": null,
   "metadata": {},
   "outputs": [],
   "source": [
    "# Bu da satir versiyonu:\n",
    "\n",
    "number = int(input('Enter a number > '))\n",
    "num = 1\n",
    "satir = 1\n",
    "while satir < number + 1:\n",
    "    for i in range(num, satir + num):\n",
    "        print(f\"{i:>4}\", end = '')\n",
    "    print()\n",
    "    num += satir\n",
    "    satir += 1"
   ]
  },
  {
   "cell_type": "code",
   "execution_count": null,
   "metadata": {},
   "outputs": [],
   "source": [
    "row = input(\"How many rows do you want to see in Floyd Triangle : \")\n",
    "count = 0\n",
    "for x in range(2,int(row)+2):\n",
    "    for y in range(1,x):\n",
    "        count = count + 1\n",
    "        print(\"{:<3}\".format(count), end = \" \")\n",
    "    print()"
   ]
  },
  {
   "cell_type": "code",
   "execution_count": null,
   "metadata": {},
   "outputs": [],
   "source": [
    "iput=int(input(\"please enter number\"))\n",
    "sayi=0\n",
    "for i in range(1,iput+2):\n",
    "    print(end=\" \\n\")\n",
    "    for j in range(1,i):\n",
    "         sayi +=1\n",
    "         print(\"{:<3}\".format(sayi),end=\" \")"
   ]
  }
 ],
 "metadata": {
  "kernelspec": {
   "display_name": "Python 3",
   "language": "python",
   "name": "python3"
  },
  "language_info": {
   "codemirror_mode": {
    "name": "ipython",
    "version": 3
   },
   "file_extension": ".py",
   "mimetype": "text/x-python",
   "name": "python",
   "nbconvert_exporter": "python",
   "pygments_lexer": "ipython3",
   "version": "3.8.3"
  }
 },
 "nbformat": 4,
 "nbformat_minor": 4
}
