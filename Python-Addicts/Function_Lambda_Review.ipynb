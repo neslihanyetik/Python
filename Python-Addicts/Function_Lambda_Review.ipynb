{
 "cells": [
  {
   "cell_type": "code",
   "execution_count": 1,
   "metadata": {},
   "outputs": [
    {
     "name": "stdout",
     "output_type": "stream",
     "text": [
      "hello hello hello \n"
     ]
    }
   ],
   "source": [
    "echo_word = lambda x, y : x * y\n",
    "\n",
    "print(echo_word('hello ', 3))"
   ]
  },
  {
   "cell_type": "code",
   "execution_count": 2,
   "metadata": {},
   "outputs": [
    {
     "name": "stdout",
     "output_type": "stream",
     "text": [
      "Vowels are : ['a', 'e', 'i']\n"
     ]
    }
   ],
   "source": [
    "vowel_list = ['a', 'e', 'i', 'o', 'u']\n",
    "first_ten = ['a', 'b', 'c', 'd', 'e', 'f', 'g', 'h', 'i', 'j']\n",
    "  \n",
    "vowels = filter(lambda x: True if x in vowel_list else False, first_ten) \n",
    "\n",
    "print('Vowels are :', list(vowels))"
   ]
  },
  {
   "cell_type": "code",
   "execution_count": 3,
   "metadata": {},
   "outputs": [
    {
     "name": "stdout",
     "output_type": "stream",
     "text": [
      "Vowels are : ['b', 'c', 'd', 'f', 'g', 'h', 'j']\n"
     ]
    }
   ],
   "source": [
    "vowel_list = ['a', 'e', 'i', 'o', 'u']\n",
    "first_ten = ['a', 'b', 'c', 'd', 'e', 'f', 'g', 'h', 'i', 'j']\n",
    "  \n",
    "nonvowels = filter(lambda x: False if x in vowel_list else True, first_ten) \n",
    "\n",
    "print('Vowels are :', list(nonvowels))\n",
    "\n",
    "# burda True ile False yer değiştirdik. filter fonksiyonu True sonuç veren elemanları seçtiği için \n",
    "# ve sesli harfler False verdiği için sesli harflerin dışında kalanları seçecektir."
   ]
  },
  {
   "cell_type": "code",
   "execution_count": 4,
   "metadata": {},
   "outputs": [
    {
     "name": "stdout",
     "output_type": "stream",
     "text": [
      "[6, 7, 8, 9, 10]\n",
      "[6, 7, 8, 9, 10]\n"
     ]
    }
   ],
   "source": [
    "# Fill in the blanks indicated by ... to create a lambda function that filters the numbers \n",
    "# smaller than 6 (it should give all the numbers which greater than or equal to 6) \n",
    "# in the number_list. (Note: In order to print the result, convert it into the list type.)\n",
    "\n",
    "\n",
    "number_list=[1, 2, 3, 4, 5, 6, 7, 8, 9, 10]\n",
    "\n",
    "result = filter(lambda x : True if x >= 6 else False, number_list)\n",
    "print(list(result))\n",
    "\n",
    "# ya da :\n",
    "    \n",
    "result = list(filter(lambda x : True if x >= 6 else False, number_list))\n",
    "print(result)\n",
    "\n",
    "# result'ı görüntülemek için list formatına çevirdik"
   ]
  },
  {
   "cell_type": "code",
   "execution_count": 5,
   "metadata": {},
   "outputs": [
    {
     "name": "stdout",
     "output_type": "stream",
     "text": [
      "[0, 3, 6, 9, 12]\n"
     ]
    }
   ],
   "source": [
    "number_list = [0, 1, 2, 3, 4, 5, 6, 7, 8, 9, 10, 11, 12] \n",
    "\n",
    "divisible_list = filter(lambda x:x%3==0, number_list) \n",
    "print(list(divisible_list))"
   ]
  },
  {
   "cell_type": "code",
   "execution_count": null,
   "metadata": {},
   "outputs": [],
   "source": []
  },
  {
   "cell_type": "code",
   "execution_count": null,
   "metadata": {},
   "outputs": [],
   "source": []
  }
 ],
 "metadata": {
  "kernelspec": {
   "display_name": "Python 3",
   "language": "python",
   "name": "python3"
  },
  "language_info": {
   "codemirror_mode": {
    "name": "ipython",
    "version": 3
   },
   "file_extension": ".py",
   "mimetype": "text/x-python",
   "name": "python",
   "nbconvert_exporter": "python",
   "pygments_lexer": "ipython3",
   "version": "3.8.3"
  }
 },
 "nbformat": 4,
 "nbformat_minor": 4
}
