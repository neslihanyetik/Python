{
 "cells": [
  {
   "cell_type": "code",
   "execution_count": null,
   "metadata": {},
   "outputs": [],
   "source": [
    "#1.iki sayı girip ort bulan fonk yaz."
   ]
  },
  {
   "cell_type": "code",
   "execution_count": 1,
   "metadata": {},
   "outputs": [],
   "source": [
    "def calculator2(x, y, opr) :\n",
    "    if opr == \"+\" :\n",
    "        return (x + y)\n",
    "    elif opr == \"-\" :\n",
    "        return (x - y)\n",
    "    elif opr == \"*\" :\n",
    "        return (x * y)\n",
    "    elif opr == \"/\" :\n",
    "        return (x / y)\n",
    "    else : return \"Enter a valid opr.\""
   ]
  },
  {
   "cell_type": "code",
   "execution_count": 2,
   "metadata": {},
   "outputs": [
    {
     "name": "stdout",
     "output_type": "stream",
     "text": [
      "11\n"
     ]
    }
   ],
   "source": [
    "print(calculator2(9,2, \"+\"))"
   ]
  },
  {
   "cell_type": "code",
   "execution_count": 3,
   "metadata": {},
   "outputs": [],
   "source": [
    "#2.fonk içinde gönderilen negatif sayıyı pozitif yapma:"
   ]
  },
  {
   "cell_type": "code",
   "execution_count": 4,
   "metadata": {},
   "outputs": [
    {
     "name": "stdout",
     "output_type": "stream",
     "text": [
      "211\n"
     ]
    }
   ],
   "source": [
    "def check(num):\n",
    "    if num > 0:\n",
    "        return num\n",
    "    else:\n",
    "        return -num # or abs(num)\n",
    "print(check(-211))"
   ]
  },
  {
   "cell_type": "code",
   "execution_count": null,
   "metadata": {},
   "outputs": [],
   "source": [
    "#3.Girilen sayının karesini alan program"
   ]
  },
  {
   "cell_type": "code",
   "execution_count": 10,
   "metadata": {},
   "outputs": [
    {
     "name": "stdout",
     "output_type": "stream",
     "text": [
      "12544\n"
     ]
    }
   ],
   "source": [
    "def kareal(x):\n",
    "    return x**2\n",
    "print(kareal(112))"
   ]
  },
  {
   "cell_type": "code",
   "execution_count": 13,
   "metadata": {},
   "outputs": [
    {
     "name": "stdout",
     "output_type": "stream",
     "text": [
      "Sayı giriniz:1001\n",
      "1001 karesi: 1002001\n"
     ]
    }
   ],
   "source": [
    "sayı = int(input(\"Sayı giriniz:\"))\n",
    "def kare_al(sayı):\n",
    "    return sayı **2\n",
    "print(sayı,\"karesi:\",kare_al(sayı))\n",
    "    "
   ]
  },
  {
   "cell_type": "code",
   "execution_count": null,
   "metadata": {},
   "outputs": [],
   "source": [
    "#4.Kullanıcı tarafından girilen değerin faktöriyelini hesaplama:"
   ]
  },
  {
   "cell_type": "code",
   "execution_count": 18,
   "metadata": {},
   "outputs": [
    {
     "name": "stdout",
     "output_type": "stream",
     "text": [
      "Enter a number:19\n",
      "121645100408832000\n"
     ]
    }
   ],
   "source": [
    "num = int(input(\"Enter a number:\"))\n",
    "def factorial(num):\n",
    "    multi = 1\n",
    "    for i in range(1,num+1):\n",
    "        multi *= i\n",
    "    return multi\n",
    "print(factorial(num))"
   ]
  },
  {
   "cell_type": "code",
   "execution_count": null,
   "metadata": {},
   "outputs": [],
   "source": [
    "def team_league(team, league='Premier League'):\n",
    "    print(team, 'in', league)\n",
    "\n",
    "team_league('Liverpool')"
   ]
  },
  {
   "cell_type": "code",
   "execution_count": 20,
   "metadata": {},
   "outputs": [
    {
     "name": "stdout",
     "output_type": "stream",
     "text": [
      "Porsche faster than Range Rover\n",
      "None\n"
     ]
    }
   ],
   "source": [
    "def cars(car1,car2= \"Range Rover\"):\n",
    "    print(car1, \"faster than\", car2)\n",
    "print(cars( \"Porsche\") ) #print i print ettiği için none çıktısı veriyor. bu kısmda printsiz yap"
   ]
  },
  {
   "cell_type": "code",
   "execution_count": null,
   "metadata": {},
   "outputs": [],
   "source": [
    "#5.İki paremetreli fonk al ve print kısmında arguman oluştur."
   ]
  },
  {
   "cell_type": "code",
   "execution_count": 24,
   "metadata": {},
   "outputs": [
    {
     "name": "stdout",
     "output_type": "stream",
     "text": [
      "Python kesinlikle iyi bilinmelidir.\n",
      "İstatistik olmadan olmaz :)\n"
     ]
    }
   ],
   "source": [
    "def data_science(text1,text2):\n",
    "    print(text1,\"kesinlikle iyi bilinmelidir.\")\n",
    "    print(text2,\"olmadan olmaz :)\")\n",
    "data_science(\"Python\", text2 =\"İstatistik\") # ister ata ister direkt yaz zeki Python her türlü anlar !! :)"
   ]
  },
  {
   "cell_type": "code",
   "execution_count": 27,
   "metadata": {},
   "outputs": [
    {
     "ename": "SyntaxError",
     "evalue": "non-default argument follows default argument (<ipython-input-27-838780434195>, line 1)",
     "output_type": "error",
     "traceback": [
      "\u001b[0;36m  File \u001b[0;32m\"<ipython-input-27-838780434195>\"\u001b[0;36m, line \u001b[0;32m1\u001b[0m\n\u001b[0;31m    def argu(a, b = \"dünya\", c, d = \"satürn\") :\u001b[0m\n\u001b[0m             ^\u001b[0m\n\u001b[0;31mSyntaxError\u001b[0m\u001b[0;31m:\u001b[0m non-default argument follows default argument\n"
     ]
    }
   ],
   "source": [
    "def argu(a, b = \"dünya\", c, d = \"satürn\") :\n",
    "    print(a, b, c, d, sep = \"\\n\") "
   ]
  },
  {
   "cell_type": "code",
   "execution_count": 30,
   "metadata": {},
   "outputs": [],
   "source": [
    "def argu(a, c, b = \"dünya\", d = \"satürn\") :\n",
    "    print(a, b, c, d, sep = \"\\n\") # sep = \"\\n\" ile new line diyerek alt alta yazdırmış olduk."
   ]
  },
  {
   "cell_type": "code",
   "execution_count": 31,
   "metadata": {},
   "outputs": [
    {
     "name": "stdout",
     "output_type": "stream",
     "text": [
      "uranüs\n",
      "dünya\n",
      "jüpiter\n",
      "satürn\n"
     ]
    }
   ],
   "source": [
    "argu(\"uranüs\", \"jüpiter\")"
   ]
  },
  {
   "cell_type": "code",
   "execution_count": null,
   "metadata": {},
   "outputs": [],
   "source": [
    "#6.Sınırsız sayıda sayı alıp bunları tek ve çift olarak veren donk yazınız.\n",
    "#*args Sınırsız sayıda parametreli fonksiyon oluşturmak için parametremizin önüne tek yıldız (*) koyabiliriz."
   ]
  },
  {
   "cell_type": "code",
   "execution_count": 5,
   "metadata": {},
   "outputs": [
    {
     "name": "stdout",
     "output_type": "stream",
     "text": [
      "Odds: [1]\n",
      "Evens: []\n",
      "Odds: [1, 3]\n",
      "Evens: []\n",
      "Odds: [1, 3]\n",
      "Evens: [4]\n",
      "Odds: [1, 3, 7]\n",
      "Evens: [4]\n",
      "Odds: [1, 3, 7]\n",
      "Evens: [4, 8]\n",
      "Odds: [1, 3, 7]\n",
      "Evens: [4, 8, 0]\n"
     ]
    }
   ],
   "source": [
    "def check(* num):\n",
    "    odds = []\n",
    "    evens = []\n",
    "    for i in num:\n",
    "        if i % 2 == 0:\n",
    "            evens.append(i)\n",
    "        else:\n",
    "            odds.append(i)\n",
    "        print(\"Odds:\",odds)      #Buradaki hatam printi for un içinde yazmam. o yüzden tekrar etti. \n",
    "        print(\"Evens:\", evens)\n",
    "        \n",
    "check(1,3,4,7,8,0)"
   ]
  },
  {
   "cell_type": "code",
   "execution_count": 6,
   "metadata": {},
   "outputs": [
    {
     "name": "stdout",
     "output_type": "stream",
     "text": [
      "even list :  [2, 4]\n",
      "odd list : [1, 3]\n"
     ]
    }
   ],
   "source": [
    "def slicer(* num) :\n",
    "    evens = []\n",
    "    odds = []\n",
    "    \n",
    "    for i in num :\n",
    "        if i % 2 == 0 :\n",
    "            evens.append(i)\n",
    "        else :\n",
    "            odds.append(i)\n",
    "            \n",
    "    print(\"even list : \", evens)\n",
    "    print(\"odd list :\", odds)\n",
    "slicer(1,2,3,4)"
   ]
  },
  {
   "cell_type": "code",
   "execution_count": null,
   "metadata": {},
   "outputs": [],
   "source": [
    "#7.Girilen kelimeyi büyük harfle yazan fonksiyon."
   ]
  },
  {
   "cell_type": "code",
   "execution_count": 2,
   "metadata": {},
   "outputs": [
    {
     "data": {
      "text/plain": [
       "'NESLIHAN'"
      ]
     },
     "execution_count": 2,
     "metadata": {},
     "output_type": "execute_result"
    }
   ],
   "source": [
    "def word(x):\n",
    "    return x.upper()\n",
    "word(\"neslihan\")"
   ]
  },
  {
   "cell_type": "code",
   "execution_count": null,
   "metadata": {},
   "outputs": [],
   "source": [
    "#8.Girilen kelimenin içinde sesli harf var ise true yoksa false yazdıran bir fonk.yazınız."
   ]
  },
  {
   "cell_type": "code",
   "execution_count": 4,
   "metadata": {},
   "outputs": [
    {
     "data": {
      "text/plain": [
       "False"
      ]
     },
     "execution_count": 4,
     "metadata": {},
     "output_type": "execute_result"
    }
   ],
   "source": [
    "def voweler(word):\n",
    "    letters =\"aeıioöüu\"\n",
    "    if word.lower() in letters:\n",
    "        return True\n",
    "    else:\n",
    "        return False\n",
    "voweler(\"sd\")"
   ]
  },
  {
   "cell_type": "code",
   "execution_count": null,
   "metadata": {},
   "outputs": [],
   "source": [
    "#9. a = \"ahmet\", b = \"mehmet\", c = \"selamet\"\n",
    "# çıktı aşagıdaki gibi olacak.\n",
    "a ahmet\n",
    "b mehmet\n",
    "c selamet"
   ]
  },
  {
   "cell_type": "code",
   "execution_count": 11,
   "metadata": {},
   "outputs": [],
   "source": [
    "def önceki(** parametre) :\n",
    "    for x, y in parametre.items() :\n",
    "        print(x, y)"
   ]
  },
  {
   "cell_type": "code",
   "execution_count": 12,
   "metadata": {},
   "outputs": [
    {
     "name": "stdout",
     "output_type": "stream",
     "text": [
      "a ahmet\n",
      "b mehmet\n",
      "c selamet\n"
     ]
    }
   ],
   "source": [
    "önceki(a = \"ahmet\", b = \"mehmet\", c = \"selamet\")"
   ]
  },
  {
   "cell_type": "code",
   "execution_count": null,
   "metadata": {},
   "outputs": [],
   "source": [
    "#10. dict_couple = {\"bride\" : [\"mary\", \"bella\", \"linda\", \"emma\"],\"groom\" : [\"jack\", \"robert\", \"eric\", \"adam\"]}\n",
    "#çıktı: [('mary', 'jack'), ('bella', 'robert'), ('linda', 'eric'), ('emma', 'adam')]"
   ]
  },
  {
   "cell_type": "code",
   "execution_count": 16,
   "metadata": {},
   "outputs": [],
   "source": [
    "dict_couple = {\"bride\" : [\"mary\", \"bella\", \"linda\", \"emma\"],\n",
    "               \"groom\" : [\"jack\", \"robert\", \"eric\", \"adam\"]}"
   ]
  },
  {
   "cell_type": "code",
   "execution_count": 24,
   "metadata": {},
   "outputs": [],
   "source": [
    "def couple(bride,groom):\n",
    "    lst = []\n",
    "    for i in zip(bride,groom):\n",
    "        lst.append(i)\n",
    "        return lst # lütfen dikkat :) döngü tamamlanmış hali için for hizasında olmalı.\n",
    "                   # aksi halde bir kez ekler ve sonucu verir."
   ]
  },
  {
   "cell_type": "code",
   "execution_count": 25,
   "metadata": {},
   "outputs": [
    {
     "data": {
      "text/plain": [
       "[('mary', 'jack')]"
      ]
     },
     "execution_count": 25,
     "metadata": {},
     "output_type": "execute_result"
    }
   ],
   "source": [
    "couple(** dict_couple)"
   ]
  },
  {
   "cell_type": "code",
   "execution_count": 26,
   "metadata": {},
   "outputs": [
    {
     "data": {
      "text/plain": [
       "[('mary', 'jack'), ('bella', 'robert'), ('linda', 'eric'), ('emma', 'adam')]"
      ]
     },
     "execution_count": 26,
     "metadata": {},
     "output_type": "execute_result"
    }
   ],
   "source": [
    "def couple(bride,groom):\n",
    "    lst = []\n",
    "    for i in zip(bride,groom):\n",
    "        lst.append(i)\n",
    "    return lst\n",
    "couple(** dict_couple)"
   ]
  },
  {
   "cell_type": "code",
   "execution_count": null,
   "metadata": {},
   "outputs": [],
   "source": [
    "#11.valid paranthesis  \n",
    "# () --> True\n",
    "# ([)] --> False"
   ]
  },
  {
   "cell_type": "markdown",
   "metadata": {},
   "source": [
    "```\n",
    "Input        Output\n",
    "--------:    ------:\n",
    "\"()\"         True\n",
    "\"()[]{}\"     True\n",
    "\"(]\"         False\n",
    "\"([)]\"       False\n",
    "\"{[]}\"       True\n",
    "\"\"           True\n",
    "```"
   ]
  },
  {
   "cell_type": "code",
   "execution_count": 33,
   "metadata": {},
   "outputs": [],
   "source": [
    "def isValid(s) :\n",
    "    while \"()\" in s or \"{}\" in s or \"[]\" in s:\n",
    "        s = s.replace(\"()\", \"\").replace(\"[]\", \"\").replace(\"{}\", \"\")\n",
    "    return s == \"\"\n"
   ]
  },
  {
   "cell_type": "code",
   "execution_count": null,
   "metadata": {},
   "outputs": [],
   "source": [
    "#12. girilen ismi tersten yazan bir fonk. oluştunuz.(Lambda ile !)"
   ]
  },
  {
   "cell_type": "code",
   "execution_count": 34,
   "metadata": {},
   "outputs": [
    {
     "data": {
      "text/plain": [
       "'nahilsen'"
      ]
     },
     "execution_count": 34,
     "metadata": {},
     "output_type": "execute_result"
    }
   ],
   "source": [
    "(lambda x : x[::-1])(\"neslihan\")"
   ]
  },
  {
   "cell_type": "code",
   "execution_count": null,
   "metadata": {},
   "outputs": [],
   "source": [
    "#13. İki sayının ortalamasını lambda ile hesablayınız"
   ]
  },
  {
   "cell_type": "code",
   "execution_count": 35,
   "metadata": {},
   "outputs": [
    {
     "data": {
      "text/plain": [
       "4.0"
      ]
     },
     "execution_count": 35,
     "metadata": {},
     "output_type": "execute_result"
    }
   ],
   "source": [
    "(lambda x, y : (x+y)/2)(3,5)"
   ]
  },
  {
   "cell_type": "code",
   "execution_count": null,
   "metadata": {},
   "outputs": [],
   "source": [
    "#14. 1'den 1000'e kadar olan sayılardan mükemmel sayı olanları ekrana yazdırın. \n",
    "#Bunun için bir sayının mükemmel olup olmadığını dönen bir tane fonksiyon yazın.\n",
    "#Bir sayının bölenlerinin toplamı kendine eşitse bu sayı mükemmel bir sayıdır.\n",
    "#Örnek olarak 6 mükemmel bir sayıdır (1 + 2 + 3 = 6)."
   ]
  },
  {
   "cell_type": "code",
   "execution_count": 1,
   "metadata": {},
   "outputs": [
    {
     "name": "stdout",
     "output_type": "stream",
     "text": [
      "Mükemmel Sayı: 6\n",
      "Mükemmel Sayı: 28\n",
      "Mükemmel Sayı: 496\n"
     ]
    }
   ],
   "source": [
    "def mukemmel(sayı):\n",
    "    \n",
    "    toplam = 0\n",
    "    \n",
    "    for i in range(1,sayı):\n",
    "        \n",
    "        if (sayı % i == 0):\n",
    "            toplam += i\n",
    "            \n",
    "    return toplam == sayı\n",
    "\n",
    "\n",
    "for i in range(1,1001):\n",
    "    if (mukemmel(i)):\n",
    "        print(\"Mükemmel Sayı:\",i)\n",
    "    "
   ]
  },
  {
   "cell_type": "code",
   "execution_count": null,
   "metadata": {},
   "outputs": [],
   "source": [
    "#15.Kullanıcıdan 2 tane sayı alarak bu sayıların(EBOB) dönen bir tane fonksiyon yazın."
   ]
  },
  {
   "cell_type": "code",
   "execution_count": 7,
   "metadata": {},
   "outputs": [
    {
     "name": "stdout",
     "output_type": "stream",
     "text": [
      "Number-1:998\n",
      "Number-2:80\n",
      "Ebob: 2\n"
     ]
    }
   ],
   "source": [
    "num1 = int(input(\"Number-1:\"))\n",
    "num2 = int(input(\"Number-2:\"))\n",
    "\n",
    "def ebob(num1,num2):\n",
    "    \n",
    "    i = 1\n",
    "    ebob = 1\n",
    "    while (i <= num1 and i <= num2 ):\n",
    "\n",
    "        if (not (num1 % i) and not (num2 % i)):\n",
    "            ebob = i\n",
    "        i += 1\n",
    "    return ebob\n",
    "\n",
    "print(\"Ebob:\",ebob(num1,num2))"
   ]
  },
  {
   "cell_type": "code",
   "execution_count": null,
   "metadata": {},
   "outputs": [],
   "source": [
    "#16.Kullanıcıdan 2 tane sayı alarak bu sayıların (EKOK) dönen bir tane fonksiyon yazın."
   ]
  },
  {
   "cell_type": "code",
   "execution_count": null,
   "metadata": {},
   "outputs": [],
   "source": []
  },
  {
   "cell_type": "code",
   "execution_count": null,
   "metadata": {},
   "outputs": [],
   "source": []
  },
  {
   "cell_type": "code",
   "execution_count": null,
   "metadata": {},
   "outputs": [],
   "source": []
  }
 ],
 "metadata": {
  "kernelspec": {
   "display_name": "Python 3",
   "language": "python",
   "name": "python3"
  },
  "language_info": {
   "codemirror_mode": {
    "name": "ipython",
    "version": 3
   },
   "file_extension": ".py",
   "mimetype": "text/x-python",
   "name": "python",
   "nbconvert_exporter": "python",
   "pygments_lexer": "ipython3",
   "version": "3.8.3"
  }
 },
 "nbformat": 4,
 "nbformat_minor": 4
}
