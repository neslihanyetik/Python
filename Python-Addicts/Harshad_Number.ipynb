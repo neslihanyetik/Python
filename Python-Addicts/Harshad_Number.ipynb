{
 "cells": [
  {
   "cell_type": "markdown",
   "metadata": {},
   "source": [
    "### Harshad Number\n",
    "A number is said to be Harshad if it's exactly divisible by the sum of its digits. Create a function that determines whether a number is a Harshad or not.\n",
    "\n",
    "\n",
    "### https://edabit.com/challenge/eADRy5SA5QbasA3Qt"
   ]
  },
  {
   "cell_type": "code",
   "execution_count": 9,
   "metadata": {},
   "outputs": [
    {
     "name": "stdout",
     "output_type": "stream",
     "text": [
      "Enter a number > 233\n",
      "233 is not Harshad.\n"
     ]
    }
   ],
   "source": [
    "def is_harshad(): \n",
    "    number = int(input('Enter a number > '))\n",
    "    summ = 0\n",
    "    for i in str(number):\n",
    "        summ += int(i)\n",
    "    if number % summ == 0:\n",
    "        print(f'{number} is Harshad.')\n",
    "    else:\n",
    "        print(f'{number} is not Harshad.')\n",
    "        \n",
    "\n",
    "is_harshad()"
   ]
  },
  {
   "cell_type": "code",
   "execution_count": null,
   "metadata": {},
   "outputs": [],
   "source": [
    "x = input(\"Enter a number\").strip()\n",
    "if x.isdigit():\n",
    "    a = int(x)\n",
    "    b = list(x)\n",
    "    i = 0\n",
    "    total = 0\n",
    "    while i < len(b):\n",
    "        z = int(b[i])\n",
    "        total += z\n",
    "        i += 1\n",
    "    if a % total == 0:\n",
    "        print(x, \"is a harshad number\")    \n",
    "    else:\n",
    "        print(x, \"is not harshad number\")\n",
    "else:\n",
    "    print(\"It is an invalid entry. Don't use non-numeric, float, or negative values!\")"
   ]
  },
  {
   "cell_type": "code",
   "execution_count": null,
   "metadata": {},
   "outputs": [],
   "source": [
    "num = input (\"Bir sayı giriniz: \")\n",
    "x = int(num)\n",
    "sum = 0\n",
    "while (x>0):\n",
    "  dig = x % 10\n",
    "  sum = sum + dig\n",
    "  x = x//10\n",
    "if int(num)%sum ==0:\n",
    "  print (num, \"is a Harshad Number\")\n",
    "else:\n",
    "  print (num, \"is not an Harshad Number\")"
   ]
  },
  {
   "cell_type": "code",
   "execution_count": null,
   "metadata": {},
   "outputs": [],
   "source": [
    "for_checking_number = input(\"Please enter a number for checking is it harsh number or not:\")\n",
    "sum_digits = 0\n",
    "for i in for_checking_number:\n",
    "    sum_digits += int(i)\n",
    "if int(for_checking_number) % sum_digits == 0:\n",
    "    print(f\"{for_checking_number} is harsh number.\")\n",
    "else:\n",
    "    print(f\"{for_checking_number} is not harsh number.\")"
   ]
  },
  {
   "cell_type": "code",
   "execution_count": null,
   "metadata": {},
   "outputs": [],
   "source": []
  }
 ],
 "metadata": {
  "kernelspec": {
   "display_name": "Python 3",
   "language": "python",
   "name": "python3"
  },
  "language_info": {
   "codemirror_mode": {
    "name": "ipython",
    "version": 3
   },
   "file_extension": ".py",
   "mimetype": "text/x-python",
   "name": "python",
   "nbconvert_exporter": "python",
   "pygments_lexer": "ipython3",
   "version": "3.8.3"
  }
 },
 "nbformat": 4,
 "nbformat_minor": 4
}
