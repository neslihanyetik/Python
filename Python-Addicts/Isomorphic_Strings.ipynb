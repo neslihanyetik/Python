{
 "cells": [
  {
   "cell_type": "code",
   "execution_count": null,
   "metadata": {},
   "outputs": [],
   "source": [
    "Given two strings s and t, create a function to determine if they are isomorphic. \n",
    "Two strings are isomorphic if the characters in s can be replaced to get t. \n",
    "All occurrences of a character must be replaced with another character while preserving the order of characters. \n",
    "No two characters may map to the same character but a character may map to itself.\n",
    "\n",
    "Examples is_isomorphic(\"egg\", \"add\") ➞ True\n",
    "\n",
    "is_isomorphic(\"aba\", \"baa\") ➞ False\n",
    "\n",
    "is_isomorphic(\"paper\", \"title\") ➞ True"
   ]
  },
  {
   "cell_type": "code",
   "execution_count": 1,
   "metadata": {},
   "outputs": [
    {
     "data": {
      "text/plain": [
       "True"
      ]
     },
     "execution_count": 1,
     "metadata": {},
     "output_type": "execute_result"
    }
   ],
   "source": [
    "def is_isomorphic(string1, string2):\n",
    "    dct = {}\n",
    "    for i in range(len(string1)):\n",
    "        if len(string1) != len(string2) :\n",
    "            return False\n",
    "            break\n",
    "        elif string1[i] in dct.keys():\n",
    "            if dct[string1[i]] == string2[i]:\n",
    "                continue\n",
    "            else:\n",
    "                return False\n",
    "        else:\n",
    "            if string2[i] in dct.values():\n",
    "                return False\n",
    "            else:\n",
    "                dct[string1[i]] = string2[i]\n",
    "\n",
    "    return True\n",
    "\n",
    "is_isomorphic(\"eggaa\", \"addss\")"
   ]
  },
  {
   "cell_type": "code",
   "execution_count": 2,
   "metadata": {},
   "outputs": [
    {
     "data": {
      "text/plain": [
       "True"
      ]
     },
     "execution_count": 2,
     "metadata": {},
     "output_type": "execute_result"
    }
   ],
   "source": [
    "def is_isomorphic(string1, string2):\n",
    "    dct = {}\n",
    "    for i in range(len(string1)):\n",
    "        if len(string1) != len(string2) :\n",
    "            return False\n",
    "            break\n",
    "        elif string1[i] in dct.keys():\n",
    "            if dct[string1[i]] == string2[i]:\n",
    "                continue\n",
    "            else:\n",
    "                return False\n",
    "        else:\n",
    "            if string2[i] in dct.values():\n",
    "                return False\n",
    "            else:\n",
    "                dct[string1[i]] = string2[i]\n",
    "\n",
    "    return True\n",
    "\n",
    "is_isomorphic(\"eggaa\", \"addss\")"
   ]
  },
  {
   "cell_type": "code",
   "execution_count": 3,
   "metadata": {},
   "outputs": [
    {
     "data": {
      "text/plain": [
       "True"
      ]
     },
     "execution_count": 3,
     "metadata": {},
     "output_type": "execute_result"
    }
   ],
   "source": [
    "def is_isomorphic(s, t):\n",
    "    s_dicct,t_dicct ={},{}\n",
    "    if len(s) != len(t):\n",
    "        return False\n",
    "    for i in range(len(t)):\n",
    "        si, ti = s[i], t[i]\n",
    "        if si not in s_dicct:\n",
    "            s_dicct[si] = ti\n",
    "        if ti not in t_dicct:\n",
    "            t_dicct[ti] = si\n",
    "        if t_dicct[ti] !=  si or s_dicct[si] != ti:\n",
    "            return False\n",
    "    return True\n",
    "is_isomorphic(\"paper\", \"title\")"
   ]
  },
  {
   "cell_type": "code",
   "execution_count": 4,
   "metadata": {},
   "outputs": [
    {
     "name": "stdout",
     "output_type": "stream",
     "text": [
      "True\n"
     ]
    }
   ],
   "source": [
    "def morfic(a,b):\n",
    "    first_list=[a.count(a[i]) for i in range(len(a)) if a[i] in a]\n",
    "    second_list = [b.count(b[j]) for j in range(len(b)) if b[j] in b]\n",
    "    if first_list==second_list:return True\n",
    "    else: return False\n",
    "print(morfic(\"paper\", \"title\"))"
   ]
  },
  {
   "cell_type": "code",
   "execution_count": 5,
   "metadata": {},
   "outputs": [
    {
     "name": "stdout",
     "output_type": "stream",
     "text": [
      "True\n"
     ]
    }
   ],
   "source": [
    "def morfic(a,b):\n",
    "    first_list=[a.count(a[i]) for i in range(len(a)) if a[i] in a]\n",
    "    second_list = [b.count(b[j]) for j in range(len(b)) if b[j] in b]\n",
    "    if first_list==second_list:return True\n",
    "    else: return False\n",
    "print(morfic(\"paper\", \"title\"))"
   ]
  },
  {
   "cell_type": "code",
   "execution_count": null,
   "metadata": {},
   "outputs": [],
   "source": []
  },
  {
   "cell_type": "code",
   "execution_count": null,
   "metadata": {},
   "outputs": [],
   "source": []
  },
  {
   "cell_type": "code",
   "execution_count": null,
   "metadata": {},
   "outputs": [],
   "source": []
  },
  {
   "cell_type": "code",
   "execution_count": null,
   "metadata": {},
   "outputs": [],
   "source": []
  }
 ],
 "metadata": {
  "kernelspec": {
   "display_name": "Python 3",
   "language": "python",
   "name": "python3"
  },
  "language_info": {
   "codemirror_mode": {
    "name": "ipython",
    "version": 3
   },
   "file_extension": ".py",
   "mimetype": "text/x-python",
   "name": "python",
   "nbconvert_exporter": "python",
   "pygments_lexer": "ipython3",
   "version": "3.8.3"
  }
 },
 "nbformat": 4,
 "nbformat_minor": 4
}
