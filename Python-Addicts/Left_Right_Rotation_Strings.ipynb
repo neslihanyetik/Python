{
 "cells": [
  {
   "cell_type": "markdown",
   "metadata": {},
   "source": [
    "Given a string of size n, write functions to perform following operations on string. Left (Or anticlockwise) rotate the given string by d elements (where d <= n). Right (Or clockwise) rotate the given string by d elements (where d <= n). For example given word: \"Hippopotamus\" result = Left Rotation : opotamusHipp Right Rotation : amusHippopot"
   ]
  },
  {
   "cell_type": "code",
   "execution_count": 1,
   "metadata": {},
   "outputs": [
    {
     "name": "stdout",
     "output_type": "stream",
     "text": [
      "Left Rotation :  opotamusHipp\n",
      "Right Rotation :  amusHippopot\n"
     ]
    }
   ],
   "source": [
    "def rotate(string, d):\n",
    "    left_rotation = string[d:] + string[:d]\n",
    "    right_rotation = string[-d:] + string[:-d]\n",
    "    print(\"Left Rotation : \", left_rotation)\n",
    "    print(\"Right Rotation : \", right_rotation)\n",
    "rotate(\"Hippopotamus\", 4)\n"
   ]
  },
  {
   "cell_type": "code",
   "execution_count": 2,
   "metadata": {},
   "outputs": [
    {
     "name": "stdout",
     "output_type": "stream",
     "text": [
      "Left Rotation :  opotamusHipp\n",
      "Right Rotation :  amusHippopot\n"
     ]
    }
   ],
   "source": [
    "def rotate(string, d):\n",
    "    left_rotation = string[d:] + string[:d]\n",
    "    right_rotation = string[-d:] + string[:-d]\n",
    "    print(\"Left Rotation : \", left_rotation)\n",
    "    print(\"Right Rotation : \", right_rotation)\n",
    "rotate(\"Hippopotamus\", 4)\n"
   ]
  },
  {
   "cell_type": "code",
   "execution_count": null,
   "metadata": {},
   "outputs": [],
   "source": []
  },
  {
   "cell_type": "code",
   "execution_count": null,
   "metadata": {},
   "outputs": [],
   "source": []
  },
  {
   "cell_type": "code",
   "execution_count": null,
   "metadata": {},
   "outputs": [],
   "source": []
  },
  {
   "cell_type": "code",
   "execution_count": null,
   "metadata": {},
   "outputs": [],
   "source": []
  },
  {
   "cell_type": "code",
   "execution_count": null,
   "metadata": {},
   "outputs": [],
   "source": []
  }
 ],
 "metadata": {
  "kernelspec": {
   "display_name": "Python 3",
   "language": "python",
   "name": "python3"
  },
  "language_info": {
   "codemirror_mode": {
    "name": "ipython",
    "version": 3
   },
   "file_extension": ".py",
   "mimetype": "text/x-python",
   "name": "python",
   "nbconvert_exporter": "python",
   "pygments_lexer": "ipython3",
   "version": "3.8.3"
  }
 },
 "nbformat": 4,
 "nbformat_minor": 4
}
