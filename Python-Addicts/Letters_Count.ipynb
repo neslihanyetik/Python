{
 "cells": [
  {
   "cell_type": "markdown",
   "metadata": {},
   "source": [
    "## Task:\n",
    "\n",
    "Count the number of each letter in a sentence.\n",
    "\n",
    "The department you work for undertook a project construction that makes word / text analysis. You are asked to \n",
    "calculate the number of letters or any chars in the sentences entered under this project.\n",
    "\n",
    "Write a Python program that;\n",
    "\n",
    "-takes a sentence from the user,\n",
    "\n",
    "-counts the number of each letter of the sentence,\n",
    "\n",
    "-collects the letters/chars as a key and the counted numbers as a value in a dictionary."
   ]
  },
  {
   "cell_type": "code",
   "execution_count": 1,
   "metadata": {},
   "outputs": [
    {
     "name": "stdout",
     "output_type": "stream",
     "text": [
      "Enter a sentence: neslihan\n",
      "dict_keys([])\n",
      "dict_keys([' '])\n",
      "dict_keys([' ', 'n'])\n",
      "dict_keys([' ', 'n', 'e'])\n",
      "dict_keys([' ', 'n', 'e', 's'])\n",
      "dict_keys([' ', 'n', 'e', 's', 'l'])\n",
      "dict_keys([' ', 'n', 'e', 's', 'l', 'i'])\n",
      "dict_keys([' ', 'n', 'e', 's', 'l', 'i', 'h'])\n",
      "dict_keys([' ', 'n', 'e', 's', 'l', 'i', 'h', 'a'])\n",
      "{' ': 1, 'n': 2, 'e': 1, 's': 1, 'l': 1, 'i': 1, 'h': 1, 'a': 1}\n"
     ]
    }
   ],
   "source": [
    "text = input(\"Enter a sentence:\")\n",
    "def count(text):\n",
    "    dict = {}\n",
    "    for n in text:\n",
    "        keys = dict.keys()\n",
    "        print(keys)\n",
    "        if n in keys:\n",
    "            dict[n] += 1\n",
    "        else:\n",
    "            dict[n] = 1\n",
    "    return dict\n",
    "print(count(text))"
   ]
  },
  {
   "cell_type": "code",
   "execution_count": null,
   "metadata": {},
   "outputs": [],
   "source": [
    "pwd"
   ]
  },
  {
   "cell_type": "code",
   "execution_count": null,
   "metadata": {},
   "outputs": [],
   "source": [
    "n = 75766"
   ]
  },
  {
   "cell_type": "code",
   "execution_count": null,
   "metadata": {},
   "outputs": [],
   "source": [
    "list(str(n)[::-1])"
   ]
  },
  {
   "cell_type": "code",
   "execution_count": 9,
   "metadata": {},
   "outputs": [
    {
     "ename": "NameError",
     "evalue": "name 'ops' is not defined",
     "output_type": "error",
     "traceback": [
      "\u001b[0;31m---------------------------------------------------------------------------\u001b[0m",
      "\u001b[0;31mNameError\u001b[0m                                 Traceback (most recent call last)",
      "\u001b[0;32m<ipython-input-9-1470bb80fe73>\u001b[0m in \u001b[0;36m<module>\u001b[0;34m\u001b[0m\n\u001b[0;32m----> 1\u001b[0;31m \u001b[0mops\u001b[0m\u001b[0;34m[\u001b[0m\u001b[0;34m\"+\"\u001b[0m\u001b[0;34m]\u001b[0m\u001b[0;34m(\u001b[0m\u001b[0;36m3\u001b[0m\u001b[0;34m,\u001b[0m \u001b[0;36m5\u001b[0m\u001b[0;34m)\u001b[0m\u001b[0;34m\u001b[0m\u001b[0;34m\u001b[0m\u001b[0m\n\u001b[0m\u001b[1;32m      2\u001b[0m \u001b[0mops\u001b[0m\u001b[0;34m=\u001b[0m\u001b[0;34m{\u001b[0m\u001b[0;34m\"+\"\u001b[0m\u001b[0;34m:\u001b[0m\u001b[0;32mlambda\u001b[0m \u001b[0mx\u001b[0m\u001b[0;34m,\u001b[0m\u001b[0my\u001b[0m\u001b[0;34m:\u001b[0m\u001b[0mx\u001b[0m\u001b[0;34m+\u001b[0m\u001b[0my\u001b[0m\u001b[0;34m}\u001b[0m\u001b[0;34m\u001b[0m\u001b[0;34m\u001b[0m\u001b[0m\n\u001b[1;32m      3\u001b[0m \u001b[0mprint\u001b[0m\u001b[0;34m(\u001b[0m\u001b[0mops\u001b[0m\u001b[0;34m[\u001b[0m\u001b[0;34m\"+\"\u001b[0m\u001b[0;34m]\u001b[0m\u001b[0;34m(\u001b[0m\u001b[0;36m3\u001b[0m\u001b[0;34m,\u001b[0m \u001b[0;36m5\u001b[0m\u001b[0;34m)\u001b[0m\u001b[0;34m)\u001b[0m\u001b[0;34m\u001b[0m\u001b[0;34m\u001b[0m\u001b[0m\n",
      "\u001b[0;31mNameError\u001b[0m: name 'ops' is not defined"
     ]
    }
   ],
   "source": [
    "ops[\"+\"](3, 5)\n",
    "ops={\"+\":lambda x,y:x+y}\n",
    "print(ops[\"+\"](3, 5)) "
   ]
  },
  {
   "cell_type": "code",
   "execution_count": 10,
   "metadata": {},
   "outputs": [
    {
     "name": "stdout",
     "output_type": "stream",
     "text": [
      "[1, 8, 3, 6, 5, 4, 7, 2, 9, 0]\n"
     ]
    }
   ],
   "source": [
    "original_list = [9, 8, 7, 6, 5, 4, 3, 2, 1, 0]\n",
    "\n",
    "def sort_odds(lst):\n",
    "    sorted_odds = sorted([n for n in lst if n % 2])\n",
    "    new_list = []\n",
    "    for n in lst:\n",
    "        if n % 2:\n",
    "            new_list.append(sorted_odds.pop(0))\n",
    "        else:\n",
    "            new_list.append(n)\n",
    "    return list(new_list)\n",
    "\n",
    "\n",
    "print(sort_odds(original_list))"
   ]
  },
  {
   "cell_type": "code",
   "execution_count": null,
   "metadata": {},
   "outputs": [],
   "source": []
  }
 ],
 "metadata": {
  "kernelspec": {
   "display_name": "Python 3 (ipykernel)",
   "language": "python",
   "name": "python3"
  },
  "language_info": {
   "codemirror_mode": {
    "name": "ipython",
    "version": 3
   },
   "file_extension": ".py",
   "mimetype": "text/x-python",
   "name": "python",
   "nbconvert_exporter": "python",
   "pygments_lexer": "ipython3",
   "version": "3.8.3"
  }
 },
 "nbformat": 4,
 "nbformat_minor": 4
}
