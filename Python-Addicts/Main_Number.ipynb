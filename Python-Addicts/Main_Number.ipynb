{
 "cells": [
  {
   "cell_type": "code",
   "execution_count": null,
   "metadata": {},
   "outputs": [],
   "source": [
    "Write your solution .how can we get this output:\n",
    "The main number is 7.\n",
    "7 - 7 = 0\n",
    "7 - 8 = 1\n",
    "7 - 9 = 2\n",
    "The main number is 8.\n",
    "8 - 7 = 1\n",
    "8 - 8 = 0\n",
    "8 - 9 = 1\n",
    "The main number is 9.\n",
    "9 - 7 = 2\n",
    "9 - 8 = 1\n",
    "9 - 9 = 0"
   ]
  },
  {
   "cell_type": "code",
   "execution_count": 1,
   "metadata": {},
   "outputs": [
    {
     "name": "stdout",
     "output_type": "stream",
     "text": [
      "The main number is 5.\n",
      "5 - 5 = 0\n",
      "5 - 6 = 1\n",
      "5 - 7 = 2\n",
      "5 - 8 = 3\n",
      "5 - 9 = 4\n",
      "The main number is 6.\n",
      "6 - 5 = 1\n",
      "6 - 6 = 0\n",
      "6 - 7 = 1\n",
      "6 - 8 = 2\n",
      "6 - 9 = 3\n",
      "The main number is 7.\n",
      "7 - 5 = 2\n",
      "7 - 6 = 1\n",
      "7 - 7 = 0\n",
      "7 - 8 = 1\n",
      "7 - 9 = 2\n",
      "The main number is 8.\n",
      "8 - 5 = 3\n",
      "8 - 6 = 2\n",
      "8 - 7 = 1\n",
      "8 - 8 = 0\n",
      "8 - 9 = 1\n",
      "The main number is 9.\n",
      "9 - 5 = 4\n",
      "9 - 6 = 3\n",
      "9 - 7 = 2\n",
      "9 - 8 = 1\n",
      "9 - 9 = 0\n"
     ]
    }
   ],
   "source": [
    "def main_number(n):    \n",
    "    a = n\n",
    "    while n <= 9:\n",
    "        y = a\n",
    "        print(f'The main number is {n}.')\n",
    "        while y <= 9:\n",
    "            if n - y < 0:\n",
    "                print(f'{n} - {y} = {-(n-y)}')\n",
    "            else:\n",
    "                print(f'{n} - {y} = {(n-y)}')\n",
    "            y += 1\n",
    "        n += 1\n",
    "\n",
    "main_number(5)"
   ]
  },
  {
   "cell_type": "code",
   "execution_count": 2,
   "metadata": {},
   "outputs": [
    {
     "name": "stdout",
     "output_type": "stream",
     "text": [
      "The main number is 5.\n",
      "5 - 5 = 0\n",
      "5 - 6 = 1\n",
      "5 - 7 = 2\n",
      "5 - 8 = 3\n",
      "5 - 9 = 4\n",
      "The main number is 6.\n",
      "6 - 5 = 1\n",
      "6 - 6 = 0\n",
      "6 - 7 = 1\n",
      "6 - 8 = 2\n",
      "6 - 9 = 3\n",
      "The main number is 7.\n",
      "7 - 5 = 2\n",
      "7 - 6 = 1\n",
      "7 - 7 = 0\n",
      "7 - 8 = 1\n",
      "7 - 9 = 2\n",
      "The main number is 8.\n",
      "8 - 5 = 3\n",
      "8 - 6 = 2\n",
      "8 - 7 = 1\n",
      "8 - 8 = 0\n",
      "8 - 9 = 1\n",
      "The main number is 9.\n",
      "9 - 5 = 4\n",
      "9 - 6 = 3\n",
      "9 - 7 = 2\n",
      "9 - 8 = 1\n",
      "9 - 9 = 0\n"
     ]
    }
   ],
   "source": [
    "def main_number(n):    \n",
    "    a = n\n",
    "    while n <= 9:\n",
    "        y = a\n",
    "        print(f'The main number is {n}.')\n",
    "        while y <= 9:\n",
    "            print(f'{n} - {y} = {abs(n-y)}')\n",
    "            y += 1\n",
    "        n += 1\n",
    "main_number(5)"
   ]
  },
  {
   "cell_type": "code",
   "execution_count": null,
   "metadata": {},
   "outputs": [],
   "source": []
  }
 ],
 "metadata": {
  "kernelspec": {
   "display_name": "Python 3",
   "language": "python",
   "name": "python3"
  },
  "language_info": {
   "codemirror_mode": {
    "name": "ipython",
    "version": 3
   },
   "file_extension": ".py",
   "mimetype": "text/x-python",
   "name": "python",
   "nbconvert_exporter": "python",
   "pygments_lexer": "ipython3",
   "version": "3.8.3"
  }
 },
 "nbformat": 4,
 "nbformat_minor": 4
}
