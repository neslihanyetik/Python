{
 "cells": [
  {
   "cell_type": "markdown",
   "metadata": {},
   "source": [
    "Write a Python code that find the students who have maximum and minimum average at below.\n",
    "\n",
    "grades={'Student-1': {'Lesson-1': 57, 'Lesson-2': 46, 'Lesson-3': 58, 'Lesson-4': 81, 'Lesson-5': 85}, 'Student-2': {'Lesson-1': 85, 'Lesson-2': 56, 'Lesson-3': 51, 'Lesson-4': 69, 'Lesson-5': 67}, 'Student-3': {'Lesson-1': 68, 'Lesson-2': 76, 'Lesson-3': 87, 'Lesson-4': 57, 'Lesson-5': 56}, 'Student-4': {'Lesson-1': 78, 'Lesson-2': 93, 'Lesson-3': 88, 'Lesson-4': 38, 'Lesson-5': 54}, 'Student-5': {'Lesson-1': 50, 'Lesson-2': 46, 'Lesson-3': 78, 'Lesson-4': 81, 'Lesson-5': 75}}"
   ]
  },
  {
   "cell_type": "code",
   "execution_count": 40,
   "metadata": {},
   "outputs": [
    {
     "name": "stdout",
     "output_type": "stream",
     "text": [
      "The student who has the maximum average is Student-4 and his/her score is 70.2.\n",
      "The student who has the minimum average is Student-1 and his/her score is 65.4.\n"
     ]
    }
   ],
   "source": [
    "grades={\n",
    "    'Student-1': {'Lesson-1': 57, 'Lesson-2': 46, 'Lesson-3': 58, 'Lesson-4': 81, 'Lesson-5': 85}, \n",
    "    'Student-2': {'Lesson-1': 85, 'Lesson-2': 56, 'Lesson-3': 51, 'Lesson-4': 69, 'Lesson-5': 67}, \n",
    "    'Student-3': {'Lesson-1': 68, 'Lesson-2': 76, 'Lesson-3': 87, 'Lesson-4': 57, 'Lesson-5': 56}, \n",
    "    'Student-4': {'Lesson-1': 78, 'Lesson-2': 93, 'Lesson-3': 88, 'Lesson-4': 38, 'Lesson-5': 54}, \n",
    "    'Student-5': {'Lesson-1': 50, 'Lesson-2': 46, 'Lesson-3': 78, 'Lesson-4': 81, 'Lesson-5': 75}}\n",
    "student_dict = {}\n",
    "student_list = []\n",
    "students = list(grades.keys())\n",
    "for i in grades.values():\n",
    "    total = 0\n",
    "    for x, y in i.items():\n",
    "        total += y\n",
    "        if x == list(grades['Student-1'].keys())[-1]:\n",
    "            total = total / len(grades)\n",
    "            student_list.append(total)\n",
    "            continue\n",
    "for i in range(len(grades)):\n",
    "    student_dict[student_list[i]] = students[i]\n",
    "maximum = max(list(student_dict.keys()))\n",
    "minimum = min(list(student_dict.keys()))\n",
    "print(f'The student who has the maximum average is {student_dict[maximum]} and his/her score is {maximum}.')\n",
    "print(f'The student who has the minimum average is {student_dict[minimum]} and his/her score is {minimum}.')"
   ]
  },
  {
   "cell_type": "code",
   "execution_count": 41,
   "metadata": {},
   "outputs": [
    {
     "name": "stdout",
     "output_type": "stream",
     "text": [
      "{65.4: 'Student1', 65.6: 'Student2', 68.8: 'Student3', 70.2: 'Student4', 66.0: 'Student5'} \n",
      "max (70.2, 'Student4') \n",
      "min (65.4, 'Student1')\n"
     ]
    }
   ],
   "source": [
    "class Student_info:\n",
    "    \n",
    "    def __init__(grade, Lesson_1, Lesson_2, Lesson_3, Lesson_4, Lesson_5):\n",
    "        grade.Lesson_1 = Lesson_1\n",
    "        grade.Lesson_2 = Lesson_2\n",
    "        grade.Lesson_3 = Lesson_3\n",
    "        grade.Lesson_4 = Lesson_4\n",
    "        grade.Lesson_5 = Lesson_5\n",
    "\n",
    "    def myfunc(self):\n",
    "        average = (self.Lesson_1 + self.Lesson_2 + self.Lesson_3 + self.Lesson_4 + self.Lesson_5)/5\n",
    "        return average\n",
    "\n",
    "Student_1 = Student_info(57,46,58,81,85)\n",
    "Student_2 = Student_info(85,56,51,69,67)\n",
    "Student_3 = Student_info(68,76,87,57,56)\n",
    "Student_4 = Student_info(78,93,88,38,54)\n",
    "Student_5 = Student_info(50,46,78,81,75)\n",
    "\n",
    "all_grades = [\n",
    "    Student_1.myfunc(),\n",
    "    Student_2.myfunc(),\n",
    "    Student_3.myfunc(),\n",
    "    Student_4.myfunc(),\n",
    "    Student_5.myfunc() ]\n",
    "grades_with_names = {}\n",
    "for i in range(5):\n",
    "    grades_with_names.update({all_grades[i]:\"Student\"+f\"{i+1}\"})\n",
    "\n",
    "print(grades_with_names,\"\\nmax\",max(grades_with_names.items()),\"\\nmin\",min(grades_with_names.items()))"
   ]
  },
  {
   "cell_type": "code",
   "execution_count": 43,
   "metadata": {},
   "outputs": [
    {
     "name": "stdout",
     "output_type": "stream",
     "text": [
      "{'Student-1': [65], 'Student-2': [65], 'Student-3': [68], 'Student-4': [70], 'Student-5': [66]}\n",
      "Student-1 has the minumum average\n",
      "Student-2 has the minumum average\n",
      "Student-4 has the maximum average\n"
     ]
    }
   ],
   "source": [
    "aver_dict = {}\n",
    "for i in grades :\n",
    "    x = grades[i].values()\n",
    "    aver = (sum(x)//len(x))\n",
    "    aver_dict[i] = [aver]\n",
    "print(aver_dict)\n",
    "for i in aver_dict :\n",
    "    if aver_dict[i] == max(aver_dict.values()) :\n",
    "        print(f\"{i} has the maximum average\" )\n",
    "    elif aver_dict[i] == min(aver_dict.values()) :\n",
    "        print(f\"{i} has the minumum average\" )"
   ]
  },
  {
   "cell_type": "code",
   "execution_count": 44,
   "metadata": {},
   "outputs": [
    {
     "name": "stdout",
     "output_type": "stream",
     "text": [
      "{'Student-1': [65.4], 'Student-2': [65.6], 'Student-3': [68.8], 'Student-4': [70.2], 'Student-5': [66.0]}\n",
      "Student-1 has the minumum average\n",
      "Student-4 has the maximum average\n"
     ]
    }
   ],
   "source": [
    "grades={\n",
    "    'Student-1': {'Lesson-1': 57, 'Lesson-2': 46, 'Lesson-3': 58, 'Lesson-4': 81, 'Lesson-5': 85}, \n",
    "    'Student-2': {'Lesson-1': 85, 'Lesson-2': 56, 'Lesson-3': 51, 'Lesson-4': 69, 'Lesson-5': 67}, \n",
    "    'Student-3': {'Lesson-1': 68, 'Lesson-2': 76, 'Lesson-3': 87, 'Lesson-4': 57, 'Lesson-5': 56}, \n",
    "    'Student-4': {'Lesson-1': 78, 'Lesson-2': 93, 'Lesson-3': 88, 'Lesson-4': 38, 'Lesson-5': 54}, \n",
    "    'Student-5': {'Lesson-1': 50, 'Lesson-2': 46, 'Lesson-3': 78, 'Lesson-4': 81, 'Lesson-5': 75}}\n",
    "ortalama = {}\n",
    "for i in grades :\n",
    "    notlar = grades[i].values()\n",
    "    ortalama[i] = [sum(notlar) / len(notlar)]\n",
    "print(ortalama)\n",
    "for i in ortalama:\n",
    "    if ortalama[i] == max(ortalama.values()) :\n",
    "        print(f\"{i} has the maximum average\" )\n",
    "    elif ortalama[i] == min(ortalama.values()) :\n",
    "        print(f\"{i} has the minumum average\" )"
   ]
  },
  {
   "cell_type": "code",
   "execution_count": 45,
   "metadata": {},
   "outputs": [
    {
     "name": "stdout",
     "output_type": "stream",
     "text": [
      "Student-1 Avg: 65.4, Student-2 Avg: 65.6, Student-3 Avg: 68.8, Student-4 Avg: 70.2, Student-5 Avg: 66.0 \n"
     ]
    }
   ],
   "source": [
    "grades={'Student-1': {'Lesson-1': 57, 'Lesson-2': 46, 'Lesson-3': 58, 'Lesson-4': 81, 'Lesson-5': 85}, \n",
    "        'Student-2': {'Lesson-1': 85, 'Lesson-2': 56, 'Lesson-3': 51, 'Lesson-4': 69, 'Lesson-5': 67}, \n",
    "        'Student-3': {'Lesson-1': 68, 'Lesson-2': 76, 'Lesson-3': 87, 'Lesson-4': 57, 'Lesson-5': 56}, \n",
    "        'Student-4': {'Lesson-1': 78, 'Lesson-2': 93, 'Lesson-3': 88, 'Lesson-4': 38, 'Lesson-5': 54}, \n",
    "        'Student-5': {'Lesson-1': 50, 'Lesson-2': 46, 'Lesson-3': 78, 'Lesson-4': 81, 'Lesson-5': 75}}\n",
    "Student_1 = sum(grades[\"Student-1\"].values()) / 5\n",
    "Student_2 = sum(grades[\"Student-2\"].values()) / 5\n",
    "Student_3 = sum(grades[\"Student-3\"].values()) / 5\n",
    "Student_4 = sum(grades[\"Student-4\"].values()) / 5\n",
    "Student_5 = sum(grades[\"Student-5\"].values()) / 5\n",
    "print(\"Student-1 Avg: {}, Student-2 Avg: {}, Student-3 Avg: {}, Student-4 Avg: {}, Student-5 Avg: {} \".format(Student_1,Student_2,Student_3,Student_4,Student_5))\n"
   ]
  },
  {
   "cell_type": "code",
   "execution_count": null,
   "metadata": {},
   "outputs": [],
   "source": []
  }
 ],
 "metadata": {
  "kernelspec": {
   "display_name": "Python 3",
   "language": "python",
   "name": "python3"
  },
  "language_info": {
   "codemirror_mode": {
    "name": "ipython",
    "version": 3
   },
   "file_extension": ".py",
   "mimetype": "text/x-python",
   "name": "python",
   "nbconvert_exporter": "python",
   "pygments_lexer": "ipython3",
   "version": "3.8.3"
  }
 },
 "nbformat": 4,
 "nbformat_minor": 4
}
