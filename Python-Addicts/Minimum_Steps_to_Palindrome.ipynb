{
 "cells": [
  {
   "cell_type": "markdown",
   "metadata": {},
   "source": [
    "## Minimum Steps to a Palindrome\n",
    "Given an incomplete palindrome as a string, return the minimum letters needed to be added on to the end to make the string a palindrome.\n",
    "\n",
    "### https://edabit.com/challenge/WyttgdGuQGaRBqhhP"
   ]
  },
  {
   "cell_type": "code",
   "execution_count": null,
   "metadata": {},
   "outputs": [],
   "source": [
    "def cal_minSteps(s):\n",
    "    \n",
    "    slist = list(s)\n",
    "    counter = 0\n",
    "    \n",
    "    for i in range(0, len(slist), 1):\n",
    "        rlist = slist[i:]\n",
    "        if rlist != rlist[::-1]:\n",
    "            counter += 1\n",
    "        else:\n",
    "            break\n",
    "            \n",
    "    return counter"
   ]
  },
  {
   "cell_type": "code",
   "execution_count": null,
   "metadata": {},
   "outputs": [],
   "source": [
    "text = input('Enter a text > ')\n",
    "text2 = text\n",
    "rev = text[::-1]\n",
    "sayac = 0\n",
    "for i in range(len(text2)):\n",
    "    text = text[1:]\n",
    "    rev = rev[:-1]\n",
    "    sayac += 1\n",
    "    if text == rev:\n",
    "        break\n",
    "which = text2[:sayac]\n",
    "which_reverse = which[::-1]\n",
    "print(f'''\n",
    "We need minimum {sayac} letters to be added to the end of {text2},\n",
    "These {sayac} letter is/are {which_reverse}.\n",
    "Thus, our palindrom is {text2 + which_reverse}.''')"
   ]
  },
  {
   "cell_type": "code",
   "execution_count": null,
   "metadata": {},
   "outputs": [],
   "source": [
    "def min_palindrome_steps(txt):\n",
    "    if txt == txt[::-1]:\n",
    "        return 0\n",
    "    else:\n",
    "        a = list(txt)\n",
    "        a = a + [a[0]]\n",
    "        count = 1\n",
    "        if a == a[::-1]:\n",
    "            return count\n",
    "        else:\n",
    "            for i in range(1,len(a)):\n",
    "                count += 1\n",
    "                a.insert(-i,a[i])\n",
    "                if a == a[::-1]:\n",
    "                    break\n",
    "    return count"
   ]
  },
  {
   "cell_type": "code",
   "execution_count": null,
   "metadata": {},
   "outputs": [],
   "source": [
    "sayı=int(input(\"sayı giriniz : \"))\n",
    "x=str(sayı)\n",
    "x=list(x)\n",
    "liste=[]\n",
    "liste1=[]\n",
    "t=0\n",
    "for i in x:\n",
    "  liste.append(int(i))\n",
    "for j in liste:\n",
    "  t+=1\n",
    "  total=j**t\n",
    "  liste1.append(total)\n",
    "  y=sum(liste1)\n",
    "if y==sayı:\n",
    "  print(\"girdiğiniz sayı disarium \")\n",
    "else:\n",
    "  print(\"girdiğiniz sayı disarium değil\")"
   ]
  }
 ],
 "metadata": {
  "kernelspec": {
   "display_name": "Python 3",
   "language": "python",
   "name": "python3"
  },
  "language_info": {
   "codemirror_mode": {
    "name": "ipython",
    "version": 3
   },
   "file_extension": ".py",
   "mimetype": "text/x-python",
   "name": "python",
   "nbconvert_exporter": "python",
   "pygments_lexer": "ipython3",
   "version": "3.8.3"
  }
 },
 "nbformat": 4,
 "nbformat_minor": 4
}
