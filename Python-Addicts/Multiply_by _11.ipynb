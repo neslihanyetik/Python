{
 "cells": [
  {
   "cell_type": "markdown",
   "metadata": {},
   "source": [
    "### Multiply by 11\n",
    "Given a positive number as a string, multiply the number by 11 and also return it as a string. However, there is a catch:\n",
    "\n",
    "You are NOT ALLOWED to simply cast the number into an integer!\n",
    "\n",
    "Now, how is this challenge even possible? Despite this, there is still a way to solve it, and it involves thinking about how someone might multiply by 11 in their head. See the tips below for guidance.\n",
    "\n",
    "\n",
    "\n",
    "### https://edabit.com/challenge/hY6BMxxEYycT83GPs"
   ]
  },
  {
   "cell_type": "code",
   "execution_count": 4,
   "metadata": {},
   "outputs": [
    {
     "name": "stdout",
     "output_type": "stream",
     "text": [
      "104211199012633638785785900953\n"
     ]
    }
   ],
   "source": [
    "def multiply_11(num):    \n",
    "    leng = len(num)\n",
    "    basamak = '0'\n",
    "    sonuc = num[::-1][0]\n",
    "    for i in range(leng - 1):\n",
    "        toplam = int(num[::-1][i]) + int(num[::-1][i + 1])\n",
    "        if toplam <= 9:\n",
    "            if toplam + int(basamak) <= 9:\n",
    "                sonuc = str(toplam + int(basamak)) + sonuc\n",
    "                basamak = '0'\n",
    "            else:\n",
    "                sonuc = str(toplam + int(basamak))[1] + sonuc\n",
    "                basamak = '1'\n",
    "        else:\n",
    "            sonuc = str(int(str(toplam)[1]) + int(basamak)) + sonuc\n",
    "            basamak = '1'\n",
    "    sonuc = str(int(num[0]) + int(basamak)) + sonuc \n",
    "    return sonuc\n",
    "\n",
    "print(multiply_11(\"9473745364784876253253263723\"))"
   ]
  },
  {
   "cell_type": "code",
   "execution_count": 5,
   "metadata": {},
   "outputs": [
    {
     "name": "stdout",
     "output_type": "stream",
     "text": [
      "Please enter a number ....  8127727121\n",
      "893104998331\n"
     ]
    }
   ],
   "source": [
    "a = input(\"Please enter a number ....  \")\n",
    "b = list(a)\n",
    "k = []\n",
    "for i in range(len(b)-1) : \n",
    "  k.append((int(b[i]) + int(b[i+1])))\n",
    "k.insert(0,int(b[0]))\n",
    "k.insert(len(b), int(b[len(b)-1])) \n",
    "for i in range(len(k)) :\n",
    "    if k[i] >= 10 :\n",
    "     k.insert(i,k[i-1] + k[i] // 10)\n",
    "     k.pop(i-1)\n",
    "     k.insert(i+1,k[i] % 10)\n",
    "     k.pop(i)\n",
    "print(* k, sep=\"\") "
   ]
  },
  {
   "cell_type": "code",
   "execution_count": 6,
   "metadata": {},
   "outputs": [
    {
     "data": {
      "text/plain": [
       "'104211199012633638785785900953'"
      ]
     },
     "execution_count": 6,
     "metadata": {},
     "output_type": "execute_result"
    }
   ],
   "source": [
    "def multiplier_11(n):\n",
    "    n = n[::-1]\n",
    "    new = \"\"\n",
    "    bolum = 0\n",
    "  \n",
    "    for a, b in zip(n + '0', '0' + n ):      \n",
    "        bolum, kalan = divmod( int(a) + int(b) + bolum, 10 ) \n",
    "        new += str(kalan)\n",
    "    \n",
    "    if bolum != 0:\n",
    "        new += str(\"1\")\n",
    "        \n",
    "    return new[::-1]\n",
    "multiplier_11(\"9473745364784876253253263723\")"
   ]
  }
 ],
 "metadata": {
  "kernelspec": {
   "display_name": "Python 3",
   "language": "python",
   "name": "python3"
  },
  "language_info": {
   "codemirror_mode": {
    "name": "ipython",
    "version": 3
   },
   "file_extension": ".py",
   "mimetype": "text/x-python",
   "name": "python",
   "nbconvert_exporter": "python",
   "pygments_lexer": "ipython3",
   "version": "3.8.3"
  }
 },
 "nbformat": 4,
 "nbformat_minor": 4
}
