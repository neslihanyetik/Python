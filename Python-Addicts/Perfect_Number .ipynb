{
 "cells": [
  {
   "cell_type": "markdown",
   "metadata": {},
   "source": [
    "Bir sayının mükemmel olup olmadığını kontrol etmek için bir Python fonksiyonu yazın.\n",
    "Wikipedia'ya göre : Sayı teorisinde, mükemmel bir sayı, uygun pozitif bölenlerinin toplamına eşit olan pozitif bir tam sayıdır, yani sayının kendisi hariç pozitif bölenlerinin toplamıdır (aynı zamanda bölüntü olarak da bilinir). toplamı). Eşdeğer olarak, mükemmel bir sayı, tüm pozitif bölenlerinin (kendisi dahil) toplamının yarısı olan bir sayıdır.\n",
    "Örnek  : İlk mükemmel sayı 6'dır, çünkü 1, 2 ve 3 uygun pozitif bölenleridir ve 1 + 2 + 3 = 6. Eşdeğer olarak, 6 sayısı tüm pozitif bölenlerinin toplamının yarısına eşittir: ( 1 + 2 + 3 + 6) / 2 = 6. Bir sonraki mükemmel sayı 28 = 1 + 2 + 4 + 7 + 14'tür. Bunu 496 ve 8128 mükemmel sayıları takip eder."
   ]
  },
  {
   "cell_type": "code",
   "execution_count": null,
   "metadata": {},
   "outputs": [],
   "source": [
    "checking_number = int(input(\"Please write here a number for checking for perfect number:\"))\n",
    "divided_number = []\n",
    "for i in range(1, checking_number):\n",
    "    if checking_number %i == 0 and i != checking_number:\n",
    "        divided_number.append(i)\n",
    "a = 0\n",
    "for i in divided_number:\n",
    "    a += i\n",
    "if a == checking_number:\n",
    "    print(f\"{checking_number} is perfect number\")\n",
    "else:\n",
    "    print(f\"{checking_number} is not perfect number\")"
   ]
  },
  {
   "cell_type": "code",
   "execution_count": null,
   "metadata": {},
   "outputs": [],
   "source": [
    "num=int(input(\"Lutfen sisteme sayi giriniz:\"))\n",
    "numbers=[sayi for sayi in range(1,num) if num%sayi==0]\n",
    "if sum(numbers)==num:\n",
    "    print(f\"Aslansın mükemmel sayıyı buldun:{num}\")\n",
    "else:\n",
    "    print(\"Malesef bu bir mükemmel sayi değil :(\")"
   ]
  },
  {
   "cell_type": "code",
   "execution_count": null,
   "metadata": {},
   "outputs": [],
   "source": [
    "number = int(input('Enter a number > '))\n",
    "num_list = []\n",
    "for i in range(1, number + 1):\n",
    "    if number % i == 0:\n",
    "        num_list.append(i)\n",
    "total1 = sum(num_list) - num_list[-1]\n",
    "total2 = sum(num_list)\n",
    "if number == total1 and number == total2 / 2:\n",
    "    print('{} is a perfect number.'.format(number))\n",
    "else:\n",
    "    print('{} is not a perfect number'.format(number))"
   ]
  },
  {
   "cell_type": "code",
   "execution_count": null,
   "metadata": {},
   "outputs": [],
   "source": [
    "num=int(input('Enter a number to be checked in terms of perfection: '))\n",
    "perf_list=[]\n",
    "for i in list(range(1, num)):\n",
    "    if num%i==0:\n",
    "        perf_list.append(i)\n",
    "if num==sum(perf_list):\n",
    "    print('This is a perfect number')\n",
    "else:\n",
    "    print('This is not a perfect number')\n",
    "\n"
   ]
  },
  {
   "cell_type": "code",
   "execution_count": null,
   "metadata": {},
   "outputs": [],
   "source": [
    "num = int(input(\"Enter a number: \"))\n",
    "perfect_list = []\n",
    "\n",
    "for i in range(1, num + 1):\n",
    "  if num % i == 0:\n",
    "    perfect_list.append(i)\n",
    "if sum(perfect_list[:-1]) == num and sum(perfect_list) / 2 ==num:\n",
    "  print(f\"{num} is the perfect number\")\n",
    "else:\n",
    "  print(f\"{num} is not the perfect number\")"
   ]
  },
  {
   "cell_type": "code",
   "execution_count": null,
   "metadata": {},
   "outputs": [],
   "source": [
    "sayi = int(input(\"bir sayi gir : \"))\n",
    "print(\"mükemmel sayi\" if sum([i for i in range(1,sayi) if sayi % i == 0]) == sayi else \"mükemmel sayi degil\")"
   ]
  },
  {
   "cell_type": "code",
   "execution_count": null,
   "metadata": {},
   "outputs": [],
   "source": [
    "sayi = int(input(\"Bir sayi giriniz....:\"))\n",
    "if sayi == 0 :\n",
    "    sayi = 1\n",
    "elif sayi < 0 :\n",
    "    sayi = sayi * -1\n",
    "carptop = 0\n",
    "for i in range(1,sayi+1) :\n",
    "    if sayi % i == 0 :\n",
    "        carptop += i \n",
    "print(carptop,\"= Değeri {} sayısının kendisi dahil bölenlerinin toplamı\".format(sayi))\n",
    "print(carptop - sayi,\"= Değeri {} sayısının kendisi hariç bölenlerinin toplami\".format(sayi))\n",
    "if carptop == sayi * 2 :\n",
    "    print(\"Sayı mükemmeldir\")\n",
    "else :\n",
    "    print(\"sayi mükemmel degildir\")"
   ]
  },
  {
   "cell_type": "code",
   "execution_count": null,
   "metadata": {},
   "outputs": [],
   "source": [
    "num = int(input(\"Enter a number:\"))\n",
    "sum_div= []\n",
    "for i in range(1, num):\n",
    "  if num % i == 0 :\n",
    "      sum_div.append(i)\n",
    "if sum(sum_div) == num :\n",
    "  print(\" This is a perfect number\")\n",
    "else: \n",
    "  print(\" This is not a perfect number\")"
   ]
  }
 ],
 "metadata": {
  "kernelspec": {
   "display_name": "Python 3",
   "language": "python",
   "name": "python3"
  },
  "language_info": {
   "codemirror_mode": {
    "name": "ipython",
    "version": 3
   },
   "file_extension": ".py",
   "mimetype": "text/x-python",
   "name": "python",
   "nbconvert_exporter": "python",
   "pygments_lexer": "ipython3",
   "version": "3.8.3"
  }
 },
 "nbformat": 4,
 "nbformat_minor": 4
}
