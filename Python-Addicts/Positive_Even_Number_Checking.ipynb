{
 "cells": [
  {
   "cell_type": "markdown",
   "metadata": {},
   "source": [
    "Kullanıcıdan integer bir değer alan ve sayının pozitif-çift sayı olup olmadığını kontrol eden program yazınız. Girilen sayıların muhtemel farklı durumlarını göz önünde bulundurunuz. "
   ]
  },
  {
   "cell_type": "code",
   "execution_count": 19,
   "metadata": {},
   "outputs": [
    {
     "name": "stdout",
     "output_type": "stream",
     "text": [
      "Enter a number:21\n",
      "21 is a odd number\n"
     ]
    }
   ],
   "source": [
    "x = (input(\"Enter a number:\"))\n",
    "if x.isdigit():\n",
    "    x1 = int(x)\n",
    "    if x1 % 2 == 0:\n",
    "        print(x, \",is a even number\")\n",
    "    else:\n",
    "        print(x, \"is a odd number\")\n",
    "else:\n",
    "    print(\"It is an invalid entry. Don't use non-numeric, float, or negative values!\")"
   ]
  },
  {
   "cell_type": "code",
   "execution_count": 20,
   "metadata": {},
   "outputs": [
    {
     "name": "stdout",
     "output_type": "stream",
     "text": [
      "Enter a number > 88\n",
      "88 is a positive even integer.\n"
     ]
    }
   ],
   "source": [
    "number = input('Enter a number > ')\n",
    "try:\n",
    "    int(number)\n",
    "    isdig = True\n",
    "except ValueError:\n",
    "    print('Invalid Syntax')\n",
    "    isdig = False\n",
    "if isdig:    \n",
    "    if int(number) % 2 == 0 and int(number) > 0:\n",
    "        print(f'{number} is a positive even integer.')\n",
    "    else:\n",
    "        print(f'{number} is not a positive even integer.')"
   ]
  },
  {
   "cell_type": "code",
   "execution_count": 21,
   "metadata": {},
   "outputs": [
    {
     "name": "stdout",
     "output_type": "stream",
     "text": [
      "Enter a number:-39\n",
      "It is an invalid entry. Don't use non-numeric, float, or negative values!\n"
     ]
    }
   ],
   "source": [
    "num = (input(\"Enter a number:\"))\n",
    "if num.isdigit():\n",
    "    num1 = int(num)\n",
    "    if num1 > 0:\n",
    "        if num1 % 2 == 0: \n",
    "            print(num, \",is a even number\")\n",
    "        else:\n",
    "            print(num, \"is a odd number\")\n",
    "    else:\n",
    "        print(\"It is an invalid entry. Don't use non-numeric, float, or negative values!\")\n",
    "else:\n",
    "    print(\"It is an invalid entry. Don't use non-numeric, float, or negative values!\")\n"
   ]
  },
  {
   "cell_type": "code",
   "execution_count": 23,
   "metadata": {},
   "outputs": [
    {
     "name": "stdout",
     "output_type": "stream",
     "text": [
      "Enter a positive number to be checked12\n",
      "It's a positive even number\n"
     ]
    }
   ],
   "source": [
    "num=input('Enter a positive number to be checked')\n",
    "if num.isdigit():\n",
    "  if int(num)>0 and int(num)%2==0:\n",
    "    print('It\\'s a positive even number')\n",
    "  else:\n",
    "    print('It\\'s a positive odd number')\n",
    "else:\n",
    "  print('It\\'s an invalid entry, please do not enter non-numeric float or negative numbers')"
   ]
  },
  {
   "cell_type": "code",
   "execution_count": 24,
   "metadata": {},
   "outputs": [
    {
     "name": "stdout",
     "output_type": "stream",
     "text": [
      "Please enter a positive integer number. 10000\n",
      "10000 is a even number.\n"
     ]
    }
   ],
   "source": [
    "while True:\n",
    "    number=input(\"Please enter a positive integer number. \")\n",
    "    if number.isdigit():\n",
    "        break      \n",
    "    else:\n",
    "        print(\"It is an invalid entry. Don't use non-numeric, float, or negative values!\")\n",
    "    continue\n",
    "num = int(number)\n",
    "if num == 0:\n",
    "    print(\"It is an invalid entry. Don't use non-numeric, float, or negative values!\")    \n",
    "    number=input(\"Please enter a positive integer number. \")\n",
    "elif num % 2 == 0:\n",
    "    print(num, \"is a even number.\")\n",
    "else:\n",
    "    print(num, \"is a odd number.\")"
   ]
  },
  {
   "cell_type": "code",
   "execution_count": null,
   "metadata": {},
   "outputs": [],
   "source": [
    "sentence=input('Write a sentence to count the vowel letters in it: ')\n",
    "sentence=list(sentence.lower())\n",
    "vowel=set('aeuıoüiö')\n",
    "for i in vowel:\n",
    "  print(f\"The letter '{i}' is repeated {sentence.count(i)} times in the sentence.\")"
   ]
  },
  {
   "cell_type": "code",
   "execution_count": 25,
   "metadata": {},
   "outputs": [
    {
     "name": "stdout",
     "output_type": "stream",
     "text": [
      "Bir sayı girin...:67\n",
      "Sayınız tek sayıdır.\n"
     ]
    }
   ],
   "source": [
    "while True :\n",
    "    try :\n",
    "        number = int(input(\"Bir sayı girin...:\"))\n",
    "    except ValueError :\n",
    "        print(\"Lütfen bir tam sayı girin.\")\n",
    "        continue\n",
    "    else :\n",
    "        break\n",
    "if number > 0 :\n",
    "    if number % 2 == 0 :\n",
    "        print(\"Sayınız hem Pozitif hem de çift sayidir.\")\n",
    "    else :\n",
    "        print(\"Sayınız tek sayıdır.\")\n",
    "else :\n",
    "    print(\"Sayınız pozitif bir sayı değil.\")"
   ]
  },
  {
   "cell_type": "code",
   "execution_count": null,
   "metadata": {},
   "outputs": [],
   "source": []
  }
 ],
 "metadata": {
  "kernelspec": {
   "display_name": "Python 3",
   "language": "python",
   "name": "python3"
  },
  "language_info": {
   "codemirror_mode": {
    "name": "ipython",
    "version": 3
   },
   "file_extension": ".py",
   "mimetype": "text/x-python",
   "name": "python",
   "nbconvert_exporter": "python",
   "pygments_lexer": "ipython3",
   "version": "3.8.3"
  }
 },
 "nbformat": 4,
 "nbformat_minor": 4
}
