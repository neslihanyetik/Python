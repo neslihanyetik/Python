{
 "cells": [
  {
   "cell_type": "markdown",
   "metadata": {},
   "source": [
    "- Asal sayılar düzenli aralıklarla yerleştirilmez. Örnek için 2için 3boşluğudur 1. Gönderen 3için 5boşluğudur 2. Gönderen 7için 11öyle 4. 2 ile 50 arasında, aşağıdaki 2 boşluklu asal çiftlere sahibiz: 3-5, 5-7, 11-13, 17-19, 29-31, 41-43 n uzunluğunda bir asal boşluk, iki ardışık asal sayı arasındaki n-1 ardışık bileşik sayı dizisidir (bkz: http://mathworld.wolfram.com/PrimeGaps.html ). Parametrelerle bir fonksiyon boşluğu yazacağız: g (integer >= 2) aradığımız boşluğu gösterir m (integer > 2) aramanın başlangıcını verir (m dahil) n (integer >= m) aramanın sonunu verir (n dahil) n 1100000'in ötesine geçmeyecek. Yukarıdaki örnekte , 2 boşluklu 3 ile 50 arasındaki ilk çift olan gap(2, 3, 50)geri dönecektir [3, 5] or (3, 5) or {3, 5}. Bu nedenle, bu işlev , bu sayılar aksi takdirde nil veya null veya None veya Nothing (veya ... dile bağlı olarak) varsa , sınırlar arasında boşluk bırakılmış iki asal sayının ilk çiftini döndürmelidir .gmn\n",
    "C++'da Lua: böyle bir durumda dönüş {0, 0}. F#'da: dönüş [||]. Kotlin, Dart ve Prolog'da: return []. Pascal'da: TGap (0, 0) yazın.\n",
    "Örnekler:\n",
    "gap(2, 5, 7) --> [5, 7] or (5, 7) or {5, 7}\n",
    "gap(2, 5, 5) --> nil. In C++ {0, 0}. In F# [||]. In Kotlin, Dart and Prolog return [] gap(4, 130, 200) --> [163, 167] or (163, 167) or {163, 167} ([193, 197] ayrıca 130 ile 200 arasında 4 boşluklu bir asal sayıdır ancak ilk çift değildir) gap(6,100,110) --> nil or {0, 0} or ...: 100 ile 110 arasında var 101, 103, 107, 109ama 101-1076 boşluk değil çünkü arada var 103ve 103-1096 boşluk değil çünkü arada var 107. Örnek Testlerde daha fazla iade örneği görebilirsiniz. Git için Not Go için: m ve n arasında boşluk olmadığında sıfır dilim beklenir. Örnek: boşluk(11,30000,100000) --> nil"
   ]
  },
  {
   "cell_type": "code",
   "execution_count": null,
   "metadata": {},
   "outputs": [],
   "source": []
  },
  {
   "cell_type": "code",
   "execution_count": 2,
   "metadata": {},
   "outputs": [
    {
     "data": {
      "text/plain": [
       "[163, 167]"
      ]
     },
     "execution_count": 2,
     "metadata": {},
     "output_type": "execute_result"
    }
   ],
   "source": [
    "def asal(a):\n",
    "    asall = []\n",
    "    for i in range(2, a):\n",
    "        if a % i == 0:\n",
    "            asall.append(i)\n",
    "    if asall == []:\n",
    "        return True\n",
    "    else:\n",
    "        return False\n",
    "\n",
    "def asal_sayi(g, m, n):\n",
    "    son_liste = []\n",
    "    asal_liste = list(filter(asal, [i for i in range(m, n + 1)]))\n",
    "    for i in range(len(asal_liste) - 1):\n",
    "        if asal_liste[i + 1] - asal_liste[i] == g:\n",
    "            son_liste.append([asal_liste[i], asal_liste[i + 1]])\n",
    "    if son_liste != []:\n",
    "        return min(son_liste)\n",
    "    else:\n",
    "        return son_liste\n",
    "    \n",
    "asal_sayi(4, 130, 200)"
   ]
  },
  {
   "cell_type": "code",
   "execution_count": 1,
   "metadata": {},
   "outputs": [
    {
     "name": "stdout",
     "output_type": "stream",
     "text": [
      "(163, 167)\n"
     ]
    }
   ],
   "source": [
    "def prime_gap(g, m, n):\n",
    "\n",
    "  liste = []\n",
    "\n",
    "  for i in range(m, n+1):\n",
    "    for ii in range(2, i):\n",
    "      if i % ii == 0:\n",
    "        break;\n",
    "    else:\n",
    "      liste += [i]\n",
    "\n",
    "  for i in range(len(liste)-1):\n",
    "    if liste[i+1] -liste[i] == g:\n",
    "      print((liste[i], liste[i+1]))\n",
    "      break;\n",
    "  else:\n",
    "    print(\"[]\") \n",
    "\n",
    "prime_gap(4, 130, 200)"
   ]
  },
  {
   "cell_type": "code",
   "execution_count": 3,
   "metadata": {},
   "outputs": [
    {
     "name": "stdout",
     "output_type": "stream",
     "text": [
      "(163, 167)\n"
     ]
    }
   ],
   "source": [
    "def prime_gap(g, m, n):\n",
    "\n",
    "  liste = []\n",
    "\n",
    "  for i in range(m, n+1):\n",
    "    for ii in range(2, i):\n",
    "      if i % ii == 0:\n",
    "        break;\n",
    "    else:\n",
    "      liste += [i]\n",
    "\n",
    "  for i in range(len(liste)-1):\n",
    "    if liste[i+1] -liste[i] == g:\n",
    "      print((liste[i], liste[i+1]))\n",
    "      break;\n",
    "  else:\n",
    "    print(\"[]\") \n",
    "\n",
    "prime_gap(4, 130, 200)"
   ]
  },
  {
   "cell_type": "code",
   "execution_count": 4,
   "metadata": {},
   "outputs": [
    {
     "data": {
      "text/plain": [
       "[163, 167]"
      ]
     },
     "execution_count": 4,
     "metadata": {},
     "output_type": "execute_result"
    }
   ],
   "source": [
    "def gap(g, m, n):\n",
    "    prime_list = []\n",
    "    result = []\n",
    "    for i in range(m, n+1):\n",
    "        count = 0\n",
    "        for j in range(1, n+1) :\n",
    "            if  i%j == 0: \n",
    "                count += 1\n",
    "        if count < 3 and i != 0 and i != 1: \n",
    "            prime_list.append(i)\n",
    "    \n",
    "    for i in range(len(prime_list)-1):\n",
    "        if prime_list[i+1] - prime_list[i] == g :\n",
    "            result.append(prime_list[i])\n",
    "            result.append(prime_list[i+1])\n",
    "            break\n",
    "        \n",
    "        else:\n",
    "            result = []\n",
    "    return result        \n",
    "\n",
    "gap(4, 130, 200)"
   ]
  },
  {
   "cell_type": "code",
   "execution_count": null,
   "metadata": {},
   "outputs": [],
   "source": []
  },
  {
   "cell_type": "code",
   "execution_count": null,
   "metadata": {},
   "outputs": [],
   "source": []
  },
  {
   "cell_type": "code",
   "execution_count": null,
   "metadata": {},
   "outputs": [],
   "source": []
  },
  {
   "cell_type": "code",
   "execution_count": null,
   "metadata": {},
   "outputs": [],
   "source": []
  }
 ],
 "metadata": {
  "kernelspec": {
   "display_name": "Python 3",
   "language": "python",
   "name": "python3"
  },
  "language_info": {
   "codemirror_mode": {
    "name": "ipython",
    "version": 3
   },
   "file_extension": ".py",
   "mimetype": "text/x-python",
   "name": "python",
   "nbconvert_exporter": "python",
   "pygments_lexer": "ipython3",
   "version": "3.8.3"
  }
 },
 "nbformat": 4,
 "nbformat_minor": 4
}
