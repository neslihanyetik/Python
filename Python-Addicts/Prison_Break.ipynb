{
 "cells": [
  {
   "cell_type": "markdown",
   "metadata": {},
   "source": [
    "Prison Break\n",
    "A prison can be represented as a list of cells. Each cell contains exactly one prisoner. A 1 represents an unlocked cell and a 0 represents a locked cell.\n",
    "\n",
    "[1, 1, 0, 0, 0, 1, 0]\n",
    "Starting inside the leftmost cell, you are tasked with seeing how many prisoners you can set free, with a catch. You are the prisoner in the first cell. If the first cell is locked, you cannot free anyone. Each time you free a prisoner, the locked cells become unlocked, and the unlocked cells become locked again.\n",
    "\n",
    "So, if we use the example above:\n",
    "\n",
    "[1, 1, 0, 0, 0, 1, 0]\n",
    "##### You free the prisoner in the 1st cell.\n",
    "\n",
    "[0, 0, 1, 1, 1, 0, 1] \n",
    "##### You free the prisoner in the 3rd cell (2nd one locked).\n",
    "\n",
    "[1, 1, 0, 0, 0, 1, 0]\n",
    "##### You free the prisoner in the 6th cell (3rd, 4th and 5th locked).\n",
    "\n",
    "[0, 0, 1, 1, 1, 0, 1]\n",
    "##### You free the prisoner in the 7th cell - and you are done!\n",
    "Here, we have set free 4 prisoners in total.\n",
    "\n",
    "Create a function that, given this unique prison arrangement, returns the number of freed prisoners.\n",
    "\n",
    "Examples\n",
    "freed_prisoners([1, 1, 0, 0, 0, 1, 0]) ➞ 4\n",
    "\n",
    "freed_prisoners([1, 1, 1]) ➞ 1\n",
    "\n",
    "freed_prisoners([0, 0, 0]) ➞ 0\n",
    "\n",
    "freed_prisoners([0, 1, 1, 1]) ➞ 0\n",
    "\n",
    "### https://edabit.com/challenge/SHdu4GwBQehhDm4xT"
   ]
  },
  {
   "cell_type": "code",
   "execution_count": 14,
   "metadata": {},
   "outputs": [],
   "source": [
    "def freed_prisoners(prison):\n",
    "    if prison[0] == 0:\n",
    "        return 0\n",
    "    count = 1\n",
    "    for i in range(1, len(prison)):\n",
    "        if prison[i] != prison[i-1]:\n",
    "            count += 1\n",
    "    return count"
   ]
  },
  {
   "cell_type": "code",
   "execution_count": 15,
   "metadata": {},
   "outputs": [
    {
     "data": {
      "text/plain": [
       "'You have set free 6 prisoners in total.'"
      ]
     },
     "execution_count": 15,
     "metadata": {},
     "output_type": "execute_result"
    }
   ],
   "source": [
    "def prison_break(liste):\n",
    "    sonuc = 0\n",
    "    sayac = 1\n",
    "    if liste[0] == 0:\n",
    "        pass\n",
    "    else:\n",
    "        for i in range(len(liste) - 1):\n",
    "            if liste[sayac] == 1:\n",
    "                sonuc += 1\n",
    "                new_list = []\n",
    "                for j in liste:\n",
    "                    if j == 0:\n",
    "                        j = 1\n",
    "                        new_list.append(j)\n",
    "                    elif j == 1:\n",
    "                        j = 0\n",
    "                        new_list.append(j)\n",
    "                liste = new_list\n",
    "                sayac += 1\n",
    "            else:\n",
    "                sayac += 1\n",
    "    return f'You have set free {sonuc} prisoners in total.'  \n",
    "\n",
    "prison_break([1, 1, 0, 0, 0, 1, 0, 1, 1, 0])"
   ]
  },
  {
   "cell_type": "code",
   "execution_count": 16,
   "metadata": {},
   "outputs": [
    {
     "data": {
      "text/plain": [
       "0"
      ]
     },
     "execution_count": 16,
     "metadata": {},
     "output_type": "execute_result"
    }
   ],
   "source": [
    "def prison_break(lst):\n",
    "  total_free_man = 0\n",
    "  if lst[0] != 0:\n",
    "    k = 0\n",
    "    while k < len(lst):\n",
    "      if lst[k] == 1:\n",
    "        total_free_man += 1\n",
    "        for n, i in enumerate(lst):\n",
    "          if i == 1:\n",
    "            lst[n] = 0\n",
    "          else :\n",
    "            lst[n] = 1\n",
    "      k += 1\n",
    "\n",
    "  return total_free_man\n",
    "\n",
    "prison_break([0, 1, 1, 1])"
   ]
  },
  {
   "cell_type": "code",
   "execution_count": 17,
   "metadata": {},
   "outputs": [],
   "source": [
    "def freed_prisoners(prison):\n",
    "    prison = str(prison).replace(\", \",\"\").strip(\"[]\") \n",
    "    if prison[0] == \"0\":\n",
    "        return 0\n",
    "    else:\n",
    "        result = 0\n",
    "        for i in range(len(prison)):\n",
    "            if prison[i] == \"1\":\n",
    "                result += 1\n",
    "                prison=prison.replace(\"1\",\"2\")\n",
    "                prison=prison.replace(\"0\",\"1\")\n",
    "                prison=prison.replace(\"2\",\"0\")\n",
    "    return result"
   ]
  }
 ],
 "metadata": {
  "kernelspec": {
   "display_name": "Python 3",
   "language": "python",
   "name": "python3"
  },
  "language_info": {
   "codemirror_mode": {
    "name": "ipython",
    "version": 3
   },
   "file_extension": ".py",
   "mimetype": "text/x-python",
   "name": "python",
   "nbconvert_exporter": "python",
   "pygments_lexer": "ipython3",
   "version": "3.8.3"
  }
 },
 "nbformat": 4,
 "nbformat_minor": 4
}
