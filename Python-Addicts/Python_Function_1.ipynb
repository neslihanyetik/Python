{
 "cells": [
  {
   "cell_type": "markdown",
   "metadata": {},
   "source": [
    "## Longest Alternating Substring\n",
    "Bir first_non_repeating_letterdize girdisi alan ve dizenin hiçbir yerinde tekrarlanmayan ilk karakteri döndüren bir işlev yazın .\n",
    "Örneğin, girdi verilirse, t harfi dizede yalnızca bir kez geçtiği ve dizede ilk sırada yer aldığı 'stress'için işlev dönmelidir .'t'\n",
    "Ek bir meydan okuma olarak, büyük ve küçük harfler aynı karakter olarak kabul edilir , ancak işlev ilk harf için doğru durumu döndürmelidir. Örneğin, girdi 'sTreSS'dönmelidir 'T'.\n",
    "Bir dize tüm yinelenen karakterleri içeriyorsa , boş bir dize ( \"\") döndürmelidir veya None"
   ]
  },
  {
   "cell_type": "code",
   "execution_count": null,
   "metadata": {},
   "outputs": [],
   "source": [
    "def first_uniq() :\n",
    "    first_non_repeating_letter = input(\"Please enter a letter:\")\n",
    "    dictt = {}\n",
    "    c = \"\"\n",
    "    first_non_repeating_letter_lower = first_non_repeating_letter.lower()\n",
    "    for i in first_non_repeating_letter_lower:\n",
    "        dictt[i] = first_non_repeating_letter_lower.count(i)\n",
    "    for x,y in dictt.items():\n",
    "        c += x\n",
    "        c += str(y)\n",
    "    if \"1\" in c:\n",
    "        indexx = c.index(\"1\")\n",
    "        wanted = c[(indexx-1):indexx]\n",
    "        indexx2 = first_non_repeating_letter_lower.index(wanted)\n",
    "        wanted_2 = first_non_repeating_letter[(indexx2):(indexx2+1)]\n",
    "        return wanted_2\n",
    "    else:\n",
    "        return None"
   ]
  },
  {
   "cell_type": "code",
   "execution_count": null,
   "metadata": {},
   "outputs": [],
   "source": [
    "def first_non_repeating_letter(text):\n",
    "  text = \"\".join(filter(lambda x: text.count(x.lower()) + text.count(x.upper())== 1, text))[0:1]\n",
    "  return text\n",
    "\n",
    "first_non_repeating_letter(\"sTreSS\")"
   ]
  },
  {
   "cell_type": "code",
   "execution_count": null,
   "metadata": {},
   "outputs": [],
   "source": [
    "def non_repeating(text):\n",
    "    text2 = list(map(lambda x : x.upper(), text))\n",
    "    son = ''\n",
    "    for i in text2:\n",
    "        if text2.count(i) == 1:\n",
    "            son = i\n",
    "            break\n",
    "    if son != '':\n",
    "        result = text[text2.index(son)]\n",
    "    else:\n",
    "        result = son\n",
    "    return result\n",
    "\n",
    "non_repeating('sTreSS')"
   ]
  },
  {
   "cell_type": "code",
   "execution_count": null,
   "metadata": {},
   "outputs": [],
   "source": []
  }
 ],
 "metadata": {
  "kernelspec": {
   "display_name": "Python 3",
   "language": "python",
   "name": "python3"
  },
  "language_info": {
   "codemirror_mode": {
    "name": "ipython",
    "version": 3
   },
   "file_extension": ".py",
   "mimetype": "text/x-python",
   "name": "python",
   "nbconvert_exporter": "python",
   "pygments_lexer": "ipython3",
   "version": "3.8.3"
  }
 },
 "nbformat": 4,
 "nbformat_minor": 4
}
