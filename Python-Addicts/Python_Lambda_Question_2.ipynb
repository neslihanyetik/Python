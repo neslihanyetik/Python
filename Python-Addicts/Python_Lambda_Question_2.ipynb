{
 "cells": [
  {
   "cell_type": "markdown",
   "metadata": {},
   "source": [
    "Write a Python program to rearrange positive and negative numbers in a given array using Lambda. \n",
    "\n",
    "Sample Output:\n",
    "\n",
    "Original arrays:\n",
    "\n",
    "[-1, 2, -3, 5, 7, 8, 9, -10]\n",
    "\n",
    "Rearrange positive and negative numbers of the said array:\n",
    "\n",
    "[2, 5, 7, 8, 9, -10, -3, -1]"
   ]
  },
  {
   "cell_type": "code",
   "execution_count": null,
   "metadata": {},
   "outputs": [],
   "source": [
    "liste = [-1, 2, -3, 5, 7, 8, 9, -10]\n",
    "list1 = list(filter(lambda x : x > 0, liste))\n",
    "list2 = list(sorted(list(filter(lambda x : x < 0, liste))))\n",
    "list1.extend(list2)\n",
    "print(list1)"
   ]
  },
  {
   "cell_type": "code",
   "execution_count": null,
   "metadata": {},
   "outputs": [],
   "source": [
    "def original(lst):\n",
    "    eksi = list(sorted(filter(lambda x: x < 0 ,lst)))\n",
    "    for i in lst:\n",
    "        if i < 0:\n",
    "            lst.pop(lst.index(i))\n",
    "    lst.extend(eksi)\n",
    "    return lst\n",
    "original([-1, 2, -3, 5, 7, 8, 9, -10])"
   ]
  },
  {
   "cell_type": "code",
   "execution_count": null,
   "metadata": {},
   "outputs": [],
   "source": [
    "liste = [-1, 2, -3, 5, 7, 8, 9, -10]\n",
    "print(list(filter(lambda x:  x >= 0 , liste)) + list(filter(lambda x: x < 0, liste))[::-1])"
   ]
  },
  {
   "cell_type": "code",
   "execution_count": null,
   "metadata": {},
   "outputs": [],
   "source": [
    "list1 = [-1, 2, -3, 5, 7, 8, 9, -10]\n",
    "new1 = filter(lambda x:  x > 0, list1)\n",
    "new2 = filter(lambda x:  x < 0, list1)\n",
    "\n",
    "pos = list(new1)\n",
    "neg = list(new2)\n",
    "pos.extend(sorted(neg))\n",
    "print(pos)"
   ]
  },
  {
   "cell_type": "code",
   "execution_count": null,
   "metadata": {},
   "outputs": [],
   "source": []
  }
 ],
 "metadata": {
  "kernelspec": {
   "display_name": "Python 3",
   "language": "python",
   "name": "python3"
  },
  "language_info": {
   "codemirror_mode": {
    "name": "ipython",
    "version": 3
   },
   "file_extension": ".py",
   "mimetype": "text/x-python",
   "name": "python",
   "nbconvert_exporter": "python",
   "pygments_lexer": "ipython3",
   "version": "3.8.3"
  }
 },
 "nbformat": 4,
 "nbformat_minor": 4
}
