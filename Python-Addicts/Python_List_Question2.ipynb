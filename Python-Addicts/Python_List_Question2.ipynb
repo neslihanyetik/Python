{
 "cells": [
  {
   "cell_type": "markdown",
   "metadata": {},
   "source": [
    "Numbers = [18,21,14,84,65,35,10,20,28,42,24,91,5,7,54,69]\n",
    "\n",
    "Numbers listesi içindeki sayılardan 7’ e bölünebilenleri küçükten büyüğe doğru olacak şeklide listeleyin. Ayrıca kaç tanesinin 7’ e bölünebildiğini yazdırın."
   ]
  },
  {
   "cell_type": "code",
   "execution_count": 46,
   "metadata": {},
   "outputs": [
    {
     "name": "stdout",
     "output_type": "stream",
     "text": [
      "[7, 14, 21, 28, 35, 42, 84, 91]\n",
      "8\n"
     ]
    }
   ],
   "source": [
    "Numbers = [18,21,14,84,65,35,10,20,28,42,24,91,5,7,54,69]\n",
    "division_by_seven =[]\n",
    "for i in Numbers:\n",
    "  if i % 7 == 0:\n",
    "    division_by_seven.append(i)\n",
    "print(sorted(division_by_seven))\n",
    "print(len(division_by_seven))"
   ]
  },
  {
   "cell_type": "code",
   "execution_count": 47,
   "metadata": {},
   "outputs": [
    {
     "name": "stdout",
     "output_type": "stream",
     "text": [
      "[7, 14, 21, 28, 35, 42, 84, 91]\n",
      "8 of the numbers in the list are divisible by seven.\n"
     ]
    }
   ],
   "source": [
    "Numbers = [18,21,14,84,65,35,10,20,28,42,24,91,5,7,54,69]\n",
    "Seven_Dividible_Numbers = []\n",
    "for i in Numbers:\n",
    "    if i %7 == 0 :\n",
    "        Seven_Dividible_Numbers.append(i)\n",
    "Seven_Dividible_Numbers.sort()\n",
    "print(Seven_Dividible_Numbers)\n",
    "print(f\"{len(Seven_Dividible_Numbers)} of the numbers in the list are divisible by seven.\")"
   ]
  },
  {
   "cell_type": "code",
   "execution_count": 48,
   "metadata": {},
   "outputs": [
    {
     "name": "stdout",
     "output_type": "stream",
     "text": [
      "8\n",
      "[7, 14, 21, 28, 35, 42, 84, 91]\n"
     ]
    }
   ],
   "source": [
    "numbers = [18,21,14,84,65,35,10,20,28,42,24,91,5,7,54,69]\n",
    "liste=[]\n",
    "total=0\n",
    "for i in numbers:\n",
    "  if i%7==0:\n",
    "    liste.append(i)\n",
    "    liste.sort()\n",
    "for j in liste:\n",
    "  total+=1\n",
    "print(total)\n",
    "print(liste)"
   ]
  },
  {
   "cell_type": "code",
   "execution_count": 49,
   "metadata": {},
   "outputs": [
    {
     "name": "stdout",
     "output_type": "stream",
     "text": [
      "[7, 14, 21, 28, 35, 42, 84, 91]\n",
      "Liste içerisinden 8 adet sayı 7'ye bölünebilir\n"
     ]
    }
   ],
   "source": [
    "numbers = [18,21,14,84,65,35,10,20,28,42,24,91,5,7,54,69]\n",
    "numbers_list = []\n",
    "for i in numbers :\n",
    "    if i % 7 == 0 :\n",
    "        numbers_list.append(i)\n",
    "numbers_list.sort()\n",
    "print(numbers_list)\n",
    "print(\"Liste içerisinden {} adet sayı 7'ye bölünebilir\".format(len(numbers_list)))\n",
    "\n"
   ]
  },
  {
   "cell_type": "code",
   "execution_count": 50,
   "metadata": {},
   "outputs": [
    {
     "name": "stdout",
     "output_type": "stream",
     "text": [
      "[7, 14, 21, 28, 35, 42, 84, 91] \n",
      " 8 adet sayi 7 e bölünebilir\n"
     ]
    }
   ],
   "source": [
    "numbers = [18,21,14,84,65,35,10,20,28,42,24,91,5,7,54,69]\n",
    "print(sorted([i for i in numbers if i % 7 ==0]) , '\\n', len([i for i in numbers if i % 7 ==0]), 'adet sayi 7 e bölünebilir')"
   ]
  },
  {
   "cell_type": "code",
   "execution_count": 51,
   "metadata": {},
   "outputs": [
    {
     "name": "stdout",
     "output_type": "stream",
     "text": [
      "Bu dizede 7'ye bolunebilen 8 sayi vardir.Bu sayilar dizesi ise [7, 14, 21, 28, 35, 42, 84, 91]'dir.\n"
     ]
    }
   ],
   "source": [
    "numbers = [18,21,14,84,65,35,10,20,28,42,24,91,5,7,54,69]\n",
    "division_by_seven =[]\n",
    "for i in numbers:\n",
    "    if i % 7 == 0:\n",
    "        division_by_seven.append(i)\n",
    "print(f\"Bu dizede 7'ye bolunebilen {len(division_by_seven)} sayi vardir.Bu sayilar dizesi ise {sorted(division_by_seven)}'dir.\")"
   ]
  },
  {
   "cell_type": "code",
   "execution_count": null,
   "metadata": {},
   "outputs": [],
   "source": []
  }
 ],
 "metadata": {
  "kernelspec": {
   "display_name": "Python 3",
   "language": "python",
   "name": "python3"
  },
  "language_info": {
   "codemirror_mode": {
    "name": "ipython",
    "version": 3
   },
   "file_extension": ".py",
   "mimetype": "text/x-python",
   "name": "python",
   "nbconvert_exporter": "python",
   "pygments_lexer": "ipython3",
   "version": "3.8.3"
  }
 },
 "nbformat": 4,
 "nbformat_minor": 4
}
