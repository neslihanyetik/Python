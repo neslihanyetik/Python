{
 "cells": [
  {
   "cell_type": "markdown",
   "metadata": {},
   "source": [
    "Bir dize kabul eden ve büyük harf ve küçük harf sayısını hesaplayan bir Python işlevi yazın. \n",
    "\n",
    "Örnek Dizge : 'The quick Brow Fox'\n",
    "\n",
    "Beklenen Çıktı :\n",
    "\n",
    "Büyük harf karakter sayısı : 3\n",
    "\n",
    "Küçük harf karakter sayısı : 12"
   ]
  },
  {
   "cell_type": "code",
   "execution_count": 32,
   "metadata": {},
   "outputs": [
    {
     "name": "stdout",
     "output_type": "stream",
     "text": [
      "Enter your text here > SElf To self\n",
      "Buyuk harf karakter sayisi : 3\n",
      "Kucuk harf karakter sayisi : 7\n"
     ]
    }
   ],
   "source": [
    "text = input('Enter your text here > ')\n",
    "capital = 0\n",
    "lower = 0\n",
    "a = [chr(i) for i in range(65, 90)]\n",
    "b = [chr(i) for i in range(97, 122)]\n",
    "c = a + b\n",
    "for i in text:\n",
    "    if i in c:\n",
    "        if i.upper() == i:\n",
    "            capital += 1\n",
    "        else:\n",
    "            lower += 1\n",
    "print(f'Buyuk harf karakter sayisi : {capital}')\n",
    "print(f'Kucuk harf karakter sayisi : {lower}')"
   ]
  },
  {
   "cell_type": "code",
   "execution_count": 33,
   "metadata": {},
   "outputs": [
    {
     "name": "stdout",
     "output_type": "stream",
     "text": [
      "bir kelime girinizasnkSKPAnçö\n",
      "Büyük harf sayısı 4\n",
      "Küçük harf sayısı 7\n"
     ]
    }
   ],
   "source": [
    "kelime = input(\"bir kelime giriniz\")\n",
    "küçük = 0\n",
    "büyük = 0\n",
    "for i in kelime:\n",
    "    if i.upper() == i :\n",
    "        büyük += 1\n",
    "    else :\n",
    "        küçük += 1\n",
    "print(\"Büyük harf sayısı {}\".format(büyük))\n",
    "print(\"Küçük harf sayısı {}\".format(küçük))"
   ]
  },
  {
   "cell_type": "code",
   "execution_count": 34,
   "metadata": {},
   "outputs": [
    {
     "name": "stdout",
     "output_type": "stream",
     "text": [
      "Büyük harf karakter sayısı : 3\n",
      "Küçük harf karakter sayısı : 12\n"
     ]
    }
   ],
   "source": [
    "string_ = \"The quick Brow Fox\"\n",
    "new_string_ = \"\".join(string_.split(\" \"))\n",
    "up , low = 0,0\n",
    "for i in new_string_:\n",
    "    if i.isupper():\n",
    "        up += 1\n",
    "    else:\n",
    "        low += 1\n",
    "print(\"Büyük harf karakter sayısı : {}\\nKüçük harf karakter sayısı : {}\".format(up,low))"
   ]
  },
  {
   "cell_type": "code",
   "execution_count": 35,
   "metadata": {},
   "outputs": [
    {
     "name": "stdout",
     "output_type": "stream",
     "text": [
      "Büyük harf sayısı :  3\n",
      "Küçük harf sayısı :  12\n"
     ]
    }
   ],
   "source": [
    "text ='The quick Brow Fox'\n",
    "liste={\"lower\":0,\"upper\":0}\n",
    "for i in text:\n",
    "  if i.islower():\n",
    "    liste[\"lower\"]+=1\n",
    "  elif i.isupper():\n",
    "    liste[\"upper\"]+=1\n",
    "  else:\n",
    "      pass\n",
    "print(\"Büyük harf sayısı : \",liste[\"upper\"])\n",
    "print(\"Küçük harf sayısı : \",liste[\"lower\"])"
   ]
  },
  {
   "cell_type": "code",
   "execution_count": 36,
   "metadata": {},
   "outputs": [
    {
     "name": "stdout",
     "output_type": "stream",
     "text": [
      "Buyuk harf karakter sayisi:3\n",
      "Kucuk harf karakter sayisi:12\n"
     ]
    }
   ],
   "source": [
    "sentence=\"The quick Brow Fox\"\n",
    "sentence=sentence.replace(\" \",\"\")\n",
    "lisbig=[]\n",
    "[lisbig.append(g) for g in sentence if g.count(g.upper())]\n",
    "kucuk,buyuk=len(sentence)-len(lisbig),len(lisbig)\n",
    "print(\"Buyuk harf karakter sayisi:{}\".format(buyuk))\n",
    "print(\"Kucuk harf karakter sayisi:{}\".format(kucuk))"
   ]
  },
  {
   "cell_type": "code",
   "execution_count": null,
   "metadata": {},
   "outputs": [],
   "source": [
    "sentence = input('Enter a sentence :')\n",
    "upper_in_sen = []\n",
    "lower_in_sen = []\n",
    "for i in sentence:\n",
    "    if i.isupper() :\n",
    "        upper_in_sen.append(i)\n",
    "    elif i.islower() :\n",
    "        lower_in_sen.append(i)\n",
    "print(f\"Number of uppercase characters: {len(upper_in_sen)}\")\n",
    "print(f\"Number of lowercase characters: {len(lower_in_sen)}\")"
   ]
  }
 ],
 "metadata": {
  "kernelspec": {
   "display_name": "Python 3",
   "language": "python",
   "name": "python3"
  },
  "language_info": {
   "codemirror_mode": {
    "name": "ipython",
    "version": 3
   },
   "file_extension": ".py",
   "mimetype": "text/x-python",
   "name": "python",
   "nbconvert_exporter": "python",
   "pygments_lexer": "ipython3",
   "version": "3.8.3"
  }
 },
 "nbformat": 4,
 "nbformat_minor": 4
}
