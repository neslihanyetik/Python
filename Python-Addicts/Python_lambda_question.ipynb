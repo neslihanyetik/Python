{
 "cells": [
  {
   "cell_type": "markdown",
   "metadata": {},
   "source": [
    "Write a Python program to find the values of length six in a given list using Lambda.\n",
    "\n",
    "Sample Output:\n",
    "\n",
    "Monday\n",
    "\n",
    "Friday\n",
    "\n",
    "Sunday\n"
   ]
  },
  {
   "cell_type": "code",
   "execution_count": 23,
   "metadata": {},
   "outputs": [
    {
     "name": "stdout",
     "output_type": "stream",
     "text": [
      "['monday', 'friday', 'sunday']\n"
     ]
    }
   ],
   "source": [
    "gunler = ['monday', 'tuesday', 'wednesday', 'thursday', 'friday', 'saturday', 'sunday']\n",
    "sonuc = list(filter((lambda x: True if len(x) == 6 else False), gunler))\n",
    "print(sonuc)"
   ]
  },
  {
   "cell_type": "code",
   "execution_count": 18,
   "metadata": {},
   "outputs": [
    {
     "name": "stdout",
     "output_type": "stream",
     "text": [
      "[(2, 1), (1, 2), (2, 3), (4, 4), (2, 5)]\n"
     ]
    }
   ],
   "source": [
    "list_1 = [\"harun\", \"mustafa\", \"doruk\",\"ahmet\",\"sergen\",\"necip\"]\n",
    "print(list(filter(lambda x: len(x)==6, list_1)))"
   ]
  },
  {
   "cell_type": "code",
   "execution_count": 24,
   "metadata": {},
   "outputs": [
    {
     "name": "stdout",
     "output_type": "stream",
     "text": [
      "['Monday', 'Friday', 'Sunday']\n"
     ]
    }
   ],
   "source": [
    "days=[ \"Monday\", \"Friday\", \"Sunday\" , \"Tuesday\", \"Wensday\", \"Saturday\", \"Thursday\"]\n",
    "lenght = list(filter(lambda x : len(x)==6, days))\n",
    "print(lenght)\n"
   ]
  },
  {
   "cell_type": "code",
   "execution_count": 25,
   "metadata": {},
   "outputs": [
    {
     "name": "stdout",
     "output_type": "stream",
     "text": [
      "['Monday', 'Friday', 'Sunday']\n"
     ]
    }
   ],
   "source": [
    "list1 = ['Monday', 'Tuesday', 'Wednesday', 'Thursday', 'Friday', 'Saturday', 'Sunday']\n",
    "six_len = filter(lambda x : len(x) == 6, list1)  \n",
    "print(list(six_len))"
   ]
  },
  {
   "cell_type": "code",
   "execution_count": 26,
   "metadata": {},
   "outputs": [
    {
     "name": "stdout",
     "output_type": "stream",
     "text": [
      "Monday\n",
      "Friday\n",
      "Sunday\n"
     ]
    }
   ],
   "source": [
    "for day in list(filter(lambda day: len(day) == 6, days)):\n",
    "    print(day.capitalize())"
   ]
  }
 ],
 "metadata": {
  "kernelspec": {
   "display_name": "Python 3",
   "language": "python",
   "name": "python3"
  },
  "language_info": {
   "codemirror_mode": {
    "name": "ipython",
    "version": 3
   },
   "file_extension": ".py",
   "mimetype": "text/x-python",
   "name": "python",
   "nbconvert_exporter": "python",
   "pygments_lexer": "ipython3",
   "version": "3.8.3"
  }
 },
 "nbformat": 4,
 "nbformat_minor": 4
}
