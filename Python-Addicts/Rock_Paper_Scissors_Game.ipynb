{
 "cells": [
  {
   "cell_type": "markdown",
   "metadata": {},
   "source": [
    "- Task : Make a two-player Rock-Paper-Scissors game. (Hint: Ask for player plays (using input), compare them, print out a message of congratulations to the winner, and ask if the players want to start a new game) Remember the rules: Rock beats scissors Scissors beats paper Paper beats rock"
   ]
  },
  {
   "cell_type": "code",
   "execution_count": null,
   "metadata": {},
   "outputs": [
    {
     "name": "stdout",
     "output_type": "stream",
     "text": [
      "Let's play Rock-Paper-Scissors game\n"
     ]
    }
   ],
   "source": [
    "print(\"Let's play Rock-Paper-Scissors game\")\n",
    "g = str(input(\"Do you want to play again (yes or no): \")).lower().strip()\n",
    "while g == \"yes\":    \n",
    "    x = input(\"First player select one: Rock or Paper or Scissors: \").lower().strip()\n",
    "    y = input(\"Second player select one: Rock or Paper or Scissors: \")\n",
    "    r = \"rock\"\n",
    "    p = \"paper\"\n",
    "    s = \"scissors\"\n",
    "    if x == r and y == s:\n",
    "        z = \"first player\"\n",
    "    elif x == r and y  == p:\n",
    "        z = \"second player\"\n",
    "    elif x == r and y == r:\n",
    "        z = \"no winners\"\n",
    "    elif x == p and y == r:\n",
    "        z = \"first player\"\n",
    "    elif x == p and y == s:\n",
    "        z = \"second player\"\n",
    "    elif x == p and y == p:\n",
    "        z = \"no winners\"\n",
    "    elif x == s and y == r:\n",
    "        z = \"second player\"\n",
    "    elif x == s and y == p:\n",
    "        z = \"first player\"\n",
    "    elif x == s and y == s:\n",
    "        z =\"no winners\"\n",
    "    else:\n",
    "        z = \"Make sure you type it correctly\"\n",
    "    print(\"The winnig player is:\", z)\n",
    "    g = str(input(\"Do you want to 1play again (yes or no): \")).lower().strip()"
   ]
  },
  {
   "cell_type": "code",
   "execution_count": null,
   "metadata": {},
   "outputs": [],
   "source": [
    "print(\"Let's play Rock-Paper-Scissors game\")\n",
    "g = str(input(\"Do you want to play again (yes or no): \")).lower().strip()\n",
    "while g == \"yes\":    \n",
    "    x = input(\"First player select one: Rock or Paper or Scissors: \").lower().strip()\n",
    "    y = input(\"Second player select one: Rock or Paper or Scissors: \")\n",
    "    r = \"rock\"\n",
    "    p = \"paper\"\n",
    "    s = \"scissors\"\n",
    "    if x == r and y == s:\n",
    "        z = \"first player\"\n",
    "    elif x == r and y  == p:\n",
    "        z = \"second player\"\n",
    "    elif x == r and y == r:\n",
    "        z = \"no winners\"\n",
    "    elif x == p and y == r:\n",
    "        z = \"first player\"\n",
    "    elif x == p and y == s:\n",
    "        z = \"second player\"\n",
    "    elif x == p and y == p:\n",
    "        z = \"no winners\"\n",
    "    elif x == s and y == r:\n",
    "        z = \"second player\"\n",
    "    elif x == s and y == p:\n",
    "        z = \"first player\"\n",
    "    elif x == s and y == s:\n",
    "        z =\"no winners\"\n",
    "    else:\n",
    "        z = \"Make sure you type it correctly\"\n",
    "    print(\"The winnig player is:\", z)\n",
    "    g = str(input(\"Do you want to 1play again (yes or no): \")).lower().strip()"
   ]
  },
  {
   "cell_type": "code",
   "execution_count": null,
   "metadata": {},
   "outputs": [],
   "source": []
  },
  {
   "cell_type": "code",
   "execution_count": null,
   "metadata": {},
   "outputs": [],
   "source": []
  },
  {
   "cell_type": "code",
   "execution_count": null,
   "metadata": {},
   "outputs": [],
   "source": []
  }
 ],
 "metadata": {
  "kernelspec": {
   "display_name": "Python 3",
   "language": "python",
   "name": "python3"
  },
  "language_info": {
   "codemirror_mode": {
    "name": "ipython",
    "version": 3
   },
   "file_extension": ".py",
   "mimetype": "text/x-python",
   "name": "python",
   "nbconvert_exporter": "python",
   "pygments_lexer": "ipython3",
   "version": "3.8.3"
  }
 },
 "nbformat": 4,
 "nbformat_minor": 4
}
