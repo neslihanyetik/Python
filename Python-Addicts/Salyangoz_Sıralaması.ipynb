{
 "cells": [
  {
   "cell_type": "markdown",
   "metadata": {},
   "source": [
    "\n",
    "- Salyangoz Sıralaması Bir n x ndizi verildiğinde , en dıştaki öğelerden ortadaki öğeye düzenlenen dizi öğelerini saat yönünde hareket ettirin. array = [[1,2,3], [4,5,6], [7,8,9]] snail(array) #=> [1,2,3,6,9,8,7,4,5] Daha iyi anlamak için lütfen bir sonraki dizinin numaralarını art arda takip edin: array = [[1,2,3], [8,9,4], [7,6,5]] snail(array) #=> [1,2,3,4,5,6,7,8,9] Bu görüntü her şeyi daha net bir şekilde gösterecek:"
   ]
  },
  {
   "cell_type": "code",
   "execution_count": 1,
   "metadata": {},
   "outputs": [
    {
     "name": "stdout",
     "output_type": "stream",
     "text": [
      "[1, 2, 3, 4, 5, 6, 12, 18, 24, 30, 36, 35, 34, 33, 32, 31, 25, 19, 13, 7, 8, 9, 10, 11, 17, 23, 29, 28, 27, 26, 20, 14, 15, 16, 22, 21]\n"
     ]
    }
   ],
   "source": [
    "array = [[ 1,  2,  3,  4,  5,  6],\n",
    "         [ 7,  8,  9, 10, 11, 12],\n",
    "         [13, 14, 15, 16, 17, 18],\n",
    "         [19, 20, 21, 22, 23, 24],\n",
    "         [25, 26, 27, 28, 29, 30],\n",
    "         [31, 32, 33, 34, 35, 36]]\n",
    "\n",
    "ind, liste, liste_2 = [], [], []\n",
    "ters = True\n",
    "array_1 = list(map(lambda *a: [*a], *array))\n",
    "kademe = len(array) * 2\n",
    "\n",
    "a, b = 0, len(array) - 1\n",
    "for i in range(len(array) - 1):\n",
    "    ind.append([a, b])\n",
    "    ind.append([b, a])\n",
    "    a += 1\n",
    "    b -= 1\n",
    "\n",
    "ind_2 = [j for i in ind for j in i]\n",
    "for i in range(kademe - 1):\n",
    "    if ters:\n",
    "        if i % 2 == 0:\n",
    "            liste.append(array[ind_2[i]])\n",
    "        else:\n",
    "            liste.append(array_1[ind_2[i]])\n",
    "            ters = False\n",
    "    else:\n",
    "        if i % 2 == 0:\n",
    "            liste.append(array[ind_2[i]][::-1])\n",
    "        else:\n",
    "            liste.append(array_1[ind_2[i]][::-1])\n",
    "            ters = True\n",
    "for i in liste:\n",
    "    for j in i:\n",
    "        if j not in liste_2:\n",
    "            liste_2.append(j)\n",
    "print(liste_2)"
   ]
  },
  {
   "cell_type": "code",
   "execution_count": null,
   "metadata": {},
   "outputs": [],
   "source": []
  },
  {
   "cell_type": "code",
   "execution_count": null,
   "metadata": {},
   "outputs": [],
   "source": []
  },
  {
   "cell_type": "code",
   "execution_count": null,
   "metadata": {},
   "outputs": [],
   "source": []
  }
 ],
 "metadata": {
  "kernelspec": {
   "display_name": "Python 3",
   "language": "python",
   "name": "python3"
  },
  "language_info": {
   "codemirror_mode": {
    "name": "ipython",
    "version": 3
   },
   "file_extension": ".py",
   "mimetype": "text/x-python",
   "name": "python",
   "nbconvert_exporter": "python",
   "pygments_lexer": "ipython3",
   "version": "3.8.3"
  }
 },
 "nbformat": 4,
 "nbformat_minor": 4
}
