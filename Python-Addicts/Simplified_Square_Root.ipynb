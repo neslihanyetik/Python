{
 "cells": [
  {
   "cell_type": "markdown",
   "metadata": {},
   "source": [
    "### Simplified Square Root\n",
    "\n",
    "Create a function that takes in a positive integer n and returns the simplified square root of n as a tuple of positive integers (a, b), where a⋅sqrt(b) = sqrt(n) and b is as small as possible.\n",
    "\n",
    "### https://edabit.com/challenge/XPCqS7GYYouXg5ut9"
   ]
  },
  {
   "cell_type": "code",
   "execution_count": 7,
   "metadata": {},
   "outputs": [
    {
     "data": {
      "text/plain": [
       "(10, 1)"
      ]
     },
     "execution_count": 7,
     "metadata": {},
     "output_type": "execute_result"
    }
   ],
   "source": [
    "from math import sqrt\n",
    "def simplified(num):\n",
    "    a, b = 1, 0\n",
    "    for i in range(2, num):\n",
    "        i = i ** 2\n",
    "        while num % i == 0:\n",
    "            num = num // i\n",
    "            a *= sqrt(i)\n",
    "            b = num\n",
    "    if a == 1:\n",
    "        b = num\n",
    "    return (int(a), b)\n",
    "        \n",
    "simplified(100)"
   ]
  },
  {
   "cell_type": "code",
   "execution_count": 10,
   "metadata": {},
   "outputs": [],
   "source": [
    "import math\n",
    "def simplify_sqrt(n):\n",
    "    if n//math.sqrt(n)==math.sqrt(n):\n",
    "        return (int(math.sqrt(n)),1)\n",
    "    else:\n",
    "        t=[math.sqrt(i) for i in range(1,n) if n%i==0]\n",
    "    a=[i for i in  t if i%int(i)==0.0]\n",
    "    return (int(max(a)),int(n//max(a)**2))"
   ]
  },
  {
   "cell_type": "code",
   "execution_count": 12,
   "metadata": {},
   "outputs": [
    {
     "data": {
      "text/plain": [
       "(6, 2)"
      ]
     },
     "execution_count": 12,
     "metadata": {},
     "output_type": "execute_result"
    }
   ],
   "source": [
    "def squar(n) :\n",
    "  list = []\n",
    "  for i in range(1, n) :\n",
    "    if n % i**2 == 0 :\n",
    "      list.append(i)\n",
    "  a = max(list)\n",
    "  b = n // a**2\n",
    "  return a,b\n",
    "squar(72)"
   ]
  }
 ],
 "metadata": {
  "kernelspec": {
   "display_name": "Python 3",
   "language": "python",
   "name": "python3"
  },
  "language_info": {
   "codemirror_mode": {
    "name": "ipython",
    "version": 3
   },
   "file_extension": ".py",
   "mimetype": "text/x-python",
   "name": "python",
   "nbconvert_exporter": "python",
   "pygments_lexer": "ipython3",
   "version": "3.8.3"
  }
 },
 "nbformat": 4,
 "nbformat_minor": 4
}
