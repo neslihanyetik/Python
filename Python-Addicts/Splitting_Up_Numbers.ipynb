{
 "cells": [
  {
   "cell_type": "markdown",
   "metadata": {},
   "source": [
    "- Create a function that takes a number num and returns each place value in the number.\n",
    "\n",
    "- Examples\n",
    "- num_split(39) ➞ [30, 9]\n",
    "\n",
    "- num_split(-434) ➞ [-400, -30, -4]\n",
    "\n",
    "- num_split(100) ➞ [100, 0, 0]"
   ]
  },
  {
   "cell_type": "code",
   "execution_count": null,
   "metadata": {},
   "outputs": [],
   "source": [
    "def num_split(num):\n",
    "    lst = []\n",
    "    a = 1\n",
    "    if num < 0:\n",
    "        a = -1\n",
    "    \n",
    "    for i in str(abs(num))[::-1]:\n",
    "        b = int(i) * a\n",
    "        a *= 10\n",
    "        lst.append(b)\n",
    "    lst.reverse()\n",
    "    return lst\n",
    "num_split(-145)"
   ]
  },
  {
   "cell_type": "code",
   "execution_count": null,
   "metadata": {},
   "outputs": [],
   "source": [
    "def num_split(num):\n",
    "    lst = []\n",
    "    a = 1\n",
    "    if num < 0:\n",
    "        a = -1\n",
    "    \n",
    "    for i in str(abs(num))[::-1]:\n",
    "        b = int(i) * a\n",
    "        a *= 10\n",
    "        lst.append(b)\n",
    "    lst.reverse()\n",
    "    return lst\n",
    "num_split(-145)"
   ]
  },
  {
   "cell_type": "code",
   "execution_count": null,
   "metadata": {},
   "outputs": [],
   "source": [
    "num = int(input(\"Enter Number: \"))\n",
    "new_num=abs(num)\n",
    "c = 1\n",
    "pos_nums = []\n",
    "while new_num != 0:\n",
    "    z = new_num % 10\n",
    "    pos_nums.append(z *c)\n",
    "    new_num = new_num // 10\n",
    "    c = c*10\n",
    "if num > 0:\n",
    "    print(pos_nums[::-1])\n",
    "else:\n",
    "    a=[]\n",
    "    for i in pos_nums[::-1]:\n",
    "        b=-1*i\n",
    "        a.append(b)\n",
    "    print(a)s"
   ]
  },
  {
   "cell_type": "code",
   "execution_count": null,
   "metadata": {},
   "outputs": [],
   "source": []
  },
  {
   "cell_type": "code",
   "execution_count": null,
   "metadata": {},
   "outputs": [],
   "source": []
  },
  {
   "cell_type": "code",
   "execution_count": null,
   "metadata": {},
   "outputs": [],
   "source": []
  },
  {
   "cell_type": "code",
   "execution_count": null,
   "metadata": {},
   "outputs": [],
   "source": []
  }
 ],
 "metadata": {
  "kernelspec": {
   "display_name": "Python 3",
   "language": "python",
   "name": "python3"
  },
  "language_info": {
   "codemirror_mode": {
    "name": "ipython",
    "version": 3
   },
   "file_extension": ".py",
   "mimetype": "text/x-python",
   "name": "python",
   "nbconvert_exporter": "python",
   "pygments_lexer": "ipython3",
   "version": "3.8.3"
  }
 },
 "nbformat": 4,
 "nbformat_minor": 4
}
