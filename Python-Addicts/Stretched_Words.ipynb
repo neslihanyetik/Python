{
 "cells": [
  {
   "cell_type": "markdown",
   "metadata": {},
   "source": [
    "- Write a function that takes a string, and returns a new string with any duplicate consecutive letters removed.\n",
    "\n",
    "- Examples unstretch(\"ppoeemm\") ➞ \"poem\"\n",
    "\n",
    "- unstretch(\"wiiiinnnnd\") ➞ \"wind\"\n",
    "\n",
    "- unstretch(\"ttiiitllleeee\") ➞ \"title\"\n",
    "\n",
    "- unstretch(\"cccccaaarrrbbonnnnn\") ➞ \"carbon\" Notes Final strings won't include words with double letters (e.g. \"passing\", \"lottery\")."
   ]
  },
  {
   "cell_type": "code",
   "execution_count": null,
   "metadata": {},
   "outputs": [],
   "source": [
    "text = input('Enter a text : ')\n",
    "combine = ''\n",
    "for i in text:\n",
    "    if i not in combine:\n",
    "        combine = combine + i\n",
    "print(combine)\n"
   ]
  },
  {
   "cell_type": "code",
   "execution_count": null,
   "metadata": {},
   "outputs": [],
   "source": [
    "def unstretch(word):\n",
    "\treturn word[0]+\"\".join(word[i] for i in range(1,len(word)) if word[i]!=word[i-1])\n",
    "unstretch(\"wiiiinnnnd\")"
   ]
  },
  {
   "cell_type": "code",
   "execution_count": null,
   "metadata": {},
   "outputs": [],
   "source": [
    "def unstretch(word):\n",
    "\treturn ''.join([x for x,y in zip(word,word[1:]) if x!=y]) + word[-1]\n"
   ]
  },
  {
   "cell_type": "code",
   "execution_count": null,
   "metadata": {},
   "outputs": [],
   "source": [
    "def unstretch(word):\n",
    "    c=word[0]\n",
    "    for i in range(1,len(word)):\n",
    "        if word[i]!=c[-1]:\n",
    "            c+=word[i]\n",
    "    return c"
   ]
  },
  {
   "cell_type": "code",
   "execution_count": null,
   "metadata": {},
   "outputs": [],
   "source": [
    "def unstretch(word):\n",
    "    c=word[0]\n",
    "    for i in range(1,len(word)):\n",
    "        if word[i]!=c[-1]:\n",
    "            c+=word[i]\n",
    "    return c"
   ]
  },
  {
   "cell_type": "code",
   "execution_count": null,
   "metadata": {},
   "outputs": [],
   "source": []
  },
  {
   "cell_type": "code",
   "execution_count": null,
   "metadata": {},
   "outputs": [],
   "source": []
  },
  {
   "cell_type": "code",
   "execution_count": null,
   "metadata": {},
   "outputs": [],
   "source": []
  }
 ],
 "metadata": {
  "kernelspec": {
   "display_name": "Python 3",
   "language": "python",
   "name": "python3"
  },
  "language_info": {
   "codemirror_mode": {
    "name": "ipython",
    "version": 3
   },
   "file_extension": ".py",
   "mimetype": "text/x-python",
   "name": "python",
   "nbconvert_exporter": "python",
   "pygments_lexer": "ipython3",
   "version": "3.8.3"
  }
 },
 "nbformat": 4,
 "nbformat_minor": 4
}
