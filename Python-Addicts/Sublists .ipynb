{
 "cells": [
  {
   "cell_type": "markdown",
   "metadata": {},
   "source": [
    "Hello Friends, happy holidays again. Make a solution that takes a list of numbers or strings and returns a list with the items from the original list stored into sublists. Items of the same value should be in the same sublist. Examples\n",
    "\n",
    "[2, 1, 2, 1] ➞ [[2, 2], [1, 1]], [5, 4, 5, 5, 4, 3] ➞ [[5, 5, 5], [4, 4], [3]], [\"b\", \"a\", \"b\", \"a\", \"c\"] ➞ [[\"b\", \"b\"], [\"a\", \"a\"], [\"c\"]]\n",
    "\n",
    "Notes\n",
    "The sublists should be returned in the order of each element's first appearance in the given list."
   ]
  },
  {
   "cell_type": "code",
   "execution_count": 1,
   "metadata": {},
   "outputs": [
    {
     "name": "stdout",
     "output_type": "stream",
     "text": [
      "[[1, 1, 1, 1, 1, 1], ['a', 'a', 'a', 'a'], [2, 2, 2, 2, 2, 2], ['b', 'b', 'b'], ['c', 'c', 'c', 'c']]\n"
     ]
    }
   ],
   "source": [
    "dictt = {}\n",
    "list = [1, 'a', 2, 'b', 1, 'c', 2, 1, 'a', 'c', 2, 1, 2, 2, 1, 'a', 'b', 'a', 'b', 1, 2, 'c', 'c']\n",
    "for i in list:\n",
    "    if i not in dictt:\n",
    "        dictt[i] = [i]\n",
    "    else:\n",
    "        dictt[i].append(i)\n",
    "result = [i for i in dictt.values()]\n",
    "print(result)\n"
   ]
  },
  {
   "cell_type": "code",
   "execution_count": 3,
   "metadata": {},
   "outputs": [
    {
     "name": "stdout",
     "output_type": "stream",
     "text": [
      "[[1, 1, 1, 1, 1, 1], ['a', 'a', 'a', 'a'], [2, 2, 2, 2, 2, 2], ['b', 'b', 'b'], ['c', 'c', 'c', 'c']]\n"
     ]
    }
   ],
   "source": [
    "liste = [1, 'a', 2, 'b', 1, 'c', 2, 1, 'a', 'c', 2, 1, 2, 2, 1, 'a', 'b', 'a', 'b', 1, 2, 'c', 'c']\n",
    "listim, setim = [] , set()\n",
    "for i in liste:\n",
    "    if i not in setim:\n",
    "        listim.append([i for x in range(liste.count(i))])\n",
    "        setim.add(i)\n",
    "print(listim)"
   ]
  },
  {
   "cell_type": "code",
   "execution_count": 4,
   "metadata": {},
   "outputs": [
    {
     "name": "stdout",
     "output_type": "stream",
     "text": [
      "dict_values([[1, 1, 1, 1, 1, 1], ['a', 'a', 'a', 'a'], [2, 2, 2, 2, 2, 2], ['b', 'b', 'b'], ['c', 'c', 'c', 'c']])\n"
     ]
    }
   ],
   "source": [
    "dicc={}\n",
    "liste = [1, 'a', 2, 'b', 1, 'c', 2, 1, 'a', 'c', 2, 1, 2, 2, 1, 'a', 'b', 'a', 'b', 1, 2, 'c', 'c']\n",
    "for char in liste:dicc[char]=[]\n",
    "dickeys=[chardic for chardic in dicc.keys()]\n",
    "sayac=0\n",
    "while sayac<len(liste):\n",
    "       if liste[sayac] in dickeys:\n",
    "           dicc[liste[sayac]].append(liste[sayac])\n",
    "       sayac +=1\n",
    "print(dicc.values())"
   ]
  },
  {
   "cell_type": "code",
   "execution_count": 5,
   "metadata": {},
   "outputs": [
    {
     "name": "stdout",
     "output_type": "stream",
     "text": [
      "[[2, 2], [1, 1]]\n"
     ]
    }
   ],
   "source": [
    "checking_list = [2, 1, 2, 1]\n",
    "new_list = []\n",
    "dictionary = {}\n",
    "for i in checking_list:\n",
    "    dictionary[i] = [i]\n",
    "    for a in range(len(checking_list)):\n",
    "        if i == checking_list[a]:\n",
    "            dictionary[i] = [i]\n",
    "            dictionary[i].append(i)\n",
    "a = [i for i in dictionary.values()]\n",
    "print(a)"
   ]
  }
 ],
 "metadata": {
  "kernelspec": {
   "display_name": "Python 3",
   "language": "python",
   "name": "python3"
  },
  "language_info": {
   "codemirror_mode": {
    "name": "ipython",
    "version": 3
   },
   "file_extension": ".py",
   "mimetype": "text/x-python",
   "name": "python",
   "nbconvert_exporter": "python",
   "pygments_lexer": "ipython3",
   "version": "3.8.3"
  }
 },
 "nbformat": 4,
 "nbformat_minor": 4
}
