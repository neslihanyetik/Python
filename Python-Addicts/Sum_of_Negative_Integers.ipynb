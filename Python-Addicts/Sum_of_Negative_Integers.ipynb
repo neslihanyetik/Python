{
 "cells": [
  {
   "cell_type": "code",
   "execution_count": null,
   "metadata": {},
   "outputs": [],
   "source": [
    "Create a function that takes a string containing integers as well as other characters and return the sum of the negative integers only.\n",
    "\n",
    "Examples negative_sum(\"-12 13%14&-11\") ➞ -23 -12 + -11 = -23\n",
    "\n",
    "negative_sum(\"22 13%14&-11-22 13 12\") ➞ -33 -11 + -22 = -33 Notes There is at least one negative integer."
   ]
  },
  {
   "cell_type": "code",
   "execution_count": 2,
   "metadata": {},
   "outputs": [
    {
     "name": "stdout",
     "output_type": "stream",
     "text": [
      "Enter a text here > -12 13%14&-11\n",
      "['12', '11']\n",
      "-23\n"
     ]
    }
   ],
   "source": [
    "text = input('Enter a text here > ')\n",
    "text += '!'\n",
    "liste = []\n",
    "result = 0\n",
    "negative = text.count('-')\n",
    "for i in range(negative):\n",
    "    index = text.find('-')\n",
    "    for i in text[index + 1:]:\n",
    "        if not i.isdigit():\n",
    "            index2 = text[index + 1:].find(i)\n",
    "            break\n",
    "    part = text[index : index + index2 + 1]\n",
    "    part2 = text[index + 1 : index + index2 + 1]\n",
    "    liste.append(part2)\n",
    "    text = text.replace(part, '', 1)\n",
    "for i in liste:\n",
    "    if i.isdigit():\n",
    "        if not i.startswith('0'):\n",
    "            i = int(i)\n",
    "            result += i\n",
    "result = result * -1\n",
    "print(liste)\n",
    "print(result)"
   ]
  },
  {
   "cell_type": "code",
   "execution_count": 3,
   "metadata": {},
   "outputs": [
    {
     "data": {
      "text/plain": [
       "-33"
      ]
     },
     "execution_count": 3,
     "metadata": {},
     "output_type": "execute_result"
    }
   ],
   "source": [
    "def negative_sum(s):\n",
    "    result = 0\n",
    "    s1 = \"\"\n",
    "    for i in s:\n",
    "        if i == \"-\":\n",
    "            n = s.index(i)\n",
    "            for k in s[n+1:]:\n",
    "                if k.isdigit():\n",
    "                    s1+=k\n",
    "                else:\n",
    "                    break\n",
    "            result+=int(s1)\n",
    "            s1 = \"\"\n",
    "            s = s[n+1:]\n",
    "    return -result\n",
    "negative_sum(\"22 13%14&-11-22 13 12\")"
   ]
  },
  {
   "cell_type": "code",
   "execution_count": null,
   "metadata": {},
   "outputs": [],
   "source": []
  },
  {
   "cell_type": "code",
   "execution_count": null,
   "metadata": {},
   "outputs": [],
   "source": []
  },
  {
   "cell_type": "code",
   "execution_count": null,
   "metadata": {},
   "outputs": [],
   "source": []
  }
 ],
 "metadata": {
  "kernelspec": {
   "display_name": "Python 3",
   "language": "python",
   "name": "python3"
  },
  "language_info": {
   "codemirror_mode": {
    "name": "ipython",
    "version": 3
   },
   "file_extension": ".py",
   "mimetype": "text/x-python",
   "name": "python",
   "nbconvert_exporter": "python",
   "pygments_lexer": "ipython3",
   "version": "3.8.3"
  }
 },
 "nbformat": 4,
 "nbformat_minor": 4
}
