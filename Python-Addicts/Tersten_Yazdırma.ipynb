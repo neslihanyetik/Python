{
 "cells": [
  {
   "cell_type": "markdown",
   "metadata": {},
   "source": [
    "- Bir foksiyon tanımlayın ve foksiyonun sonucunda girilen her kelimeyi kendi içinde tersten yazdırın: given str =\"My Name is Muhammet\" expected_out_put: 'yM emaN si temmahuM'"
   ]
  },
  {
   "cell_type": "code",
   "execution_count": 1,
   "metadata": {},
   "outputs": [
    {
     "data": {
      "text/plain": [
       "'yM emaN si temmahuM'"
      ]
     },
     "execution_count": 1,
     "metadata": {},
     "output_type": "execute_result"
    }
   ],
   "source": [
    "def reversewords(sentence) :\n",
    "    wordslists = sentence.split(\" \")\n",
    "    new_sentence = \"\"\n",
    "    for i in wordslists :\n",
    "        new_sentence += i[::-1] \n",
    "        new_sentence += \" \"\n",
    "        \n",
    "        \n",
    "    return new_sentence[:len(sentence)]\n",
    "reversewords(\"My Name is Muhammet\")"
   ]
  },
  {
   "cell_type": "code",
   "execution_count": 2,
   "metadata": {},
   "outputs": [
    {
     "data": {
      "text/plain": [
       "['Mike', 'Emme', 'Kelly', 'Brad']"
      ]
     },
     "execution_count": 2,
     "metadata": {},
     "output_type": "execute_result"
    }
   ],
   "source": [
    "list1= ['Mike', \"\", 'Emme', \"\", 'Kelly', \"\", 'Brad']\n",
    "\n",
    "result = list(filter(lambda x: x != \"\", list1))\n",
    "result"
   ]
  },
  {
   "cell_type": "code",
   "execution_count": null,
   "metadata": {},
   "outputs": [],
   "source": []
  },
  {
   "cell_type": "code",
   "execution_count": null,
   "metadata": {},
   "outputs": [],
   "source": []
  },
  {
   "cell_type": "code",
   "execution_count": null,
   "metadata": {},
   "outputs": [],
   "source": []
  },
  {
   "cell_type": "code",
   "execution_count": null,
   "metadata": {},
   "outputs": [],
   "source": []
  }
 ],
 "metadata": {
  "kernelspec": {
   "display_name": "Python 3",
   "language": "python",
   "name": "python3"
  },
  "language_info": {
   "codemirror_mode": {
    "name": "ipython",
    "version": 3
   },
   "file_extension": ".py",
   "mimetype": "text/x-python",
   "name": "python",
   "nbconvert_exporter": "python",
   "pygments_lexer": "ipython3",
   "version": "3.8.3"
  }
 },
 "nbformat": 4,
 "nbformat_minor": 4
}
