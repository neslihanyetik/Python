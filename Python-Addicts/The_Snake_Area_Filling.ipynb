{
 "cells": [
  {
   "cell_type": "markdown",
   "metadata": {},
   "source": [
    "## The Snake — Area Filling\n",
    "This challenge is based on the classic videogame \"Snake\".\n",
    "\n",
    "Assume the game screen is an n * n square, and the snake starts the game with length 1 (i.e. just the head) positioned on the top left corner.\n",
    "\n",
    "### https://edabit.com/challenge/Y5Ji2HDnQTX7MxeHt"
   ]
  },
  {
   "cell_type": "code",
   "execution_count": null,
   "metadata": {},
   "outputs": [],
   "source": [
    "x = int(input(\"Enter row and column size:\"))\n",
    "i = 0\n",
    "a = -1 # yılanın boyu ilk döngüde zaten 1 olduğu için a değeri -1 olarak tanımlandı.\n",
    "while 2 ** i < x ** 2: # 2 ** 1 formulü yılanın boyunu verir.\n",
    "    a += 1\n",
    "    i += 1\n",
    "print(\"snakefill:\", x ** 2, \"and snake can eat before it runs out of space in the game screen: \",a  )"
   ]
  },
  {
   "cell_type": "code",
   "execution_count": null,
   "metadata": {},
   "outputs": [],
   "source": [
    "def snakefill(n):\n",
    "    i = 2**0\n",
    "    count = 0\n",
    "    if n == 1:\n",
    "        return count\n",
    "    else:\n",
    "        while i < n*n:\n",
    "            count +=1\n",
    "            i += 2**count\n",
    "        return count"
   ]
  },
  {
   "cell_type": "code",
   "execution_count": null,
   "metadata": {},
   "outputs": [],
   "source": [
    "num = int(input('Enter a number for the game screen > '))\n",
    "sayac = 0\n",
    "while num ** 2 > 2 ** (sayac + 1):\n",
    "    sayac += 1\n",
    "print('The screen runs out of space after the snake eats {} number of times.'.format(sayac))"
   ]
  },
  {
   "cell_type": "code",
   "execution_count": null,
   "metadata": {},
   "outputs": [],
   "source": [
    "alan=int(input(\"please enter area information\"))\n",
    "sayac=1\n",
    "while (2**sayac)+1<=(alan*alan):\n",
    "      sayac += 1\n",
    "print(sayac-1)"
   ]
  },
  {
   "cell_type": "code",
   "execution_count": null,
   "metadata": {},
   "outputs": [],
   "source": [
    "game_area = int(input(\"Please write a (row and column) number for square game are:\"))\n",
    "snake_length = 1\n",
    "counter = 0\n",
    "while snake_length < game_area * game_area:\n",
    "    snake_length = snake_length + snake_length\n",
    "    if snake_length < game_area * game_area:\n",
    "        counter += 1\n",
    "print(f\"The snake eats {counter} times\")"
   ]
  },
  {
   "cell_type": "code",
   "execution_count": null,
   "metadata": {},
   "outputs": [],
   "source": [
    "def snakefill(n):\n",
    "    snake = 1\n",
    "    food = -1\n",
    "    while snake < n*n:\n",
    "        snake*=2\n",
    "        food+=1\n",
    "    return food"
   ]
  }
 ],
 "metadata": {
  "kernelspec": {
   "display_name": "Python 3",
   "language": "python",
   "name": "python3"
  },
  "language_info": {
   "codemirror_mode": {
    "name": "ipython",
    "version": 3
   },
   "file_extension": ".py",
   "mimetype": "text/x-python",
   "name": "python",
   "nbconvert_exporter": "python",
   "pygments_lexer": "ipython3",
   "version": "3.8.3"
  }
 },
 "nbformat": 4,
 "nbformat_minor": 4
}
