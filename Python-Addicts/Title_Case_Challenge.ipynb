{
 "cells": [
  {
   "cell_type": "markdown",
   "metadata": {},
   "source": [
    "\n",
    "A string is considered to be in title case if each word in the string is either (a) capitalised (that is, only the first letter of the word is in upper case) or (b) considered to be an exception and put entirely into lower case unless it is the first word, which is always capitalised. Write a function that will convert a string into title case, given an optional list of exceptions (minor words). The list of minor words will be given as a string with each word separated by a space. Your function should ignore the case of the minor words string -- it should behave in the same way even if the case of the minor word string is changed.\n",
    "\n",
    "- Arguments\n",
    "\n",
    "First argument (required): the original string to be converted. Second argument (optional): space-delimited list of minor words that must always be lowercase except for the first word in the string. The JavaScript/CoffeeScript tests will pass undefined when this argument is unused.\n",
    "\n",
    "- Example\n",
    "\n",
    "title_case('a clash of KINGS', 'a an the of')\n",
    "\n",
    "- should return: 'A Clash of Kings'\n",
    "\n",
    "title_case('THE WIND IN THE WILLOWS', 'The In')\n",
    "\n",
    "- should return: 'The Wind in the Willows'\n",
    "\n",
    "title_case('the quick brown fox')\n",
    "\n",
    "- should return: 'The Quick Brown Fox'\n",
    "\n",
    "def title_case(title, minor_words=''):"
   ]
  },
  {
   "cell_type": "code",
   "execution_count": 1,
   "metadata": {},
   "outputs": [
    {
     "data": {
      "text/plain": [
       "'A Clash of Kings'"
      ]
     },
     "execution_count": 1,
     "metadata": {},
     "output_type": "execute_result"
    }
   ],
   "source": [
    "def title_case(title, exceptions = ''):\n",
    "    title = title.title().split()\n",
    "    exceptions = exceptions.title().split()\n",
    "    new = ''\n",
    "    for i in title:\n",
    "        if i in exceptions:\n",
    "            i = i.lower() \n",
    "        if new == '':\n",
    "            new += i.capitalize() + ' '\n",
    "        else:\n",
    "            new += i + ' '\n",
    "    new = new.rstrip(' ')\n",
    "    return new\n",
    "\n",
    "title_case('a clash of KINGS', 'a an the of')"
   ]
  },
  {
   "cell_type": "code",
   "execution_count": 2,
   "metadata": {},
   "outputs": [
    {
     "data": {
      "text/plain": [
       "'The Wind in the Willows'"
      ]
     },
     "execution_count": 2,
     "metadata": {},
     "output_type": "execute_result"
    }
   ],
   "source": [
    "def title_case(string, exceptions=\"\"):\n",
    "    string = list(string.lower().split())\n",
    "    exceptions = list(exceptions.lower().split())\n",
    "    \n",
    "    string = [string[i].capitalize() if string[i] not in exceptions or i == 0 else string[i] for i in range(len(string))]\n",
    "    string = \" \".join(string)\n",
    "    return string\n",
    "title_case('THE WIND IN THE WILLOWS', 'The In')"
   ]
  },
  {
   "cell_type": "code",
   "execution_count": 3,
   "metadata": {},
   "outputs": [
    {
     "data": {
      "text/plain": [
       "'The Wind in the Willows'"
      ]
     },
     "execution_count": 3,
     "metadata": {},
     "output_type": "execute_result"
    }
   ],
   "source": [
    "def title_case(title, minor_words=''):\n",
    "           \n",
    "    list1 = title.lower().split()\n",
    "    minor_words = minor_words.lower().split()\n",
    "    new = []\n",
    "    for i in range(len(list1)) :\n",
    "        if i == 0 :\n",
    "            new.append(list1[i].title())\n",
    "            pass\n",
    "        elif list1[i] in minor_words :\n",
    "            new.append(list1[i])\n",
    "\n",
    "        else:\n",
    "            new.append(list1[i].title())\n",
    "\n",
    "    last = \" \".join(new)\n",
    "    return last\n",
    "\n",
    "\n",
    "title_case('THE WIND IN THE WILLOWS', 'The In')"
   ]
  },
  {
   "cell_type": "code",
   "execution_count": 4,
   "metadata": {},
   "outputs": [
    {
     "data": {
      "text/plain": [
       "'The Wind in the Willows'"
      ]
     },
     "execution_count": 4,
     "metadata": {},
     "output_type": "execute_result"
    }
   ],
   "source": [
    "def title_case(title, minor_words=''):\n",
    "    title = title.capitalize().split()\n",
    "    minor_words = minor_words.lower().split()\n",
    "    return ' '.join([word if word in minor_words else word.capitalize() for word in title])\n",
    "title_case('THE WIND IN THE WILLOWS', 'The In')"
   ]
  },
  {
   "cell_type": "code",
   "execution_count": null,
   "metadata": {},
   "outputs": [],
   "source": []
  }
 ],
 "metadata": {
  "kernelspec": {
   "display_name": "Python 3",
   "language": "python",
   "name": "python3"
  },
  "language_info": {
   "codemirror_mode": {
    "name": "ipython",
    "version": 3
   },
   "file_extension": ".py",
   "mimetype": "text/x-python",
   "name": "python",
   "nbconvert_exporter": "python",
   "pygments_lexer": "ipython3",
   "version": "3.8.3"
  }
 },
 "nbformat": 4,
 "nbformat_minor": 4
}
