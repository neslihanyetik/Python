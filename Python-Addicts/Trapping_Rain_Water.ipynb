{
 "cells": [
  {
   "cell_type": "markdown",
   "metadata": {},
   "source": [
    "## Trapping Rain Water\n",
    "Given an array of non-negative integers representing an elevation map as shown below where the width of each bar is 1, compute how much water will be trapped on terrain after raining. To clarify further, the black boxes represents terrain and its height, and the blue boxes represents the water that could be trapped on the terrain."
   ]
  },
  {
   "cell_type": "code",
   "execution_count": null,
   "metadata": {},
   "outputs": [],
   "source": [
    "listt = []\n",
    "sayac1, sayac2, total = 0, 0, 0\n",
    "while True:\n",
    "    answer = input(\"Please enter an non-negative integer or press 'q' to stop adding into the list > \")\n",
    "    if answer.lower() == 'q':\n",
    "        break\n",
    "    else:\n",
    "        listt.append(int(answer))\n",
    "\n",
    "for x in range(max(listt)):\n",
    "    listt2 = []\n",
    "    for i in listt:\n",
    "        if i != 0:\n",
    "            a = listt.index(i)\n",
    "            break\n",
    "    for k in listt[::-1]:\n",
    "        if k != 0:\n",
    "            b = listt[::-1].index(k)\n",
    "            b = len(listt) - (b + 1)\n",
    "            break\n",
    "    \n",
    "    if a == b:\n",
    "        break\n",
    "    \n",
    "    for v in listt[a:b]:\n",
    "        sayac1 += 1\n",
    "        if v != 0:\n",
    "            sayac2 += 1\n",
    "    total = sayac1 - sayac2\n",
    "    \n",
    "    for p in listt:\n",
    "        if p == 0:\n",
    "            listt2.append(p)\n",
    "        else:\n",
    "            p = p - 1\n",
    "            listt2.append(p)\n",
    "    listt = listt2\n",
    "print('{} bars of water will be trapped on terrain after raining.'.format(total))"
   ]
  },
  {
   "cell_type": "code",
   "execution_count": null,
   "metadata": {},
   "outputs": [],
   "source": [
    "text = input('Enter a text > ')\n",
    "text2 = text\n",
    "rev = text[::-1]\n",
    "sayac = 0\n",
    "for i in range(len(text2)):\n",
    "    text = text[1:]\n",
    "    rev = rev[:-1]\n",
    "    sayac += 1\n",
    "    if text == rev:\n",
    "        break\n",
    "which = text2[:sayac]\n",
    "which_reverse = which[::-1]\n",
    "print(f'''\n",
    "We need minimum {sayac} letters to be added to the end of {text2},\n",
    "These {sayac} letter is/are {which_reverse}.\n",
    "Thus, our palindrom is {text2 + which_reverse}.''')"
   ]
  },
  {
   "cell_type": "code",
   "execution_count": null,
   "metadata": {},
   "outputs": [],
   "source": [
    "ls = [0, 1, 0, 2, 1, 0, 1, 3, 2, 1, 2, 1]\n",
    "n = 0\n",
    "a = 0\n",
    "b = 1\n",
    "while ls.count(max(ls)) == 1:\n",
    "    ls[ls.index(max(ls))]-=1\n",
    "while b < len(ls):\n",
    "    if ls[a] > ls[b]:\n",
    "        while ls[a] > ls[b]:\n",
    "            if ls[a] not in ls[b:]:\n",
    "                break\n",
    "            else:\n",
    "                n+=ls[a]-ls[b]\n",
    "                b+=1\n",
    "                if b == len(ls):\n",
    "                    break\n",
    "        a = b\n",
    "        b = a+1\n",
    "    else:\n",
    "        a+=1\n",
    "        b+=1\n",
    "print(n)"
   ]
  },
  {
   "cell_type": "code",
   "execution_count": null,
   "metadata": {},
   "outputs": [],
   "source": [
    "def solution(array):\n",
    "    water = 0\n",
    "    x = 0 \n",
    "    while x < len(array)-1:\n",
    "        for ind in range(x+1,len(array)):\n",
    "            if array[ind] >= array[x] :\n",
    "                water += (ind-x-1) * array[x] - sum(array[x+1:ind])\n",
    "                x = ind\n",
    "                break\n",
    "        else:\n",
    "            t = max(array[x+1:])\n",
    "            t_index = array[x+1:].index(t) + x+1\n",
    "            water += (t_index-x-1)*t - sum(array[x+1:t_index])\n",
    "            x = t_index\n",
    "    return water\n",
    "\n",
    "input1 = [0,1,0,2,1,0,1,3,2,1,2,1]\n",
    "solution(input1)"
   ]
  },
  {
   "cell_type": "code",
   "execution_count": null,
   "metadata": {},
   "outputs": [],
   "source": [
    "total_water = 0\n",
    "for width in range(2,len(terrain) -1):\n",
    "    for i in range(len(terrain) - width):\n",
    "        chunk = terrain[i:i+width+1]\n",
    "        if all(element < chunk[0] for element in chunk[1:-1]) and all(element < chunk[-1] for element in chunk[1:-1]):\n",
    "            height = min(chunk[0],chunk[-1]) - max(chunk[1:-1])\n",
    "            total_water += (width-1)*height"
   ]
  }
 ],
 "metadata": {
  "kernelspec": {
   "display_name": "Python 3",
   "language": "python",
   "name": "python3"
  },
  "language_info": {
   "codemirror_mode": {
    "name": "ipython",
    "version": 3
   },
   "file_extension": ".py",
   "mimetype": "text/x-python",
   "name": "python",
   "nbconvert_exporter": "python",
   "pygments_lexer": "ipython3",
   "version": "3.8.3"
  }
 },
 "nbformat": 4,
 "nbformat_minor": 4
}
