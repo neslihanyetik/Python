{
 "cells": [
  {
   "cell_type": "code",
   "execution_count": null,
   "metadata": {},
   "outputs": [],
   "source": [
    "A left-truncatable prime is a prime number that contains no 0 digits and, when the first digit is successively removed, the result is always prime.\n",
    "\n",
    "A right-truncatable prime is a prime number that contains no 0 digits and, when the last digit is successively removed, the result is always prime.\n",
    "\n",
    "Create a function that takes an integer as an argument and:\n",
    "\n",
    "If the integer is only a left-truncatable prime, return \"left\". If the integer is only a right-truncatable prime, return \"right\". If the integer is both, return \"both\". Otherwise, return False. Examples truncatable(9137) ➞ \"left\"\n",
    "\n",
    "Because 9137, 137, 37 and 7 are all prime.\n",
    "truncatable(5939) ➞ \"right\"\n",
    "\n",
    "Because 5939, 593, 59 and 5 are all prime.\n",
    "truncatable(317) ➞ \"both\"\n",
    "\n",
    "Because 317, 17 and 7 are all prime and 317, 31 and 3 are all prime.\n",
    "truncatable(5) ➞ \"both\"\n",
    "\n",
    "The trivial case of single-digit primes is treated as truncatable from both directions.\n",
    "truncatable(139) ➞ False\n",
    "\n",
    "1 and 9 are non-prime, so 139 cannot be truncatable from either direction.\n",
    "truncatable(103) ➞ False\n",
    "\n",
    "Because it contains a 0 digit (even though 103 and 3 are primes).\n",
    "Notes The input integers will not exceed 10^6."
   ]
  },
  {
   "cell_type": "code",
   "execution_count": 1,
   "metadata": {},
   "outputs": [
    {
     "data": {
      "text/plain": [
       "'right'"
      ]
     },
     "execution_count": 1,
     "metadata": {},
     "output_type": "execute_result"
    }
   ],
   "source": [
    "\n",
    "def truncatable(n):\n",
    "    numR, numL = str(n), str(n)\n",
    "    listR, listL = [numR], [numL]\n",
    "    for i in range(1,len(str(n))):\n",
    "        listL.append(numR[i:])\n",
    "    for i in range(1,len(str(n))):\n",
    "        listR.append(numL[:i])\n",
    "\n",
    "    listL_check = []\n",
    "    for i in listL:\n",
    "        if i[0] != 0:\n",
    "            i = int(i)\n",
    "            prime_check = False\n",
    "            if (i != 1) and (i != 0):\n",
    "                for j in range(2,i):\n",
    "                    if (i % j == 0): prime_check = True\n",
    "                if prime_check == False : listL_check.append(str(i))\n",
    "    listR_check = []\n",
    "    for i in listR:\n",
    "        if i[0] != 0:\n",
    "            i = int(i)\n",
    "            prime_check = False\n",
    "            if (i != 1) and (i != 0):\n",
    "                for j in range(2,i):\n",
    "                    if (i % j == 0): prime_check = True\n",
    "                if prime_check == False : listR_check.append(str(i))\n",
    "\n",
    "    if (listL_check == listL) and (listR_check == listR):\n",
    "        return \"both\"\n",
    "    elif (listL_check == listL): return \"left\"\n",
    "    elif (listR_check == listR): return \"right\"\n",
    "    else : return False\n",
    "\n",
    "truncatable(7331)"
   ]
  },
  {
   "cell_type": "code",
   "execution_count": 2,
   "metadata": {},
   "outputs": [
    {
     "data": {
      "text/plain": [
       "'Left'"
      ]
     },
     "execution_count": 2,
     "metadata": {},
     "output_type": "execute_result"
    }
   ],
   "source": [
    "def prime(n):\n",
    "    bol = [i for i in range(1, n + 1) if n % i == 0]\n",
    "    return True if bol == [1, n] else False\n",
    "\n",
    "def truncatable(num):\n",
    "    if '0' in str(num):\n",
    "        return False\n",
    "    elif num in [2, 3, 5, 7]:\n",
    "        return 'Both'\n",
    "    elif prime(num):\n",
    "        left = True\n",
    "        for i in range(1, len(str(num))):\n",
    "            if not prime(int(str(num)[i:])):\n",
    "                left = False\n",
    "                break\n",
    "        right = True\n",
    "        for i in range(-2, -len(str(num)) - 1, -1):\n",
    "            if not prime(int(str(num)[i::-1][::-1])):\n",
    "                right = False\n",
    "                break\n",
    "        if right and left:\n",
    "            return 'Both'\n",
    "        elif right:\n",
    "            return 'Right'\n",
    "        elif left:\n",
    "            return 'Left'\n",
    "        elif not right and not left:\n",
    "            return False\n",
    "    else:\n",
    "        return False\n",
    "\n",
    "truncatable(9137)"
   ]
  },
  {
   "cell_type": "code",
   "execution_count": 3,
   "metadata": {},
   "outputs": [
    {
     "name": "stdout",
     "output_type": "stream",
     "text": [
      "left\n"
     ]
    }
   ],
   "source": [
    "def truncatable(number):\n",
    "    number = str(number)\n",
    "    all_prime_right = True\n",
    "    all_prime_left = True\n",
    "    num_right =[]\n",
    "    num_left = []\n",
    "    for i in range(len(number)):\n",
    "        num_right.append(number[:i+1])\n",
    "    for i in range(len(number)):\n",
    "        num_left.append(number[i:])\n",
    "    \n",
    "    for r in num_right:\n",
    "        for rr in range(2,int(r)) :\n",
    "            if int(r)%rr == 0 :\n",
    "                all_prime_right = False\n",
    "                break\n",
    "            elif \"1\" in num_right:\n",
    "                all_prime_right = False\n",
    "                break\n",
    "    for l in num_left:\n",
    "        for ll in range(2,int(l)):\n",
    "            if int(l)%ll == 0 :\n",
    "                all_prime_left = False\n",
    "                break\n",
    "            elif \"1\" in num_left:\n",
    "                all_prime_left = False\n",
    "                break\n",
    "    if \"0\" in number:\n",
    "        all_prime_right = False\n",
    "        all_prime_left = False\n",
    "    if all_prime_right and all_prime_left:\n",
    "        print(\"both\")\n",
    "    elif all_prime_left:\n",
    "        print(\"left\")\n",
    "    elif all_prime_right:\n",
    "        print(\"right\")\n",
    "    else:\n",
    "        print(False)\n",
    "    \n",
    "truncatable(9137)"
   ]
  },
  {
   "cell_type": "code",
   "execution_count": 4,
   "metadata": {},
   "outputs": [
    {
     "data": {
      "text/plain": [
       "'left'"
      ]
     },
     "execution_count": 4,
     "metadata": {},
     "output_type": "execute_result"
    }
   ],
   "source": [
    "def truncatable(n):\n",
    "    left = [int(str(n)[i:]) for i in range(len(str(n)))]\n",
    "    right = [int(str(n)[:len(str(n))-i]) for i in range(len(str(n)))]\n",
    "    if \"0\" in str(n):\n",
    "        return False\n",
    "    elif countPrimeNumbers(left)+countPrimeNumbers(right) == len(left)+len(right):\n",
    "        return \"both\"\n",
    "    elif countPrimeNumbers(left) == len(left):\n",
    "        return \"left\"\n",
    "    elif countPrimeNumbers(right) == len(right):\n",
    "        return \"right\"\n",
    "    else:\n",
    "        return False\n",
    "def countPrimeNumbers(numbers):\n",
    "    count=0\n",
    "    for num in numbers:\n",
    "        if(num<2):\n",
    "            continue\n",
    "        else:\n",
    "            for i in range(2,num):\n",
    "                if(num%i==0):\n",
    "                    break\n",
    "            else:\n",
    "                count +=1                  \n",
    "    return count\n",
    "truncatable(9137)"
   ]
  },
  {
   "cell_type": "code",
   "execution_count": 5,
   "metadata": {},
   "outputs": [
    {
     "name": "stdout",
     "output_type": "stream",
     "text": [
      "False\n"
     ]
    }
   ],
   "source": [
    "def truncable(number):\n",
    "    number=str(number)\n",
    "    right_side=[number[:i] for i in range(1,len(number)+1)]\n",
    "    left_side=[number[j:] for j in range(len(number))]\n",
    "    sag,sol=True,True\n",
    "    for prime in right_side:\n",
    "        primes=prime\n",
    "        prime=int(prime)\n",
    "        allnum = [p for p in range(2, prime)]\n",
    "        prime_list = [k for k in allnum if prime % k == 0]\n",
    "        if prime==1 or (\"0\" in primes):sag=False\n",
    "        elif any(prime_list):sag=False\n",
    "    for prime in left_side:\n",
    "        primes = prime\n",
    "        prime=int(prime)\n",
    "        allnum = [p for p in range(2, prime)]\n",
    "        prime_list = [k for k in allnum if prime % k == 0]\n",
    "        if prime == 1 or (\"0\" in primes):sol = False\n",
    "        elif any(prime_list):sol=False\n",
    "    return sag,sol\n",
    "right,left=truncable(139)\n",
    "if (right and left):print(\"both\")\n",
    "elif left:print(\"left\")\n",
    "elif right:print(\"right\")\n",
    "else:print(False)"
   ]
  },
  {
   "cell_type": "code",
   "execution_count": null,
   "metadata": {},
   "outputs": [],
   "source": []
  },
  {
   "cell_type": "code",
   "execution_count": null,
   "metadata": {},
   "outputs": [],
   "source": []
  }
 ],
 "metadata": {
  "kernelspec": {
   "display_name": "Python 3",
   "language": "python",
   "name": "python3"
  },
  "language_info": {
   "codemirror_mode": {
    "name": "ipython",
    "version": 3
   },
   "file_extension": ".py",
   "mimetype": "text/x-python",
   "name": "python",
   "nbconvert_exporter": "python",
   "pygments_lexer": "ipython3",
   "version": "3.8.3"
  }
 },
 "nbformat": 4,
 "nbformat_minor": 4
}
