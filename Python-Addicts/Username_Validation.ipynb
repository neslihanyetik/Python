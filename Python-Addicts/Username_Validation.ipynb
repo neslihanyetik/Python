{
 "cells": [
  {
   "cell_type": "code",
   "execution_count": null,
   "metadata": {},
   "outputs": [],
   "source": [
    "# Have the function UsernameValidation(`str`) take the `str` parameter being passed and determine if the string is a valid username according to the following rules:\n",
    "# 1. The username is between 4 and 25 characters.\n",
    "# 2. It must start with a letter.\n",
    "# 3. It can only contain letters, numbers, and the underscore character.\n",
    "# 4. It cannot end with an underscore character.\n",
    "#If the username is valid then your program should return the string `true`, otherwise return the string `false`. The result  must  be like this :\n",
    "aa_ False\n",
    "uaa__hello_world True"
   ]
  },
  {
   "cell_type": "code",
   "execution_count": 1,
   "metadata": {},
   "outputs": [
    {
     "data": {
      "text/plain": [
       "True"
      ]
     },
     "execution_count": 1,
     "metadata": {},
     "output_type": "execute_result"
    }
   ],
   "source": [
    "def UsernameValidation(username):\n",
    "    if len(username) >= 4 and len(username) <= 25 and username[0].isalpha() and username[1:].isidentifier() and username[-1] != '_':\n",
    "        return True\n",
    "    else:\n",
    "        return False\n",
    "    \n",
    "UsernameValidation('uaa__hello_world')"
   ]
  },
  {
   "cell_type": "code",
   "execution_count": 2,
   "metadata": {},
   "outputs": [
    {
     "data": {
      "text/plain": [
       "False"
      ]
     },
     "execution_count": 2,
     "metadata": {},
     "output_type": "execute_result"
    }
   ],
   "source": [
    "def isvalid_username(strn):\n",
    "    t = 0\n",
    "    f = 0\n",
    "    for i in strn: \n",
    "        if (i.isalpha() or i.isdigit() or  i == '_' ) and (4 <= len(strn) <= 25) and strn[0].isalpha() and strn[-1] != '_':\n",
    "            t += 1\n",
    "        else:\n",
    "            f += 1\n",
    "    if f > 0:\n",
    "        return False\n",
    "    else:\n",
    "        return True\n",
    "    \n",
    "isvalid_username('a__hello_world_')"
   ]
  },
  {
   "cell_type": "code",
   "execution_count": null,
   "metadata": {},
   "outputs": [],
   "source": []
  },
  {
   "cell_type": "code",
   "execution_count": null,
   "metadata": {},
   "outputs": [],
   "source": []
  },
  {
   "cell_type": "code",
   "execution_count": null,
   "metadata": {},
   "outputs": [],
   "source": []
  }
 ],
 "metadata": {
  "kernelspec": {
   "display_name": "Python 3",
   "language": "python",
   "name": "python3"
  },
  "language_info": {
   "codemirror_mode": {
    "name": "ipython",
    "version": 3
   },
   "file_extension": ".py",
   "mimetype": "text/x-python",
   "name": "python",
   "nbconvert_exporter": "python",
   "pygments_lexer": "ipython3",
   "version": "3.8.3"
  }
 },
 "nbformat": 4,
 "nbformat_minor": 4
}
