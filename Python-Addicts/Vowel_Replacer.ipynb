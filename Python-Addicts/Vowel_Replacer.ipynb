{
 "cells": [
  {
   "cell_type": "markdown",
   "metadata": {},
   "source": [
    "## Vowel Replacer\n",
    "\n",
    "Create a function that replaces all the vowels in a string with a specified character.\n",
    "\n",
    "### https://edabit.com/challenge/Ggq8GtYPeHJQg4v7q"
   ]
  },
  {
   "cell_type": "code",
   "execution_count": null,
   "metadata": {},
   "outputs": [],
   "source": [
    "text = input('Enter a text here > ')\n",
    "replacer = input('With what you want to replace the vowels > ')\n",
    "liste = []\n",
    "for i in text:\n",
    "    if i in ['a', 'e' ,'i' ,'u', 'o']:\n",
    "        i = replacer\n",
    "    liste.append(i)\n",
    "for i in liste:\n",
    "    print(i, end = '')"
   ]
  },
  {
   "cell_type": "code",
   "execution_count": null,
   "metadata": {},
   "outputs": [],
   "source": [
    "x = input(\"Enter a sentence:\")\n",
    "y = []\n",
    "#vowel = [\"a\",\"e\",\"i\",\"ö\",\"ü\"]\n",
    "for i in x:\n",
    "    if i == \"a\":\n",
    "        i = \"?\"\n",
    "    elif i == \"e\":\n",
    "        i = \"/\"\n",
    "    elif i == \"i\":\n",
    "        i = \"*\"\n",
    "    elif i == \"ü\":\n",
    "        i == \"&\"\n",
    "    elif i == \"ö\":\n",
    "        i == \"%\"    \n",
    "    y.append(i)\n",
    "print(*y)"
   ]
  },
  {
   "cell_type": "code",
   "execution_count": null,
   "metadata": {},
   "outputs": [],
   "source": [
    "vowels = [\"a\",\"e\",\"i\",\"o\",\"ü\",\"ö\"]\n",
    "cheking_word = input(\"Please enter a word:  \")\n",
    "replace_chracter = input(\"Enter the character you want to write instead of the vowel: \")\n",
    "changing_wowel_list = []\n",
    "for i in cheking_word:\n",
    "    \n",
    "    if i in vowels:\n",
    "        changing_wowel_list.append(i)\n",
    "for i in changing_wowel_list:\n",
    "    cheking_word = cheking_word.replace(i,replace_chracter)\n",
    "        \n",
    "       \n",
    "\n",
    "        \n",
    "        \n",
    "    \n",
    "print(cheking_word)"
   ]
  },
  {
   "cell_type": "code",
   "execution_count": null,
   "metadata": {},
   "outputs": [],
   "source": [
    "total_water = 0\n",
    "for width in range(2,len(terrain) -1):\n",
    "    for i in range(len(terrain) - width):\n",
    "        chunk = terrain[i:i+width+1]\n",
    "        if all(element < chunk[0] for element in chunk[1:-1]) and all(element < chunk[-1] for element in chunk[1:-1]):\n",
    "            height = min(chunk[0],chunk[-1]) - max(chunk[1:-1])\n",
    "            total_water += (width-1)*height"
   ]
  }
 ],
 "metadata": {
  "kernelspec": {
   "display_name": "Python 3",
   "language": "python",
   "name": "python3"
  },
  "language_info": {
   "codemirror_mode": {
    "name": "ipython",
    "version": 3
   },
   "file_extension": ".py",
   "mimetype": "text/x-python",
   "name": "python",
   "nbconvert_exporter": "python",
   "pygments_lexer": "ipython3",
   "version": "3.8.3"
  }
 },
 "nbformat": 4,
 "nbformat_minor": 4
}
