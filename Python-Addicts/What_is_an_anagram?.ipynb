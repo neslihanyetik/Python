{
 "cells": [
  {
   "cell_type": "markdown",
   "metadata": {},
   "source": [
    "What is an anagram? Well, two words are anagrams of each other if they both contain the same letters. For example:\n",
    " \n",
    "'abba' & 'baab' == true\n",
    " \n",
    "'abba' & 'bbaa' == true\n",
    " \n",
    "'abba' & 'abbba' == false\n",
    " \n",
    "'abba' & 'abca' == false\n",
    "Take two inputs from the user word and word list and then write code that will find all the anagrams of a word from a list. You should return a list of all the anagrams or an empty list if there are none. For example:\n",
    " \n",
    "input1:'abba'\n",
    "input2: ['aabb', 'abcd', 'bbaa', 'dada']) \n",
    "output: ['aabb', 'bbaa']\n",
    "\n",
    "input1:'racer'\n",
    "input2: ['crazer', 'carer', 'racar', 'caers', 'racer'])\n",
    "output: ['carer', 'racer']\n",
    " \n",
    "input1:'laser'\n",
    "input2:['lazing', 'lazy',  'lacer'])\n",
    "output:[]"
   ]
  },
  {
   "cell_type": "code",
   "execution_count": null,
   "metadata": {},
   "outputs": [],
   "source": [
    "input1 = input(\"Please enter a word please:\")\n",
    "checking_list = []\n",
    "while True:\n",
    "    input2 = input(\"Plese enter a word please for adding to checking list if you don't want press 'q' please: \")\n",
    "    if input2.strip().lower() == \"q\":\n",
    "        break\n",
    "    else:\n",
    "        checking_list.append(input2)\n",
    "result_list = []\n",
    "for i in checking_list:\n",
    "    if set(input1) == set(i) and len(i) == len(input1):\n",
    "        result_list.append(i)\n",
    "print(f\"Yours words anagram list {result_list}\")"
   ]
  },
  {
   "cell_type": "code",
   "execution_count": null,
   "metadata": {},
   "outputs": [],
   "source": [
    "listt_1 = []\n",
    "inp1 = input('Enter a word > ')\n",
    "while True:\n",
    "    inp2 = input(\"Enter a word for the word list or 'q' to quit > \")\n",
    "    if inp2.lower() == 'q':\n",
    "        break\n",
    "    else:\n",
    "        listt_1.append(inp2)\n",
    "            \n",
    "listt_2 = []\n",
    "sonuc = True\n",
    "for i in listt_1:\n",
    "    if set(i) == set(inp1):\n",
    "        for j in i:\n",
    "            if i.count(j) != inp1.count(j):\n",
    "                sonuc = False\n",
    "        if sonuc:\n",
    "            if i not in listt_2:\n",
    "                listt_2.append(i)\n",
    "print(listt_2)"
   ]
  },
  {
   "cell_type": "code",
   "execution_count": null,
   "metadata": {},
   "outputs": [],
   "source": [
    "anagram=input(\"enter a word =\")\n",
    "anagram_list=[] \n",
    "result=[]\n",
    "b=0\n",
    "while True:\n",
    "    a=input(\"enter a word list =  Q use to for Quit    \").lower()\n",
    "    if a ==\"q\":\n",
    "        break\n",
    "    else:\n",
    "        anagram_list.append(a)\n",
    "\n",
    "    \n",
    "for i in anagram_list:\n",
    "    if sorted(list(i)) == sorted(anagram):\n",
    "        result.append(i)\n",
    "print(result)"
   ]
  },
  {
   "cell_type": "code",
   "execution_count": null,
   "metadata": {},
   "outputs": [],
   "source": [
    "kelime =['aabb', 'abcd', 'bbaa', 'dada']\n",
    "kelime1='abba'\n",
    "liste=[]\n",
    "for i in kelime:\n",
    "  x =str(sorted(i))\n",
    "  y =str(sorted(kelime1))\n",
    "  if y  in x:\n",
    "    liste.append(i)\n",
    "print(liste)"
   ]
  },
  {
   "cell_type": "code",
   "execution_count": null,
   "metadata": {},
   "outputs": [],
   "source": [
    "text = (input(\"Please enter text: \").lower())\n",
    "text_2 = sorted(list(text))\n",
    "\n",
    "check_list = input(\"Please enter words with coma: \")\n",
    "check_list = check_list.replace(\" \", \"\").lower().split(\",\")\n",
    "\n",
    "last_list = []\n",
    "\n",
    "for i in check_list:\n",
    "    if sorted(i) == text_2:\n",
    "        last_list.append(i)\n",
    "\n",
    "print(last_list)"
   ]
  },
  {
   "cell_type": "code",
   "execution_count": null,
   "metadata": {},
   "outputs": [],
   "source": [
    "input1 = \"tea\"\n",
    "words = [\"eat\", \"tan\", \"ate\", \"nat\", \"bat\"]\n",
    "sorted_input1 = \"\".join(sorted(input1))\n",
    "anagrams = {}\n",
    "for i in words:\n",
    "    sorted_word = \"\".join(sorted(i))\n",
    "    if sorted_word in anagrams:\n",
    "        anagrams[sorted_word].append(i)\n",
    "    else:\n",
    "        anagrams[sorted_word] = [i]\n",
    "print(anagrams[sorted_input1])"
   ]
  },
  {
   "cell_type": "code",
   "execution_count": null,
   "metadata": {},
   "outputs": [],
   "source": [
    "def check_anagram(word,word_list):\n",
    "    anagram = []\n",
    "    word_list = list(word_list.split(\",\"))\n",
    "    for i in word_list:\n",
    "        if sorted(list(word)) == sorted(i):\n",
    "            anagram.append(i)\n",
    "    print(anagram)\n",
    "\n",
    "input1 = input(\"enter a word to check for anagram: \")\n",
    "input2 = input(\"enter other words to check for anagram(use comma to seperate the words): \")\n",
    "check_anagram(input1,input2)"
   ]
  }
 ],
 "metadata": {
  "kernelspec": {
   "display_name": "Python 3",
   "language": "python",
   "name": "python3"
  },
  "language_info": {
   "codemirror_mode": {
    "name": "ipython",
    "version": 3
   },
   "file_extension": ".py",
   "mimetype": "text/x-python",
   "name": "python",
   "nbconvert_exporter": "python",
   "pygments_lexer": "ipython3",
   "version": "3.8.3"
  }
 },
 "nbformat": 4,
 "nbformat_minor": 4
}
