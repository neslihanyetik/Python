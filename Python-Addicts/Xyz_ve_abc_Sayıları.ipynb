{
 "cells": [
  {
   "cell_type": "code",
   "execution_count": null,
   "metadata": {},
   "outputs": [],
   "source": [
    "Soru:\n",
    "Aynı zamanda hem 2'ye hem 4'e hem de 5'e bölünebilen sayılara xyz sayısı diyelim. \n",
    "Hem 2'ye hem de 5'e bölünebilen sayılar ise abc sayısı olsun. 100 ile 100.000 arasındaki \n",
    "xyz sayılarından kaç tanesi aynı zamanda abc sayısıdır?"
   ]
  },
  {
   "cell_type": "code",
   "execution_count": 1,
   "metadata": {},
   "outputs": [
    {
     "name": "stdout",
     "output_type": "stream",
     "text": [
      "3\n"
     ]
    }
   ],
   "source": [
    "k = 0\n",
    "for i in range(100,150):\n",
    "    if i % 2 == 0 and i % 5 == 0:\n",
    "        if i % 4 ==0:\n",
    "            k += 1\n",
    "print(k)"
   ]
  },
  {
   "cell_type": "code",
   "execution_count": 2,
   "metadata": {},
   "outputs": [
    {
     "name": "stdout",
     "output_type": "stream",
     "text": [
      "[100, 120, 140]\n",
      "[100, 110, 120, 130, 140]\n",
      "{120, 100, 140}\n",
      "3\n"
     ]
    }
   ],
   "source": [
    "xyz = []\n",
    "abc = []\n",
    "for i in range(100,150):\n",
    "    if i % 2 == 0 and i % 5 == 0 and i % 4 ==0:\n",
    "        xyz.append(i)\n",
    "print(xyz)\n",
    "\n",
    "for i in range(100,150):\n",
    "    if i % 2 == 0 and i % 5 == 0:\n",
    "        abc.append(i)\n",
    "print(abc)\n",
    "\n",
    "print(set(abc).intersection(set(xyz)))\n",
    "\n",
    "print(len(set(abc).intersection(set(xyz))))"
   ]
  },
  {
   "cell_type": "code",
   "execution_count": 3,
   "metadata": {},
   "outputs": [
    {
     "name": "stdout",
     "output_type": "stream",
     "text": [
      "2497\n"
     ]
    }
   ],
   "source": [
    "abc = list(range(10, 10000))\n",
    "xyz = list(filter(lambda x: x % 4 == 0, abc))\n",
    "print(xyz.__len__())"
   ]
  },
  {
   "cell_type": "code",
   "execution_count": 4,
   "metadata": {},
   "outputs": [
    {
     "name": "stdout",
     "output_type": "stream",
     "text": [
      "4996\n",
      "4996\n"
     ]
    }
   ],
   "source": [
    "listxyz = []\n",
    "listabc = []\n",
    "for i in range(100, 100001) :\n",
    "    if i%2 == 0 and i%4 == 0 and i%5 == 0 :\n",
    "        listxyz.append(i)\n",
    "for ii in listxyz :\n",
    "    if i%2 == 0 and i%5 == 0 :\n",
    "        listabc.append(ii)\n",
    "print(len(listabc))\n",
    "print(len(listxyz))"
   ]
  },
  {
   "cell_type": "code",
   "execution_count": null,
   "metadata": {},
   "outputs": [],
   "source": []
  }
 ],
 "metadata": {
  "kernelspec": {
   "display_name": "Python 3",
   "language": "python",
   "name": "python3"
  },
  "language_info": {
   "codemirror_mode": {
    "name": "ipython",
    "version": 3
   },
   "file_extension": ".py",
   "mimetype": "text/x-python",
   "name": "python",
   "nbconvert_exporter": "python",
   "pygments_lexer": "ipython3",
   "version": "3.8.3"
  }
 },
 "nbformat": 4,
 "nbformat_minor": 4
}
