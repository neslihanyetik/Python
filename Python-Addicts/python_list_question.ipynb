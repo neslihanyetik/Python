{
 "cells": [
  {
   "cell_type": "markdown",
   "metadata": {},
   "source": [
    "0., 4. ve 5. elemanları çıkardıktan sonra belirtilen listeyi yazdıracak bir Python programı yazın. \n",
    "\n",
    "Örnek Liste : ['Kırmızı', 'Yeşil', 'Beyaz', 'Siyah', 'Pembe', 'Sarı']\n",
    "\n",
    "Beklenen Çıktı : ['Yeşil', 'Beyaz', 'Siyah']\n",
    "\n",
    "Not: 3 satırda yapın."
   ]
  },
  {
   "cell_type": "code",
   "execution_count": 7,
   "metadata": {},
   "outputs": [
    {
     "name": "stdout",
     "output_type": "stream",
     "text": [
      "['Yeşil', 'Beyaz', 'Siyah']\n"
     ]
    }
   ],
   "source": [
    "liste = ['Kırmızı', 'Yeşil', 'Beyaz', 'Siyah', 'Pembe', 'Sarı']\n",
    "a = list(filter(lambda x : x == liste[1] or x == liste[2] or x == liste[3], liste))\n",
    "print(a)"
   ]
  },
  {
   "cell_type": "code",
   "execution_count": 8,
   "metadata": {},
   "outputs": [
    {
     "name": "stdout",
     "output_type": "stream",
     "text": [
      "['Yeşil', 'Beyaz', 'Siyah']\n"
     ]
    }
   ],
   "source": [
    "liste = ['Kırmızı', 'Yeşil', 'Beyaz', 'Siyah', 'Pembe', 'Sarı']\n",
    "\n",
    "del liste[0], liste[3], liste[3]\n",
    "print(liste)"
   ]
  },
  {
   "cell_type": "code",
   "execution_count": 9,
   "metadata": {},
   "outputs": [
    {
     "data": {
      "text/plain": [
       "['Yeşil', 'Beyaz', 'Siyah']"
      ]
     },
     "execution_count": 9,
     "metadata": {},
     "output_type": "execute_result"
    }
   ],
   "source": [
    "def cıkar(lstx):\n",
    "  new_lst =[]\n",
    "  k = 0\n",
    "  while k < len(lstx):\n",
    "    if k != 0 and k != 4 and k != 5:\n",
    "      new_lst.append(lstx[k])\n",
    "    k += 1\n",
    "  return new_lst\n",
    "\n",
    "cıkar(['Kırmızı', 'Yeşil', 'Beyaz', 'Siyah', 'Pembe', 'Sarı'])"
   ]
  },
  {
   "cell_type": "code",
   "execution_count": 10,
   "metadata": {},
   "outputs": [
    {
     "name": "stdout",
     "output_type": "stream",
     "text": [
      "['Yeşil', 'Beyaz', 'Siyah']\n"
     ]
    }
   ],
   "source": [
    "liste = ['Kırmızı', 'Yeşil', 'Beyaz', 'Siyah', 'Pembe', 'Sarı']\n",
    "liste = [x for (i,x) in enumerate(liste) if i not in (0,4,5)]\n",
    "print(liste)"
   ]
  },
  {
   "cell_type": "code",
   "execution_count": 12,
   "metadata": {},
   "outputs": [
    {
     "name": "stdout",
     "output_type": "stream",
     "text": [
      "['Yeşil', 'Beyaz', 'Siyah']\n"
     ]
    }
   ],
   "source": [
    "liste = ['Kırmızı', 'Yeşil', 'Beyaz', 'Siyah', 'Pembe', 'Sarı']\n",
    "del liste[4:6]\n",
    "print (liste [1:5])"
   ]
  },
  {
   "cell_type": "code",
   "execution_count": null,
   "metadata": {},
   "outputs": [],
   "source": []
  }
 ],
 "metadata": {
  "kernelspec": {
   "display_name": "Python 3",
   "language": "python",
   "name": "python3"
  },
  "language_info": {
   "codemirror_mode": {
    "name": "ipython",
    "version": 3
   },
   "file_extension": ".py",
   "mimetype": "text/x-python",
   "name": "python",
   "nbconvert_exporter": "python",
   "pygments_lexer": "ipython3",
   "version": "3.8.3"
  }
 },
 "nbformat": 4,
 "nbformat_minor": 4
}
