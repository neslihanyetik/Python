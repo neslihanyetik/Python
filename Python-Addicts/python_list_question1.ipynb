{
 "cells": [
  {
   "cell_type": "markdown",
   "metadata": {},
   "source": [
    "Verilen bir boş olmayan demetler listesinden her bir demetteki son elemana göre artan düzende sıralanmış bir liste elde etmek için bir Python programı yazın."
   ]
  },
  {
   "cell_type": "code",
   "execution_count": 19,
   "metadata": {},
   "outputs": [
    {
     "name": "stdout",
     "output_type": "stream",
     "text": [
      "[(2, 1), (1, 2), (2, 3), (4, 4), (2, 5)]\n"
     ]
    }
   ],
   "source": [
    "a=[(2, 5), (1, 2), (4, 4), (2, 3), (2, 1)]\n",
    "print([j[::-1] for j in sorted([i[::-1] for i in a])])\n",
    "# b=[]\n",
    "# c=[]\n",
    "# for i in a:\n",
    "#     b.append(i[::-1])\n",
    "# for i in sorted(b):\n",
    "#     c.append(i[::-1])\n",
    "# print(c)"
   ]
  },
  {
   "cell_type": "code",
   "execution_count": 18,
   "metadata": {},
   "outputs": [
    {
     "name": "stdout",
     "output_type": "stream",
     "text": [
      "[(2, 1), (1, 2), (2, 3), (4, 4), (2, 5)]\n"
     ]
    }
   ],
   "source": [
    "liste = [(2, 5), (1, 2), (4, 4), (2, 3), (2, 1)]\n",
    "new = []\n",
    "newest = []\n",
    "for k, v in liste:\n",
    "    new.append((v, k))\n",
    "new.sort()\n",
    "for k, v in new:\n",
    "    newest.append((v, k))\n",
    "print(newest)"
   ]
  },
  {
   "cell_type": "code",
   "execution_count": 20,
   "metadata": {},
   "outputs": [
    {
     "data": {
      "text/plain": [
       "[(2, 1), (1, 2), (2, 3), (4, 4), (2, 5)]"
      ]
     },
     "execution_count": 20,
     "metadata": {},
     "output_type": "execute_result"
    }
   ],
   "source": [
    "liste = [(2, 5), (1, 2), (4, 4), (2, 3), (2, 1)]\n",
    "dictionary = {}\n",
    "sonuc = []\n",
    "for i in liste:\n",
    "    dictionary.update({i[-1] : i})\n",
    "    \n",
    "for i in sorted(dictionary.items(), key = lambda x:(x[0], x[1])):\n",
    "    sonuc.append(i[1])    \n",
    "sonuc\n",
    "\n",
    "\n",
    "\n",
    "\n"
   ]
  },
  {
   "cell_type": "code",
   "execution_count": 21,
   "metadata": {},
   "outputs": [
    {
     "name": "stdout",
     "output_type": "stream",
     "text": [
      "[(2, 1), (1, 2), (2, 3), (4, 4), (2, 5)]\n"
     ]
    }
   ],
   "source": [
    "def sortIteratable(mk):\n",
    "    mk = sorted([i[::-1] for i in a])\n",
    "    mk = [i[::-1] for i in mk]\n",
    "    print(mk)\n",
    "\n",
    "a = [(2, 5), (1, 2), (4, 4), (2, 3), (2, 1)]\n",
    "sortIteratable(a)"
   ]
  },
  {
   "cell_type": "code",
   "execution_count": 22,
   "metadata": {},
   "outputs": [
    {
     "name": "stdout",
     "output_type": "stream",
     "text": [
      "[(2, 1), (1, 2), (2, 3), (4, 4), (2, 5)]\n"
     ]
    }
   ],
   "source": [
    "liste = [(2, 5), (1, 2), (4, 4), (2, 3), (2, 1)]\n",
    "liste.sort(key=lambda x : x[1])\n",
    "print(liste)"
   ]
  },
  {
   "cell_type": "code",
   "execution_count": null,
   "metadata": {},
   "outputs": [],
   "source": []
  }
 ],
 "metadata": {
  "kernelspec": {
   "display_name": "Python 3",
   "language": "python",
   "name": "python3"
  },
  "language_info": {
   "codemirror_mode": {
    "name": "ipython",
    "version": 3
   },
   "file_extension": ".py",
   "mimetype": "text/x-python",
   "name": "python",
   "nbconvert_exporter": "python",
   "pygments_lexer": "ipython3",
   "version": "3.8.3"
  }
 },
 "nbformat": 4,
 "nbformat_minor": 4
}
