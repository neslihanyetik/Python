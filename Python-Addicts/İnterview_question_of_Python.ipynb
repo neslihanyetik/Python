{
 "cells": [
  {
   "cell_type": "markdown",
   "metadata": {},
   "source": [
    "Problem :\n",
    "\n",
    "Given a collection of distinct integers, return all possible permutations.\n",
    "\n",
    "Example:\n",
    "\n",
    "Input:\n",
    "\n",
    "[1,2,3]\n",
    "\n",
    "Output:\n",
    "\n",
    "[\n",
    "  [1,2,3],\n",
    "  \n",
    "  [1,3,2],\n",
    "  \n",
    "  [2,1,3],\n",
    "  \n",
    "  [2,3,1],\n",
    "  \n",
    "  [3,1,2],\n",
    "  \n",
    "  [3,2,1]\n",
    "  \n",
    "]"
   ]
  },
  {
   "cell_type": "code",
   "execution_count": 1,
   "metadata": {},
   "outputs": [
    {
     "name": "stdout",
     "output_type": "stream",
     "text": [
      "[[1, 2, 3], [1, 3, 2], [2, 1, 3], [2, 3, 1], [3, 1, 2], [3, 2, 1]]\n"
     ]
    }
   ],
   "source": [
    "def permütasyon(n):\n",
    "  l=[]\n",
    "  y=0\n",
    "  for i in n:\n",
    "\n",
    "      x=n.index(i)\n",
    "      z=n.index(i)\n",
    "      l.append(n[x:]+n[:y])\n",
    "      z=sorted(n,reverse=True)\n",
    "      l.append(z[x:]+z[:y])\n",
    "      y+=1\n",
    "      k=sorted(l)     \n",
    "  return k\n",
    "print(permütasyon([1,2,3]))"
   ]
  },
  {
   "cell_type": "code",
   "execution_count": 2,
   "metadata": {},
   "outputs": [
    {
     "ename": "NameError",
     "evalue": "name 'ö0' is not defined",
     "output_type": "error",
     "traceback": [
      "\u001b[0;31m---------------------------------------------------------------------------\u001b[0m",
      "\u001b[0;31mNameError\u001b[0m                                 Traceback (most recent call last)",
      "\u001b[0;32m<ipython-input-2-6d0b801d4745>\u001b[0m in \u001b[0;36m<module>\u001b[0;34m\u001b[0m\n\u001b[1;32m      3\u001b[0m \u001b[0ma\u001b[0m\u001b[0;34m,\u001b[0m\u001b[0mb\u001b[0m\u001b[0;34m,\u001b[0m\u001b[0mc\u001b[0m\u001b[0;34m=\u001b[0m\u001b[0mgir_list\u001b[0m\u001b[0;34m[\u001b[0m\u001b[0;36m0\u001b[0m\u001b[0;34m]\u001b[0m\u001b[0;34m,\u001b[0m\u001b[0mgir_list\u001b[0m\u001b[0;34m[\u001b[0m\u001b[0;36m1\u001b[0m\u001b[0;34m]\u001b[0m\u001b[0;34m,\u001b[0m\u001b[0mgir_list\u001b[0m\u001b[0;34m[\u001b[0m\u001b[0;36m2\u001b[0m\u001b[0;34m]\u001b[0m\u001b[0;34m\u001b[0m\u001b[0;34m\u001b[0m\u001b[0m\n\u001b[1;32m      4\u001b[0m \u001b[0mrakam\u001b[0m\u001b[0;34m=\u001b[0m\u001b[0;34m(\u001b[0m\u001b[0mstr\u001b[0m\u001b[0;34m(\u001b[0m\u001b[0ma\u001b[0m\u001b[0;34m)\u001b[0m\u001b[0;34m+\u001b[0m\u001b[0mstr\u001b[0m\u001b[0;34m(\u001b[0m\u001b[0mb\u001b[0m\u001b[0;34m)\u001b[0m\u001b[0;34m+\u001b[0m\u001b[0mstr\u001b[0m\u001b[0;34m(\u001b[0m\u001b[0mc\u001b[0m\u001b[0;34m)\u001b[0m\u001b[0;34m)\u001b[0m\u001b[0;34m\u001b[0m\u001b[0;34m\u001b[0m\u001b[0m\n\u001b[0;32m----> 5\u001b[0;31m \u001b[0;32mfor\u001b[0m \u001b[0mi\u001b[0m \u001b[0;32min\u001b[0m \u001b[0;34m[\u001b[0m\u001b[0mö0\u001b[0m\u001b[0;34m,\u001b[0m\u001b[0;36m1\u001b[0m\u001b[0;34m,\u001b[0m\u001b[0;36m2\u001b[0m\u001b[0;34m]\u001b[0m\u001b[0;34m:\u001b[0m\u001b[0;34m\u001b[0m\u001b[0;34m\u001b[0m\u001b[0m\n\u001b[0m\u001b[1;32m      6\u001b[0m    \u001b[0;32mfor\u001b[0m \u001b[0mj\u001b[0m \u001b[0;32min\u001b[0m \u001b[0;34m[\u001b[0m\u001b[0;36m0\u001b[0m\u001b[0;34m,\u001b[0m\u001b[0;36m1\u001b[0m\u001b[0;34m,\u001b[0m\u001b[0;36m2\u001b[0m\u001b[0;34m]\u001b[0m\u001b[0;34m:\u001b[0m\u001b[0;34m\u001b[0m\u001b[0;34m\u001b[0m\u001b[0m\n\u001b[1;32m      7\u001b[0m       \u001b[0;32mfor\u001b[0m \u001b[0mk\u001b[0m \u001b[0;32min\u001b[0m \u001b[0;34m[\u001b[0m\u001b[0;36m0\u001b[0m\u001b[0;34m,\u001b[0m\u001b[0;36m1\u001b[0m\u001b[0;34m,\u001b[0m\u001b[0;36m2\u001b[0m\u001b[0;34m]\u001b[0m\u001b[0;34m:\u001b[0m\u001b[0;34m\u001b[0m\u001b[0;34m\u001b[0m\u001b[0m\n",
      "\u001b[0;31mNameError\u001b[0m: name 'ö0' is not defined"
     ]
    }
   ],
   "source": [
    "listem=[]\n",
    "gir_list = [1, 2, 3]\n",
    "a,b,c=gir_list[0],gir_list[1],gir_list[2]\n",
    "rakam=(str(a)+str(b)+str(c))\n",
    "for i in [ö0,1,2]:\n",
    "   for j in [0,1,2]:\n",
    "      for k in [0,1,2]:\n",
    "         text=rakam[i]+rakam[j]+rakam[k]\n",
    "         listem.append(text)\n",
    "listek=[]\n",
    "for gas in range(len(listem)-1):listek.append(list(listem[gas]))\n",
    "final_list=[o for o in listek if o.count(str(a))==1 and o.count(str(b))==1]\n",
    "print(final_list)"
   ]
  },
  {
   "cell_type": "code",
   "execution_count": 3,
   "metadata": {},
   "outputs": [
    {
     "name": "stdout",
     "output_type": "stream",
     "text": [
      "[[1, 2, 3], [1, 3, 2], [2, 1, 3], [2, 3, 1], [3, 1, 2], [3, 2, 1]]\n"
     ]
    }
   ],
   "source": [
    "lst = [1,2,3]\n",
    "lst_new = []\n",
    "for i in lst:\n",
    "    for j in lst:\n",
    "        for k in lst:\n",
    "            if i != j and j != k and i != k:\n",
    "                lst_new.append([i,j,k])\n",
    "print(lst_new)"
   ]
  },
  {
   "cell_type": "code",
   "execution_count": 4,
   "metadata": {},
   "outputs": [
    {
     "name": "stdout",
     "output_type": "stream",
     "text": [
      "[[1, 2, 3], [2, 3, 1], [3, 1, 2], [1, 2, 3], [2, 3, 1], [3, 1, 2]]\n"
     ]
    }
   ],
   "source": [
    "list1 = [1, 2, 3]\n",
    "i = 1\n",
    "fact = 1\n",
    "while i < len(list1) + 1 :\n",
    "    fact *= i\n",
    "    i += 1\n",
    "i = 1\n",
    "fact_dict = {}\n",
    "while i < fact + 1:\n",
    "    fact_dict[i] = []\n",
    "    i += 1\n",
    "\n",
    "indx= 0 \n",
    "for i in range(len(list1)):\n",
    "    for k in range(1, fact+1):\n",
    "        fact_dict[k].append(list1[indx])\n",
    "        indx += 1\n",
    "        if indx == len(list1):\n",
    "            indx = 0\n",
    "    indx += 1   \n",
    "       \n",
    "print(list(fact_dict.values()))"
   ]
  },
  {
   "cell_type": "code",
   "execution_count": 5,
   "metadata": {},
   "outputs": [
    {
     "name": "stdout",
     "output_type": "stream",
     "text": [
      "[1, 2, 3, 4]\n",
      "[1, 2, 4, 3]\n",
      "[1, 3, 2, 4]\n",
      "[1, 3, 4, 2]\n",
      "[1, 4, 2, 3]\n",
      "[1, 4, 3, 2]\n",
      "[2, 1, 3, 4]\n",
      "[2, 1, 4, 3]\n",
      "[2, 3, 1, 4]\n",
      "[2, 3, 4, 1]\n",
      "[2, 4, 1, 3]\n",
      "[2, 4, 3, 1]\n",
      "[3, 1, 2, 4]\n",
      "[3, 1, 4, 2]\n",
      "[3, 2, 1, 4]\n",
      "[3, 2, 4, 1]\n",
      "[3, 4, 1, 2]\n",
      "[3, 4, 2, 1]\n",
      "[4, 1, 2, 3]\n",
      "[4, 1, 3, 2]\n",
      "[4, 2, 1, 3]\n",
      "[4, 2, 3, 1]\n",
      "[4, 3, 1, 2]\n",
      "[4, 3, 2, 1]\n"
     ]
    }
   ],
   "source": [
    "import random\n",
    "a = [1, 2, 3, 4]\n",
    "uzunluk = len(a)\n",
    "fact = 1\n",
    "liste = []\n",
    "son = []\n",
    "for i in range(1, uzunluk + 1):\n",
    "    fact *= i\n",
    "while True:\n",
    "    x = random.choice(a)\n",
    "    if x not in liste:\n",
    "        liste.append(x)\n",
    "    if len(liste) == uzunluk:\n",
    "        if liste not in son:\n",
    "            son.append(liste)\n",
    "            liste = []\n",
    "            if len(son) == fact:\n",
    "                break\n",
    "        else:\n",
    "            liste = []\n",
    "son.sort()\n",
    "for i in son:\n",
    "    print(i)"
   ]
  },
  {
   "cell_type": "code",
   "execution_count": 6,
   "metadata": {},
   "outputs": [
    {
     "name": "stdout",
     "output_type": "stream",
     "text": [
      "[1, 2, 3]\n",
      "[1, 3, 2]\n",
      "[2, 1, 3]\n",
      "[2, 3, 1]\n",
      "[3, 2, 1]\n",
      "[3, 1, 2]\n"
     ]
    }
   ],
   "source": [
    "def permütasyon(num, i=0):\n",
    "   if i == len(num):\n",
    "      print (num)\n",
    "   else:\n",
    "      for x in range(i, len(num)):\n",
    "            num[i], num[x] = num[x] ,num[i]\n",
    "            permütasyon(num, i+1)\n",
    "            num[i], num[x] = num[x], num[i]\n",
    "permütasyon([1,2,3])"
   ]
  },
  {
   "cell_type": "code",
   "execution_count": null,
   "metadata": {},
   "outputs": [],
   "source": []
  }
 ],
 "metadata": {
  "kernelspec": {
   "display_name": "Python 3 (ipykernel)",
   "language": "python",
   "name": "python3"
  },
  "language_info": {
   "codemirror_mode": {
    "name": "ipython",
    "version": 3
   },
   "file_extension": ".py",
   "mimetype": "text/x-python",
   "name": "python",
   "nbconvert_exporter": "python",
   "pygments_lexer": "ipython3",
   "version": "3.8.3"
  }
 },
 "nbformat": 4,
 "nbformat_minor": 4
}
