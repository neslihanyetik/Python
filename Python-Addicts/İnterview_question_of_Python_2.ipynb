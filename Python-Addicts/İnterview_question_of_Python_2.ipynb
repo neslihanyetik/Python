{
 "cells": [
  {
   "cell_type": "code",
   "execution_count": null,
   "metadata": {},
   "outputs": [],
   "source": [
    "# input: [('b', 1), ('c', 2), ('x', 3), ('x', 4), ('z', 0)]\n",
    "# output: [('z', 0), ('b', 1), ('c', 2), ('x', 3), ('x', 4)]\n"
   ]
  },
  {
   "cell_type": "code",
   "execution_count": 1,
   "metadata": {},
   "outputs": [
    {
     "name": "stdout",
     "output_type": "stream",
     "text": [
      "[('z', 0), ('b', 1), ('c', 2), ('x', 3), ('x', 4)]\n"
     ]
    }
   ],
   "source": [
    "liste = [('b', 1), ('c', 2), ('x', 3), ('x', 4), ('z', 0)]\n",
    "liste = sorted([i[::-1] for i in liste])\n",
    "liste = [i[::-1] for i in liste]\n",
    "print(liste)"
   ]
  },
  {
   "cell_type": "code",
   "execution_count": 2,
   "metadata": {},
   "outputs": [
    {
     "name": "stdout",
     "output_type": "stream",
     "text": [
      "[('z', 0), ('b', 1), ('c', 2), ('x', 3), ('x', 4)]\n"
     ]
    }
   ],
   "source": [
    "inputs = [('b', 1), ('c', 2), ('x', 3), ('x', 4), ('z', 0)]\n",
    "a = sorted(inputs, key=lambda x: x[1])\n",
    "print(a)"
   ]
  },
  {
   "cell_type": "code",
   "execution_count": 2,
   "metadata": {},
   "outputs": [
    {
     "name": "stdout",
     "output_type": "stream",
     "text": [
      "{1: 'b', 2: 'c', 3: 'x', 4: 'x', 0: 'z'}\n",
      "[('z', 0), ('b', 1), ('c', 2), ('x', 3), ('x', 4)]\n"
     ]
    }
   ],
   "source": [
    "input=[(\"b\",1),(\"c\",2),(\"x\",3),(\"x\",4),(\"z\",0)]\n",
    "dicct={i:j for j,i in input}\n",
    "print(dicct)\n",
    "output=[(dicct[k],k) for k in sorted(dicct.keys())]\n",
    "print(output)"
   ]
  },
  {
   "cell_type": "code",
   "execution_count": null,
   "metadata": {},
   "outputs": [],
   "source": []
  }
 ],
 "metadata": {
  "kernelspec": {
   "display_name": "Python 3",
   "language": "python",
   "name": "python3"
  },
  "language_info": {
   "codemirror_mode": {
    "name": "ipython",
    "version": 3
   },
   "file_extension": ".py",
   "mimetype": "text/x-python",
   "name": "python",
   "nbconvert_exporter": "python",
   "pygments_lexer": "ipython3",
   "version": "3.8.3"
  }
 },
 "nbformat": 4,
 "nbformat_minor": 4
}
