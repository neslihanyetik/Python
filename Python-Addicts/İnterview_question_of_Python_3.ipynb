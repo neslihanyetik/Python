{
 "cells": [
  {
   "cell_type": "markdown",
   "id": "7146abaa-4024-405b-9722-2835f5161058",
   "metadata": {},
   "source": [
    "- Given a mapping of digits to letters (as in a phone number), and a digit string,return all possible letters the number could represent. You can assume each valid number in the mapping is a single digit.\n",
    "- For example if {“2”: [“a”, “b”, “c”], 3: [“d”, “e”, “f”], …} then “23” should return [“ad”, “ae”, “af”, “bd”, “be”, “bf”, “cd”, “ce”, “cf\"]."
   ]
  },
  {
   "cell_type": "code",
   "execution_count": 7,
   "id": "357cfee6-e295-4e66-92d6-af7c222b482e",
   "metadata": {},
   "outputs": [],
   "source": [
    "digit_map = {\n",
    "    '2': 'abc',\n",
    "    '3': 'def',\n",
    "    '4': 'ghi',\n",
    "    '5': 'jkl',\n",
    "    '6': 'mno',\n",
    "    '7': 'pqrs',\n",
    "    '8': 'tuv',\n",
    "    '9': 'wxyz',\n",
    "}\n",
    "\n",
    "def word_numbers(input):\n",
    "  input = str(input)\n",
    "  ret = ['']\n",
    "  for char in input:\n",
    "    letters = digit_map.get(char, '')\n",
    "    ret = [prefix+letter for prefix in ret for letter in letters]\n",
    "  return ret"
   ]
  },
  {
   "cell_type": "code",
   "execution_count": 10,
   "id": "94bf5f7b-c11b-4b97-90c1-070de846add9",
   "metadata": {},
   "outputs": [
    {
     "data": {
      "text/plain": [
       "['dg', 'dh', 'di', 'eg', 'eh', 'ei', 'fg', 'fh', 'fi']"
      ]
     },
     "execution_count": 10,
     "metadata": {},
     "output_type": "execute_result"
    }
   ],
   "source": [
    "word_numbers(34)"
   ]
  },
  {
   "cell_type": "code",
   "execution_count": 11,
   "id": "52fc1301-73b9-487c-b23f-13d79fccfa6d",
   "metadata": {},
   "outputs": [
    {
     "data": {
      "text/plain": [
       "['mga',\n",
       " 'mgb',\n",
       " 'mgc',\n",
       " 'mha',\n",
       " 'mhb',\n",
       " 'mhc',\n",
       " 'mia',\n",
       " 'mib',\n",
       " 'mic',\n",
       " 'nga',\n",
       " 'ngb',\n",
       " 'ngc',\n",
       " 'nha',\n",
       " 'nhb',\n",
       " 'nhc',\n",
       " 'nia',\n",
       " 'nib',\n",
       " 'nic',\n",
       " 'oga',\n",
       " 'ogb',\n",
       " 'ogc',\n",
       " 'oha',\n",
       " 'ohb',\n",
       " 'ohc',\n",
       " 'oia',\n",
       " 'oib',\n",
       " 'oic']"
      ]
     },
     "execution_count": 11,
     "metadata": {},
     "output_type": "execute_result"
    }
   ],
   "source": [
    "def phone_letter(number):\n",
    "    dictt = {2: 'abc', 3: 'def', 4: 'ghi', 5: 'jkl', 6: 'mno', 7: 'pqrs', 8: 'tuv', 9: 'wxyz'}\n",
    "\n",
    "    str_num = str(number)\n",
    "    a = 0\n",
    "    b = 1\n",
    "    first = dictt[int(str_num[a])]\n",
    "    second = dictt[int(str_num[b])]\n",
    "\n",
    "    while True:\n",
    "        res = []\n",
    "        for i in first:\n",
    "            for j in second:\n",
    "                res.append(i+j)\n",
    "        if b == len(str_num) - 1:\n",
    "            break\n",
    "        else:\n",
    "            b += 1\n",
    "            first = res\n",
    "            second = dictt[int(str_num[b])]\n",
    "    return res\n",
    "\n",
    "phone_letter(642)"
   ]
  },
  {
   "cell_type": "code",
   "execution_count": 12,
   "id": "c26f846e-e96e-4835-9e8e-f0cfad73d383",
   "metadata": {},
   "outputs": [
    {
     "data": {
      "text/plain": [
       "['mga',\n",
       " 'mgb',\n",
       " 'mgc',\n",
       " 'mha',\n",
       " 'mhb',\n",
       " 'mhc',\n",
       " 'mia',\n",
       " 'mib',\n",
       " 'mic',\n",
       " 'nga',\n",
       " 'ngb',\n",
       " 'ngc',\n",
       " 'nha',\n",
       " 'nhb',\n",
       " 'nhc',\n",
       " 'nia',\n",
       " 'nib',\n",
       " 'nic',\n",
       " 'oga',\n",
       " 'ogb',\n",
       " 'ogc',\n",
       " 'oha',\n",
       " 'ohb',\n",
       " 'ohc',\n",
       " 'oia',\n",
       " 'oib',\n",
       " 'oic']"
      ]
     },
     "execution_count": 12,
     "metadata": {},
     "output_type": "execute_result"
    }
   ],
   "source": [
    "import random\n",
    "\n",
    "def phone_letter(num):\n",
    "    \n",
    "    dictt = {2: 'abc', 3: 'def', 4: 'ghi', 5: 'jkl', 6: 'mno', 7: 'pqrs', 8: 'tuv', 9: 'wxyz'}\n",
    "    \n",
    "    times = 1\n",
    "    for i in range(len(str(num))):\n",
    "        times *= len(dictt[int(str(num)[i])])\n",
    "    \n",
    "    a = 0\n",
    "    result_list = []\n",
    "    while a < times:\n",
    "        liste = []\n",
    "        for i in range(len(str(num))):\n",
    "            random_chr = random.choice(dictt[int(str(num)[i])])\n",
    "            liste.append(random_chr)\n",
    "        if liste not in result_list:\n",
    "            result_list.insert(len(result_list), liste)\n",
    "            a += 1\n",
    "    result_list = [''.join(i) for i in result_list]\n",
    "    result_list.sort()\n",
    "    return result_list\n",
    "\n",
    "phone_letter(642)"
   ]
  },
  {
   "cell_type": "code",
   "execution_count": null,
   "id": "8b7270ed-55e0-445b-892b-0b51ba9024a8",
   "metadata": {},
   "outputs": [],
   "source": []
  }
 ],
 "metadata": {
  "kernelspec": {
   "display_name": "Python 3 (ipykernel)",
   "language": "python",
   "name": "python3"
  },
  "language_info": {
   "codemirror_mode": {
    "name": "ipython",
    "version": 3
   },
   "file_extension": ".py",
   "mimetype": "text/x-python",
   "name": "python",
   "nbconvert_exporter": "python",
   "pygments_lexer": "ipython3",
   "version": "3.8.3"
  }
 },
 "nbformat": 4,
 "nbformat_minor": 5
}
