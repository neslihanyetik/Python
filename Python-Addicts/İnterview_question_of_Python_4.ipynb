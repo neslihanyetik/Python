{
 "cells": [
  {
   "cell_type": "markdown",
   "id": "2b23884a-78ae-4d6b-8f17-c399d850851a",
   "metadata": {},
   "source": [
    "- This problem was asked by Microsoft.\n",
    "- A number is considered perfect if its digits sum up to exactly 10. Given a positive integer n, return the n-th perfect number.\n",
    "- For example, given 1, you should return 19. Given 2, you should return 28."
   ]
  },
  {
   "cell_type": "code",
   "execution_count": 3,
   "id": "09242c92-9a6f-4cf3-a990-781990497189",
   "metadata": {},
   "outputs": [
    {
     "data": {
      "text/plain": [
       "28"
      ]
     },
     "execution_count": 3,
     "metadata": {},
     "output_type": "execute_result"
    }
   ],
   "source": [
    "def perfect_number(n):\n",
    "    m = 10\n",
    "    result = []\n",
    "    while True:\n",
    "        summ = sum([int(i) for i in str(m)])\n",
    "        if summ == 10:\n",
    "            result.append(m)\n",
    "            if len(result) == n:\n",
    "                break\n",
    "            else:\n",
    "                m += 1\n",
    "        else:\n",
    "            m += 1\n",
    "    return result[-1]\n",
    "\n",
    "perfect_number(2)"
   ]
  },
  {
   "cell_type": "code",
   "execution_count": 2,
   "id": "60b150da-366d-4355-a387-fb002de10769",
   "metadata": {},
   "outputs": [
    {
     "name": "stdout",
     "output_type": "stream",
     "text": [
      "number: 1153\n"
     ]
    }
   ],
   "source": [
    "def perfnum(a):\n",
    "    if sum([int(i)for i in  str(a)])==10:return print(\"perfect number\")\n",
    "    elif (10-sum([int(i)for i in  str(a)]))>0:return print(str(a)+str(10-sum([int(i)for i in  str(a)])) )\n",
    "    elif sum([int(i)for i in  str(a)])>10:\n",
    "        start,count=1,0\n",
    "        while True:\n",
    "            start+=1\n",
    "            if sum([int(i) for i in str(start)]) == 10:count+=1\n",
    "            if count==a:break\n",
    "        return  print(\"number:\",start)\n",
    "    else:return print(\"not perfect\")\n",
    "perfnum(79)"
   ]
  },
  {
   "cell_type": "code",
   "execution_count": 1,
   "id": "ba558e07-8abe-4908-be92-ca667894f70c",
   "metadata": {},
   "outputs": [
    {
     "data": {
      "text/plain": [
       "82"
      ]
     },
     "execution_count": 1,
     "metadata": {},
     "output_type": "execute_result"
    }
   ],
   "source": [
    "def perfect(n):\n",
    "    i=0\n",
    "    count = 0\n",
    "    \n",
    "    while True:\n",
    "        count += 1\n",
    "        sum_digits = 0\n",
    "        for digit in str(count):\n",
    "            sum_digits += int(digit)\n",
    "        if sum_digits == 10:\n",
    "            i = i+1\n",
    "        if i == n:\n",
    "            break\n",
    "    return count       \n",
    "      \n",
    "perfect(8)"
   ]
  },
  {
   "cell_type": "code",
   "execution_count": null,
   "id": "9db47904-6e33-4b54-b40f-7070c70e8e3d",
   "metadata": {},
   "outputs": [],
   "source": []
  }
 ],
 "metadata": {
  "kernelspec": {
   "display_name": "Python 3 (ipykernel)",
   "language": "python",
   "name": "python3"
  },
  "language_info": {
   "codemirror_mode": {
    "name": "ipython",
    "version": 3
   },
   "file_extension": ".py",
   "mimetype": "text/x-python",
   "name": "python",
   "nbconvert_exporter": "python",
   "pygments_lexer": "ipython3",
   "version": "3.8.3"
  }
 },
 "nbformat": 4,
 "nbformat_minor": 5
}
