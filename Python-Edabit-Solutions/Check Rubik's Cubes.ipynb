{
 "cells": [
  {
   "cell_type": "markdown",
   "metadata": {},
   "source": [
    "### Check Rubik's Cubes \n",
    "\n",
    "Matt wants to make Rubik Cubes. These Rubiks should be in the shape of a full cube, and it shouldn't have any missing parts.\n",
    "\n",
    "\n",
    "And he asks his friend to draw some patterns. When his friend gives him these Rubik's Cube patterns, he realizes that some of them are wrong or missing. Help him identify them!\n",
    "\n",
    "The small cubes that make up the Rubik's Cube will be denoted by \"O\".\n",
    "\n",
    "Return \"Full\" if the Rubik Cube is full and no part is missing.\n",
    "Return \"Non-Full\" if the Rubik Cube is non-full and no part is missing.\n",
    "Return \"Missing {number of missing parts}\" if the Rubik Cube has missing parts.\n",
    "\n",
    "### https://edabit.com/challenge/PLdJr4S9LoKHHjDJC\n"
   ]
  },
  {
   "cell_type": "code",
   "execution_count": null,
   "metadata": {},
   "outputs": [],
   "source": [
    "def identfy(*kup):\n",
    "    kup=list(kup)\n",
    "    sayac=0\n",
    "    for i in kup:\n",
    "        sayac+=1\n",
    "    if sayac==3:\n",
    "        toplam=0\n",
    "        for j in kup:\n",
    "             toplam+=len(j)\n",
    "        if toplam==9:\n",
    "            print(\"full\")\n",
    "        else:print(\"missing values\")\n",
    "    else:print(\"non full\")\n",
    "\n",
    "identfy([\"O\", \"O\", \"O\"],[\"O\", \"O\", \"O\"])"
   ]
  },
  {
   "cell_type": "code",
   "execution_count": null,
   "metadata": {},
   "outputs": [],
   "source": [
    "def identify(*cube):\n",
    "    count = 0\n",
    "    for i in cube:\n",
    "        count += len(i)\n",
    "    \n",
    "    if count == len(cube)**2 : return \"Full\"\n",
    "\n",
    "    elif len(cube) < len(max(cube)) and count / len(cube) == len(max(cube)): \n",
    "        return \"Non-Full\"\n",
    "\n",
    "    else:\n",
    "        count2 = []\n",
    "        for j in cube:\n",
    "            if len(j) < len(max(cube)):\n",
    "                count2.append(len(j))\n",
    "        return \"Missing {}\".format(len(max(cube))*len(count2) - sum(count2))"
   ]
  },
  {
   "cell_type": "code",
   "execution_count": null,
   "metadata": {},
   "outputs": [],
   "source": [
    "def identify(*args):\n",
    "    sayac = 0\n",
    "    genislik = 0\n",
    "    for i in args:\n",
    "        for j in i:\n",
    "            sayac += 1\n",
    "        genislik = len(args[-1])\n",
    "    if sayac == (genislik**2):\n",
    "        return \"Full\"\n",
    "    elif sayac == ((genislik**2)-1):\n",
    "        return \"Missing 1\"\n",
    "    else:\n",
    "        return \"Non-Full\"\n",
    "print(identify(  [\"O\", \"O\",\"O\"],\n",
    "  [\"O\", \"O\", \"O\", \"O\"],\n",
    "  [\"O\", \"O\", \"O\",\"O\"],[\"O\", \"O\", \"O\",\"O\"]))"
   ]
  },
  {
   "cell_type": "code",
   "execution_count": null,
   "metadata": {},
   "outputs": [],
   "source": [
    "def rubiks(cube):    \n",
    "    leng_c = len(cube)\n",
    "    full = True\n",
    "    non_full = False\n",
    "    missing = True\n",
    "    full_list = []\n",
    "    toplam = 0\n",
    "    for i in cube:\n",
    "        if len(i) != leng_c:\n",
    "            full = False\n",
    "        full_list.append(len(i))\n",
    "    if len(full_list) == leng_c and len(set(full_list)) > 1:\n",
    "        missing = True   \n",
    "    if full and missing:\n",
    "        return 'Full'\n",
    "    elif not full and missing:\n",
    "        if leng_c == max(full_list):\n",
    "            for i in full_list:\n",
    "                i = leng_c - i\n",
    "                toplam += i\n",
    "            return f'Missing, {toplam}'\n",
    "        else:\n",
    "            if len(set(full_list)) != 1:\n",
    "                for i in full_list:\n",
    "                    i = max(full_list) - i\n",
    "                    toplam += i\n",
    "                return f\"This is a {leng_c}X{max(full_list)} Rubik's cube with {toplam} missing.\"\n",
    "            else:\n",
    "                return 'Non-Full'\n",
    "            \n",
    "print(rubiks((\n",
    "  [\"O\", \"O\", \"O\"],\n",
    "  [\"O\", \"O\", \"O\"],\n",
    "  [\"O\", \"O\", \"O\"]\n",
    ")))"
   ]
  }
 ],
 "metadata": {
  "kernelspec": {
   "display_name": "Python 3",
   "language": "python",
   "name": "python3"
  },
  "language_info": {
   "codemirror_mode": {
    "name": "ipython",
    "version": 3
   },
   "file_extension": ".py",
   "mimetype": "text/x-python",
   "name": "python",
   "nbconvert_exporter": "python",
   "pygments_lexer": "ipython3",
   "version": "3.8.3"
  }
 },
 "nbformat": 4,
 "nbformat_minor": 4
}
