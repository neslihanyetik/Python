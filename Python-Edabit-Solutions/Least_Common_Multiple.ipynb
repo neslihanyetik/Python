{
 "cells": [
  {
   "cell_type": "markdown",
   "metadata": {},
   "source": [
    "### Least Common Multiple\n",
    "\n",
    "Given a list of integers, create a function that will find the smallest positive integer that is evenly divisible by all the members of the list. In other words, find the least common multiple (LCM).\n",
    "\n",
    "Examples\n",
    "lcm([1, 2, 3, 4, 5, 6, 7, 8, 9]) ➞ 2520\n",
    "\n",
    "lcm([5]) ➞ 5\n",
    "\n",
    "lcm([5, 7, 11]) ➞ 385\n",
    "\n",
    "lcm([5, 7, 11, 35, 55, 77]) ➞ 385\n",
    "\n",
    "###  https://edabit.com/challenge/i7TaDyRQQZCY3g2JG"
   ]
  },
  {
   "cell_type": "code",
   "execution_count": 1,
   "metadata": {},
   "outputs": [
    {
     "data": {
      "text/plain": [
       "2520"
      ]
     },
     "execution_count": 1,
     "metadata": {},
     "output_type": "execute_result"
    }
   ],
   "source": [
    "def least_common(liste):\n",
    "    asal_sayilar = []\n",
    "    carpim = 1\n",
    "    for i in range(2, max(liste) + 1):\n",
    "        asal_sayi = []\n",
    "        for j in range(2, i):\n",
    "            if i % j == 0:\n",
    "                asal_sayi.append(j)\n",
    "        if asal_sayi == []:\n",
    "            asal_sayilar.append(i)\n",
    "    for x in asal_sayilar:\n",
    "        sayac = 0\n",
    "        while sayac != len(liste):\n",
    "            sayac = 0\n",
    "            sonuc = []\n",
    "            for y in liste:\n",
    "                if y % x == 0:\n",
    "                    y = y // x\n",
    "                    sonuc.append(y)\n",
    "                else:\n",
    "                    sonuc.append(y)\n",
    "                    sayac += 1\n",
    "            if sayac < len(liste):\n",
    "                carpim *= x\n",
    "            liste = sonuc\n",
    "    return carpim\n",
    "\n",
    "least_common([1, 2, 3, 4, 5, 6, 7, 8, 9])"
   ]
  },
  {
   "cell_type": "code",
   "execution_count": 2,
   "metadata": {},
   "outputs": [
    {
     "data": {
      "text/plain": [
       "2520"
      ]
     },
     "execution_count": 2,
     "metadata": {},
     "output_type": "execute_result"
    }
   ],
   "source": [
    "def to_infinity():\n",
    "    index = 1\n",
    "    while True:\n",
    "        yield index\n",
    "        index += 1\n",
    "\n",
    "def least_common(liste):\n",
    "    for i in to_infinity():\n",
    "        count = 0\n",
    "        for j in liste:\n",
    "            if i % j == 0:\n",
    "                count += 1\n",
    "        if count == len(liste):\n",
    "            result = i\n",
    "            break\n",
    "    return result\n",
    "\n",
    "least_common([1, 2, 3, 4, 5, 6, 7, 8, 9])"
   ]
  },
  {
   "cell_type": "code",
   "execution_count": 3,
   "metadata": {},
   "outputs": [
    {
     "name": "stdout",
     "output_type": "stream",
     "text": [
      "2520\n"
     ]
    }
   ],
   "source": [
    "list1 = [1, 2, 3, 4, 5, 6, 7, 8, 9]\n",
    "def ekok(x):\n",
    "\tmax_value = max(list1)\n",
    "\twhile True:\n",
    "\t\ty = True\n",
    "\t\tfor i in list1:\n",
    "\t\t\tif max_value % i != 0:\n",
    "\t\t\t\ty = False\n",
    "\t\tif y:\n",
    "\t\t\treturn max_value\n",
    "\t\t\tbreak\n",
    "\t\telse:\n",
    "\t\t\tmax_value += 1\n",
    "print(ekok(list1))"
   ]
  }
 ],
 "metadata": {
  "kernelspec": {
   "display_name": "Python 3",
   "language": "python",
   "name": "python3"
  },
  "language_info": {
   "codemirror_mode": {
    "name": "ipython",
    "version": 3
   },
   "file_extension": ".py",
   "mimetype": "text/x-python",
   "name": "python",
   "nbconvert_exporter": "python",
   "pygments_lexer": "ipython3",
   "version": "3.8.3"
  }
 },
 "nbformat": 4,
 "nbformat_minor": 4
}
