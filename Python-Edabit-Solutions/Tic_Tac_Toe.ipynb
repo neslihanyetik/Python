{
 "cells": [
  {
   "cell_type": "markdown",
   "metadata": {},
   "source": [
    "## Tic Tac Toe\n",
    "Given a 3x3 matrix of a completed tic-tac-toe game, create a function that returns whether the game is a win for \"X\", \"O\", or a \"Draw\", where \"X\" and \"O\" represent themselves on the matrix, and \"E\" represents an empty spot.\n",
    "\n",
    "\n",
    "### https://edabit.com/challenge/A8gEGRXqMwRWQJvBf"
   ]
  },
  {
   "cell_type": "code",
   "execution_count": 1,
   "metadata": {},
   "outputs": [
    {
     "data": {
      "text/plain": [
       "'X'"
      ]
     },
     "execution_count": 1,
     "metadata": {},
     "output_type": "execute_result"
    }
   ],
   "source": [
    "def tic_tac_toe(a):\n",
    "    sonuc = 'Draw'\n",
    "    for i in a:\n",
    "        if len(set(i)) == 1:\n",
    "            sonuc = i[0]\n",
    "    if sonuc == 'Draw':\n",
    "        b = map(lambda x, y, z : [x, y, z], *[x for x in a])\n",
    "        for i in list(b):\n",
    "            if len(set(i)) == 1:\n",
    "                sonuc = i[0]\n",
    "    if sonuc == 'Draw':\n",
    "        if a[0][0] == a[1][1] == a[2][2]:\n",
    "            sonuc = a[0][0]\n",
    "        elif a[0][2] == a[1][1] == a[2][0]:\n",
    "            sonuc = a[0][2]\n",
    "    return sonuc\n",
    "\n",
    "tic_tac_toe([\n",
    "  [\"O\", \"X\", \"O\"],\n",
    "  [\"O\", \"O\", \"X\"],\n",
    "  [\"X\", \"X\", \"X\"]\n",
    "])\n"
   ]
  },
  {
   "cell_type": "code",
   "execution_count": null,
   "metadata": {},
   "outputs": [],
   "source": []
  }
 ],
 "metadata": {
  "kernelspec": {
   "display_name": "Python 3",
   "language": "python",
   "name": "python3"
  },
  "language_info": {
   "codemirror_mode": {
    "name": "ipython",
    "version": 3
   },
   "file_extension": ".py",
   "mimetype": "text/x-python",
   "name": "python",
   "nbconvert_exporter": "python",
   "pygments_lexer": "ipython3",
   "version": "3.8.3"
  }
 },
 "nbformat": 4,
 "nbformat_minor": 4
}
