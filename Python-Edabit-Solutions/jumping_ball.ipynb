{
 "cells": [
  {
   "cell_type": "code",
   "execution_count": null,
   "metadata": {},
   "outputs": [],
   "source": [
    "Bir çocuk yüksek bir binanın n. katında topla oynuyor. Bu katın yüksekliği h , bilinmektedir.\n",
    "Topu camdan dışarı atıyor. Top (örneğin), yüksekliğinin üçte ikisine kadar seker (0.66'lık bir sıçrama).\n",
    "Annesi yerden 1.5 metre yükseklikte bir pencereden dışarı bakıyor.\n",
    "Anne, topun penceresinin önünden geçtiğini kaç kez görecek (düştüğü ve sıçradığı zamanlar dahil ?\n",
    "Geçerli bir deney için üç koşulun karşılanması gerekir:\n",
    "Metre cinsinden şamandıra parametresi \"h\" 0'dan büyük olmalıdır\n",
    "Float parametresi \"sıçrama\" 0'dan büyük ve 1'den küçük olmalıdır\n",
    "Float parametresi \"pencere\" h'den küçük olmalıdır.\n",
    "Yukarıdaki üç koşulun tümü yerine getirilirse, pozitif bir tamsayı döndürün, aksi takdirde -1 döndürün.\n",
    "Not:\n",
    "Top sadece, ribaund topunun yüksekliği pencere parametresinden kesinlikle daha büyükse görülebilir .\n",
    "Örnekler:\n",
    "- h = 3, bounce = 0.66, window = 1.5, result is 3\n",
    "\n",
    "- h = 3, bounce = 1, window = 1.5, result is -1 \n",
    "\n",
    "(Condition 2) not fulfilled)."
   ]
  },
  {
   "cell_type": "code",
   "execution_count": null,
   "metadata": {},
   "outputs": [],
   "source": [
    "def jumping_ball(present, bounce):    \n",
    "    window = 1.5\n",
    "    result = 1\n",
    "    if present > 0 and (bounce < 1 and bounce > 0) and window < present:\n",
    "        while (present * bounce) > window:\n",
    "            present = present * bounce\n",
    "            result += 2\n",
    "    else:\n",
    "        if present < 0:\n",
    "            result = 'Condition 1 not fulfilled'\n",
    "        elif (bounce >= 1 or bounce < 0):\n",
    "            result = 'Condition 2 not fulfilled'\n",
    "        elif window >= present:\n",
    "            result = 'Condition 3 not fulfilled'\n",
    "    return result\n",
    "\n",
    "jumping_ball(3, 0.66)"
   ]
  }
 ],
 "metadata": {
  "kernelspec": {
   "display_name": "Python 3",
   "language": "python",
   "name": "python3"
  },
  "language_info": {
   "codemirror_mode": {
    "name": "ipython",
    "version": 3
   },
   "file_extension": ".py",
   "mimetype": "text/x-python",
   "name": "python",
   "nbconvert_exporter": "python",
   "pygments_lexer": "ipython3",
   "version": "3.8.3"
  }
 },
 "nbformat": 4,
 "nbformat_minor": 4
}
