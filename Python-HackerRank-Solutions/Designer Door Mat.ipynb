{
 "cells": [
  {
   "cell_type": "code",
   "execution_count": null,
   "metadata": {},
   "outputs": [],
   "source": [
    "Constraints\n",
    "\n",
    "Output Format\n",
    "\n",
    "Output the design pattern.\n",
    "\n",
    "Sample Input\n",
    "\n",
    "9 27\n",
    "\n",
    "Sample Output\n",
    "\n",
    "------------.|.------------\n",
    "---------.|..|..|.---------\n",
    "------.|..|..|..|..|.------\n",
    "---.|..|..|..|..|..|..|.---\n",
    "----------WELCOME----------\n",
    "---.|..|..|..|..|..|..|.---\n",
    "------.|..|..|..|..|.------\n",
    "---------.|..|..|.---------\n",
    "------------.|.------------"
   ]
  },
  {
   "cell_type": "code",
   "execution_count": null,
   "metadata": {},
   "outputs": [],
   "source": [
    "if __name__ == '__main__':\n",
    "        N, M = map(int, input().split(\" \"))\n",
    "\n",
    "        for i in range(N):\n",
    "                pattern = \".|.\"\n",
    "                if i < (N-1)/2:\n",
    "                        print((pattern * (2*i+1)).center(M, \"-\")) \n",
    "                elif i == (N-1)/2:\n",
    "                        print(\"WELCOME\".center(M, \"-\"))\n",
    "                else:\n",
    "                        print((pattern * (2*(N-1-i)+1)).center(M, \"-\"))"
   ]
  },
  {
   "cell_type": "code",
   "execution_count": null,
   "metadata": {},
   "outputs": [],
   "source": []
  }
 ],
 "metadata": {
  "kernelspec": {
   "display_name": "Python 3",
   "language": "python",
   "name": "python3"
  },
  "language_info": {
   "codemirror_mode": {
    "name": "ipython",
    "version": 3
   },
   "file_extension": ".py",
   "mimetype": "text/x-python",
   "name": "python",
   "nbconvert_exporter": "python",
   "pygments_lexer": "ipython3",
   "version": "3.8.3"
  }
 },
 "nbformat": 4,
 "nbformat_minor": 4
}
