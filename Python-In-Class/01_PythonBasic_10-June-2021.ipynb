{
  "nbformat": 4,
  "nbformat_minor": 0,
  "metadata": {
    "colab": {
      "name": "PythonSession-1.ipynb",
      "provenance": []
    },
    "kernelspec": {
      "name": "python3",
      "display_name": "Python 3"
    },
    "language_info": {
      "name": "python"
    }
  },
  "cells": [
    {
      "cell_type": "code",
      "metadata": {
        "id": "KJi7NrPUEy1m",
        "colab": {
          "base_uri": "https://localhost:8080/"
        },
        "outputId": "d7c7e008-c98a-415a-875d-5b260806f413"
      },
      "source": [
        "print(\"hello\")\n",
        "\n",
        "\n",
        "print(\"joseph instructor\")\n",
        "\n",
        "-\n",
        "-\n",
        "-\n",
        "-\n",
        "-\n",
        "-\n"
      ],
      "execution_count": 1,
      "outputs": [
        {
          "output_type": "stream",
          "text": [
            "hello\n"
          ],
          "name": "stdout"
        }
      ]
    },
    {
      "cell_type": "code",
      "metadata": {
        "colab": {
          "base_uri": "https://localhost:8080/"
        },
        "id": "LNNaY-5KJ8Sf",
        "outputId": "2ff7fa18-e5b6-4ff4-cd93-89a2ba7a3649"
      },
      "source": [
        "print(\"dünya\")"
      ],
      "execution_count": 2,
      "outputs": [
        {
          "output_type": "stream",
          "text": [
            "dünya\n"
          ],
          "name": "stdout"
        }
      ]
    },
    {
      "cell_type": "code",
      "metadata": {
        "colab": {
          "base_uri": "https://localhost:8080/"
        },
        "id": "NXevdPNhKSHp",
        "outputId": "40b635e6-4c2c-44f8-c715-56f22debb7b6"
      },
      "source": [
        "print(\"\"\" bu benim ilk dersim.\n",
        "çok heyecanlıyım\n",
        "karşımda pırlanta gibi insanlar var \n",
        "o yüzden çok iyi hissediyorum\"\"\")"
      ],
      "execution_count": 3,
      "outputs": [
        {
          "output_type": "stream",
          "text": [
            " bu benim ilk dersim.\n",
            "çok heyecanlıyım\n",
            "karşımda pırlanta gibi insanlar var \n",
            "o yüzden çok iyi hissediyorum\n"
          ],
          "name": "stdout"
        }
      ]
    },
    {
      "cell_type": "code",
      "metadata": {
        "colab": {
          "base_uri": "https://localhost:8080/"
        },
        "id": "D85a6IlRMHlW",
        "outputId": "0646af34-1c73-4f11-a58f-ee1540653028"
      },
      "source": [
        "print(\"ben bunu yapamam\")"
      ],
      "execution_count": 5,
      "outputs": [
        {
          "output_type": "stream",
          "text": [
            "ben bunu yapamam\n"
          ],
          "name": "stdout"
        }
      ]
    },
    {
      "cell_type": "code",
      "metadata": {
        "colab": {
          "base_uri": "https://localhost:8080/",
          "height": 131
        },
        "id": "jFz4dYiUMOs2",
        "outputId": "7d99021c-3193-4d26-c233-177314c26f12"
      },
      "source": [
        "print('''')"
      ],
      "execution_count": 6,
      "outputs": [
        {
          "output_type": "error",
          "ename": "SyntaxError",
          "evalue": "ignored",
          "traceback": [
            "\u001b[0;36m  File \u001b[0;32m\"<ipython-input-6-4b777b03c816>\"\u001b[0;36m, line \u001b[0;32m1\u001b[0m\n\u001b[0;31m    print('''')\u001b[0m\n\u001b[0m               ^\u001b[0m\n\u001b[0;31mSyntaxError\u001b[0m\u001b[0;31m:\u001b[0m EOF while scanning triple-quoted string literal\n"
          ]
        }
      ]
    },
    {
      "cell_type": "code",
      "metadata": {
        "colab": {
          "base_uri": "https://localhost:8080/"
        },
        "id": "yaJm5FQwOvXD",
        "outputId": "8541fd4b-1200-4c67-fad8-bbaeb99f8689"
      },
      "source": [
        "print('''''')"
      ],
      "execution_count": 7,
      "outputs": [
        {
          "output_type": "stream",
          "text": [
            "\n"
          ],
          "name": "stdout"
        }
      ]
    },
    {
      "cell_type": "code",
      "metadata": {
        "colab": {
          "base_uri": "https://localhost:8080/",
          "height": 131
        },
        "id": "ZBAjGD_PO9Ea",
        "outputId": "50237041-3d10-4dc9-afc6-fec47b9bf7c0"
      },
      "source": [
        "print(''''''')"
      ],
      "execution_count": 8,
      "outputs": [
        {
          "output_type": "error",
          "ename": "SyntaxError",
          "evalue": "ignored",
          "traceback": [
            "\u001b[0;36m  File \u001b[0;32m\"<ipython-input-8-517c3aa53c1a>\"\u001b[0;36m, line \u001b[0;32m1\u001b[0m\n\u001b[0;31m    print(''''''')\u001b[0m\n\u001b[0m                  ^\u001b[0m\n\u001b[0;31mSyntaxError\u001b[0m\u001b[0;31m:\u001b[0m EOL while scanning string literal\n"
          ]
        }
      ]
    },
    {
      "cell_type": "code",
      "metadata": {
        "id": "22hJJ9_pPLPE"
      },
      "source": [
        "x =                  7\n",
        "y =                  3\n",
        "erzurumlular = \"dadaş\"  # ben buraya istediğimi yazarım. python çatlasın patlasın. oh olsun\n",
        "\n",
        "# burası ikinci comment satırı"
      ],
      "execution_count": 10,
      "outputs": []
    },
    {
      "cell_type": "code",
      "metadata": {
        "id": "GkpiuJ7oR3yq"
      },
      "source": [
        "---\n",
        "---\n",
        "---\n",
        "x = 35\n",
        "# burada \"x\" müşterinin yaşıdır"
      ],
      "execution_count": null,
      "outputs": []
    },
    {
      "cell_type": "code",
      "metadata": {
        "colab": {
          "base_uri": "https://localhost:8080/"
        },
        "id": "k2oWJcG-aeor",
        "outputId": "072b3c6c-a3be-4642-ed31-0d83e33c78ae"
      },
      "source": [
        "3 + 5. # 3 ile 5'in toplama işlemi yapılmıştır."
      ],
      "execution_count": 12,
      "outputs": [
        {
          "output_type": "execute_result",
          "data": {
            "text/plain": [
              "8.0"
            ]
          },
          "metadata": {
            "tags": []
          },
          "execution_count": 12
        }
      ]
    },
    {
      "cell_type": "code",
      "metadata": {
        "colab": {
          "base_uri": "https://localhost:8080/"
        },
        "id": "szLbWMZYarjB",
        "outputId": "d6f86c36-6e06-45a5-b7d7-22cb0487ed93"
      },
      "source": [
        "my_age = 33\n",
        "your_age = 30\n",
        "my_age = your_age\n",
        "\n",
        "print(my_age)"
      ],
      "execution_count": 13,
      "outputs": [
        {
          "output_type": "stream",
          "text": [
            "30\n"
          ],
          "name": "stdout"
        }
      ]
    },
    {
      "cell_type": "code",
      "metadata": {
        "id": "PDEFs1eVf-x9"
      },
      "source": [
        ""
      ],
      "execution_count": null,
      "outputs": []
    }
  ]
}