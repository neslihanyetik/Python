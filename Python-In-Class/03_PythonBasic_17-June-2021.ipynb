{
 "cells": [
  {
   "cell_type": "markdown",
   "id": "406f2981",
   "metadata": {},
   "source": [
    "<img src=\"https://docs.google.com/uc?id=14xeXxFrVRjvOoUYWn_GuyE-v84wVzrqr\" class=\"img-fluid\" alt=\"CLRWY\" width=\"400\" height=\"200\">"
   ]
  },
  {
   "cell_type": "markdown",
   "id": "22263af8",
   "metadata": {},
   "source": [
    "<h1><p style=\"text-align: center; color:darkblue\">Python In-Class, <br>17 June 2021</p><h1>"
   ]
  },
  {
   "cell_type": "code",
   "execution_count": 1,
   "id": "fe8f2a51",
   "metadata": {},
   "outputs": [],
   "source": [
    "değişken = 10"
   ]
  },
  {
   "cell_type": "code",
   "execution_count": 2,
   "id": "4872b475",
   "metadata": {},
   "outputs": [
    {
     "data": {
      "text/plain": [
       "10"
      ]
     },
     "execution_count": 2,
     "metadata": {},
     "output_type": "execute_result"
    }
   ],
   "source": [
    "değişken"
   ]
  },
  {
   "cell_type": "code",
   "execution_count": 4,
   "id": "6d7216c4",
   "metadata": {},
   "outputs": [
    {
     "data": {
      "text/plain": [
       "12"
      ]
     },
     "execution_count": 4,
     "metadata": {},
     "output_type": "execute_result"
    }
   ],
   "source": [
    "değişken = değişken + 1\n",
    "değişken"
   ]
  },
  {
   "cell_type": "code",
   "execution_count": 5,
   "id": "3db064d6",
   "metadata": {},
   "outputs": [],
   "source": [
    "değişken2 = 20"
   ]
  },
  {
   "cell_type": "code",
   "execution_count": 6,
   "id": "64c42bf1",
   "metadata": {},
   "outputs": [
    {
     "data": {
      "text/plain": [
       "21"
      ]
     },
     "execution_count": 6,
     "metadata": {},
     "output_type": "execute_result"
    }
   ],
   "source": [
    "değişken2 += 1\n",
    "değişken2"
   ]
  },
  {
   "cell_type": "code",
   "execution_count": 7,
   "id": "5ee8c9c9",
   "metadata": {},
   "outputs": [],
   "source": [
    "a = 3\n",
    "b = 4"
   ]
  },
  {
   "cell_type": "code",
   "execution_count": 8,
   "id": "97986cc5",
   "metadata": {},
   "outputs": [
    {
     "data": {
      "text/plain": [
       "5.0"
      ]
     },
     "execution_count": 8,
     "metadata": {},
     "output_type": "execute_result"
    }
   ],
   "source": [
    "c = (a ** 2 + b ** 2) ** 0.5\n",
    "c"
   ]
  },
  {
   "cell_type": "code",
   "execution_count": 9,
   "id": "59915766",
   "metadata": {},
   "outputs": [
    {
     "data": {
      "text/plain": [
       "3.0"
      ]
     },
     "execution_count": 9,
     "metadata": {},
     "output_type": "execute_result"
    }
   ],
   "source": [
    "9 ** 0.5"
   ]
  },
  {
   "cell_type": "code",
   "execution_count": 12,
   "id": "5814cccf",
   "metadata": {},
   "outputs": [
    {
     "name": "stdout",
     "output_type": "stream",
     "text": [
      "ali\n",
      "veli\n",
      "deli\n"
     ]
    }
   ],
   "source": [
    "print(\"ali\\nveli\\ndeli\")"
   ]
  },
  {
   "cell_type": "code",
   "execution_count": 22,
   "id": "ce2b5d9d",
   "metadata": {},
   "outputs": [
    {
     "name": "stdout",
     "output_type": "stream",
     "text": [
      "3, 4, 5.0\n"
     ]
    }
   ],
   "source": [
    "print(a, b, c, sep = \", \")"
   ]
  },
  {
   "cell_type": "code",
   "execution_count": 14,
   "id": "487414be",
   "metadata": {},
   "outputs": [
    {
     "name": "stdout",
     "output_type": "stream",
     "text": [
      "12 22 False\n"
     ]
    }
   ],
   "source": [
    "print(12, \"22\", False)"
   ]
  },
  {
   "cell_type": "code",
   "execution_count": 15,
   "id": "bf4f671e",
   "metadata": {},
   "outputs": [
    {
     "name": "stdout",
     "output_type": "stream",
     "text": [
      "12-22-False\n"
     ]
    }
   ],
   "source": [
    "print(12, \"22\", False, sep = \"-\")"
   ]
  },
  {
   "cell_type": "code",
   "execution_count": 16,
   "id": "97be435e",
   "metadata": {},
   "outputs": [
    {
     "name": "stdout",
     "output_type": "stream",
     "text": [
      "12!22!False\n"
     ]
    }
   ],
   "source": [
    "print(12, \"22\", False, sep = \"!\")"
   ]
  },
  {
   "cell_type": "code",
   "execution_count": 24,
   "id": "8ba4ee57",
   "metadata": {},
   "outputs": [
    {
     "name": "stdout",
     "output_type": "stream",
     "text": [
      "hayriye selvi bahar 11\n",
      "clarusway\n"
     ]
    }
   ],
   "source": [
    "print(\"hayriye\", \"selvi\", \"bahar\", 11)\n",
    "print(\"clarusway\")"
   ]
  },
  {
   "cell_type": "code",
   "execution_count": 25,
   "id": "284e31bc",
   "metadata": {},
   "outputs": [
    {
     "name": "stdout",
     "output_type": "stream",
     "text": [
      "hayriye selvi bahar 11-hayri\n"
     ]
    }
   ],
   "source": [
    "print(\"hayriye\", \"selvi\", \"bahar\", 11, end = \"-\")\n",
    "print(\"hayri\")"
   ]
  },
  {
   "cell_type": "code",
   "execution_count": 20,
   "id": "b4a2676b",
   "metadata": {},
   "outputs": [
    {
     "name": "stdout",
     "output_type": "stream",
     "text": [
      "hayriye-hayri\n"
     ]
    }
   ],
   "source": [
    "print(\"hayriye\", end = \"-\")\n",
    "print(\"hayri\")"
   ]
  },
  {
   "cell_type": "code",
   "execution_count": null,
   "id": "d106af1d",
   "metadata": {},
   "outputs": [],
   "source": [
    "# \"bugün günlerden 17/6/2021\""
   ]
  },
  {
   "cell_type": "code",
   "execution_count": 27,
   "id": "d31759bf",
   "metadata": {},
   "outputs": [
    {
     "name": "stdout",
     "output_type": "stream",
     "text": [
      "bugün günlerden 17\u00061\n"
     ]
    }
   ],
   "source": [
    "print(\"bugün günlerden 17\\6\\2021\")"
   ]
  },
  {
   "cell_type": "code",
   "execution_count": 28,
   "id": "3d48f0d5",
   "metadata": {},
   "outputs": [
    {
     "name": "stdout",
     "output_type": "stream",
     "text": [
      "bugün günlerden 17\\6\\2021\n"
     ]
    }
   ],
   "source": [
    "print(\"bugün günlerden 17\\\\6\\\\2021\")"
   ]
  },
  {
   "cell_type": "code",
   "execution_count": 29,
   "id": "e380a62f",
   "metadata": {},
   "outputs": [],
   "source": [
    "benim_textim = \"clarusway \\njoseph instructor\\bvirgina\""
   ]
  },
  {
   "cell_type": "code",
   "execution_count": 30,
   "id": "4310e4a8",
   "metadata": {},
   "outputs": [
    {
     "name": "stdout",
     "output_type": "stream",
     "text": [
      "clarusway \n",
      "joseph instructor\bvirgina\n"
     ]
    }
   ],
   "source": [
    "print(benim_textim)"
   ]
  },
  {
   "cell_type": "code",
   "execution_count": 31,
   "id": "d3c33b59",
   "metadata": {},
   "outputs": [
    {
     "data": {
      "text/plain": [
       "False"
      ]
     },
     "execution_count": 31,
     "metadata": {},
     "output_type": "execute_result"
    }
   ],
   "source": [
    "bool(\"\")"
   ]
  },
  {
   "cell_type": "code",
   "execution_count": 32,
   "id": "7ca608e6",
   "metadata": {},
   "outputs": [
    {
     "data": {
      "text/plain": [
       "False"
      ]
     },
     "execution_count": 32,
     "metadata": {},
     "output_type": "execute_result"
    }
   ],
   "source": [
    "bool(0)"
   ]
  },
  {
   "cell_type": "code",
   "execution_count": 33,
   "id": "e114608f",
   "metadata": {},
   "outputs": [
    {
     "data": {
      "text/plain": [
       "False"
      ]
     },
     "execution_count": 33,
     "metadata": {},
     "output_type": "execute_result"
    }
   ],
   "source": [
    "bool(0.0)"
   ]
  },
  {
   "cell_type": "code",
   "execution_count": 34,
   "id": "f4b7f5c7",
   "metadata": {},
   "outputs": [
    {
     "data": {
      "text/plain": [
       "True"
      ]
     },
     "execution_count": 34,
     "metadata": {},
     "output_type": "execute_result"
    }
   ],
   "source": [
    "bool(\"0\")"
   ]
  },
  {
   "cell_type": "code",
   "execution_count": 35,
   "id": "488e8639",
   "metadata": {},
   "outputs": [
    {
     "data": {
      "text/plain": [
       "True"
      ]
     },
     "execution_count": 35,
     "metadata": {},
     "output_type": "execute_result"
    }
   ],
   "source": [
    "bool(\" \")"
   ]
  },
  {
   "cell_type": "code",
   "execution_count": 36,
   "id": "00b30e3e",
   "metadata": {},
   "outputs": [
    {
     "data": {
      "text/plain": [
       "''"
      ]
     },
     "execution_count": 36,
     "metadata": {},
     "output_type": "execute_result"
    }
   ],
   "source": [
    "\"\" and 0 and False"
   ]
  },
  {
   "cell_type": "code",
   "execution_count": 38,
   "id": "55a24901",
   "metadata": {},
   "outputs": [
    {
     "data": {
      "text/plain": [
       "'False'"
      ]
     },
     "execution_count": 38,
     "metadata": {},
     "output_type": "execute_result"
    }
   ],
   "source": [
    "True and \"True\" and \"False\""
   ]
  },
  {
   "cell_type": "code",
   "execution_count": 39,
   "id": "bd288dc2",
   "metadata": {},
   "outputs": [
    {
     "data": {
      "text/plain": [
       "str"
      ]
     },
     "execution_count": 39,
     "metadata": {},
     "output_type": "execute_result"
    }
   ],
   "source": [
    "type(True and \"True\" and \"False\")"
   ]
  },
  {
   "cell_type": "code",
   "execution_count": null,
   "id": "150bf290",
   "metadata": {},
   "outputs": [],
   "source": [
    "not \"False\""
   ]
  },
  {
   "cell_type": "code",
   "execution_count": 40,
   "id": "9189d52a",
   "metadata": {},
   "outputs": [
    {
     "data": {
      "text/plain": [
       "True"
      ]
     },
     "execution_count": 40,
     "metadata": {},
     "output_type": "execute_result"
    }
   ],
   "source": [
    "not 0"
   ]
  },
  {
   "cell_type": "code",
   "execution_count": 41,
   "id": "0fbab962",
   "metadata": {},
   "outputs": [
    {
     "data": {
      "text/plain": [
       "False"
      ]
     },
     "execution_count": 41,
     "metadata": {},
     "output_type": "execute_result"
    }
   ],
   "source": [
    "not 1"
   ]
  },
  {
   "cell_type": "code",
   "execution_count": 42,
   "id": "c4052aee",
   "metadata": {},
   "outputs": [
    {
     "data": {
      "text/plain": [
       "True"
      ]
     },
     "execution_count": 42,
     "metadata": {},
     "output_type": "execute_result"
    }
   ],
   "source": [
    "not \"\""
   ]
  },
  {
   "cell_type": "code",
   "execution_count": 43,
   "id": "9e1ba053",
   "metadata": {},
   "outputs": [
    {
     "data": {
      "text/plain": [
       "True"
      ]
     },
     "execution_count": 43,
     "metadata": {},
     "output_type": "execute_result"
    }
   ],
   "source": [
    "not []"
   ]
  },
  {
   "cell_type": "code",
   "execution_count": 44,
   "id": "cfd0879d",
   "metadata": {},
   "outputs": [
    {
     "data": {
      "text/plain": [
       "True"
      ]
     },
     "execution_count": 44,
     "metadata": {},
     "output_type": "execute_result"
    }
   ],
   "source": [
    "not {}"
   ]
  },
  {
   "cell_type": "code",
   "execution_count": 45,
   "id": "29d4c989",
   "metadata": {},
   "outputs": [
    {
     "ename": "NameError",
     "evalue": "name 'none' is not defined",
     "output_type": "error",
     "traceback": [
      "\u001b[0;31m---------------------------------------------------------------------------\u001b[0m",
      "\u001b[0;31mNameError\u001b[0m                                 Traceback (most recent call last)",
      "\u001b[0;32m<ipython-input-45-36142693c930>\u001b[0m in \u001b[0;36m<module>\u001b[0;34m\u001b[0m\n\u001b[0;32m----> 1\u001b[0;31m \u001b[0;32mnot\u001b[0m \u001b[0mnone\u001b[0m\u001b[0;34m\u001b[0m\u001b[0;34m\u001b[0m\u001b[0m\n\u001b[0m",
      "\u001b[0;31mNameError\u001b[0m: name 'none' is not defined"
     ]
    }
   ],
   "source": [
    "not none"
   ]
  },
  {
   "cell_type": "code",
   "execution_count": 46,
   "id": "8af3ae75",
   "metadata": {},
   "outputs": [
    {
     "data": {
      "text/plain": [
       "True"
      ]
     },
     "execution_count": 46,
     "metadata": {},
     "output_type": "execute_result"
    }
   ],
   "source": [
    "not None"
   ]
  },
  {
   "cell_type": "code",
   "execution_count": null,
   "id": "71aac202",
   "metadata": {},
   "outputs": [],
   "source": []
  },
  {
   "cell_type": "code",
   "execution_count": null,
   "id": "0a95957a",
   "metadata": {},
   "outputs": [],
   "source": []
  },
  {
   "cell_type": "code",
   "execution_count": null,
   "id": "f1d681f6",
   "metadata": {},
   "outputs": [],
   "source": []
  },
  {
   "cell_type": "code",
   "execution_count": null,
   "id": "bddec042",
   "metadata": {},
   "outputs": [],
   "source": []
  },
  {
   "cell_type": "code",
   "execution_count": null,
   "id": "8f30e195",
   "metadata": {},
   "outputs": [],
   "source": []
  }
 ],
 "metadata": {
  "kernelspec": {
   "display_name": "Python 3",
   "language": "python",
   "name": "python3"
  },
  "language_info": {
   "codemirror_mode": {
    "name": "ipython",
    "version": 3
   },
   "file_extension": ".py",
   "mimetype": "text/x-python",
   "name": "python",
   "nbconvert_exporter": "python",
   "pygments_lexer": "ipython3",
   "version": "3.8.8"
  }
 },
 "nbformat": 4,
 "nbformat_minor": 5
}
