{
 "cells": [
  {
   "cell_type": "markdown",
   "id": "406f2981",
   "metadata": {},
   "source": [
    "<img src=\"https://docs.google.com/uc?id=14xeXxFrVRjvOoUYWn_GuyE-v84wVzrqr\" class=\"img-fluid\" alt=\"CLRWY\" width=\"400\" height=\"200\">"
   ]
  },
  {
   "cell_type": "markdown",
   "id": "22263af8",
   "metadata": {},
   "source": [
    "<h1><p style=\"text-align: center; color:darkblue\">Python In-Class, <br>21 June 2021</p><h1>"
   ]
  },
  {
   "cell_type": "code",
   "execution_count": 2,
   "id": "bddec042",
   "metadata": {},
   "outputs": [
    {
     "name": "stdout",
     "output_type": "stream",
     "text": [
      "Bir sayı giriniz :11\n",
      "Bir sayı daha giriniz :4\n"
     ]
    }
   ],
   "source": [
    "x = input(\"Bir sayı giriniz :\")\n",
    "y = input(\"Bir sayı daha giriniz :\")\n",
    "z = x + y"
   ]
  },
  {
   "cell_type": "code",
   "execution_count": 3,
   "id": "a62a15b9",
   "metadata": {},
   "outputs": [
    {
     "name": "stdout",
     "output_type": "stream",
     "text": [
      "114\n"
     ]
    }
   ],
   "source": [
    "print(z)"
   ]
  },
  {
   "cell_type": "code",
   "execution_count": null,
   "id": "8e1ae279",
   "metadata": {},
   "outputs": [],
   "source": [
    "z = \"11\" + \"4\"  # = \"114\""
   ]
  },
  {
   "cell_type": "code",
   "execution_count": 4,
   "id": "0596ced0",
   "metadata": {},
   "outputs": [
    {
     "data": {
      "text/plain": [
       "0"
      ]
     },
     "execution_count": 4,
     "metadata": {},
     "output_type": "execute_result"
    }
   ],
   "source": [
    "21 % 3"
   ]
  },
  {
   "cell_type": "code",
   "execution_count": 5,
   "id": "d3baf932",
   "metadata": {},
   "outputs": [
    {
     "data": {
      "text/plain": [
       "7"
      ]
     },
     "execution_count": 5,
     "metadata": {},
     "output_type": "execute_result"
    }
   ],
   "source": [
    "21 // 3"
   ]
  },
  {
   "cell_type": "code",
   "execution_count": 6,
   "id": "d0ff7ac9",
   "metadata": {},
   "outputs": [
    {
     "data": {
      "text/plain": [
       "5"
      ]
     },
     "execution_count": 6,
     "metadata": {},
     "output_type": "execute_result"
    }
   ],
   "source": [
    "21 // 4"
   ]
  },
  {
   "cell_type": "code",
   "execution_count": 7,
   "id": "9619c9b6",
   "metadata": {},
   "outputs": [
    {
     "data": {
      "text/plain": [
       "1"
      ]
     },
     "execution_count": 7,
     "metadata": {},
     "output_type": "execute_result"
    }
   ],
   "source": [
    "21 % 4"
   ]
  },
  {
   "cell_type": "markdown",
   "id": "e2011d8e",
   "metadata": {},
   "source": [
    "<img src=\"https://docs.google.com/uc?id=13AS6ODcLqyASHwgDhX8JidRguGeIoun2\" class=\"img-fluid\" alt=\"dolma\" width=\"400\" height=\"400\">"
   ]
  },
  {
   "cell_type": "markdown",
   "id": "e5e72580",
   "metadata": {},
   "source": [
    "- Kadayıf\n",
    "- İç;\n",
    "  - Ceviz,\n",
    "  - Fındık,\n",
    "  - Fıstık.\n",
    "- Şerbet;\n",
    "  - Su,\n",
    "  - Şeker\n",
    "- Yumurta"
   ]
  },
  {
   "cell_type": "code",
   "execution_count": 16,
   "id": "943e5427",
   "metadata": {},
   "outputs": [],
   "source": [
    "kadayıf = True\n",
    "\n",
    "# iç\n",
    "fındık = True\n",
    "fıstık = True\n",
    "ceviz = True\n",
    "\n",
    "# şerbet\n",
    "su = True\n",
    "şeker = True\n",
    "\n",
    "yumurta = True\n",
    "\n",
    "# içecek\n",
    "çay = True\n",
    "limonata = False\n",
    "meşrubat = False"
   ]
  },
  {
   "cell_type": "code",
   "execution_count": 17,
   "id": "e37da5fa",
   "metadata": {},
   "outputs": [
    {
     "data": {
      "text/plain": [
       "True"
      ]
     },
     "execution_count": 17,
     "metadata": {},
     "output_type": "execute_result"
    }
   ],
   "source": [
    "yedim = kadayıf and (fındık or fıstık or ceviz) and (su and şeker) and yumurta and (çay or limonata or meşrubat)\n",
    "yedim"
   ]
  },
  {
   "cell_type": "code",
   "execution_count": 22,
   "id": "99cf7742",
   "metadata": {},
   "outputs": [
    {
     "name": "stdout",
     "output_type": "stream",
     "text": [
      "\"\n"
     ]
    }
   ],
   "source": [
    "print(\"\\\\\"\")"
   ]
  },
  {
   "cell_type": "code",
   "execution_count": 23,
   "id": "eaefae9c",
   "metadata": {},
   "outputs": [],
   "source": [
    "parça = \"clarusway\"[2:5]"
   ]
  },
  {
   "cell_type": "code",
   "execution_count": 24,
   "id": "09f89fa6",
   "metadata": {},
   "outputs": [
    {
     "data": {
      "text/plain": [
       "'aru'"
      ]
     },
     "execution_count": 24,
     "metadata": {},
     "output_type": "execute_result"
    }
   ],
   "source": [
    "parça"
   ]
  },
  {
   "cell_type": "code",
   "execution_count": 25,
   "id": "f963b278",
   "metadata": {},
   "outputs": [],
   "source": [
    "isim = \"clarusway okulu\""
   ]
  },
  {
   "cell_type": "code",
   "execution_count": 26,
   "id": "31741665",
   "metadata": {},
   "outputs": [
    {
     "data": {
      "text/plain": [
       "'rusw'"
      ]
     },
     "execution_count": 26,
     "metadata": {},
     "output_type": "execute_result"
    }
   ],
   "source": [
    "isim[3:7]"
   ]
  },
  {
   "cell_type": "code",
   "execution_count": 27,
   "id": "9167245e",
   "metadata": {},
   "outputs": [
    {
     "data": {
      "text/plain": [
       "' '"
      ]
     },
     "execution_count": 27,
     "metadata": {},
     "output_type": "execute_result"
    }
   ],
   "source": [
    "isim[9]"
   ]
  },
  {
   "cell_type": "code",
   "execution_count": 28,
   "id": "7e0cbf5a",
   "metadata": {},
   "outputs": [
    {
     "data": {
      "text/plain": [
       "'clarusway okulu'"
      ]
     },
     "execution_count": 28,
     "metadata": {},
     "output_type": "execute_result"
    }
   ],
   "source": [
    "isim"
   ]
  },
  {
   "cell_type": "code",
   "execution_count": 29,
   "id": "2c2a8cb8",
   "metadata": {},
   "outputs": [
    {
     "data": {
      "text/plain": [
       "'cauwyouu'"
      ]
     },
     "execution_count": 29,
     "metadata": {},
     "output_type": "execute_result"
    }
   ],
   "source": [
    "isim[::2]"
   ]
  },
  {
   "cell_type": "code",
   "execution_count": 30,
   "id": "30e814cd",
   "metadata": {},
   "outputs": [
    {
     "data": {
      "text/plain": [
       "'clarusway okulu'"
      ]
     },
     "execution_count": 30,
     "metadata": {},
     "output_type": "execute_result"
    }
   ],
   "source": [
    "isim"
   ]
  },
  {
   "cell_type": "code",
   "execution_count": 32,
   "id": "51c7ba9c",
   "metadata": {},
   "outputs": [
    {
     "data": {
      "text/plain": [
       "'clarusway okulu'"
      ]
     },
     "execution_count": 32,
     "metadata": {},
     "output_type": "execute_result"
    }
   ],
   "source": [
    "isim[::]"
   ]
  },
  {
   "cell_type": "code",
   "execution_count": 33,
   "id": "ff91ad36",
   "metadata": {},
   "outputs": [
    {
     "data": {
      "text/plain": [
       "'uluko yawsuralc'"
      ]
     },
     "execution_count": 33,
     "metadata": {},
     "output_type": "execute_result"
    }
   ],
   "source": [
    "isim[::-1]"
   ]
  },
  {
   "cell_type": "code",
   "execution_count": 35,
   "id": "400f26a4",
   "metadata": {},
   "outputs": [
    {
     "data": {
      "text/plain": [
       "'ralc'"
      ]
     },
     "execution_count": 35,
     "metadata": {},
     "output_type": "execute_result"
    }
   ],
   "source": [
    "\"clarus\"[-3::-1]"
   ]
  },
  {
   "cell_type": "code",
   "execution_count": 36,
   "id": "fa825078",
   "metadata": {},
   "outputs": [],
   "source": [
    "hayvan = \"hippopotamus\""
   ]
  },
  {
   "cell_type": "code",
   "execution_count": 37,
   "id": "24dd647d",
   "metadata": {},
   "outputs": [
    {
     "data": {
      "text/plain": [
       "'hippopotamus'"
      ]
     },
     "execution_count": 37,
     "metadata": {},
     "output_type": "execute_result"
    }
   ],
   "source": [
    "hayvan"
   ]
  },
  {
   "cell_type": "code",
   "execution_count": 38,
   "id": "9c4e3839",
   "metadata": {},
   "outputs": [
    {
     "data": {
      "text/plain": [
       "'tam'"
      ]
     },
     "execution_count": 38,
     "metadata": {},
     "output_type": "execute_result"
    }
   ],
   "source": [
    "hayvan[-5:-2]"
   ]
  },
  {
   "cell_type": "code",
   "execution_count": 39,
   "id": "b16333f2",
   "metadata": {},
   "outputs": [
    {
     "data": {
      "text/plain": [
       "''"
      ]
     },
     "execution_count": 39,
     "metadata": {},
     "output_type": "execute_result"
    }
   ],
   "source": [
    "hayvan[-5:-2:-1]"
   ]
  },
  {
   "cell_type": "code",
   "execution_count": 40,
   "id": "b5f5bf28",
   "metadata": {},
   "outputs": [
    {
     "data": {
      "text/plain": [
       "''"
      ]
     },
     "execution_count": 40,
     "metadata": {},
     "output_type": "execute_result"
    }
   ],
   "source": [
    "hayvan[-2:-5]"
   ]
  },
  {
   "cell_type": "code",
   "execution_count": 41,
   "id": "e346d055",
   "metadata": {},
   "outputs": [
    {
     "data": {
      "text/plain": [
       "7"
      ]
     },
     "execution_count": 41,
     "metadata": {},
     "output_type": "execute_result"
    }
   ],
   "source": [
    "var = \"  abc  \"\n",
    "len(var)"
   ]
  },
  {
   "cell_type": "code",
   "execution_count": 43,
   "id": "12dde19e",
   "metadata": {},
   "outputs": [
    {
     "data": {
      "text/plain": [
       "11"
      ]
     },
     "execution_count": 43,
     "metadata": {},
     "output_type": "execute_result"
    }
   ],
   "source": [
    "var1 = \"1.  abc  .1\"\n",
    "len(var1)"
   ]
  },
  {
   "cell_type": "code",
   "execution_count": 45,
   "id": "983f0994",
   "metadata": {},
   "outputs": [
    {
     "data": {
      "text/plain": [
       "'upper-upper-upper-'"
      ]
     },
     "execution_count": 45,
     "metadata": {},
     "output_type": "execute_result"
    }
   ],
   "source": [
    "\"upper-\" * 3"
   ]
  },
  {
   "cell_type": "code",
   "execution_count": 46,
   "id": "4eca0566",
   "metadata": {},
   "outputs": [
    {
     "data": {
      "text/plain": [
       "'upper-upper-upper-'"
      ]
     },
     "execution_count": 46,
     "metadata": {},
     "output_type": "execute_result"
    }
   ],
   "source": [
    "3 * \"upper-\""
   ]
  },
  {
   "cell_type": "code",
   "execution_count": 47,
   "id": "74edbe88",
   "metadata": {},
   "outputs": [
    {
     "name": "stdout",
     "output_type": "stream",
     "text": [
      "u p p e r\n"
     ]
    }
   ],
   "source": [
    "print(* \"upper\")"
   ]
  },
  {
   "cell_type": "code",
   "execution_count": 48,
   "id": "af9fd1f3",
   "metadata": {},
   "outputs": [],
   "source": [
    "s = \"I am angry..\""
   ]
  },
  {
   "cell_type": "code",
   "execution_count": 49,
   "id": "62aa89be",
   "metadata": {},
   "outputs": [
    {
     "name": "stdout",
     "output_type": "stream",
     "text": [
      "I   a m   a n g r y . .\n"
     ]
    }
   ],
   "source": [
    "print(* s)"
   ]
  },
  {
   "cell_type": "code",
   "execution_count": 50,
   "id": "0af07566",
   "metadata": {},
   "outputs": [],
   "source": [
    "s1 = \"clarus\""
   ]
  },
  {
   "cell_type": "code",
   "execution_count": 51,
   "id": "4ce9a0e5",
   "metadata": {},
   "outputs": [
    {
     "data": {
      "text/plain": [
       "'clarusway'"
      ]
     },
     "execution_count": 51,
     "metadata": {},
     "output_type": "execute_result"
    }
   ],
   "source": [
    "s1 += \"way\"\n",
    "s1"
   ]
  },
  {
   "cell_type": "code",
   "execution_count": 52,
   "id": "78ae919f",
   "metadata": {},
   "outputs": [
    {
     "data": {
      "text/plain": [
       "'claruswayclarusway'"
      ]
     },
     "execution_count": 52,
     "metadata": {},
     "output_type": "execute_result"
    }
   ],
   "source": [
    "s1 *= 2  # s1 = s1 * 2\n",
    "s1"
   ]
  },
  {
   "cell_type": "code",
   "execution_count": 53,
   "id": "22f30499",
   "metadata": {},
   "outputs": [
    {
     "data": {
      "text/plain": [
       "'Benim güzel öğrencilerimin maaşallahı var mı acaba?'"
      ]
     },
     "execution_count": 53,
     "metadata": {},
     "output_type": "execute_result"
    }
   ],
   "source": [
    "\"Benim {} öğrencilerimin maaşallahı var {}\".format(\"güzel\", \"mı acaba?\")"
   ]
  },
  {
   "cell_type": "code",
   "execution_count": 54,
   "id": "ece2db98",
   "metadata": {},
   "outputs": [
    {
     "data": {
      "text/plain": [
       "'Benim güzel öğrencilerimin maaşallahı var mı acaba?'"
      ]
     },
     "execution_count": 54,
     "metadata": {},
     "output_type": "execute_result"
    }
   ],
   "source": [
    "x = \"güzel\"\n",
    "y = \"mı acaba?\"\n",
    "\n",
    "\"Benim {} öğrencilerimin maaşallahı var {}\".format(x, y)"
   ]
  },
  {
   "cell_type": "code",
   "execution_count": 55,
   "id": "1961074c",
   "metadata": {},
   "outputs": [],
   "source": [
    "string = \"Benim {} öğrencilerimin maaşallahı var {}\""
   ]
  },
  {
   "cell_type": "code",
   "execution_count": 56,
   "id": "4a8bbd0e",
   "metadata": {},
   "outputs": [
    {
     "data": {
      "text/plain": [
       "'Benim güzel öğrencilerimin maaşallahı var mı acaba?'"
      ]
     },
     "execution_count": 56,
     "metadata": {},
     "output_type": "execute_result"
    }
   ],
   "source": [
    "string.format(x,y)"
   ]
  },
  {
   "cell_type": "code",
   "execution_count": 57,
   "id": "6845864a",
   "metadata": {},
   "outputs": [
    {
     "data": {
      "text/plain": [
       "'Benim mı acaba? öğrencilerimin maaşallahı var güzel'"
      ]
     },
     "execution_count": 57,
     "metadata": {},
     "output_type": "execute_result"
    }
   ],
   "source": [
    "x = \"güzel\"\n",
    "y = \"mı acaba?\"\n",
    "\n",
    "\"Benim {1} öğrencilerimin maaşallahı var {0}\".format(x, y)"
   ]
  },
  {
   "cell_type": "code",
   "execution_count": null,
   "id": "0fe8ed5c",
   "metadata": {},
   "outputs": [],
   "source": []
  }
 ],
 "metadata": {
  "kernelspec": {
   "display_name": "Python 3",
   "language": "python",
   "name": "python3"
  },
  "language_info": {
   "codemirror_mode": {
    "name": "ipython",
    "version": 3
   },
   "file_extension": ".py",
   "mimetype": "text/x-python",
   "name": "python",
   "nbconvert_exporter": "python",
   "pygments_lexer": "ipython3",
   "version": "3.8.8"
  }
 },
 "nbformat": 4,
 "nbformat_minor": 5
}
