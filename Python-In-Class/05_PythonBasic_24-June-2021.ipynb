{
 "cells": [
  {
   "cell_type": "markdown",
   "id": "406f2981",
   "metadata": {},
   "source": [
    "<img src=\"https://docs.google.com/uc?id=14xeXxFrVRjvOoUYWn_GuyE-v84wVzrqr\" class=\"img-fluid\" alt=\"CLRWY\" width=\"400\" height=\"200\">"
   ]
  },
  {
   "cell_type": "markdown",
   "id": "22263af8",
   "metadata": {},
   "source": [
    "<h1><p style=\"text-align: center; color:darkblue\">Python In-Class, <br>24 June 2021</p><h1>"
   ]
  },
  {
   "cell_type": "code",
   "execution_count": 2,
   "id": "0fe8ed5c",
   "metadata": {},
   "outputs": [
    {
     "name": "stdout",
     "output_type": "stream",
     "text": [
      "burada neler oluyor. aman allahım.... 8\n"
     ]
    }
   ],
   "source": [
    "x = 2\n",
    "y = 3\n",
    "print(f\"burada neler oluyor. aman allahım.... {x ** y}\")"
   ]
  },
  {
   "cell_type": "code",
   "execution_count": 3,
   "id": "dcff76eb",
   "metadata": {},
   "outputs": [
    {
     "name": "stdout",
     "output_type": "stream",
     "text": [
      "8\n"
     ]
    }
   ],
   "source": [
    "print(8)"
   ]
  },
  {
   "cell_type": "code",
   "execution_count": 4,
   "id": "0b6f4dae",
   "metadata": {},
   "outputs": [
    {
     "name": "stdout",
     "output_type": "stream",
     "text": [
      "8\n"
     ]
    }
   ],
   "source": [
    "print(\"8\")"
   ]
  },
  {
   "cell_type": "code",
   "execution_count": 5,
   "id": "0f129b20",
   "metadata": {},
   "outputs": [
    {
     "name": "stdout",
     "output_type": "stream",
     "text": [
      "Mariam\n"
     ]
    }
   ],
   "source": [
    "name = \"MARIAM\"\n",
    "print(name.capitalize())"
   ]
  },
  {
   "cell_type": "code",
   "execution_count": 6,
   "id": "023f1a59",
   "metadata": {},
   "outputs": [
    {
     "data": {
      "text/plain": [
       "'Ben Bu Kursta Öğrenci Olmaktan Dolayı Çok Mutluyum. Ben De Joseph Hoca Olarak Sizlere Ders Anlatmaktan Büyük Zevk Alıyorum.'"
      ]
     },
     "execution_count": 6,
     "metadata": {},
     "output_type": "execute_result"
    }
   ],
   "source": [
    "\"ben bu kursta öğrenci olmaktan dolayı \\\n",
    "çok mutluyum. ben de joseph hoca olarak sizlere ders anlatmaktan büyük zevk alıyorum.\"\\\n",
    ".title()"
   ]
  },
  {
   "cell_type": "code",
   "execution_count": 7,
   "id": "462e7c6d",
   "metadata": {},
   "outputs": [
    {
     "data": {
      "text/plain": [
       "'Ahmet'"
      ]
     },
     "execution_count": 7,
     "metadata": {},
     "output_type": "execute_result"
    }
   ],
   "source": [
    "\"ahmet\".title()"
   ]
  },
  {
   "cell_type": "code",
   "execution_count": 8,
   "id": "54136fcd",
   "metadata": {},
   "outputs": [
    {
     "data": {
      "text/plain": [
       "'Clarusway'"
      ]
     },
     "execution_count": 8,
     "metadata": {},
     "output_type": "execute_result"
    }
   ],
   "source": [
    "\"clarusWay\".title()"
   ]
  },
  {
   "cell_type": "code",
   "execution_count": 9,
   "id": "afd99a6f",
   "metadata": {},
   "outputs": [],
   "source": [
    "metin = \"clarusWay\""
   ]
  },
  {
   "cell_type": "code",
   "execution_count": 10,
   "id": "9b3c0588",
   "metadata": {},
   "outputs": [
    {
     "data": {
      "text/plain": [
       "'Clarusway'"
      ]
     },
     "execution_count": 10,
     "metadata": {},
     "output_type": "execute_result"
    }
   ],
   "source": [
    "metin.title()"
   ]
  },
  {
   "cell_type": "code",
   "execution_count": 11,
   "id": "1e6cc9d3",
   "metadata": {},
   "outputs": [
    {
     "data": {
      "text/plain": [
       "'clarusWay'"
      ]
     },
     "execution_count": 11,
     "metadata": {},
     "output_type": "execute_result"
    }
   ],
   "source": [
    "metin"
   ]
  },
  {
   "cell_type": "code",
   "execution_count": 12,
   "id": "8f7c5dbf",
   "metadata": {},
   "outputs": [],
   "source": [
    "metin = metin.title()"
   ]
  },
  {
   "cell_type": "code",
   "execution_count": 13,
   "id": "bf84c954",
   "metadata": {},
   "outputs": [
    {
     "data": {
      "text/plain": [
       "'Clarusway'"
      ]
     },
     "execution_count": 13,
     "metadata": {},
     "output_type": "execute_result"
    }
   ],
   "source": [
    "metin"
   ]
  },
  {
   "cell_type": "code",
   "execution_count": 14,
   "id": "a45b3982",
   "metadata": {},
   "outputs": [],
   "source": [
    "yazı = metin.upper()"
   ]
  },
  {
   "cell_type": "code",
   "execution_count": 15,
   "id": "32e954cd",
   "metadata": {},
   "outputs": [
    {
     "data": {
      "text/plain": [
       "'CLARUSWAY'"
      ]
     },
     "execution_count": 15,
     "metadata": {},
     "output_type": "execute_result"
    }
   ],
   "source": [
    "yazı"
   ]
  },
  {
   "cell_type": "code",
   "execution_count": 16,
   "id": "ec1691ce",
   "metadata": {},
   "outputs": [
    {
     "data": {
      "text/plain": [
       "'Clarusway'"
      ]
     },
     "execution_count": 16,
     "metadata": {},
     "output_type": "execute_result"
    }
   ],
   "source": [
    "metin"
   ]
  },
  {
   "cell_type": "code",
   "execution_count": 17,
   "id": "79d8dc9e",
   "metadata": {},
   "outputs": [
    {
     "data": {
      "text/plain": [
       "'Clarusway'"
      ]
     },
     "execution_count": 17,
     "metadata": {},
     "output_type": "execute_result"
    }
   ],
   "source": [
    "\"clarusway\".capitalize()"
   ]
  },
  {
   "cell_type": "code",
   "execution_count": 18,
   "id": "8823a911",
   "metadata": {},
   "outputs": [],
   "source": [
    "a = \"clarusway\""
   ]
  },
  {
   "cell_type": "code",
   "execution_count": 22,
   "id": "4c875e8e",
   "metadata": {},
   "outputs": [
    {
     "data": {
      "text/plain": [
       "'cluruswuy'"
      ]
     },
     "execution_count": 22,
     "metadata": {},
     "output_type": "execute_result"
    }
   ],
   "source": [
    "a.replace(\"a\", \"u\", 2)"
   ]
  },
  {
   "cell_type": "code",
   "execution_count": null,
   "id": "266361b2",
   "metadata": {},
   "outputs": [],
   "source": [
    "değişken = 16\n",
    "değişken_1 = \"string\"\n",
    "değişken_2 = [11]"
   ]
  },
  {
   "cell_type": "code",
   "execution_count": 26,
   "id": "3ce6cd14",
   "metadata": {},
   "outputs": [],
   "source": [
    "text = 'S0d0me and G0m0re'"
   ]
  },
  {
   "cell_type": "code",
   "execution_count": 24,
   "id": "6459d3fe",
   "metadata": {},
   "outputs": [
    {
     "data": {
      "text/plain": [
       "'Sodome and Gomore'"
      ]
     },
     "execution_count": 24,
     "metadata": {},
     "output_type": "execute_result"
    }
   ],
   "source": [
    "text = text.replace(\"0\", \"o\")\n",
    "text"
   ]
  },
  {
   "cell_type": "code",
   "execution_count": null,
   "id": "e0aad848",
   "metadata": {},
   "outputs": [],
   "source": [
    "text = 'S0d0me and G0m0re'"
   ]
  },
  {
   "cell_type": "code",
   "execution_count": 27,
   "id": "8564bda0",
   "metadata": {},
   "outputs": [
    {
     "data": {
      "text/plain": [
       "'Sodome and G0m0re'"
      ]
     },
     "execution_count": 27,
     "metadata": {},
     "output_type": "execute_result"
    }
   ],
   "source": [
    "text = text.replace(\"0\", \"o\", 2)\n",
    "text"
   ]
  },
  {
   "cell_type": "code",
   "execution_count": 28,
   "id": "3fa81c2c",
   "metadata": {},
   "outputs": [],
   "source": [
    "var = \"\\n\\nahmet\\nmehmet    \""
   ]
  },
  {
   "cell_type": "code",
   "execution_count": 29,
   "id": "3130d98e",
   "metadata": {},
   "outputs": [
    {
     "name": "stdout",
     "output_type": "stream",
     "text": [
      "\n",
      "\n",
      "ahmet\n",
      "mehmet    \n"
     ]
    }
   ],
   "source": [
    "print(var)"
   ]
  },
  {
   "cell_type": "code",
   "execution_count": 30,
   "id": "fea7fb34",
   "metadata": {},
   "outputs": [
    {
     "name": "stdout",
     "output_type": "stream",
     "text": [
      "ahmet\n",
      "mehmet\n"
     ]
    }
   ],
   "source": [
    "print(var.strip())"
   ]
  },
  {
   "cell_type": "code",
   "execution_count": 32,
   "id": "383d1cbe",
   "metadata": {},
   "outputs": [],
   "source": [
    "source_string = \"initeroperability\""
   ]
  },
  {
   "cell_type": "code",
   "execution_count": 33,
   "id": "8b4eaaf4",
   "metadata": {},
   "outputs": [
    {
     "name": "stdout",
     "output_type": "stream",
     "text": [
      "teroperability\n"
     ]
    }
   ],
   "source": [
    "print(source_string.lstrip(\"in\"))"
   ]
  },
  {
   "cell_type": "code",
   "execution_count": 34,
   "id": "d526d89e",
   "metadata": {},
   "outputs": [
    {
     "data": {
      "text/plain": [
       "'iteroperability'"
      ]
     },
     "execution_count": 34,
     "metadata": {},
     "output_type": "execute_result"
    }
   ],
   "source": [
    "source_string.replace(\"in\", \"\")"
   ]
  },
  {
   "cell_type": "code",
   "execution_count": null,
   "id": "5636048f",
   "metadata": {},
   "outputs": [],
   "source": []
  }
 ],
 "metadata": {
  "kernelspec": {
   "display_name": "Python 3",
   "language": "python",
   "name": "python3"
  },
  "language_info": {
   "codemirror_mode": {
    "name": "ipython",
    "version": 3
   },
   "file_extension": ".py",
   "mimetype": "text/x-python",
   "name": "python",
   "nbconvert_exporter": "python",
   "pygments_lexer": "ipython3",
   "version": "3.8.8"
  }
 },
 "nbformat": 4,
 "nbformat_minor": 5
}
