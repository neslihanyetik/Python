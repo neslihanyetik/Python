{
 "cells": [
  {
   "cell_type": "markdown",
   "id": "406f2981",
   "metadata": {},
   "source": [
    "<img src=\"https://docs.google.com/uc?id=14xeXxFrVRjvOoUYWn_GuyE-v84wVzrqr\" class=\"img-fluid\" alt=\"CLRWY\" width=\"400\" height=\"200\">"
   ]
  },
  {
   "cell_type": "markdown",
   "id": "22263af8",
   "metadata": {},
   "source": [
    "<h1><p style=\"text-align: center; color:darkblue\">Python In-Class, <br>8 July 2021</p><h1>"
   ]
  },
  {
   "cell_type": "code",
   "execution_count": 1,
   "id": "6ced783c",
   "metadata": {},
   "outputs": [],
   "source": [
    "first_dict = {1 : \"one\", \"two\" : 2, False : [1, 2, 3]}"
   ]
  },
  {
   "cell_type": "code",
   "execution_count": 2,
   "id": "ae0f3f6b",
   "metadata": {},
   "outputs": [
    {
     "data": {
      "text/plain": [
       "{1: 'one', 'two': 2, False: [1, 2, 3]}"
      ]
     },
     "execution_count": 2,
     "metadata": {},
     "output_type": "execute_result"
    }
   ],
   "source": [
    "first_dict"
   ]
  },
  {
   "cell_type": "code",
   "execution_count": 3,
   "id": "d407694b",
   "metadata": {},
   "outputs": [
    {
     "ename": "TypeError",
     "evalue": "unhashable type: 'list'",
     "output_type": "error",
     "traceback": [
      "\u001b[0;31m---------------------------------------------------------------------------\u001b[0m",
      "\u001b[0;31mTypeError\u001b[0m                                 Traceback (most recent call last)",
      "\u001b[0;32m<ipython-input-3-ee15bfb4138f>\u001b[0m in \u001b[0;36m<module>\u001b[0;34m\u001b[0m\n\u001b[0;32m----> 1\u001b[0;31m \u001b[0msecond_dict\u001b[0m \u001b[0;34m=\u001b[0m \u001b[0;34m{\u001b[0m\u001b[0;34m[\u001b[0m\u001b[0;36m1\u001b[0m\u001b[0;34m,\u001b[0m\u001b[0;36m2\u001b[0m\u001b[0;34m,\u001b[0m\u001b[0;36m3\u001b[0m\u001b[0;34m]\u001b[0m \u001b[0;34m:\u001b[0m \u001b[0;34m\"liste\"\u001b[0m\u001b[0;34m,\u001b[0m \u001b[0;34m\"clarus\"\u001b[0m \u001b[0;34m:\u001b[0m \u001b[0;34m\"the best\"\u001b[0m\u001b[0;34m}\u001b[0m\u001b[0;34m\u001b[0m\u001b[0;34m\u001b[0m\u001b[0m\n\u001b[0m",
      "\u001b[0;31mTypeError\u001b[0m: unhashable type: 'list'"
     ]
    }
   ],
   "source": [
    "second_dict = {[1,2,3] : \"liste\", \"clarus\" : \"the best\"}"
   ]
  },
  {
   "cell_type": "code",
   "execution_count": 4,
   "id": "74d508ae",
   "metadata": {},
   "outputs": [],
   "source": [
    "third_dict = {(1,2,3) : \"liste\", \"clarus\" : \"the best\"}"
   ]
  },
  {
   "cell_type": "code",
   "execution_count": 5,
   "id": "82cb2fa4",
   "metadata": {},
   "outputs": [
    {
     "data": {
      "text/plain": [
       "{(1, 2, 3): 'liste', 'clarus': 'the best'}"
      ]
     },
     "execution_count": 5,
     "metadata": {},
     "output_type": "execute_result"
    }
   ],
   "source": [
    "third_dict"
   ]
  },
  {
   "cell_type": "code",
   "execution_count": 6,
   "id": "9835e5ca",
   "metadata": {},
   "outputs": [
    {
     "ename": "TypeError",
     "evalue": "unhashable type: 'dict'",
     "output_type": "error",
     "traceback": [
      "\u001b[0;31m---------------------------------------------------------------------------\u001b[0m",
      "\u001b[0;31mTypeError\u001b[0m                                 Traceback (most recent call last)",
      "\u001b[0;32m<ipython-input-6-60108c3ead8c>\u001b[0m in \u001b[0;36m<module>\u001b[0;34m\u001b[0m\n\u001b[0;32m----> 1\u001b[0;31m \u001b[0mfourt_dict\u001b[0m \u001b[0;34m=\u001b[0m \u001b[0;34m{\u001b[0m\u001b[0;34m{\u001b[0m\u001b[0;36m1\u001b[0m \u001b[0;34m:\u001b[0m\u001b[0;34m\"bir\"\u001b[0m\u001b[0;34m,\u001b[0m \u001b[0;36m2\u001b[0m \u001b[0;34m:\u001b[0m \u001b[0;34m\"iki\"\u001b[0m\u001b[0;34m}\u001b[0m \u001b[0;34m:\u001b[0m \u001b[0;34m\"sözlük\"\u001b[0m\u001b[0;34m}\u001b[0m\u001b[0;34m\u001b[0m\u001b[0;34m\u001b[0m\u001b[0m\n\u001b[0m",
      "\u001b[0;31mTypeError\u001b[0m: unhashable type: 'dict'"
     ]
    }
   ],
   "source": [
    "fourt_dict = {{1 :\"bir\", 2 : \"iki\"} : \"sözlük\"}"
   ]
  },
  {
   "cell_type": "code",
   "execution_count": 7,
   "id": "eb22e215",
   "metadata": {},
   "outputs": [],
   "source": [
    "fifth_dict = {\"erkekler\" : {\"ahmet\" : 35, \"mehmet\" : 44, \"cevat\" : 17},\\\n",
    "              \"bayanlar\" : {\"selvi\" : 22, \"bahar\" : 55, \"ayşe\" : 3}}"
   ]
  },
  {
   "cell_type": "code",
   "execution_count": 8,
   "id": "a1b6369e",
   "metadata": {},
   "outputs": [
    {
     "data": {
      "text/plain": [
       "{'erkekler': {'ahmet': 35, 'mehmet': 44, 'cevat': 17},\n",
       " 'bayanlar': {'selvi': 22, 'bahar': 55, 'ayşe': 3}}"
      ]
     },
     "execution_count": 8,
     "metadata": {},
     "output_type": "execute_result"
    }
   ],
   "source": [
    "fifth_dict"
   ]
  },
  {
   "cell_type": "code",
   "execution_count": 9,
   "id": "b808ad69",
   "metadata": {},
   "outputs": [],
   "source": [
    "family = {\"name1\" : \"Joseph\",\n",
    "          \"name2\" : \"Bella\",\n",
    "          \"name3\" : \"Aisha\"}"
   ]
  },
  {
   "cell_type": "code",
   "execution_count": 11,
   "id": "91a7bab6",
   "metadata": {},
   "outputs": [
    {
     "name": "stdout",
     "output_type": "stream",
     "text": [
      "{'name1': 'Joseph', 'name2': 'Bella', 'name3': 'Aisha'}\n"
     ]
    }
   ],
   "source": [
    "print(family)"
   ]
  },
  {
   "cell_type": "code",
   "execution_count": 12,
   "id": "eca4858f",
   "metadata": {},
   "outputs": [],
   "source": [
    "family[\"name4\"] = \"Tom\""
   ]
  },
  {
   "cell_type": "code",
   "execution_count": 14,
   "id": "69874a3a",
   "metadata": {},
   "outputs": [
    {
     "data": {
      "text/plain": [
       "{'name1': 'Joseph', 'name2': 'Bella', 'name3': 'Aisha', 'name4': 'Tom'}"
      ]
     },
     "execution_count": 14,
     "metadata": {},
     "output_type": "execute_result"
    }
   ],
   "source": [
    "family"
   ]
  },
  {
   "cell_type": "code",
   "execution_count": 15,
   "id": "8538b104",
   "metadata": {},
   "outputs": [
    {
     "data": {
      "text/plain": [
       "4"
      ]
     },
     "execution_count": 15,
     "metadata": {},
     "output_type": "execute_result"
    }
   ],
   "source": [
    "len(family)"
   ]
  },
  {
   "cell_type": "code",
   "execution_count": 16,
   "id": "49346281",
   "metadata": {},
   "outputs": [
    {
     "data": {
      "text/plain": [
       "{'name1': 'Joseph', 'name2': 'Bella', 'name3': 'Aisha', 'name4': 'Tom'}"
      ]
     },
     "execution_count": 16,
     "metadata": {},
     "output_type": "execute_result"
    }
   ],
   "source": [
    "family = dict(name1 = \"Joseph\", name2 = \"Bella\", name3 = \"Aisha\", name4 = \"Tom\")\n",
    "family"
   ]
  },
  {
   "cell_type": "code",
   "execution_count": 17,
   "id": "82e8fdce",
   "metadata": {},
   "outputs": [],
   "source": [
    "n1, n2, n3 = 5, 15, 20"
   ]
  },
  {
   "cell_type": "code",
   "execution_count": 18,
   "id": "84d37bf6",
   "metadata": {},
   "outputs": [
    {
     "data": {
      "text/plain": [
       "{5: 'beş', 15: 'on', 20: 'yirmi'}"
      ]
     },
     "execution_count": 18,
     "metadata": {},
     "output_type": "execute_result"
    }
   ],
   "source": [
    "numbers = {n1 : \"beş\", n2 : \"on\", n3 : \"yirmi\"}\n",
    "numbers"
   ]
  },
  {
   "cell_type": "code",
   "execution_count": 19,
   "id": "e57bdd7b",
   "metadata": {},
   "outputs": [],
   "source": [
    "sayılar = {\"tek\" : [],\n",
    "           \"cift\" : []}"
   ]
  },
  {
   "cell_type": "code",
   "execution_count": 20,
   "id": "7fe53ccf",
   "metadata": {},
   "outputs": [
    {
     "data": {
      "text/plain": [
       "{'tek': [], 'cift': []}"
      ]
     },
     "execution_count": 20,
     "metadata": {},
     "output_type": "execute_result"
    }
   ],
   "source": [
    "sayılar"
   ]
  },
  {
   "cell_type": "code",
   "execution_count": 21,
   "id": "e56badda",
   "metadata": {},
   "outputs": [
    {
     "data": {
      "text/plain": [
       "[]"
      ]
     },
     "execution_count": 21,
     "metadata": {},
     "output_type": "execute_result"
    }
   ],
   "source": [
    "sayılar[\"tek\"]"
   ]
  },
  {
   "cell_type": "code",
   "execution_count": 22,
   "id": "a1e5e428",
   "metadata": {},
   "outputs": [
    {
     "data": {
      "text/plain": [
       "list"
      ]
     },
     "execution_count": 22,
     "metadata": {},
     "output_type": "execute_result"
    }
   ],
   "source": [
    "type(sayılar[\"tek\"])"
   ]
  },
  {
   "cell_type": "code",
   "execution_count": 23,
   "id": "f80efab9",
   "metadata": {},
   "outputs": [
    {
     "data": {
      "text/plain": [
       "list"
      ]
     },
     "execution_count": 23,
     "metadata": {},
     "output_type": "execute_result"
    }
   ],
   "source": [
    "type(sayılar[\"cift\"])"
   ]
  },
  {
   "cell_type": "code",
   "execution_count": 24,
   "id": "23bf33b1",
   "metadata": {},
   "outputs": [],
   "source": [
    "sayılar[\"tek\"].append(1)"
   ]
  },
  {
   "cell_type": "code",
   "execution_count": 25,
   "id": "2dadc493",
   "metadata": {},
   "outputs": [
    {
     "data": {
      "text/plain": [
       "{'tek': [1], 'cift': []}"
      ]
     },
     "execution_count": 25,
     "metadata": {},
     "output_type": "execute_result"
    }
   ],
   "source": [
    "sayılar"
   ]
  },
  {
   "cell_type": "code",
   "execution_count": 26,
   "id": "c94cda6b",
   "metadata": {},
   "outputs": [],
   "source": [
    "sayılar[\"tek\"].append(3)"
   ]
  },
  {
   "cell_type": "code",
   "execution_count": 27,
   "id": "9064b204",
   "metadata": {},
   "outputs": [],
   "source": [
    "sayılar[\"cift\"].append(2)"
   ]
  },
  {
   "cell_type": "code",
   "execution_count": 28,
   "id": "7ea39199",
   "metadata": {},
   "outputs": [],
   "source": [
    "sayılar[\"cift\"].append(4)"
   ]
  },
  {
   "cell_type": "code",
   "execution_count": 29,
   "id": "570df0cb",
   "metadata": {},
   "outputs": [
    {
     "data": {
      "text/plain": [
       "{'tek': [1, 3], 'cift': [2, 4]}"
      ]
     },
     "execution_count": 29,
     "metadata": {},
     "output_type": "execute_result"
    }
   ],
   "source": [
    "sayılar"
   ]
  },
  {
   "cell_type": "code",
   "execution_count": 32,
   "id": "825ac83e",
   "metadata": {},
   "outputs": [],
   "source": [
    "meyveler = {}.fromkeys([\"elma\", \"armut\"], 0)"
   ]
  },
  {
   "cell_type": "code",
   "execution_count": 33,
   "id": "efd47b06",
   "metadata": {},
   "outputs": [
    {
     "data": {
      "text/plain": [
       "{'elma': 0, 'armut': 0}"
      ]
     },
     "execution_count": 33,
     "metadata": {},
     "output_type": "execute_result"
    }
   ],
   "source": [
    "meyveler"
   ]
  },
  {
   "cell_type": "code",
   "execution_count": null,
   "id": "0ace85d1",
   "metadata": {},
   "outputs": [],
   "source": [
    "# meyveler[\"elma\"] = meyveler[\"elma\"] + 1"
   ]
  },
  {
   "cell_type": "code",
   "execution_count": 34,
   "id": "5b4d9fdc",
   "metadata": {},
   "outputs": [],
   "source": [
    "meyveler[\"elma\"] += 1"
   ]
  },
  {
   "cell_type": "code",
   "execution_count": 35,
   "id": "ebabc1c6",
   "metadata": {},
   "outputs": [
    {
     "data": {
      "text/plain": [
       "{'elma': 1, 'armut': 0}"
      ]
     },
     "execution_count": 35,
     "metadata": {},
     "output_type": "execute_result"
    }
   ],
   "source": [
    "meyveler"
   ]
  },
  {
   "cell_type": "code",
   "execution_count": 38,
   "id": "b6d7de41",
   "metadata": {},
   "outputs": [],
   "source": [
    "meyveler[\"armut\"] += 1"
   ]
  },
  {
   "cell_type": "code",
   "execution_count": 39,
   "id": "7959b327",
   "metadata": {},
   "outputs": [
    {
     "data": {
      "text/plain": [
       "{'elma': 1, 'armut': 3}"
      ]
     },
     "execution_count": 39,
     "metadata": {},
     "output_type": "execute_result"
    }
   ],
   "source": [
    "meyveler"
   ]
  },
  {
   "cell_type": "code",
   "execution_count": 40,
   "id": "614b7bcb",
   "metadata": {},
   "outputs": [],
   "source": [
    "meyveler[\"kiwi\"] = 5"
   ]
  },
  {
   "cell_type": "code",
   "execution_count": 41,
   "id": "0c1ca5ca",
   "metadata": {},
   "outputs": [
    {
     "data": {
      "text/plain": [
       "{'elma': 1, 'armut': 3, 'kiwi': 5}"
      ]
     },
     "execution_count": 41,
     "metadata": {},
     "output_type": "execute_result"
    }
   ],
   "source": [
    "meyveler"
   ]
  },
  {
   "cell_type": "code",
   "execution_count": 42,
   "id": "678d3387",
   "metadata": {},
   "outputs": [],
   "source": [
    "meyveler[\"elma\"] = 9"
   ]
  },
  {
   "cell_type": "code",
   "execution_count": 43,
   "id": "04b7aaa9",
   "metadata": {},
   "outputs": [
    {
     "data": {
      "text/plain": [
       "{'elma': 9, 'armut': 3, 'kiwi': 5}"
      ]
     },
     "execution_count": 43,
     "metadata": {},
     "output_type": "execute_result"
    }
   ],
   "source": [
    "meyveler"
   ]
  },
  {
   "cell_type": "code",
   "execution_count": 44,
   "id": "08dde4ec",
   "metadata": {},
   "outputs": [],
   "source": [
    "cisimler = {\"cisim1\" : \"mouse\", \"cisim2\" : \"havlu\"}"
   ]
  },
  {
   "cell_type": "code",
   "execution_count": 45,
   "id": "7f415227",
   "metadata": {},
   "outputs": [
    {
     "data": {
      "text/plain": [
       "{'cisim1': 'mouse', 'cisim2': 'havlu'}"
      ]
     },
     "execution_count": 45,
     "metadata": {},
     "output_type": "execute_result"
    }
   ],
   "source": [
    "cisimler"
   ]
  },
  {
   "cell_type": "code",
   "execution_count": 46,
   "id": "9dd20770",
   "metadata": {},
   "outputs": [
    {
     "data": {
      "text/plain": [
       "{'cisim1': 'mouse klavye', 'cisim2': 'havlu'}"
      ]
     },
     "execution_count": 46,
     "metadata": {},
     "output_type": "execute_result"
    }
   ],
   "source": [
    "cisimler[\"cisim1\"] += \" klavye\"\n",
    "cisimler"
   ]
  },
  {
   "cell_type": "code",
   "execution_count": 47,
   "id": "20e0b4fe",
   "metadata": {},
   "outputs": [],
   "source": [
    "dict_by_dict = {'animal':'dog',\n",
    "\t\t\t'planet': 'Neptun',\n",
    "\t\t\t'number': 40,\n",
    "\t\t\t'pi':3.14,\n",
    "\t\t\t'is_good': True}"
   ]
  },
  {
   "cell_type": "code",
   "execution_count": 48,
   "id": "5161d258",
   "metadata": {},
   "outputs": [
    {
     "data": {
      "text/plain": [
       "{'animal': 'dog',\n",
       " 'planet': 'Neptun',\n",
       " 'number': 40,\n",
       " 'pi': 3.14,\n",
       " 'is_good': True}"
      ]
     },
     "execution_count": 48,
     "metadata": {},
     "output_type": "execute_result"
    }
   ],
   "source": [
    "dict_by_dict"
   ]
  },
  {
   "cell_type": "code",
   "execution_count": 49,
   "id": "86d72bbf",
   "metadata": {},
   "outputs": [
    {
     "data": {
      "text/plain": [
       "dict_items"
      ]
     },
     "execution_count": 49,
     "metadata": {},
     "output_type": "execute_result"
    }
   ],
   "source": [
    "type(dict_by_dict.items())"
   ]
  },
  {
   "cell_type": "code",
   "execution_count": 50,
   "id": "c6da0ec6",
   "metadata": {},
   "outputs": [
    {
     "data": {
      "text/plain": [
       "dict_keys"
      ]
     },
     "execution_count": 50,
     "metadata": {},
     "output_type": "execute_result"
    }
   ],
   "source": [
    "type(dict_by_dict.keys())"
   ]
  },
  {
   "cell_type": "code",
   "execution_count": 51,
   "id": "36909c01",
   "metadata": {},
   "outputs": [
    {
     "data": {
      "text/plain": [
       "dict_values"
      ]
     },
     "execution_count": 51,
     "metadata": {},
     "output_type": "execute_result"
    }
   ],
   "source": [
    "type(dict_by_dict.values())"
   ]
  },
  {
   "cell_type": "code",
   "execution_count": 52,
   "id": "b3a97696",
   "metadata": {},
   "outputs": [
    {
     "data": {
      "text/plain": [
       "[('animal', 'dog'),\n",
       " ('planet', 'Neptun'),\n",
       " ('number', 40),\n",
       " ('pi', 3.14),\n",
       " ('is_good', True)]"
      ]
     },
     "execution_count": 52,
     "metadata": {},
     "output_type": "execute_result"
    }
   ],
   "source": [
    "list(dict_by_dict.items())"
   ]
  },
  {
   "cell_type": "code",
   "execution_count": 53,
   "id": "9a919908",
   "metadata": {},
   "outputs": [
    {
     "data": {
      "text/plain": [
       "['dog', 'Neptun', 40, 3.14, True]"
      ]
     },
     "execution_count": 53,
     "metadata": {},
     "output_type": "execute_result"
    }
   ],
   "source": [
    "list(dict_by_dict.values())"
   ]
  },
  {
   "cell_type": "code",
   "execution_count": 54,
   "id": "153bbd85",
   "metadata": {},
   "outputs": [
    {
     "data": {
      "text/plain": [
       "{'name1': 'Joseph', 'name2': 'Bella', 'name3': 'Aisha', 'name4': 'Tom'}"
      ]
     },
     "execution_count": 54,
     "metadata": {},
     "output_type": "execute_result"
    }
   ],
   "source": [
    "family"
   ]
  },
  {
   "cell_type": "code",
   "execution_count": 55,
   "id": "014e00d3",
   "metadata": {},
   "outputs": [
    {
     "data": {
      "text/plain": [
       "[('name1', 'Joseph'), ('name2', 'Bella'), ('name3', 'Aisha'), ('name4', 'Tom')]"
      ]
     },
     "execution_count": 55,
     "metadata": {},
     "output_type": "execute_result"
    }
   ],
   "source": [
    "list(family.items())"
   ]
  },
  {
   "cell_type": "code",
   "execution_count": 56,
   "id": "c55381f2",
   "metadata": {},
   "outputs": [
    {
     "data": {
      "text/plain": [
       "['name1', 'name2', 'name3', 'name4']"
      ]
     },
     "execution_count": 56,
     "metadata": {},
     "output_type": "execute_result"
    }
   ],
   "source": [
    "list(family.keys())"
   ]
  },
  {
   "cell_type": "code",
   "execution_count": 57,
   "id": "53133cfa",
   "metadata": {},
   "outputs": [
    {
     "data": {
      "text/plain": [
       "['Joseph', 'Bella', 'Aisha', 'Tom']"
      ]
     },
     "execution_count": 57,
     "metadata": {},
     "output_type": "execute_result"
    }
   ],
   "source": [
    "list(family.values())"
   ]
  },
  {
   "cell_type": "code",
   "execution_count": 58,
   "id": "0d38c51a",
   "metadata": {},
   "outputs": [],
   "source": [
    "dict_by_dict = {'animal':'dog',\n",
    "\t\t\t'planet': 'Neptun',\n",
    "\t\t\t'number': 40,\n",
    "\t\t\t'pi':3.14,\n",
    "\t\t\t'is_good': True}"
   ]
  },
  {
   "cell_type": "code",
   "execution_count": 59,
   "id": "3fef6445",
   "metadata": {},
   "outputs": [],
   "source": [
    "dict_by_dict.update({\"is_bad\" : False, 3 : \"üç\"})"
   ]
  },
  {
   "cell_type": "code",
   "execution_count": 60,
   "id": "d32aa0a9",
   "metadata": {},
   "outputs": [
    {
     "data": {
      "text/plain": [
       "{'animal': 'dog',\n",
       " 'planet': 'Neptun',\n",
       " 'number': 40,\n",
       " 'pi': 3.14,\n",
       " 'is_good': True,\n",
       " 'is_bad': False,\n",
       " 3: 'üç'}"
      ]
     },
     "execution_count": 60,
     "metadata": {},
     "output_type": "execute_result"
    }
   ],
   "source": [
    "dict_by_dict"
   ]
  },
  {
   "cell_type": "code",
   "execution_count": 61,
   "id": "e51bc9d4",
   "metadata": {},
   "outputs": [
    {
     "data": {
      "text/plain": [
       "{'name1': 'Joseph', 'name2': 'Bella', 'name3': 'Aisha', 'name4': 'Tom'}"
      ]
     },
     "execution_count": 61,
     "metadata": {},
     "output_type": "execute_result"
    }
   ],
   "source": [
    "family"
   ]
  },
  {
   "cell_type": "code",
   "execution_count": 62,
   "id": "ce3cb658",
   "metadata": {},
   "outputs": [],
   "source": [
    "del family[\"name2\"]\n",
    "del family[\"name3\"]"
   ]
  },
  {
   "cell_type": "code",
   "execution_count": 63,
   "id": "0d960ea5",
   "metadata": {},
   "outputs": [
    {
     "data": {
      "text/plain": [
       "{'name1': 'Joseph', 'name4': 'Tom'}"
      ]
     },
     "execution_count": 63,
     "metadata": {},
     "output_type": "execute_result"
    }
   ],
   "source": [
    "family"
   ]
  },
  {
   "cell_type": "code",
   "execution_count": 64,
   "id": "6f78043a",
   "metadata": {},
   "outputs": [],
   "source": [
    "del family[\"name1\"], family[\"name4\"]"
   ]
  },
  {
   "cell_type": "code",
   "execution_count": 65,
   "id": "67bfaab8",
   "metadata": {},
   "outputs": [
    {
     "data": {
      "text/plain": [
       "{}"
      ]
     },
     "execution_count": 65,
     "metadata": {},
     "output_type": "execute_result"
    }
   ],
   "source": [
    "family"
   ]
  },
  {
   "cell_type": "code",
   "execution_count": 66,
   "id": "3350273f",
   "metadata": {},
   "outputs": [
    {
     "data": {
      "text/plain": [
       "False"
      ]
     },
     "execution_count": 66,
     "metadata": {},
     "output_type": "execute_result"
    }
   ],
   "source": [
    "clarusway = [\"ali\", \"veli\", \"deli\"]\n",
    "\n",
    "\"zeka küpü\" in clarusway"
   ]
  },
  {
   "cell_type": "code",
   "execution_count": 67,
   "id": "170469a8",
   "metadata": {},
   "outputs": [
    {
     "data": {
      "text/plain": [
       "True"
      ]
     },
     "execution_count": 67,
     "metadata": {},
     "output_type": "execute_result"
    }
   ],
   "source": [
    "\"deli\" in clarusway"
   ]
  },
  {
   "cell_type": "code",
   "execution_count": 68,
   "id": "0a4f8e49",
   "metadata": {},
   "outputs": [
    {
     "data": {
      "text/plain": [
       "{'animal': 'dog',\n",
       " 'planet': 'Neptun',\n",
       " 'number': 40,\n",
       " 'pi': 3.14,\n",
       " 'is_good': True,\n",
       " 'is_bad': False,\n",
       " 3: 'üç'}"
      ]
     },
     "execution_count": 68,
     "metadata": {},
     "output_type": "execute_result"
    }
   ],
   "source": [
    "dict_by_dict"
   ]
  },
  {
   "cell_type": "code",
   "execution_count": 69,
   "id": "aae18066",
   "metadata": {},
   "outputs": [
    {
     "data": {
      "text/plain": [
       "False"
      ]
     },
     "execution_count": 69,
     "metadata": {},
     "output_type": "execute_result"
    }
   ],
   "source": [
    "\"dog\" in dict_by_dict"
   ]
  },
  {
   "cell_type": "code",
   "execution_count": 70,
   "id": "17927876",
   "metadata": {},
   "outputs": [
    {
     "data": {
      "text/plain": [
       "True"
      ]
     },
     "execution_count": 70,
     "metadata": {},
     "output_type": "execute_result"
    }
   ],
   "source": [
    "\"dog\" in dict_by_dict.values()"
   ]
  },
  {
   "cell_type": "code",
   "execution_count": 71,
   "id": "bdf035e7",
   "metadata": {},
   "outputs": [
    {
     "data": {
      "text/plain": [
       "True"
      ]
     },
     "execution_count": 71,
     "metadata": {},
     "output_type": "execute_result"
    }
   ],
   "source": [
    "\"pi\" in dict_by_dict"
   ]
  },
  {
   "cell_type": "code",
   "execution_count": 72,
   "id": "aba4882e",
   "metadata": {},
   "outputs": [
    {
     "data": {
      "text/plain": [
       "True"
      ]
     },
     "execution_count": 72,
     "metadata": {},
     "output_type": "execute_result"
    }
   ],
   "source": [
    "\"dog\" not in dict_by_dict"
   ]
  },
  {
   "cell_type": "code",
   "execution_count": 73,
   "id": "4509e621",
   "metadata": {},
   "outputs": [],
   "source": [
    "school_records={\n",
    "\t'personal_info':\n",
    "\t\t{'kid':{'tom':{'class':'intermediate', 'age':10},\n",
    "\t\t\t'sue':{'class':'elemantary', 'age':8}\n",
    "\t\t\t},\n",
    "\t\t'teen':{'joseph':{'class':'college', 'age':19},\n",
    "\t\t\t'marry':{'class':'high school', 'age':16}\n",
    "\t\t\t},\n",
    "\t\t},\n",
    "\t'grades_info':\n",
    "\t\t{'kid':{'tom':{'math':88, 'speech':69},\n",
    "\t\t\t'sue':{'math':90, 'speech':81}\n",
    "\t\t\t},\n",
    "\t\t'teen':{'joseph':{'coding':80, 'math':89},\n",
    "\t\t\t'marry':{'coding':70, 'math':96}\n",
    "\t\t\t},\n",
    "\t\t}\n",
    "}\n"
   ]
  },
  {
   "cell_type": "code",
   "execution_count": 74,
   "id": "e7206edb",
   "metadata": {},
   "outputs": [
    {
     "data": {
      "text/plain": [
       "{'personal_info': {'kid': {'tom': {'class': 'intermediate', 'age': 10},\n",
       "   'sue': {'class': 'elemantary', 'age': 8}},\n",
       "  'teen': {'joseph': {'class': 'college', 'age': 19},\n",
       "   'marry': {'class': 'high school', 'age': 16}}},\n",
       " 'grades_info': {'kid': {'tom': {'math': 88, 'speech': 69},\n",
       "   'sue': {'math': 90, 'speech': 81}},\n",
       "  'teen': {'joseph': {'coding': 80, 'math': 89},\n",
       "   'marry': {'coding': 70, 'math': 96}}}}"
      ]
     },
     "execution_count": 74,
     "metadata": {},
     "output_type": "execute_result"
    }
   ],
   "source": [
    "len(school_records)"
   ]
  },
  {
   "cell_type": "code",
   "execution_count": 75,
   "id": "758bdf5a",
   "metadata": {},
   "outputs": [
    {
     "data": {
      "text/plain": [
       "{'kid': {'tom': {'class': 'intermediate', 'age': 10},\n",
       "  'sue': {'class': 'elemantary', 'age': 8}},\n",
       " 'teen': {'joseph': {'class': 'college', 'age': 19},\n",
       "  'marry': {'class': 'high school', 'age': 16}}}"
      ]
     },
     "execution_count": 75,
     "metadata": {},
     "output_type": "execute_result"
    }
   ],
   "source": [
    "school_records[\"personal_info\"]"
   ]
  },
  {
   "cell_type": "code",
   "execution_count": 76,
   "id": "e5eeb75b",
   "metadata": {},
   "outputs": [
    {
     "data": {
      "text/plain": [
       "dict_keys(['kid', 'teen'])"
      ]
     },
     "execution_count": 76,
     "metadata": {},
     "output_type": "execute_result"
    }
   ],
   "source": [
    "school_records[\"personal_info\"].keys()"
   ]
  },
  {
   "cell_type": "code",
   "execution_count": 77,
   "id": "a6f780ef",
   "metadata": {},
   "outputs": [
    {
     "data": {
      "text/plain": [
       "{'joseph': {'class': 'college', 'age': 19},\n",
       " 'marry': {'class': 'high school', 'age': 16}}"
      ]
     },
     "execution_count": 77,
     "metadata": {},
     "output_type": "execute_result"
    }
   ],
   "source": [
    "school_records[\"personal_info\"][\"teen\"]"
   ]
  },
  {
   "cell_type": "code",
   "execution_count": 78,
   "id": "b4b197dc",
   "metadata": {},
   "outputs": [
    {
     "data": {
      "text/plain": [
       "dict_keys(['joseph', 'marry'])"
      ]
     },
     "execution_count": 78,
     "metadata": {},
     "output_type": "execute_result"
    }
   ],
   "source": [
    "school_records[\"personal_info\"][\"teen\"].keys()"
   ]
  },
  {
   "cell_type": "code",
   "execution_count": 79,
   "id": "b1553ec0",
   "metadata": {},
   "outputs": [
    {
     "data": {
      "text/plain": [
       "{'class': 'high school', 'age': 16}"
      ]
     },
     "execution_count": 79,
     "metadata": {},
     "output_type": "execute_result"
    }
   ],
   "source": [
    "school_records[\"personal_info\"][\"teen\"][\"marry\"]"
   ]
  },
  {
   "cell_type": "code",
   "execution_count": 80,
   "id": "1d112ac2",
   "metadata": {},
   "outputs": [
    {
     "data": {
      "text/plain": [
       "dict_keys(['class', 'age'])"
      ]
     },
     "execution_count": 80,
     "metadata": {},
     "output_type": "execute_result"
    }
   ],
   "source": [
    "school_records[\"personal_info\"][\"teen\"][\"marry\"].keys()"
   ]
  },
  {
   "cell_type": "code",
   "execution_count": 81,
   "id": "c7715476",
   "metadata": {},
   "outputs": [
    {
     "data": {
      "text/plain": [
       "16"
      ]
     },
     "execution_count": 81,
     "metadata": {},
     "output_type": "execute_result"
    }
   ],
   "source": [
    "school_records[\"personal_info\"][\"teen\"][\"marry\"][\"age\"]"
   ]
  },
  {
   "cell_type": "code",
   "execution_count": 82,
   "id": "07c3272b",
   "metadata": {},
   "outputs": [],
   "source": [
    "para = 1000"
   ]
  },
  {
   "cell_type": "code",
   "execution_count": 83,
   "id": "ab07a849",
   "metadata": {},
   "outputs": [],
   "source": [
    "para = para + para * 0.07 # pazartesi"
   ]
  },
  {
   "cell_type": "code",
   "execution_count": 84,
   "id": "d20d19fc",
   "metadata": {},
   "outputs": [
    {
     "data": {
      "text/plain": [
       "1070.0"
      ]
     },
     "execution_count": 84,
     "metadata": {},
     "output_type": "execute_result"
    }
   ],
   "source": [
    "para"
   ]
  },
  {
   "cell_type": "code",
   "execution_count": 85,
   "id": "aedef181",
   "metadata": {},
   "outputs": [],
   "source": [
    "para = para + para * 0.07 # salı"
   ]
  },
  {
   "cell_type": "code",
   "execution_count": 86,
   "id": "c3c0e28c",
   "metadata": {},
   "outputs": [
    {
     "data": {
      "text/plain": [
       "1144.9"
      ]
     },
     "execution_count": 86,
     "metadata": {},
     "output_type": "execute_result"
    }
   ],
   "source": [
    "para"
   ]
  },
  {
   "cell_type": "code",
   "execution_count": 87,
   "id": "4f311fd0",
   "metadata": {},
   "outputs": [
    {
     "data": {
      "text/plain": [
       "1605.78147647843"
      ]
     },
     "execution_count": 87,
     "metadata": {},
     "output_type": "execute_result"
    }
   ],
   "source": [
    "para = para + para * 0.07 # çarşamba\n",
    "para = para + para * 0.07 # perşembe\n",
    "para = para + para * 0.07 # cuma\n",
    "para = para + para * 0.07 # cumartesi\n",
    "para = para + para * 0.07 # pazar\n",
    "para"
   ]
  },
  {
   "cell_type": "code",
   "execution_count": 88,
   "id": "667563a4",
   "metadata": {},
   "outputs": [],
   "source": [
    "para = 1000"
   ]
  },
  {
   "cell_type": "code",
   "execution_count": 90,
   "id": "153d8f0d",
   "metadata": {},
   "outputs": [
    {
     "data": {
      "text/plain": [
       "1605.7814764784307"
      ]
     },
     "execution_count": 90,
     "metadata": {},
     "output_type": "execute_result"
    }
   ],
   "source": [
    "para = para * 1.07**7\n",
    "para"
   ]
  },
  {
   "cell_type": "code",
   "execution_count": 94,
   "id": "0279782d",
   "metadata": {},
   "outputs": [],
   "source": [
    "samanlık = [\"yumurta\", \"saman\", \"inek\", \"iğne\", \"tavuk\", \"yaba\", \"eşarp\", \"iğne\"]"
   ]
  },
  {
   "cell_type": "code",
   "execution_count": 95,
   "id": "a01ea272",
   "metadata": {},
   "outputs": [
    {
     "name": "stdout",
     "output_type": "stream",
     "text": [
      "iğne 3 numaralı indextedir.\n"
     ]
    }
   ],
   "source": [
    "print(f\"iğne {samanlık.index('iğne')} numaralı indextedir.\")"
   ]
  },
  {
   "cell_type": "code",
   "execution_count": null,
   "id": "8fedd03c",
   "metadata": {},
   "outputs": [],
   "source": []
  },
  {
   "cell_type": "code",
   "execution_count": null,
   "id": "a3e3453c",
   "metadata": {},
   "outputs": [],
   "source": []
  },
  {
   "cell_type": "code",
   "execution_count": null,
   "id": "64f0cb27",
   "metadata": {},
   "outputs": [],
   "source": []
  }
 ],
 "metadata": {
  "kernelspec": {
   "display_name": "Python 3",
   "language": "python",
   "name": "python3"
  },
  "language_info": {
   "codemirror_mode": {
    "name": "ipython",
    "version": 3
   },
   "file_extension": ".py",
   "mimetype": "text/x-python",
   "name": "python",
   "nbconvert_exporter": "python",
   "pygments_lexer": "ipython3",
   "version": "3.8.8"
  }
 },
 "nbformat": 4,
 "nbformat_minor": 5
}
