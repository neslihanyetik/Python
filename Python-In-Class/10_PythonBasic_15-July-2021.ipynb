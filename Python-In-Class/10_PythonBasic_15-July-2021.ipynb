{
 "cells": [
  {
   "cell_type": "markdown",
   "id": "406f2981",
   "metadata": {},
   "source": [
    "<img src=\"https://docs.google.com/uc?id=14xeXxFrVRjvOoUYWn_GuyE-v84wVzrqr\" class=\"img-fluid\" alt=\"CLRWY\" width=\"400\" height=\"200\">"
   ]
  },
  {
   "cell_type": "markdown",
   "id": "22263af8",
   "metadata": {},
   "source": [
    "<h1><p style=\"text-align: center; color:darkblue\">Python In-Class, <br>15 July 2021</p><h1>"
   ]
  },
  {
   "cell_type": "code",
   "execution_count": 1,
   "id": "ee3d91f1",
   "metadata": {},
   "outputs": [
    {
     "ename": "SyntaxError",
     "evalue": "invalid syntax (<ipython-input-1-0735dbb20699>, line 1)",
     "output_type": "error",
     "traceback": [
      "\u001b[0;36m  File \u001b[0;32m\"<ipython-input-1-0735dbb20699>\"\u001b[0;36m, line \u001b[0;32m1\u001b[0m\n\u001b[0;31m    <img src=\"https://docs.google.com/uc?id=14xeXxFrVRjvOoUYWn_GuyE-v84wVzrqr\" class=\"img-fluid\" alt=\"CLRWY\" width=\"400\" height=\"200\">\u001b[0m\n\u001b[0m    ^\u001b[0m\n\u001b[0;31mSyntaxError\u001b[0m\u001b[0;31m:\u001b[0m invalid syntax\n"
     ]
    }
   ],
   "source": [
    "<img src=\"https://docs.google.com/uc?id=14xeXxFrVRjvOoUYWn_GuyE-v84wVzrqr\" class=\"img-fluid\" alt=\"CLRWY\" width=\"400\" height=\"200\">\n",
    "\n",
    "<h1><p style=\"text-align: center; color:darkblue\">Python In-Class, <br>12 July 2021</p><h1>"
   ]
  },
  {
   "cell_type": "code",
   "execution_count": 2,
   "id": "e07bc299",
   "metadata": {},
   "outputs": [
    {
     "name": "stdout",
     "output_type": "stream",
     "text": [
      "Enter the first number please : 5\n",
      "Enter the second number please : 3\n",
      "The larger number is : 5.0\n"
     ]
    }
   ],
   "source": [
    "num1 = float(input(\"Enter the first number please : \"))\n",
    "num2 = float(input(\"Enter the second number please : \"))\n",
    "\n",
    "if num1 > num2 :\n",
    "    larger = num1\n",
    "else :\n",
    "    larger = num2\n",
    "    \n",
    "print(\"The larger number is :\", larger)"
   ]
  },
  {
   "cell_type": "code",
   "execution_count": 3,
   "id": "d6026fb0",
   "metadata": {},
   "outputs": [
    {
     "name": "stdout",
     "output_type": "stream",
     "text": [
      "Enter the first number please : 5\n",
      "Enter the second number please : 3\n",
      "The larger number is : 5.0\n"
     ]
    }
   ],
   "source": [
    "num1 = float(input(\"Enter the first number please : \"))\n",
    "num2 = float(input(\"Enter the second number please : \"))\n",
    "\n",
    "if num1 > num2 :\n",
    "    print(\"The larger number is :\", num1)\n",
    "else :\n",
    "    print(\"The larger number is :\", num2)"
   ]
  },
  {
   "cell_type": "code",
   "execution_count": 6,
   "id": "f36cbcbe",
   "metadata": {},
   "outputs": [
    {
     "name": "stdout",
     "output_type": "stream",
     "text": [
      "No\n"
     ]
    }
   ],
   "source": [
    "bool_value = False #True\n",
    "\n",
    "\n",
    "if bool_value :\n",
    "    print(\"Yes\")\n",
    "else:\n",
    "    print(\"No\")"
   ]
  },
  {
   "cell_type": "code",
   "execution_count": 7,
   "id": "1ebb6c52",
   "metadata": {},
   "outputs": [
    {
     "name": "stdout",
     "output_type": "stream",
     "text": [
      "Enter first number : 3\n",
      "Enter second number : 4\n",
      "Enter third number : 5\n",
      "The largest number is : 5.0\n"
     ]
    }
   ],
   "source": [
    "num1 = float(input(\"Enter first number : \"))\n",
    "num2 = float(input(\"Enter second number : \"))\n",
    "num3 = float(input(\"Enter third number : \"))\n",
    "\n",
    "if (num1 > num2) and (num1 > num3) :\n",
    "    largest = num1\n",
    "elif (num2 > num1) and (num2 > num3) :\n",
    "    largest = num2\n",
    "else :\n",
    "    largest = num3\n",
    "    \n",
    "print(\"The largest number is :\", largest)"
   ]
  },
  {
   "cell_type": "code",
   "execution_count": 8,
   "id": "7bc5fa2a",
   "metadata": {},
   "outputs": [
    {
     "name": "stdout",
     "output_type": "stream",
     "text": [
      "üç\n",
      "kod sonu geldi.\n"
     ]
    }
   ],
   "source": [
    "x = 3\n",
    "\n",
    "if x == 3 :\n",
    "    print(\"üç\")\n",
    "    \n",
    "elif x == 4 :\n",
    "    print(\"dört\")\n",
    "    \n",
    "elif x == 5 :\n",
    "    print(\"beş\")\n",
    "    \n",
    "else :\n",
    "    print(\"sonsuz\")\n",
    "    \n",
    "print(\"kod sonu geldi.\")"
   ]
  },
  {
   "cell_type": "code",
   "execution_count": 10,
   "id": "f38a71c7",
   "metadata": {},
   "outputs": [
    {
     "name": "stdout",
     "output_type": "stream",
     "text": [
      "Enter your score : 90\n",
      "Your degree is :  A\n"
     ]
    }
   ],
   "source": [
    "score = int(input(\"Enter your score : \"))\n",
    "\n",
    "if score >= 90 :\n",
    "    if score >= 95 :\n",
    "        score_letter = \"A+\"\n",
    "    else :\n",
    "        score_letter = \"A\"\n",
    "        \n",
    "elif score >= 80 :\n",
    "    if score >= 85 :\n",
    "        score_letter = \"B+\"\n",
    "    else :\n",
    "        score_letter = \"B\"\n",
    "        \n",
    "else :\n",
    "    score_letter = \"B-\"\n",
    "    \n",
    "print(\"Your degree is : \", score_letter)"
   ]
  },
  {
   "cell_type": "code",
   "execution_count": 11,
   "id": "88a658a3",
   "metadata": {},
   "outputs": [],
   "source": [
    "items = (10, 20)"
   ]
  },
  {
   "cell_type": "code",
   "execution_count": 12,
   "id": "cebeb915",
   "metadata": {},
   "outputs": [],
   "source": [
    "x, y = items"
   ]
  },
  {
   "cell_type": "code",
   "execution_count": 13,
   "id": "99a42726",
   "metadata": {},
   "outputs": [
    {
     "data": {
      "text/plain": [
       "10"
      ]
     },
     "execution_count": 13,
     "metadata": {},
     "output_type": "execute_result"
    }
   ],
   "source": [
    "x"
   ]
  },
  {
   "cell_type": "code",
   "execution_count": 14,
   "id": "b28392c0",
   "metadata": {},
   "outputs": [
    {
     "data": {
      "text/plain": [
       "20"
      ]
     },
     "execution_count": 14,
     "metadata": {},
     "output_type": "execute_result"
    }
   ],
   "source": [
    "y"
   ]
  },
  {
   "cell_type": "code",
   "execution_count": 16,
   "id": "04bf4823",
   "metadata": {},
   "outputs": [],
   "source": [
    "a, _, b, _ = (10, 20, 30, 40)"
   ]
  },
  {
   "cell_type": "code",
   "execution_count": 17,
   "id": "6e34919d",
   "metadata": {},
   "outputs": [
    {
     "data": {
      "text/plain": [
       "10"
      ]
     },
     "execution_count": 17,
     "metadata": {},
     "output_type": "execute_result"
    }
   ],
   "source": [
    "a"
   ]
  },
  {
   "cell_type": "code",
   "execution_count": 18,
   "id": "86aecd31",
   "metadata": {},
   "outputs": [
    {
     "data": {
      "text/plain": [
       "30"
      ]
     },
     "execution_count": 18,
     "metadata": {},
     "output_type": "execute_result"
    }
   ],
   "source": [
    "b"
   ]
  },
  {
   "cell_type": "code",
   "execution_count": 19,
   "id": "9a3c0867",
   "metadata": {},
   "outputs": [
    {
     "name": "stdout",
     "output_type": "stream",
     "text": [
      "10 30 40\n"
     ]
    }
   ],
   "source": [
    "print(a, b, _)"
   ]
  },
  {
   "cell_type": "code",
   "execution_count": 20,
   "id": "50925871",
   "metadata": {},
   "outputs": [
    {
     "ename": "ValueError",
     "evalue": "too many values to unpack (expected 3)",
     "output_type": "error",
     "traceback": [
      "\u001b[0;31m---------------------------------------------------------------------------\u001b[0m",
      "\u001b[0;31mValueError\u001b[0m                                Traceback (most recent call last)",
      "\u001b[0;32m<ipython-input-20-9f0c1446e707>\u001b[0m in \u001b[0;36m<module>\u001b[0;34m\u001b[0m\n\u001b[0;32m----> 1\u001b[0;31m \u001b[0mx\u001b[0m\u001b[0;34m,\u001b[0m \u001b[0my\u001b[0m\u001b[0;34m,\u001b[0m \u001b[0mz\u001b[0m \u001b[0;34m=\u001b[0m \u001b[0;34m(\u001b[0m\u001b[0;36m11\u001b[0m\u001b[0;34m,\u001b[0m \u001b[0;36m22\u001b[0m\u001b[0;34m,\u001b[0m \u001b[0;36m33\u001b[0m\u001b[0;34m,\u001b[0m \u001b[0;36m44\u001b[0m\u001b[0;34m,\u001b[0m \u001b[0;36m55\u001b[0m\u001b[0;34m)\u001b[0m\u001b[0;34m\u001b[0m\u001b[0;34m\u001b[0m\u001b[0m\n\u001b[0m",
      "\u001b[0;31mValueError\u001b[0m: too many values to unpack (expected 3)"
     ]
    }
   ],
   "source": [
    "x, y, z = (11, 22, 33, 44, 55)"
   ]
  },
  {
   "cell_type": "code",
   "execution_count": 21,
   "id": "703e2628",
   "metadata": {},
   "outputs": [],
   "source": [
    "x, y, *z = (11, 22, 33, 44, 55)"
   ]
  },
  {
   "cell_type": "code",
   "execution_count": 22,
   "id": "3d731c24",
   "metadata": {},
   "outputs": [
    {
     "data": {
      "text/plain": [
       "[33, 44, 55]"
      ]
     },
     "execution_count": 22,
     "metadata": {},
     "output_type": "execute_result"
    }
   ],
   "source": [
    "z"
   ]
  },
  {
   "cell_type": "code",
   "execution_count": 24,
   "id": "a8be4600",
   "metadata": {},
   "outputs": [],
   "source": [
    "x, y, *_ = (11, 22, 33, 44, 55, 66, 77)"
   ]
  },
  {
   "cell_type": "code",
   "execution_count": 25,
   "id": "ba808b19",
   "metadata": {},
   "outputs": [
    {
     "data": {
      "text/plain": [
       "11"
      ]
     },
     "execution_count": 25,
     "metadata": {},
     "output_type": "execute_result"
    }
   ],
   "source": [
    "x"
   ]
  },
  {
   "cell_type": "code",
   "execution_count": 26,
   "id": "3f2727cf",
   "metadata": {},
   "outputs": [
    {
     "data": {
      "text/plain": [
       "22"
      ]
     },
     "execution_count": 26,
     "metadata": {},
     "output_type": "execute_result"
    }
   ],
   "source": [
    "y"
   ]
  },
  {
   "cell_type": "code",
   "execution_count": 27,
   "id": "d1730c2c",
   "metadata": {},
   "outputs": [
    {
     "data": {
      "text/plain": [
       "[33, 44, 55, 66, 77]"
      ]
     },
     "execution_count": 27,
     "metadata": {},
     "output_type": "execute_result"
    }
   ],
   "source": [
    "_"
   ]
  },
  {
   "cell_type": "code",
   "execution_count": 28,
   "id": "2a35f631",
   "metadata": {},
   "outputs": [],
   "source": [
    "x, y, *z, t = (11, 22, 33, 44, 55, 66, 77)"
   ]
  },
  {
   "cell_type": "code",
   "execution_count": 31,
   "id": "ab8ef7a1",
   "metadata": {},
   "outputs": [
    {
     "name": "stdout",
     "output_type": "stream",
     "text": [
      "11 22 [33, 44, 55, 66] 77\n"
     ]
    }
   ],
   "source": [
    "print(x, y, z, t)"
   ]
  },
  {
   "cell_type": "code",
   "execution_count": 32,
   "id": "eac32aec",
   "metadata": {},
   "outputs": [],
   "source": [
    "x, y, *_, t = (11, 22, 33, 44, 55, 66, 77)"
   ]
  },
  {
   "cell_type": "code",
   "execution_count": 33,
   "id": "c9d71698",
   "metadata": {},
   "outputs": [
    {
     "name": "stdout",
     "output_type": "stream",
     "text": [
      "11 22 77\n"
     ]
    }
   ],
   "source": [
    "print(x, y, t)"
   ]
  },
  {
   "cell_type": "code",
   "execution_count": 34,
   "id": "4bc44807",
   "metadata": {},
   "outputs": [
    {
     "data": {
      "text/plain": [
       "3"
      ]
     },
     "execution_count": 34,
     "metadata": {},
     "output_type": "execute_result"
    }
   ],
   "source": [
    "max(1,2,3)"
   ]
  },
  {
   "cell_type": "code",
   "execution_count": 35,
   "id": "aafbd3d4",
   "metadata": {},
   "outputs": [],
   "source": [
    "empty = []"
   ]
  },
  {
   "cell_type": "code",
   "execution_count": 36,
   "id": "06201523",
   "metadata": {},
   "outputs": [
    {
     "data": {
      "text/plain": [
       "True"
      ]
     },
     "execution_count": 36,
     "metadata": {},
     "output_type": "execute_result"
    }
   ],
   "source": [
    "max(empty, default=True)"
   ]
  },
  {
   "cell_type": "code",
   "execution_count": 37,
   "id": "bd5d4993",
   "metadata": {},
   "outputs": [
    {
     "data": {
      "text/plain": [
       "'Boş'"
      ]
     },
     "execution_count": 37,
     "metadata": {},
     "output_type": "execute_result"
    }
   ],
   "source": [
    "max(empty, default=\"Boş\")"
   ]
  },
  {
   "cell_type": "code",
   "execution_count": 41,
   "id": "9ca2ef23",
   "metadata": {},
   "outputs": [],
   "source": [
    "seq = [1,1,1,1,1,2,2,2,2,3,3,3,4,4]"
   ]
  },
  {
   "cell_type": "code",
   "execution_count": 42,
   "id": "998e52cd",
   "metadata": {},
   "outputs": [
    {
     "data": {
      "text/plain": [
       "4"
      ]
     },
     "execution_count": 42,
     "metadata": {},
     "output_type": "execute_result"
    }
   ],
   "source": [
    "max(seq)"
   ]
  },
  {
   "cell_type": "code",
   "execution_count": 43,
   "id": "67fe6998",
   "metadata": {},
   "outputs": [
    {
     "data": {
      "text/plain": [
       "2"
      ]
     },
     "execution_count": 43,
     "metadata": {},
     "output_type": "execute_result"
    }
   ],
   "source": [
    "seq.count(4)"
   ]
  },
  {
   "cell_type": "code",
   "execution_count": 44,
   "id": "8691b669",
   "metadata": {},
   "outputs": [
    {
     "data": {
      "text/plain": [
       "2"
      ]
     },
     "execution_count": 44,
     "metadata": {},
     "output_type": "execute_result"
    }
   ],
   "source": [
    "seq.count(max(seq))"
   ]
  },
  {
   "cell_type": "code",
   "execution_count": 45,
   "id": "e405c676",
   "metadata": {},
   "outputs": [
    {
     "data": {
      "text/plain": [
       "5"
      ]
     },
     "execution_count": 45,
     "metadata": {},
     "output_type": "execute_result"
    }
   ],
   "source": [
    "seq.count(1)"
   ]
  },
  {
   "cell_type": "code",
   "execution_count": 48,
   "id": "814ba29c",
   "metadata": {},
   "outputs": [],
   "source": [
    "a = max(seq, key = seq.count)"
   ]
  },
  {
   "cell_type": "code",
   "execution_count": 49,
   "id": "12e2ee9e",
   "metadata": {},
   "outputs": [],
   "source": [
    "b = seq.count(max(seq, key = seq.count))"
   ]
  },
  {
   "cell_type": "code",
   "execution_count": 50,
   "id": "c5e21bd1",
   "metadata": {},
   "outputs": [
    {
     "name": "stdout",
     "output_type": "stream",
     "text": [
      "En çok tekrar eden 1 sayısıdır ve 5 kere tekrar etmiştir.\n"
     ]
    }
   ],
   "source": [
    "print(\"En çok tekrar eden {} sayısıdır ve {} kere tekrar etmiştir.\".format(a,b))"
   ]
  },
  {
   "cell_type": "code",
   "execution_count": 51,
   "id": "4a4aec79",
   "metadata": {},
   "outputs": [],
   "source": [
    "left = {\"q\", \"w\", \"e\", \"r\", \"t\", \"a\", \"s\", \"d\", \"f\", \"g\", \"z\", \"x\", \"c\", \"v\", \"b\"}\n",
    "right = {\"y\", \"u\", \"i\", \"o\", \"p\", \"h\", \"j\", \"k\", \"l\", \"n\", \"m\"}\n",
    "word = \"test\""
   ]
  },
  {
   "cell_type": "code",
   "execution_count": 58,
   "id": "7925d0d2",
   "metadata": {},
   "outputs": [],
   "source": [
    "word = \"clarusway\""
   ]
  },
  {
   "cell_type": "code",
   "execution_count": 65,
   "id": "56a6eaf3",
   "metadata": {},
   "outputs": [
    {
     "name": "stdout",
     "output_type": "stream",
     "text": [
      "give me a word please :clarusway\n"
     ]
    }
   ],
   "source": [
    "word = input(\"give me a word please :\")"
   ]
  },
  {
   "cell_type": "code",
   "execution_count": 66,
   "id": "b002a46e",
   "metadata": {},
   "outputs": [
    {
     "data": {
      "text/plain": [
       "{'a', 'c', 'l', 'r', 's', 'u', 'w', 'y'}"
      ]
     },
     "execution_count": 66,
     "metadata": {},
     "output_type": "execute_result"
    }
   ],
   "source": [
    "set_word = set(word)\n",
    "set_word"
   ]
  },
  {
   "cell_type": "code",
   "execution_count": 67,
   "id": "640b6580",
   "metadata": {},
   "outputs": [
    {
     "data": {
      "text/plain": [
       "{'l', 'u', 'y'}"
      ]
     },
     "execution_count": 67,
     "metadata": {},
     "output_type": "execute_result"
    }
   ],
   "source": [
    "set_word - left"
   ]
  },
  {
   "cell_type": "code",
   "execution_count": 68,
   "id": "c8df84fc",
   "metadata": {},
   "outputs": [
    {
     "data": {
      "text/plain": [
       "{'a', 'c', 'r', 's', 'w'}"
      ]
     },
     "execution_count": 68,
     "metadata": {},
     "output_type": "execute_result"
    }
   ],
   "source": [
    "set_word - right"
   ]
  },
  {
   "cell_type": "code",
   "execution_count": 69,
   "id": "d16c8aa9",
   "metadata": {},
   "outputs": [
    {
     "data": {
      "text/plain": [
       "True"
      ]
     },
     "execution_count": 69,
     "metadata": {},
     "output_type": "execute_result"
    }
   ],
   "source": [
    "left_bool = bool(set_word - left)\n",
    "left_bool"
   ]
  },
  {
   "cell_type": "code",
   "execution_count": 70,
   "id": "1c6d0b2c",
   "metadata": {},
   "outputs": [
    {
     "data": {
      "text/plain": [
       "True"
      ]
     },
     "execution_count": 70,
     "metadata": {},
     "output_type": "execute_result"
    }
   ],
   "source": [
    "right_bool = bool(set_word - right)\n",
    "right_bool"
   ]
  },
  {
   "cell_type": "code",
   "execution_count": 64,
   "id": "86caa020",
   "metadata": {},
   "outputs": [
    {
     "data": {
      "text/plain": [
       "True"
      ]
     },
     "execution_count": 64,
     "metadata": {},
     "output_type": "execute_result"
    }
   ],
   "source": [
    "left_bool and right_bool"
   ]
  },
  {
   "cell_type": "code",
   "execution_count": null,
   "id": "fb4faf60",
   "metadata": {},
   "outputs": [],
   "source": []
  },
  {
   "cell_type": "code",
   "execution_count": null,
   "id": "b7fa6653",
   "metadata": {},
   "outputs": [],
   "source": []
  }
 ],
 "metadata": {
  "kernelspec": {
   "display_name": "Python 3",
   "language": "python",
   "name": "python3"
  },
  "language_info": {
   "codemirror_mode": {
    "name": "ipython",
    "version": 3
   },
   "file_extension": ".py",
   "mimetype": "text/x-python",
   "name": "python",
   "nbconvert_exporter": "python",
   "pygments_lexer": "ipython3",
   "version": "3.8.8"
  }
 },
 "nbformat": 4,
 "nbformat_minor": 5
}
