{
 "cells": [
  {
   "cell_type": "markdown",
   "id": "406f2981",
   "metadata": {},
   "source": [
    "<img src=\"https://docs.google.com/uc?id=14xeXxFrVRjvOoUYWn_GuyE-v84wVzrqr\" class=\"img-fluid\" alt=\"CLRWY\" width=\"400\" height=\"200\">"
   ]
  },
  {
   "cell_type": "markdown",
   "id": "22263af8",
   "metadata": {},
   "source": [
    "<h1><p style=\"text-align: center; color:darkblue\">Python + In-Class, <br>26 August 2021</p><h1>"
   ]
  },
  {
   "cell_type": "code",
   "execution_count": 2,
   "id": "9741ef81",
   "metadata": {},
   "outputs": [
    {
     "name": "stdout",
     "output_type": "stream",
     "text": [
      "The first number please : 7\n",
      "The second number please : 0\n",
      "You can't divide by zero! Try again.\n",
      "Thanks for using our mini divison calculator! Come again!\n"
     ]
    }
   ],
   "source": [
    "while True:\n",
    "    \n",
    "    no_one = int(input(\"The first number please : \"))\n",
    "    no_two = int(input(\"The second number please : \"))\n",
    "    \n",
    "    try:\n",
    "        division = no_one / no_two  # normal part of the program\n",
    "    except ZeroDivisionError:\n",
    "        print(\"You can't divide by zero! Try again.\")  # executes when division by zero\n",
    "    else:\n",
    "        print(\"The result of the division is : \", division)  # executes if there is no exception\n",
    "    finally:\n",
    "        print(\"Thanks for using our mini divison calculator! Come again!\")\n",
    "        break  # exits the while loop\n"
   ]
  },
  {
   "cell_type": "code",
   "execution_count": 3,
   "id": "310e6a70",
   "metadata": {},
   "outputs": [
    {
     "name": "stdout",
     "output_type": "stream",
     "text": [
      "The first number please : 7\n",
      "The second number please : k\n"
     ]
    },
    {
     "ename": "ValueError",
     "evalue": "invalid literal for int() with base 10: 'k'",
     "output_type": "error",
     "traceback": [
      "\u001b[0;31m---------------------------------------------------------------------------\u001b[0m",
      "\u001b[0;31mValueError\u001b[0m                                Traceback (most recent call last)",
      "\u001b[0;32m<ipython-input-3-5fd297d1c219>\u001b[0m in \u001b[0;36m<module>\u001b[0;34m\u001b[0m\n\u001b[1;32m      1\u001b[0m \u001b[0;32mwhile\u001b[0m \u001b[0;32mTrue\u001b[0m\u001b[0;34m:\u001b[0m\u001b[0;34m\u001b[0m\u001b[0;34m\u001b[0m\u001b[0m\n\u001b[1;32m      2\u001b[0m     \u001b[0mno_one\u001b[0m \u001b[0;34m=\u001b[0m \u001b[0mint\u001b[0m\u001b[0;34m(\u001b[0m\u001b[0minput\u001b[0m\u001b[0;34m(\u001b[0m\u001b[0;34m\"The first number please : \"\u001b[0m\u001b[0;34m)\u001b[0m\u001b[0;34m)\u001b[0m\u001b[0;34m\u001b[0m\u001b[0;34m\u001b[0m\u001b[0m\n\u001b[0;32m----> 3\u001b[0;31m     \u001b[0mno_two\u001b[0m \u001b[0;34m=\u001b[0m \u001b[0mint\u001b[0m\u001b[0;34m(\u001b[0m\u001b[0minput\u001b[0m\u001b[0;34m(\u001b[0m\u001b[0;34m\"The second number please : \"\u001b[0m\u001b[0;34m)\u001b[0m\u001b[0;34m)\u001b[0m\u001b[0;34m\u001b[0m\u001b[0;34m\u001b[0m\u001b[0m\n\u001b[0m\u001b[1;32m      4\u001b[0m     \u001b[0;32mtry\u001b[0m\u001b[0;34m:\u001b[0m\u001b[0;34m\u001b[0m\u001b[0;34m\u001b[0m\u001b[0m\n\u001b[1;32m      5\u001b[0m         \u001b[0mdivision\u001b[0m \u001b[0;34m=\u001b[0m \u001b[0mno_one\u001b[0m \u001b[0;34m/\u001b[0m \u001b[0mno_two\u001b[0m  \u001b[0;31m# normal part of the program\u001b[0m\u001b[0;34m\u001b[0m\u001b[0;34m\u001b[0m\u001b[0m\n",
      "\u001b[0;31mValueError\u001b[0m: invalid literal for int() with base 10: 'k'"
     ]
    }
   ],
   "source": [
    "while True:\n",
    "    no_one = int(input(\"The first number please : \"))\n",
    "    no_two = int(input(\"The second number please : \"))\n",
    "    try:\n",
    "        division = no_one / no_two  # normal part of the program\n",
    "    except ZeroDivisionError:\n",
    "        print(\"You can't divide by zero! Try again.\")  # executes when division by zero\n",
    "    else:\n",
    "        print(\"The result of the division is : \", division)  # executes if there is no exception\n",
    "    finally:\n",
    "        print(\"Thanks for using our mini divison calculator! Come again!\")\n",
    "        break  # exits the while loop\n"
   ]
  },
  {
   "cell_type": "code",
   "execution_count": 6,
   "id": "36342a95",
   "metadata": {},
   "outputs": [
    {
     "name": "stdout",
     "output_type": "stream",
     "text": [
      "The first number please : 5\n",
      "The second number please : m\n",
      "Something is wrong! Try again.\n",
      "Thanks for using our mini divison calculator! Come again!\n"
     ]
    }
   ],
   "source": [
    "while True:\n",
    "\n",
    "    try:\n",
    "        no_one = int(input(\"The first number please : \"))\n",
    "        no_two = int(input(\"The second number please : \"))\n",
    "        \n",
    "        division = no_one / no_two  # normal part of the program\n",
    "    except :\n",
    "        print(\"Something is wrong! Try again.\")  # executes when division by zero\n",
    "    else:\n",
    "        print(\"The result of the division is : \", division)  # executes if there is no exception\n",
    "    finally:\n",
    "        print(\"Thanks for using our mini divison calculator! Come again!\")\n",
    "        break  # exits the while loop\n"
   ]
  },
  {
   "cell_type": "code",
   "execution_count": 7,
   "id": "f2ee659a",
   "metadata": {},
   "outputs": [
    {
     "name": "stdout",
     "output_type": "stream",
     "text": [
      "The first number please : 7\n",
      "The second number please : 0\n",
      "Something went wrong...Try again.\n",
      "Probably it is because of 'division by zero' error\n"
     ]
    }
   ],
   "source": [
    "while True:\n",
    "    no_one = int(input(\"The first number please : \"))\n",
    "    no_two = int(input(\"The second number please : \"))\n",
    "    try:\n",
    "        division = no_one / no_two\n",
    "        print(\"The result of the division is : \", division)\n",
    "        break\n",
    "    except Exception as fırfırik:\n",
    "        print(\"Something went wrong...Try again.\")\n",
    "        print(\"Probably it is because of '{}' error\".format(fırfırik))\n",
    "        break\n"
   ]
  },
  {
   "cell_type": "code",
   "execution_count": 8,
   "id": "7ad1dd9f",
   "metadata": {},
   "outputs": [
    {
     "name": "stdout",
     "output_type": "stream",
     "text": [
      "Attempt to divide by zero\n"
     ]
    }
   ],
   "source": [
    "try:\n",
    "    x = 2/0\n",
    "\n",
    "except ZeroDivisionError:\n",
    "    print('Attempt to divide by zero')\n",
    "except:\n",
    "    print('Something else went wrong')"
   ]
  },
  {
   "cell_type": "code",
   "execution_count": 12,
   "id": "828ae29f",
   "metadata": {},
   "outputs": [
    {
     "name": "stdout",
     "output_type": "stream",
     "text": [
      "Attempt to divide by zero\n"
     ]
    }
   ],
   "source": [
    "try :\n",
    "    x = 2/0\n",
    "except ArithmeticError:\n",
    "    print('Attempt to divide by zero')\n",
    "except:\n",
    "    print('Something else went wrong')"
   ]
  },
  {
   "cell_type": "code",
   "execution_count": 15,
   "id": "cbe20196",
   "metadata": {},
   "outputs": [
    {
     "name": "stdout",
     "output_type": "stream",
     "text": [
      "Pick an index number to choose your favorite fruit :55\n",
      "There is no such an Index. Try again!\n",
      "Pick an index number to choose your favorite fruit :beş\n",
      "You should enter integer. Try again!\n",
      "Pick an index number to choose your favorite fruit :3\n",
      "Your favorite fruit is :  apple\n"
     ]
    }
   ],
   "source": [
    "fruits = [\"banana\", \"mango\", \"pear\", \"apple\", \"kiwi\", \"grape\"]\n",
    "\n",
    "while True :\n",
    "    \n",
    "    try :\n",
    "        index = int(input(\"Pick an index number to choose your favorite fruit :\"))\n",
    "        print(\"Your favorite fruit is : \", fruits[index])\n",
    "        break\n",
    "    except IndexError :\n",
    "        print(\"There is no such an Index. Try again!\")\n",
    "        \n",
    "    except ValueError :\n",
    "        print(\"You should enter integer. Try again!\")"
   ]
  },
  {
   "cell_type": "code",
   "execution_count": 16,
   "id": "6ad6b105",
   "metadata": {},
   "outputs": [
    {
     "name": "stdout",
     "output_type": "stream",
     "text": [
      "Pick an index number to choose your favorite fruit :66\n",
      "There is no such an Index. You have 2 tries remaining. Try again!\n",
      "Our fruits are always fresh!\n",
      "Pick an index number to choose your favorite fruit :-55\n",
      "There is no such an Index. You have 1 tries remaining. Try again!\n",
      "Our fruits are always fresh!\n",
      "Pick an index number to choose your favorite fruit :beş\n",
      "You should enter integer. You have 0 tries remaining. Try again!\n",
      "Our fruits are always fresh!\n"
     ]
    }
   ],
   "source": [
    "count = 3\n",
    "\n",
    "while count > 0 :\n",
    "    \n",
    "    try :\n",
    "        index = int(input(\"Pick an index number to choose your favorite fruit :\"))\n",
    "        print(\"Your favorite fruit is : \", fruits[index])\n",
    "        \n",
    "    except IndexError :\n",
    "        count -= 1\n",
    "        print(f\"There is no such an Index. You have {count} tries remaining. Try again!\")\n",
    "        \n",
    "    except ValueError :\n",
    "        count -= 1\n",
    "        print(f\"You should enter integer. You have {count} tries remaining. Try again!\")\n",
    "        \n",
    "    else :\n",
    "        print(\"Congrats! You have entered a valid input.\")\n",
    "        break\n",
    "    finally :\n",
    "        print(\"Our fruits are always fresh!\")"
   ]
  },
  {
   "cell_type": "code",
   "execution_count": 17,
   "id": "04ebb4fc",
   "metadata": {},
   "outputs": [
    {
     "name": "stdout",
     "output_type": "stream",
     "text": [
      "Pick an index number to choose your favorite fruit :5\n",
      "Your favorite fruit is :  grape\n",
      "Congrats! You have entered a valid input.\n",
      "Our fruits are always fresh!\n"
     ]
    }
   ],
   "source": [
    "count = 3\n",
    "\n",
    "while count > 0 :\n",
    "    \n",
    "    try :\n",
    "        index = int(input(\"Pick an index number to choose your favorite fruit :\"))\n",
    "        print(\"Your favorite fruit is : \", fruits[index])\n",
    "        \n",
    "    except IndexError :\n",
    "        count -= 1\n",
    "        print(f\"There is no such an Index. You have {count} tries remaining. Try again!\")\n",
    "        \n",
    "    except ValueError :\n",
    "        count -= 1\n",
    "        print(f\"You should enter integer. You have {count} tries remaining. Try again!\")\n",
    "        \n",
    "    else :\n",
    "        print(\"Congrats! You have entered a valid input.\")\n",
    "        break\n",
    "    finally :\n",
    "        print(\"Our fruits are always fresh!\")"
   ]
  },
  {
   "cell_type": "code",
   "execution_count": 18,
   "id": "22195264",
   "metadata": {},
   "outputs": [],
   "source": [
    "import os"
   ]
  },
  {
   "cell_type": "code",
   "execution_count": 19,
   "id": "04bba6fb",
   "metadata": {},
   "outputs": [],
   "source": [
    "dosya = os.listdir()"
   ]
  },
  {
   "cell_type": "code",
   "execution_count": 21,
   "id": "ecfda177",
   "metadata": {},
   "outputs": [
    {
     "data": {
      "text/plain": [
       "'/Users/ozgurhamdullah/jobs/CW/pythonic/python_sessions/PythonSessions-Cohort-009'"
      ]
     },
     "execution_count": 21,
     "metadata": {},
     "output_type": "execute_result"
    }
   ],
   "source": [
    "pwd"
   ]
  },
  {
   "cell_type": "code",
   "execution_count": 20,
   "id": "dec43796",
   "metadata": {},
   "outputs": [
    {
     "data": {
      "text/plain": [
       "['20_PythonBasic_26-August-2021.ipynb',\n",
       " '03_PythonBasic_17-June-2021.ipynb',\n",
       " 'WorkShops',\n",
       " 'dummy.txt',\n",
       " '06_PythonBasic_28-June-2021.ipynb',\n",
       " '.DS_Store',\n",
       " 'my_csv_file.csv',\n",
       " 'hata1.txt',\n",
       " '21_PythonBasic_30-August-2021.ipynb',\n",
       " 'fruits.txt',\n",
       " '10_PythonBasic_15-July-2021.ipynb',\n",
       " 'fishes.txt',\n",
       " 'test.csv',\n",
       " '09_PythonBasic_12-July-2021.ipynb',\n",
       " '14_PythonBasic_5-August-2021.ipynb',\n",
       " '11_PythonBasic_26-July-2021.ipynb',\n",
       " 'flowers.txt',\n",
       " '05_PythonBasic_24-June-2021.ipynb',\n",
       " '13_PythonBasic_2-August-2021.ipynb',\n",
       " '07_PythonBasic_1-July-2021.ipynb',\n",
       " 'titanic.csv',\n",
       " '01_PythonBasic_10-June-2021.ipynb',\n",
       " 'istiklal.txt',\n",
       " 'rumi.txt',\n",
       " '12_PythonBasic_29-July-2021.ipynb',\n",
       " 'fruits_dash.csv',\n",
       " '16_PythonBasic_12-August-2021.ipynb',\n",
       " '.ipynb_checkpoints',\n",
       " '04_PythonBasic_21-June-2021.ipynb',\n",
       " '08_PythonBasic_8-July-2021.ipynb',\n",
       " 'fruits.csv',\n",
       " 'insan_siiri.txt',\n",
       " 'hata.txt',\n",
       " '02_PythonBasic_14-June-2021.ipynb']"
      ]
     },
     "execution_count": 20,
     "metadata": {},
     "output_type": "execute_result"
    }
   ],
   "source": [
    "dosya"
   ]
  },
  {
   "cell_type": "code",
   "execution_count": 22,
   "id": "23ed5aa2",
   "metadata": {},
   "outputs": [],
   "source": [
    "import shutil"
   ]
  },
  {
   "cell_type": "code",
   "execution_count": null,
   "id": "bbdd6fef",
   "metadata": {},
   "outputs": [],
   "source": [
    "# shutil.make_archive(\"mevcut_dosya_pathi\", \"zip\", \"hedef_dosya_ismi\")"
   ]
  },
  {
   "cell_type": "code",
   "execution_count": null,
   "id": "b4a1a440",
   "metadata": {},
   "outputs": [],
   "source": [
    "open()"
   ]
  },
  {
   "cell_type": "code",
   "execution_count": 28,
   "id": "894502e0",
   "metadata": {},
   "outputs": [
    {
     "name": "stdout",
     "output_type": "stream",
     "text": [
      "Orca is a kind of Dolphin.\n",
      "Blue Whale is the largest animal known on earth.\n",
      "Sharks are the sister group to the Rays (batoids).\n",
      "The Tuna Fish can weigh up to 260 kg.\n",
      "Squid and Octopus are in the same class.\n"
     ]
    }
   ],
   "source": [
    "file = open(\"fishes.txt\", \"r\")\n",
    "\n",
    "print(file.read())\n",
    "\n",
    "file.close()"
   ]
  },
  {
   "cell_type": "code",
   "execution_count": null,
   "id": "e5a356ab",
   "metadata": {},
   "outputs": [],
   "source": [
    "# C:/Users/Documents/İnsanoğlu/fishes.txt"
   ]
  },
  {
   "cell_type": "code",
   "execution_count": 29,
   "id": "bda27c1a",
   "metadata": {},
   "outputs": [
    {
     "name": "stdout",
     "output_type": "stream",
     "text": [
      "Orca is a kind of Dolphin.\n",
      "Blue W\n"
     ]
    }
   ],
   "source": [
    "file = open(\"fishes.txt\", \"r\")\n",
    "\n",
    "print(file.read(33))\n",
    "\n",
    "file.close()"
   ]
  },
  {
   "cell_type": "code",
   "execution_count": 31,
   "id": "ef7fe2d5",
   "metadata": {},
   "outputs": [],
   "source": [
    "file = open(\"fishes.txt\", \"r\")\n",
    "\n",
    "content = file.read()\n",
    "\n",
    "file.close()"
   ]
  },
  {
   "cell_type": "code",
   "execution_count": 32,
   "id": "e875e834",
   "metadata": {},
   "outputs": [
    {
     "data": {
      "text/plain": [
       "'Orca is a kind of Dolphin.\\nBlue Whale is the largest animal known on earth.\\nSharks are the sister group to the Rays (batoids).\\nThe Tuna Fish can weigh up to 260 kg.\\nSquid and Octopus are in the same class.'"
      ]
     },
     "execution_count": 32,
     "metadata": {},
     "output_type": "execute_result"
    }
   ],
   "source": [
    "content"
   ]
  },
  {
   "cell_type": "code",
   "execution_count": 33,
   "id": "e50c7584",
   "metadata": {},
   "outputs": [
    {
     "data": {
      "text/plain": [
       "205"
      ]
     },
     "execution_count": 33,
     "metadata": {},
     "output_type": "execute_result"
    }
   ],
   "source": [
    "len(content)"
   ]
  },
  {
   "cell_type": "code",
   "execution_count": 34,
   "id": "b2a31bb3",
   "metadata": {},
   "outputs": [
    {
     "data": {
      "text/plain": [
       "'Orca is a kind of Dolphin.\\nBlue W'"
      ]
     },
     "execution_count": 34,
     "metadata": {},
     "output_type": "execute_result"
    }
   ],
   "source": [
    "content[:33]"
   ]
  },
  {
   "cell_type": "code",
   "execution_count": 36,
   "id": "fe6d27fd",
   "metadata": {},
   "outputs": [
    {
     "name": "stdout",
     "output_type": "stream",
     "text": [
      "Orca is a kind of Dolphin.\n",
      "Blue W\n",
      "hale is the largest animal known \n"
     ]
    }
   ],
   "source": [
    "file = open(\"fishes.txt\", \"r\")\n",
    "\n",
    "print(file.read(33))\n",
    "print(file.read(33))\n",
    "\n",
    "file.close()"
   ]
  },
  {
   "cell_type": "code",
   "execution_count": 37,
   "id": "056fda5f",
   "metadata": {},
   "outputs": [
    {
     "name": "stdout",
     "output_type": "stream",
     "text": [
      "Orca is a kind of Dolphin.\n",
      "Blue W\n",
      "hale is the largest animal known \n",
      "Orca is a kind of Dolphin.\n",
      "Blue W\n"
     ]
    }
   ],
   "source": [
    "file = open(\"fishes.txt\", \"r\")\n",
    "\n",
    "print(file.read(33))\n",
    "print(file.read(33))\n",
    "\n",
    "file.seek(0)\n",
    "\n",
    "print(file.read(33))\n",
    "\n",
    "file.close()"
   ]
  },
  {
   "cell_type": "code",
   "execution_count": 38,
   "id": "aafc7ad0",
   "metadata": {},
   "outputs": [
    {
     "name": "stdout",
     "output_type": "stream",
     "text": [
      "Orca is a kind of Dolphin.\n",
      "Blue W\n",
      "hale is the largest animal known \n",
      "Orca is a kind of Dolphin.\n",
      "Blue W\n",
      "34\n"
     ]
    }
   ],
   "source": [
    "file = open(\"fishes.txt\", \"r\")\n",
    "\n",
    "print(file.read(33))\n",
    "print(file.read(33))\n",
    "\n",
    "file.seek(0)\n",
    "\n",
    "print(file.read(33))\n",
    "print(file.tell())\n",
    "\n",
    "file.close()"
   ]
  },
  {
   "cell_type": "code",
   "execution_count": null,
   "id": "57de730d",
   "metadata": {},
   "outputs": [],
   "source": [
    "file = open(\"fishes.txt\", \"r\")\n",
    "\n",
    "print(file.read(33))\n",
    "print(file.read(15))\n",
    "print(file.tell())\n",
    "\n",
    "file.seek(0)\n",
    "\n",
    "print(file.read(33))\n",
    "print(file.tell())\n",
    "\n",
    "file.close()"
   ]
  },
  {
   "cell_type": "code",
   "execution_count": 39,
   "id": "a39d4bb5",
   "metadata": {},
   "outputs": [
    {
     "name": "stdout",
     "output_type": "stream",
     "text": [
      "I want to sing\n",
      "Like the birds sing,\n",
      "Not worrying about\n",
      "Who hears or\n",
      "What they think.\n"
     ]
    }
   ],
   "source": [
    "rumi = open(\"rumi.txt\", \"r\")\n",
    "\n",
    "print(rumi.read())\n",
    "\n",
    "\n",
    "rumi.close()"
   ]
  },
  {
   "cell_type": "code",
   "execution_count": 40,
   "id": "591ccaa8",
   "metadata": {},
   "outputs": [
    {
     "name": "stdout",
     "output_type": "stream",
     "text": [
      "I want to sing\n",
      "Like the birds sing,\n"
     ]
    }
   ],
   "source": [
    "rumi = open(\"rumi.txt\", \"r\")\n",
    "\n",
    "print(rumi.read(35))\n",
    "\n",
    "\n",
    "rumi.close()"
   ]
  },
  {
   "cell_type": "code",
   "execution_count": 41,
   "id": "a606a5a9",
   "metadata": {},
   "outputs": [
    {
     "name": "stdout",
     "output_type": "stream",
     "text": [
      "I want to sing\n",
      "Like the birds sing,\n",
      "\n",
      "Not worrying\n"
     ]
    }
   ],
   "source": [
    "rumi = open(\"rumi.txt\", \"r\")\n",
    "\n",
    "print(rumi.read(35))\n",
    "print(rumi.read(13))\n",
    "\n",
    "rumi.close()"
   ]
  },
  {
   "cell_type": "code",
   "execution_count": 44,
   "id": "58b4d148",
   "metadata": {},
   "outputs": [
    {
     "name": "stdout",
     "output_type": "stream",
     "text": [
      "I want to sing\n",
      "Like the birds sing,\n",
      "\n",
      "Not worrying\n",
      "50\n",
      "\n",
      "Like the birds sing,\n"
     ]
    }
   ],
   "source": [
    "rumi = open(\"rumi.txt\", \"r\")\n",
    "\n",
    "print(rumi.read(35))\n",
    "print(rumi.read(13))\n",
    "print(rumi.tell())\n",
    "\n",
    "rumi.seek(15)\n",
    "print(rumi.read(21))\n",
    "\n",
    "rumi.close()"
   ]
  },
  {
   "cell_type": "code",
   "execution_count": 45,
   "id": "6b86edd5",
   "metadata": {},
   "outputs": [
    {
     "name": "stdout",
     "output_type": "stream",
     "text": [
      "Orca is a kin\n",
      "d of Dolphin.\n",
      "\n",
      "\n",
      "Blue Whale is\n"
     ]
    }
   ],
   "source": [
    "sea = open(\"fishes.txt\", 'r')   \n",
    "\n",
    "print(sea.readline(13))\n",
    "print(sea.readline(13))\n",
    "print(sea.readline(13))\n",
    "print(sea.readline(13))\n",
    "\n",
    "sea.close()"
   ]
  },
  {
   "cell_type": "code",
   "execution_count": 46,
   "id": "d0cf681e",
   "metadata": {},
   "outputs": [],
   "source": [
    "sea = open(\"fishes.txt\", 'r')   \n",
    "\n",
    "part_1 = sea.readline(13)\n",
    "part_2 = sea.readline(13)\n",
    "part_3 = sea.readline(13)\n",
    "part_4 = sea.readline(13)\n",
    "\n",
    "sea.close()"
   ]
  },
  {
   "cell_type": "code",
   "execution_count": 48,
   "id": "e7d8daa5",
   "metadata": {},
   "outputs": [
    {
     "data": {
      "text/plain": [
       "'Orca is a kin'"
      ]
     },
     "execution_count": 48,
     "metadata": {},
     "output_type": "execute_result"
    }
   ],
   "source": [
    "part_1"
   ]
  },
  {
   "cell_type": "code",
   "execution_count": 50,
   "id": "baef9e71",
   "metadata": {},
   "outputs": [
    {
     "data": {
      "text/plain": [
       "'d of Dolphin.'"
      ]
     },
     "execution_count": 50,
     "metadata": {},
     "output_type": "execute_result"
    }
   ],
   "source": [
    "part_2"
   ]
  },
  {
   "cell_type": "code",
   "execution_count": 47,
   "id": "e9542d83",
   "metadata": {},
   "outputs": [
    {
     "data": {
      "text/plain": [
       "'\\n'"
      ]
     },
     "execution_count": 47,
     "metadata": {},
     "output_type": "execute_result"
    }
   ],
   "source": [
    "part_3"
   ]
  },
  {
   "cell_type": "code",
   "execution_count": 51,
   "id": "43b562a9",
   "metadata": {},
   "outputs": [
    {
     "data": {
      "text/plain": [
       "'Orca is a kind of Dolphin.\\n'"
      ]
     },
     "execution_count": 51,
     "metadata": {},
     "output_type": "execute_result"
    }
   ],
   "source": [
    "first_line = part_1 + part_2 + part_3\n",
    "first_line"
   ]
  },
  {
   "cell_type": "code",
   "execution_count": 56,
   "id": "1e3f9493",
   "metadata": {},
   "outputs": [
    {
     "name": "stdout",
     "output_type": "stream",
     "text": [
      "I want to sing\n",
      "\n",
      "Like the birds sing,\n",
      "\n",
      "Not worrying about\n",
      "\n"
     ]
    }
   ],
   "source": [
    "rumi = open(\"rumi.txt\", \"r\")\n",
    "\n",
    "print(rumi.readline())\n",
    "print(rumi.readline())\n",
    "print(rumi.readline(19))\n",
    "\n",
    "rumi.close()"
   ]
  },
  {
   "cell_type": "code",
   "execution_count": null,
   "id": "278961db",
   "metadata": {},
   "outputs": [],
   "source": []
  },
  {
   "cell_type": "code",
   "execution_count": null,
   "id": "57dc543f",
   "metadata": {},
   "outputs": [],
   "source": []
  },
  {
   "cell_type": "code",
   "execution_count": null,
   "id": "6c5059a6",
   "metadata": {},
   "outputs": [],
   "source": []
  },
  {
   "cell_type": "code",
   "execution_count": null,
   "id": "8e469d14",
   "metadata": {},
   "outputs": [],
   "source": []
  }
 ],
 "metadata": {
  "kernelspec": {
   "display_name": "Python 3",
   "language": "python",
   "name": "python3"
  },
  "language_info": {
   "codemirror_mode": {
    "name": "ipython",
    "version": 3
   },
   "file_extension": ".py",
   "mimetype": "text/x-python",
   "name": "python",
   "nbconvert_exporter": "python",
   "pygments_lexer": "ipython3",
   "version": "3.8.8"
  }
 },
 "nbformat": 4,
 "nbformat_minor": 5
}
