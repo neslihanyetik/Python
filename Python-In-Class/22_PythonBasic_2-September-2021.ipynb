{
 "cells": [
  {
   "cell_type": "markdown",
   "id": "406f2981",
   "metadata": {},
   "source": [
    "<img src=\"https://docs.google.com/uc?id=14xeXxFrVRjvOoUYWn_GuyE-v84wVzrqr\" class=\"img-fluid\" alt=\"CLRWY\" width=\"400\" height=\"200\">"
   ]
  },
  {
   "cell_type": "markdown",
   "id": "22263af8",
   "metadata": {},
   "source": [
    "<h1><p style=\"text-align: center; color:darkblue\">Python + In-Class, <br>2 September 2021</p><h1>"
   ]
  },
  {
   "cell_type": "code",
   "execution_count": 1,
   "id": "4a17f2dd",
   "metadata": {},
   "outputs": [],
   "source": [
    "word = {1 : \"1\", 2 : \"2\"}"
   ]
  },
  {
   "cell_type": "code",
   "execution_count": 2,
   "id": "0823e311",
   "metadata": {},
   "outputs": [],
   "source": [
    "keys = word.keys()"
   ]
  },
  {
   "cell_type": "code",
   "execution_count": 3,
   "id": "0e361d9c",
   "metadata": {},
   "outputs": [
    {
     "data": {
      "text/plain": [
       "dict_keys([1, 2])"
      ]
     },
     "execution_count": 3,
     "metadata": {},
     "output_type": "execute_result"
    }
   ],
   "source": [
    "keys"
   ]
  },
  {
   "cell_type": "code",
   "execution_count": 4,
   "id": "81c038eb",
   "metadata": {},
   "outputs": [],
   "source": [
    "word_1 = {}"
   ]
  },
  {
   "cell_type": "code",
   "execution_count": 5,
   "id": "bab09e30",
   "metadata": {},
   "outputs": [],
   "source": [
    "word_1[3] = 1"
   ]
  },
  {
   "cell_type": "code",
   "execution_count": 6,
   "id": "96ed502b",
   "metadata": {},
   "outputs": [
    {
     "data": {
      "text/plain": [
       "{3: 1}"
      ]
     },
     "execution_count": 6,
     "metadata": {},
     "output_type": "execute_result"
    }
   ],
   "source": [
    "word_1"
   ]
  },
  {
   "cell_type": "code",
   "execution_count": 8,
   "id": "af4118c2",
   "metadata": {},
   "outputs": [],
   "source": [
    "word_1[1] = 1"
   ]
  },
  {
   "cell_type": "code",
   "execution_count": 9,
   "id": "2489ade8",
   "metadata": {},
   "outputs": [
    {
     "data": {
      "text/plain": [
       "{3: 1, 1: 1}"
      ]
     },
     "execution_count": 9,
     "metadata": {},
     "output_type": "execute_result"
    }
   ],
   "source": [
    "word_1"
   ]
  },
  {
   "cell_type": "code",
   "execution_count": 11,
   "id": "a739e0a7",
   "metadata": {},
   "outputs": [],
   "source": [
    "word_1[3] += 1"
   ]
  },
  {
   "cell_type": "code",
   "execution_count": 12,
   "id": "509bd768",
   "metadata": {},
   "outputs": [
    {
     "data": {
      "text/plain": [
       "{3: 2, 1: 1}"
      ]
     },
     "execution_count": 12,
     "metadata": {},
     "output_type": "execute_result"
    }
   ],
   "source": [
    "word_1"
   ]
  },
  {
   "cell_type": "code",
   "execution_count": 13,
   "id": "4e7c7e7a",
   "metadata": {},
   "outputs": [],
   "source": [
    "word_1[3] += 1"
   ]
  },
  {
   "cell_type": "code",
   "execution_count": 14,
   "id": "42229e7e",
   "metadata": {},
   "outputs": [
    {
     "data": {
      "text/plain": [
       "{3: 3, 1: 1}"
      ]
     },
     "execution_count": 14,
     "metadata": {},
     "output_type": "execute_result"
    }
   ],
   "source": [
    "word_1"
   ]
  },
  {
   "cell_type": "code",
   "execution_count": 17,
   "id": "749d5b29",
   "metadata": {},
   "outputs": [],
   "source": [
    "word_1[\"ali\"] = 22"
   ]
  },
  {
   "cell_type": "code",
   "execution_count": 18,
   "id": "466bd2e3",
   "metadata": {},
   "outputs": [
    {
     "data": {
      "text/plain": [
       "{3: 3, 1: 1, 'ali': 22}"
      ]
     },
     "execution_count": 18,
     "metadata": {},
     "output_type": "execute_result"
    }
   ],
   "source": [
    "word_1"
   ]
  },
  {
   "cell_type": "code",
   "execution_count": 19,
   "id": "de5f8dae",
   "metadata": {},
   "outputs": [
    {
     "data": {
      "text/plain": [
       "True"
      ]
     },
     "execution_count": 19,
     "metadata": {},
     "output_type": "execute_result"
    }
   ],
   "source": [
    "\"ali\" in word_1"
   ]
  },
  {
   "cell_type": "code",
   "execution_count": 15,
   "id": "c04feb1e",
   "metadata": {},
   "outputs": [],
   "source": [
    "string = \"bugün ayrılıktan bir önceki session..\""
   ]
  },
  {
   "cell_type": "code",
   "execution_count": 16,
   "id": "409725a5",
   "metadata": {},
   "outputs": [],
   "source": [
    "word_dict = {}"
   ]
  },
  {
   "cell_type": "code",
   "execution_count": 20,
   "id": "0c5671a4",
   "metadata": {},
   "outputs": [],
   "source": [
    "for n in string :\n",
    "    \n",
    "    keys = word_dict.keys()\n",
    "    \n",
    "    if n in word_dict :\n",
    "        word_dict[n] += 1\n",
    "    else :\n",
    "        word_dict[n] = 1"
   ]
  },
  {
   "cell_type": "code",
   "execution_count": 23,
   "id": "f327158f",
   "metadata": {},
   "outputs": [
    {
     "name": "stdout",
     "output_type": "stream",
     "text": [
      "{'b': 2, 'u': 1, 'g': 1, 'ü': 1, 'n': 4, ' ': 4, 'a': 2, 'y': 1, 'r': 2, 'ı': 2, 'l': 1, 'k': 2, 't': 1, 'i': 3, 'ö': 1, 'c': 1, 'e': 2, 's': 3, 'o': 1, '.': 2}\n"
     ]
    }
   ],
   "source": [
    "print(word_dict)"
   ]
  },
  {
   "cell_type": "code",
   "execution_count": 22,
   "id": "17b97849",
   "metadata": {},
   "outputs": [],
   "source": [
    "veri = [\"a\", \"b\", True, (False, 1), {\"1\" : 2}, [1,2], {\"2\" : \"two\"}, {2, \"3\"}, \"c\", 23, 0]"
   ]
  },
  {
   "cell_type": "code",
   "execution_count": null,
   "id": "c1ca3784",
   "metadata": {},
   "outputs": [],
   "source": [
    "{\"bool\" : 1, \"int\" : 2, \"list\" : 1, \"tuple\" : 1, \"str\" : 3}"
   ]
  },
  {
   "cell_type": "code",
   "execution_count": 24,
   "id": "24fe566d",
   "metadata": {},
   "outputs": [],
   "source": [
    "tipler = [\"int\", \"str\", \"bool\", \"list\", \"tuple\", \"dict\", \"set\"]"
   ]
  },
  {
   "cell_type": "code",
   "execution_count": 25,
   "id": "a6b03671",
   "metadata": {},
   "outputs": [
    {
     "data": {
      "text/plain": [
       "{'int': 0, 'str': 0, 'bool': 0, 'list': 0, 'tuple': 0, 'dict': 0, 'set': 0}"
      ]
     },
     "execution_count": 25,
     "metadata": {},
     "output_type": "execute_result"
    }
   ],
   "source": [
    "{}.fromkeys(tipler, 0)"
   ]
  },
  {
   "cell_type": "code",
   "execution_count": 26,
   "id": "23fbcd91",
   "metadata": {},
   "outputs": [],
   "source": [
    "toplam = {}.fromkeys(tipler, 0)"
   ]
  },
  {
   "cell_type": "code",
   "execution_count": 27,
   "id": "1b8cb002",
   "metadata": {},
   "outputs": [
    {
     "data": {
      "text/plain": [
       "{'int': 0, 'str': 0, 'bool': 0, 'list': 0, 'tuple': 0, 'dict': 0, 'set': 0}"
      ]
     },
     "execution_count": 27,
     "metadata": {},
     "output_type": "execute_result"
    }
   ],
   "source": [
    "toplam"
   ]
  },
  {
   "cell_type": "code",
   "execution_count": 28,
   "id": "726b13d6",
   "metadata": {},
   "outputs": [
    {
     "data": {
      "text/plain": [
       "11"
      ]
     },
     "execution_count": 28,
     "metadata": {},
     "output_type": "execute_result"
    }
   ],
   "source": [
    "len(veri)"
   ]
  },
  {
   "cell_type": "code",
   "execution_count": 30,
   "id": "c4bd873b",
   "metadata": {},
   "outputs": [
    {
     "data": {
      "text/plain": [
       "str"
      ]
     },
     "execution_count": 30,
     "metadata": {},
     "output_type": "execute_result"
    }
   ],
   "source": [
    "type(veri[0])"
   ]
  },
  {
   "cell_type": "code",
   "execution_count": 31,
   "id": "6a4728b8",
   "metadata": {},
   "outputs": [],
   "source": [
    "for i in range(len(veri)) :\n",
    "    if type(veri[i]) == int : toplam[\"int\"] += 1\n",
    "    elif type(veri[i]) == str : toplam[\"str\"] += 1\n",
    "    elif type(veri[i]) == bool : toplam[\"bool\"] += 1\n",
    "    elif type(veri[i]) == list : toplam[\"list\"] += 1\n",
    "    elif type(veri[i]) == tuple : toplam[\"tuple\"] += 1\n",
    "    elif type(veri[i]) == dict : toplam[\"dict\"] += 1\n",
    "    elif type(veri[i]) == set : toplam[\"set\"] += 1"
   ]
  },
  {
   "cell_type": "code",
   "execution_count": 32,
   "id": "02711248",
   "metadata": {},
   "outputs": [
    {
     "data": {
      "text/plain": [
       "{'int': 2, 'str': 3, 'bool': 1, 'list': 1, 'tuple': 1, 'dict': 2, 'set': 1}"
      ]
     },
     "execution_count": 32,
     "metadata": {},
     "output_type": "execute_result"
    }
   ],
   "source": [
    "toplam"
   ]
  },
  {
   "cell_type": "markdown",
   "id": "d266a7a9",
   "metadata": {},
   "source": [
    "## OBEB (Ortak Bölenlerin En Büyüğü)"
   ]
  },
  {
   "cell_type": "code",
   "execution_count": 38,
   "id": "aeed15d2",
   "metadata": {},
   "outputs": [],
   "source": [
    "def obeb(a, b) :\n",
    "    \n",
    "    \"\"\"ilk parametreyi büyük olan sayı olarak giriniz\"\"\"\n",
    "    \n",
    "    if b == 0 :\n",
    "        return a\n",
    "    else :\n",
    "        return obeb(b, a % b)"
   ]
  },
  {
   "cell_type": "code",
   "execution_count": 39,
   "id": "4c46efeb",
   "metadata": {},
   "outputs": [
    {
     "name": "stdout",
     "output_type": "stream",
     "text": [
      "ilk parametreyi büyük olan sayı olarak giriniz\n"
     ]
    }
   ],
   "source": [
    "print(obeb.__doc__)"
   ]
  },
  {
   "cell_type": "code",
   "execution_count": 34,
   "id": "e4d198a8",
   "metadata": {},
   "outputs": [
    {
     "data": {
      "text/plain": [
       "5"
      ]
     },
     "execution_count": 34,
     "metadata": {},
     "output_type": "execute_result"
    }
   ],
   "source": [
    "obeb(65,25)"
   ]
  },
  {
   "cell_type": "code",
   "execution_count": 35,
   "id": "c16285a4",
   "metadata": {},
   "outputs": [
    {
     "data": {
      "text/plain": [
       "8"
      ]
     },
     "execution_count": 35,
     "metadata": {},
     "output_type": "execute_result"
    }
   ],
   "source": [
    "obeb(24,8)"
   ]
  },
  {
   "cell_type": "code",
   "execution_count": 36,
   "id": "0f7c9938",
   "metadata": {},
   "outputs": [
    {
     "data": {
      "text/plain": [
       "5"
      ]
     },
     "execution_count": 36,
     "metadata": {},
     "output_type": "execute_result"
    }
   ],
   "source": [
    "obeb(55,25)"
   ]
  },
  {
   "cell_type": "code",
   "execution_count": 37,
   "id": "4620e451",
   "metadata": {},
   "outputs": [
    {
     "data": {
      "text/plain": [
       "2"
      ]
     },
     "execution_count": 37,
     "metadata": {},
     "output_type": "execute_result"
    }
   ],
   "source": [
    "obeb(44,30)"
   ]
  },
  {
   "cell_type": "code",
   "execution_count": null,
   "id": "0a7ef562",
   "metadata": {},
   "outputs": [],
   "source": [
    "def facto(n) :\n",
    "    \n",
    "    if n == 0 : return 1\n",
    "    else :\n",
    "        return n * facto(n - 1)"
   ]
  },
  {
   "cell_type": "markdown",
   "id": "a6fb00be",
   "metadata": {},
   "source": [
    "## Given a list such `[1, 2, 3]` get an all possible output combinations"
   ]
  },
  {
   "cell_type": "markdown",
   "id": "ae3a24d0",
   "metadata": {},
   "source": [
    "Output:\n",
    "```\n",
    "[\n",
    "  [1,2,3],\n",
    "  [1,3,2],\n",
    "  [2,1,3],\n",
    "  [2,3,1],\n",
    "  [3,1,2],\n",
    "  [3,2,1]\n",
    "]```"
   ]
  },
  {
   "cell_type": "code",
   "execution_count": 40,
   "id": "cb9b3891",
   "metadata": {},
   "outputs": [],
   "source": [
    "solution = [[]]"
   ]
  },
  {
   "cell_type": "code",
   "execution_count": null,
   "id": "8803d74b",
   "metadata": {},
   "outputs": [],
   "source": [
    "# solution - 1 = [[1], [2], [3]]\n",
    "\n",
    "# solution - 2 = [[1, 2], [1, 3], [2, 1], [2, 3], [3, 1], [3, 2]]\n",
    "\n",
    "# solution - 3 = [[1, 2, 3], [1, 3, 2], [2, 1, 3], [2, 3, 1], [3, 1, 2], [3, 2, 1]]"
   ]
  },
  {
   "cell_type": "code",
   "execution_count": 41,
   "id": "47937118",
   "metadata": {},
   "outputs": [
    {
     "name": "stdout",
     "output_type": "stream",
     "text": [
      "[]\n"
     ]
    }
   ],
   "source": [
    "for i in solution :\n",
    "    print(i)"
   ]
  },
  {
   "cell_type": "code",
   "execution_count": 42,
   "id": "50dafb58",
   "metadata": {},
   "outputs": [
    {
     "data": {
      "text/plain": [
       "1"
      ]
     },
     "execution_count": 42,
     "metadata": {},
     "output_type": "execute_result"
    }
   ],
   "source": [
    "len(solution)"
   ]
  },
  {
   "cell_type": "code",
   "execution_count": 43,
   "id": "7da10c71",
   "metadata": {},
   "outputs": [],
   "source": [
    "num = [1, 2, 3]"
   ]
  },
  {
   "cell_type": "code",
   "execution_count": 44,
   "id": "b8628215",
   "metadata": {},
   "outputs": [],
   "source": [
    "num_set = set(num)"
   ]
  },
  {
   "cell_type": "code",
   "execution_count": 45,
   "id": "c80b2ec0",
   "metadata": {},
   "outputs": [
    {
     "data": {
      "text/plain": [
       "{1, 2, 3}"
      ]
     },
     "execution_count": 45,
     "metadata": {},
     "output_type": "execute_result"
    }
   ],
   "source": [
    "num_set"
   ]
  },
  {
   "cell_type": "code",
   "execution_count": 46,
   "id": "43254728",
   "metadata": {},
   "outputs": [
    {
     "data": {
      "text/plain": [
       "set()"
      ]
     },
     "execution_count": 46,
     "metadata": {},
     "output_type": "execute_result"
    }
   ],
   "source": [
    "set([])"
   ]
  },
  {
   "cell_type": "code",
   "execution_count": 47,
   "id": "e28e3116",
   "metadata": {},
   "outputs": [
    {
     "data": {
      "text/plain": [
       "set()"
      ]
     },
     "execution_count": 47,
     "metadata": {},
     "output_type": "execute_result"
    }
   ],
   "source": [
    "set_bos_list = set([])\n",
    "set_bos_list"
   ]
  },
  {
   "cell_type": "code",
   "execution_count": 48,
   "id": "ccdf11de",
   "metadata": {},
   "outputs": [
    {
     "data": {
      "text/plain": [
       "{1, 2, 3}"
      ]
     },
     "execution_count": 48,
     "metadata": {},
     "output_type": "execute_result"
    }
   ],
   "source": [
    "num_set - set_bos_list"
   ]
  },
  {
   "cell_type": "code",
   "execution_count": 49,
   "id": "9df47f5a",
   "metadata": {},
   "outputs": [
    {
     "data": {
      "text/plain": [
       "{2, 3}"
      ]
     },
     "execution_count": 49,
     "metadata": {},
     "output_type": "execute_result"
    }
   ],
   "source": [
    "num_set - set([1])"
   ]
  },
  {
   "cell_type": "code",
   "execution_count": 50,
   "id": "abfabfd7",
   "metadata": {},
   "outputs": [
    {
     "data": {
      "text/plain": [
       "{1, 3}"
      ]
     },
     "execution_count": 50,
     "metadata": {},
     "output_type": "execute_result"
    }
   ],
   "source": [
    "num_set - set([2])"
   ]
  },
  {
   "cell_type": "code",
   "execution_count": 51,
   "id": "79bc1383",
   "metadata": {},
   "outputs": [
    {
     "data": {
      "text/plain": [
       "{3}"
      ]
     },
     "execution_count": 51,
     "metadata": {},
     "output_type": "execute_result"
    }
   ],
   "source": [
    "num_set - set([1,2])"
   ]
  },
  {
   "cell_type": "code",
   "execution_count": 52,
   "id": "9d904522",
   "metadata": {},
   "outputs": [
    {
     "data": {
      "text/plain": [
       "[1, 2, 3]"
      ]
     },
     "execution_count": 52,
     "metadata": {},
     "output_type": "execute_result"
    }
   ],
   "source": [
    "[1] + [2, 3]"
   ]
  },
  {
   "cell_type": "code",
   "execution_count": 53,
   "id": "509367be",
   "metadata": {},
   "outputs": [
    {
     "data": {
      "text/plain": [
       "[2]"
      ]
     },
     "execution_count": 53,
     "metadata": {},
     "output_type": "execute_result"
    }
   ],
   "source": [
    "[] + [2]"
   ]
  },
  {
   "cell_type": "code",
   "execution_count": 54,
   "id": "1cdf5172",
   "metadata": {},
   "outputs": [
    {
     "data": {
      "text/plain": [
       "{3}"
      ]
     },
     "execution_count": 54,
     "metadata": {},
     "output_type": "execute_result"
    }
   ],
   "source": [
    "num_set - set([1] + [2])"
   ]
  },
  {
   "cell_type": "code",
   "execution_count": 55,
   "id": "f1a39267",
   "metadata": {},
   "outputs": [
    {
     "data": {
      "text/plain": [
       "[1, 2, 3]"
      ]
     },
     "execution_count": 55,
     "metadata": {},
     "output_type": "execute_result"
    }
   ],
   "source": [
    "[1, 2] + [3]"
   ]
  },
  {
   "cell_type": "code",
   "execution_count": 40,
   "id": "4a53e104",
   "metadata": {},
   "outputs": [],
   "source": [
    "solution = [[]]"
   ]
  },
  {
   "cell_type": "code",
   "execution_count": null,
   "id": "4f80cac6",
   "metadata": {},
   "outputs": [],
   "source": [
    "# solution = [[]]\n",
    "\n",
    "# solution - 1 = [[1], [2], [3]]\n",
    "\n",
    "# solution - 2 = [[1, 2], [1, 3], [2, 1], [2, 3], [3, 1], [3, 2]]\n",
    "\n",
    "# solution - 3 = [[1, 2, 3], [1, 3, 2], [2, 1, 3], [2, 3, 1], [3, 1, 2], [3, 2, 1]]\n",
    "\n",
    "# "
   ]
  },
  {
   "cell_type": "code",
   "execution_count": 57,
   "id": "d8854248",
   "metadata": {},
   "outputs": [
    {
     "data": {
      "text/plain": [
       "[1, 2, 3]"
      ]
     },
     "execution_count": 57,
     "metadata": {},
     "output_type": "execute_result"
    }
   ],
   "source": [
    "num"
   ]
  },
  {
   "cell_type": "code",
   "execution_count": null,
   "id": "73056aaf",
   "metadata": {},
   "outputs": [],
   "source": [
    "# [body for variable in iterable]"
   ]
  },
  {
   "cell_type": "code",
   "execution_count": 58,
   "id": "226280bb",
   "metadata": {},
   "outputs": [
    {
     "data": {
      "text/plain": [
       "[[0], [1], [2]]"
      ]
     },
     "execution_count": 58,
     "metadata": {},
     "output_type": "execute_result"
    }
   ],
   "source": [
    "[[i] for i in range(3)]"
   ]
  },
  {
   "cell_type": "code",
   "execution_count": 60,
   "id": "5706bb1d",
   "metadata": {},
   "outputs": [
    {
     "data": {
      "text/plain": [
       "[[0], [1], [4]]"
      ]
     },
     "execution_count": 60,
     "metadata": {},
     "output_type": "execute_result"
    }
   ],
   "source": [
    "[[i ** 2] for i in range(3)]"
   ]
  },
  {
   "cell_type": "code",
   "execution_count": 61,
   "id": "3e428b13",
   "metadata": {},
   "outputs": [
    {
     "data": {
      "text/plain": [
       "[[0, 'a'], [1, 'a'], [4, 'a']]"
      ]
     },
     "execution_count": 61,
     "metadata": {},
     "output_type": "execute_result"
    }
   ],
   "source": [
    "[[i ** 2] + [\"a\"] for i in range(3)]"
   ]
  },
  {
   "cell_type": "code",
   "execution_count": 59,
   "id": "556eeb0d",
   "metadata": {},
   "outputs": [
    {
     "data": {
      "text/plain": [
       "[[0], [1], [2]]"
      ]
     },
     "execution_count": 59,
     "metadata": {},
     "output_type": "execute_result"
    }
   ],
   "source": [
    "bos = []\n",
    "\n",
    "for i in range(3) :\n",
    "    bos.append([i])\n",
    "bos"
   ]
  },
  {
   "cell_type": "code",
   "execution_count": 65,
   "id": "3b06788a",
   "metadata": {},
   "outputs": [
    {
     "data": {
      "text/plain": [
       "['04', '05', '06', '14', '15', '16', '24', '25', '26']"
      ]
     },
     "execution_count": 65,
     "metadata": {},
     "output_type": "execute_result"
    }
   ],
   "source": [
    "boss = []\n",
    "\n",
    "for i in range(3) :\n",
    "    for j in range(4,7) :\n",
    "        boss.append(str(i) + str(j))\n",
    "        \n",
    "boss"
   ]
  },
  {
   "cell_type": "code",
   "execution_count": 66,
   "id": "1dba9f93",
   "metadata": {},
   "outputs": [
    {
     "data": {
      "text/plain": [
       "['04', '05', '06', '14', '15', '16', '24', '25', '26']"
      ]
     },
     "execution_count": 66,
     "metadata": {},
     "output_type": "execute_result"
    }
   ],
   "source": [
    "[str(i) + str(j) for i in range(3) for j in range(4,7)]"
   ]
  },
  {
   "cell_type": "code",
   "execution_count": 67,
   "id": "c4c54157",
   "metadata": {},
   "outputs": [
    {
     "data": {
      "text/plain": [
       "{1, 2, 3}"
      ]
     },
     "execution_count": 67,
     "metadata": {},
     "output_type": "execute_result"
    }
   ],
   "source": [
    "num_set"
   ]
  },
  {
   "cell_type": "code",
   "execution_count": null,
   "id": "3edb6370",
   "metadata": {},
   "outputs": [],
   "source": [
    "# solution = [[]]\n",
    "\n",
    "# solution - 1 = [[1], [2], [3]]\n",
    "\n",
    "# solution - 2 = [[1, 2], [1, 3], [2, 1], [2, 3], [3, 1], [3, 2]]\n",
    "\n",
    "# solution - 3 = [[1, 2, 3], [1, 3, 2], [2, 1, 3], [2, 3, 1], [3, 1, 2], [3, 2, 1]]\n",
    "\n",
    "# "
   ]
  },
  {
   "cell_type": "code",
   "execution_count": 68,
   "id": "cbd4e811",
   "metadata": {},
   "outputs": [
    {
     "name": "stdout",
     "output_type": "stream",
     "text": [
      "[[1], [2], [3]]\n",
      "[[1, 2], [1, 3], [2, 1], [2, 3], [3, 1], [3, 2]]\n",
      "[[1, 2, 3], [1, 3, 2], [2, 1, 3], [2, 3, 1], [3, 1, 2], [3, 2, 1]]\n"
     ]
    }
   ],
   "source": [
    "for index in range(len(num)) :\n",
    "    solution = [i + [j] for i in solution for j in num_set.difference(set(i))]\n",
    "    print(solution)"
   ]
  },
  {
   "cell_type": "code",
   "execution_count": null,
   "id": "8a7ae261",
   "metadata": {},
   "outputs": [],
   "source": []
  },
  {
   "cell_type": "code",
   "execution_count": null,
   "id": "a52eec19",
   "metadata": {},
   "outputs": [],
   "source": []
  },
  {
   "cell_type": "code",
   "execution_count": null,
   "id": "7fa57748",
   "metadata": {},
   "outputs": [],
   "source": []
  },
  {
   "cell_type": "code",
   "execution_count": null,
   "id": "aba1c75b",
   "metadata": {},
   "outputs": [],
   "source": []
  }
 ],
 "metadata": {
  "kernelspec": {
   "display_name": "Python 3",
   "language": "python",
   "name": "python3"
  },
  "language_info": {
   "codemirror_mode": {
    "name": "ipython",
    "version": 3
   },
   "file_extension": ".py",
   "mimetype": "text/x-python",
   "name": "python",
   "nbconvert_exporter": "python",
   "pygments_lexer": "ipython3",
   "version": "3.8.8"
  }
 },
 "nbformat": 4,
 "nbformat_minor": 5
}
