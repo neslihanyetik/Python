{
 "cells": [
  {
   "cell_type": "markdown",
   "metadata": {
    "id": "tekgbGbYLTZn"
   },
   "source": [
    "1-Bir stringde eğer en az iki kere 'zip' geçiyorsa ikinci kez geçen zip in indexini döndüren, eğer en az iki kere geçmiyorsa -1 döndüren fonksiyon yazalım."
   ]
  },
  {
   "cell_type": "code",
   "execution_count": 3,
   "metadata": {
    "id": "oc6hiDnaNLgz"
   },
   "outputs": [
    {
     "data": {
      "text/plain": [
       "9"
      ]
     },
     "execution_count": 3,
     "metadata": {},
     "output_type": "execute_result"
    }
   ],
   "source": [
    "def zip_(yazı):\n",
    "    a = yazı.count(\"zip\")\n",
    "    if a < 2:\n",
    "        return -1\n",
    "    else:\n",
    "        b = yazı.split(\"zip\")\n",
    "        return len(b[0] + b[1]) + 3\n",
    "\n",
    "\n",
    "zip_(\"abczipabdzipabezip\")"
   ]
  },
  {
   "cell_type": "code",
   "execution_count": 1,
   "metadata": {},
   "outputs": [
    {
     "data": {
      "text/plain": [
       "3"
      ]
     },
     "execution_count": 1,
     "metadata": {},
     "output_type": "execute_result"
    }
   ],
   "source": [
    "yazı = \"abczipabdzipabezip\"\n",
    "a = yazı.find(\"zip\")\n",
    "a\n"
   ]
  },
  {
   "cell_type": "code",
   "execution_count": 2,
   "metadata": {},
   "outputs": [
    {
     "data": {
      "text/plain": [
       "['abc', 'abd', 'abe', '']"
      ]
     },
     "execution_count": 2,
     "metadata": {},
     "output_type": "execute_result"
    }
   ],
   "source": [
    "b = yazı.split(\"zip\")\n",
    "b"
   ]
  },
  {
   "cell_type": "markdown",
   "metadata": {
    "id": "Wdk2I2HvNPbA"
   },
   "source": [
    "```\n",
    "2. liste ve boolean alan, \"Ping\"lerin arasına \"Pong\" yazan, boolean True ise sona da koyan False varsa sonuna koymayan bir fonksiyon yazalım\n",
    "print(yerlestir([\"Ping\",\"Ping\"],True)) -->['Ping', 'Pong', 'Ping', 'Pong']\n",
    "print(yerlestir([\"Ping\",\"Ping\",\"Ping\",\"Ping\",\"Ping\",\"Ping\"],False)) -->['Ping', 'Pong', 'Ping', 'Pong', 'Ping', 'Pong', 'Ping', 'Pong', 'Ping', 'Pong', 'Ping']\n",
    "```"
   ]
  },
  {
   "cell_type": "code",
   "execution_count": 6,
   "metadata": {
    "id": "FEscwCdRNQvt"
   },
   "outputs": [
    {
     "data": {
      "text/plain": [
       "['Ping', 'Pong', 'Ping', 'Pong', 'Ping', 'Pong', 'Ping', 'Pong']"
      ]
     },
     "execution_count": 6,
     "metadata": {},
     "output_type": "execute_result"
    }
   ],
   "source": [
    "def yerleştir(liste, bool):\n",
    "    edited = []\n",
    "    for i in liste:\n",
    "        edited.append(i)\n",
    "        edited.append(\"Pong\")\n",
    "    if bool:\n",
    "        return edited\n",
    "    else:\n",
    "        del edited[-1]\n",
    "        return edited\n",
    "\n",
    "\n",
    "\n",
    "yerleştir([\"Ping\",\"Ping\",\"Ping\",\"Ping\"],True)"
   ]
  },
  {
   "cell_type": "markdown",
   "metadata": {
    "id": "OF0rVsBJNRVm"
   },
   "source": [
    "```\n",
    "3. Sayının eklemeli devamlılığını bulan fonksiyon yazalım\n",
    "\n",
    "eklemeli_devamlılık(1679583)\n",
    "\n",
    "1+6+7+9+5+8+3=39\n",
    "\n",
    "3+9=12\n",
    "\n",
    "1+2=3\n",
    "\n",
    "Tek basamaklı sayıya ulaşmak için 3 tekrar gerekiyor\n",
    "```"
   ]
  },
  {
   "cell_type": "code",
   "execution_count": 11,
   "metadata": {
    "id": "9wxgaUySOdFv"
   },
   "outputs": [
    {
     "data": {
      "text/plain": [
       "3"
      ]
     },
     "execution_count": 11,
     "metadata": {},
     "output_type": "execute_result"
    }
   ],
   "source": [
    "def eklemeli(x):\n",
    "    x = str(x)\n",
    "    a = len(x)\n",
    "    count = 0\n",
    "    while a != 1:\n",
    "        new = 0\n",
    "        for i in x:\n",
    "            new += int(i)\n",
    "        x = str(new)\n",
    "        a = len(x)\n",
    "        count += 1\n",
    "    return count\n",
    "\n",
    "\n",
    "eklemeli(1679583)"
   ]
  },
  {
   "cell_type": "markdown",
   "metadata": {
    "id": "C0bzI8cTO3Wh"
   },
   "source": [
    "```\n",
    "4. You will be given an array of numbers. You have to sort the odd numbers in ascending order while leaving the even numbers at their original positions.\n",
    "\n",
    "Example:\n",
    "\n",
    "[7, 1] => [1, 7]\n",
    "\n",
    "[5, 8, 6, 3, 4] => [3, 8, 6, 5, 4]\n",
    "\n",
    "[9, 8, 7, 6, 5, 4, 3, 2, 1, 0] => [1, 8, 3, 6, 5, 4, 7, 2, 9, 0]\n",
    "\n",
    "```\n"
   ]
  },
  {
   "cell_type": "code",
   "execution_count": 13,
   "metadata": {
    "id": "cL4ywnsFSVGt"
   },
   "outputs": [
    {
     "data": {
      "text/plain": [
       "[3, 8, 6, 5, 4]"
      ]
     },
     "execution_count": 13,
     "metadata": {},
     "output_type": "execute_result"
    }
   ],
   "source": [
    "def asc(liste):\n",
    "    odd =[]\n",
    "    for i in liste:\n",
    "        if i % 2:\n",
    "            odd.append(i)\n",
    "    odd = sorted(odd)\n",
    "\n",
    "    result = []\n",
    "    k = 0\n",
    "    for i in liste:\n",
    "        if i % 2:\n",
    "            result.append(odd[k])\n",
    "            k += 1\n",
    "        else:\n",
    "            result.append(i)\n",
    "    return result\n",
    "\n",
    "\n",
    "    #odd = [1,3,5,7,9]\n",
    "\n",
    "asc([5, 8, 6, 3, 4])"
   ]
  },
  {
   "cell_type": "markdown",
   "metadata": {
    "id": "pJUfX-07SY0h"
   },
   "source": [
    "```\n",
    "5- Ornek olarak verilen stringin her bir karakteri sirasiyla buyuk harf haline gelecek ve sonuc bir liste seklinde olacak. Ornek 1:\n",
    "\n",
    "test = ‘iki kelime’\n",
    "\n",
    "sonuc = ['Iki kelime', 'iKi kelime', 'ikI kelime', 'iki Kelime', 'iki kElime', 'iki keLime', 'iki kelIme', 'iki keliMe', 'iki kelimE']\n",
    "```\n",
    "\n"
   ]
  },
  {
   "cell_type": "markdown",
   "metadata": {},
   "source": [
    "hatalı çözüm"
   ]
  },
  {
   "cell_type": "code",
   "execution_count": 26,
   "metadata": {
    "id": "fPB8_BlmKiAq"
   },
   "outputs": [
    {
     "data": {
      "text/plain": [
       "['AnkArA', 'aNkara', 'anKara', 'AnkArA', 'ankaRa', 'AnkArA']"
      ]
     },
     "execution_count": 26,
     "metadata": {},
     "output_type": "execute_result"
    }
   ],
   "source": [
    "def upper(yazı):\n",
    "    sonuc = []\n",
    "    k = 0\n",
    "    for i in yazı:\n",
    "        if i.isalnum():\n",
    "            a = yazı.replace(i,i.upper())\n",
    "            sonuc.append(a)\n",
    "            k += 1\n",
    "    return sonuc\n",
    "\n",
    "\n",
    "upper(\"ankara\")"
   ]
  },
  {
   "cell_type": "markdown",
   "metadata": {},
   "source": [
    "doğru çözüm"
   ]
  },
  {
   "cell_type": "code",
   "execution_count": 31,
   "metadata": {},
   "outputs": [
    {
     "data": {
      "text/plain": [
       "['Ankara..', 'aNkara..', 'anKara..', 'ankAra..', 'ankaRa..', 'ankarA..']"
      ]
     },
     "execution_count": 31,
     "metadata": {},
     "output_type": "execute_result"
    }
   ],
   "source": [
    "def upper(yazı):\n",
    "    sonuc=[]\n",
    "    for i in range(len(yazı)):\n",
    "          if yazı[i].isalpha():\n",
    "            sonuc.append(yazı[:i]+yazı[i].upper()+yazı[i+1:])\n",
    "    return sonuc\n",
    "upper(\"ankara\")"
   ]
  },
  {
   "cell_type": "markdown",
   "metadata": {
    "id": "_t_wBbYtKhYW"
   },
   "source": [
    "6. ```\n",
    "morse_codes = {\n",
    "  'A': '.-', 'B': '-...', 'C': '-.-.', 'D': '-..', 'E': '.', 'F': '..-.',\n",
    "  'G': '--.', 'H': '....', 'I': '..', 'J': '.---', 'K': '-.-', 'L': '.-..',\n",
    "  'M': '--', 'N': '-.', 'O': '---', 'P': '.--.', 'Q': '--.-', 'R': '.-.',\n",
    "  'S': '...', 'T': '-', 'U': '..-', 'V': '...-', 'W': '.--', 'X': '-..-',\n",
    "  'Y': '-.--', 'Z': '--..', ' ': ' ', '0': '-----',\n",
    "  '1': '.----', '2': '..---', '3': '...--', '4': '....-', '5': '.....',\n",
    "  '6': '-....', '7': '--...', '8': '---..', '9': '----.',\n",
    "  '&': '.-...', \"'\": '.----.', '@': '.--.-.', ')': '-.--.-', '(': '-.--.',\n",
    "  ':': '---...', ',': '--..--', '=': '-...-', '!': '-.-.--', '.': '.-.-.-',\n",
    "  '-': '-....-', '+': '.-.-.', '\"': '.-..-.', '?': '..--..', '/': '-..-.'\n",
    "}\n",
    "\n",
    "```\n",
    "Arasında boşluk bırakılarak girilen morse kodunu ifadeye, ifadeyi morsea çeviren kod yazalım."
   ]
  },
  {
   "cell_type": "code",
   "execution_count": 29,
   "metadata": {
    "id": "l0qafjHQMP_9"
   },
   "outputs": [
    {
     "data": {
      "text/plain": [
       "'- +'"
      ]
     },
     "execution_count": 29,
     "metadata": {},
     "output_type": "execute_result"
    }
   ],
   "source": [
    "morse_codes = {\n",
    "  'A': '.-', 'B': '-...', 'C': '-.-.', 'D': '-..', 'E': '.', 'F': '..-.',\n",
    "  'G': '--.', 'H': '....', 'I': '..', 'J': '.---', 'K': '-.-', 'L': '.-..',\n",
    "  'M': '--', 'N': '-.', 'O': '---', 'P': '.--.', 'Q': '--.-', 'R': '.-.',\n",
    "  'S': '...', 'T': '-', 'U': '..-', 'V': '...-', 'W': '.--', 'X': '-..-',\n",
    "  'Y': '-.--', 'Z': '--..', ' ': ' ', '0': '-----',\n",
    "  '1': '.----', '2': '..---', '3': '...--', '4': '....-', '5': '.....',\n",
    "  '6': '-....', '7': '--...', '8': '---..', '9': '----.',\n",
    "  '&': '.-...', \"'\": '.----.', '@': '.--.-.', ')': '-.--.-', '(': '-.--.',\n",
    "  ':': '---...', ',': '--..--', '=': '-...-', '!': '-.-.--', '.': '.-.-.-',\n",
    "  '-': '-....-', '+': '.-.-.', '\"': '.-..-.', '?': '..--..', '/': '-..-.'\n",
    "}\n",
    "def dönüştür(yazı):\n",
    "    a = yazı.split()\n",
    "\n",
    "    result = \"\"\n",
    "    keys = list(morse_codes.keys())\n",
    "    values = list(morse_codes.values())\n",
    "    for i in a:\n",
    "        if i in keys:\n",
    "           result += morse_codes[i] + \" \"\n",
    "        elif i in values:\n",
    "            result += keys[values.index(i)] + \" \"\n",
    "    return result.strip()\n",
    "\n",
    "#dönüştür(\"A B C D\")\n",
    "dönüştür(\"-....- .-.-.\")"
   ]
  },
  {
   "cell_type": "markdown",
   "metadata": {
    "id": "zJz-aS4DM9Sl"
   },
   "source": [
    "```\n",
    "7- Once upon a time, on a way through the old wild mountainous west,…\n",
    "… a man was given directions to go from one point to another. The directions were \"NORTH\", \"SOUTH\", \"WEST\", \"EAST\". Clearly \"NORTH\" and \"SOUTH\" are opposite, \"WEST\" and \"EAST\" too.\n",
    "\n",
    "Going to one direction and coming back the opposite direction right away is a needless effort. Since this is the wild west, with dreadfull weather and not much water, it's important to save yourself some energy, otherwise you might die of thirst!\n",
    "\n",
    "How I crossed a mountainous desert the smart way.\n",
    "The directions given to the man are, for example, the following (depending on the language):\n",
    "\n",
    "[\"NORTH\", \"SOUTH\", \"SOUTH\", \"EAST\", \"WEST\", \"NORTH\", \"WEST\"].\n",
    "or\n",
    "{ \"NORTH\", \"SOUTH\", \"SOUTH\", \"EAST\", \"WEST\", \"NORTH\", \"WEST\" };\n",
    "or\n",
    "[North, South, South, East, West, North, West]\n",
    "You can immediatly see that going \"NORTH\" and immediately \"SOUTH\" is not reasonable, better stay to the same place! So the task is to give to the man a simplified version of the plan. A better plan in this case is simply:\n",
    "\n",
    "[\"WEST\"]\n",
    "or\n",
    "{ \"WEST\" }\n",
    "or\n",
    "[West]\n",
    "Other examples:\n",
    "In [\"NORTH\", \"SOUTH\", \"EAST\", \"WEST\"], the direction \"NORTH\" + \"SOUTH\" is going north and coming back right away.\n",
    "\n",
    "The path becomes [\"EAST\", \"WEST\"], now \"EAST\" and \"WEST\" annihilate each other, therefore, the final result is [] (nil in Clojure).\n",
    "\n",
    "In [\"NORTH\", \"EAST\", \"WEST\", \"SOUTH\", \"WEST\", \"WEST\"], \"NORTH\" and \"SOUTH\" are not directly opposite but they become directly opposite after the reduction of \"EAST\" and \"WEST\" so the whole path is reducible to [\"WEST\", \"WEST\"].\n",
    "\n",
    "Task\n",
    "Write a function dirReduc which will take an array of strings and returns an array of strings with the needless directions removed (W<->E or S<->N side by side).\n",
    "\n",
    "The Haskell version takes a list of directions with data Direction = North | East | West | South.\n",
    "The Clojure version returns nil when the path is reduced to nothing.\n",
    "The Rust version takes a slice of enum Direction {North, East, West, South}.\n",
    "See more examples in \"Sample Tests:\"\n",
    "Notes\n",
    "Not all paths can be made simpler. The path [\"NORTH\", \"WEST\", \"SOUTH\", \"EAST\"] is not reducible. \"NORTH\" and \"WEST\", \"WEST\" and \"SOUTH\", \"SOUTH\" and \"EAST\" are not directly opposite of each other and can't become such. Hence the result path is itself : [\"NORTH\", \"WEST\", \"SOUTH\", \"EAST\"].\n",
    "```\n",
    "\n",
    "\n"
   ]
  },
  {
   "cell_type": "code",
   "execution_count": 35,
   "metadata": {
    "id": "lXtQmoMgQjGO"
   },
   "outputs": [
    {
     "data": {
      "text/plain": [
       "'NN'"
      ]
     },
     "execution_count": 35,
     "metadata": {},
     "output_type": "execute_result"
    }
   ],
   "source": [
    "def dirReduc(dir):\n",
    "    while \"NS\" in dir or \"SN\" in dir or \"WE\" in dir or \"EW\" in dir:\n",
    "        dir = dir.replace(\"NS\",\"\").replace(\"SN\",\"\").replace(\"WE\",\"\").replace(\"EW\",\"\")\n",
    "    if dir == \"\":\n",
    "        return 0\n",
    "    else:\n",
    "        return dir\n",
    "\n",
    "dirReduc(\"NWESNWENNS\")\n",
    "#dirReduc(\"NN\")"
   ]
  }
 ],
 "metadata": {
  "colab": {
   "name": "group_3.ipynb",
   "provenance": []
  },
  "interpreter": {
   "hash": "91e309b0d6f9bd13113d0dab55954c7a828cac190944509a12384aacede56c3d"
  },
  "kernelspec": {
   "display_name": "Python 3",
   "language": "python",
   "name": "python3"
  },
  "language_info": {
   "codemirror_mode": {
    "name": "ipython",
    "version": 3
   },
   "file_extension": ".py",
   "mimetype": "text/x-python",
   "name": "python",
   "nbconvert_exporter": "python",
   "pygments_lexer": "ipython3",
   "version": "3.8.3"
  }
 },
 "nbformat": 4,
 "nbformat_minor": 2
}
