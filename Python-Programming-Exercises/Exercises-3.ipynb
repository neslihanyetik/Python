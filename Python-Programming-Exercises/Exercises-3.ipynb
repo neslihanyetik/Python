{
 "cells": [
  {
   "cell_type": "markdown",
   "metadata": {
    "id": "r9B45NdlOz1t"
   },
   "source": [
    "```\n",
    "1 Sansürlü kelimeyi düzeltelim\n",
    "print(sansür(\"pyth*n\", \"o\")) ---> python\n",
    "print(sansür(\"*r*b*m* p*rk *tt*m\",\"aaaıaei\"))  --> arabamı park ettim\n",
    "```\n",
    "\n"
   ]
  },
  {
   "cell_type": "code",
   "execution_count": 9,
   "metadata": {
    "colab": {
     "base_uri": "https://localhost:8080/"
    },
    "id": "GafOli-nlkXd",
    "outputId": "a0d0be94-af50-4428-ca5a-911d5d558c4c"
   },
   "outputs": [
    {
     "name": "stdout",
     "output_type": "stream",
     "text": [
      "python\n",
      "aribamı park ettim\n"
     ]
    }
   ],
   "source": [
    "def sansür(sansürlü, sesli):\n",
    "  n=0\n",
    "  for i in sansürlü:\n",
    "    if i=='*':\n",
    "      sansürlü=sansürlü.replace('*',sesli[n],1)\n",
    "      n+=1\n",
    "  return sansürlü\n",
    "print(sansür(\"pyth*n\", \"o\")) \n",
    "print(sansür(\"*r*b*m* p*rk *tt*m\",\"aiaıaei\"))"
   ]
  },
  {
   "cell_type": "markdown",
   "metadata": {
    "id": "Q5AiEAoiPHH-"
   },
   "source": [
    "```\n",
    "2. Girdisi string olan ifadenin içerisindeki harflerin türkçe alfabesindeki yerlerini bulup, hepsinin değerlerini toplayıp sonuç çiftse True tekse False yazdıran bir fonksiyon yazınız.\n",
    "print(kelime_cift_mi(\"Bilgisayar\")) -->True\n",
    "```\n",
    "\n"
   ]
  },
  {
   "cell_type": "code",
   "execution_count": 12,
   "metadata": {
    "colab": {
     "base_uri": "https://localhost:8080/"
    },
    "id": "TYQxx36xlpH7",
    "outputId": "f5ca6104-4db5-4348-9af3-9136607c86ea"
   },
   "outputs": [
    {
     "name": "stdout",
     "output_type": "stream",
     "text": [
      "True\n"
     ]
    }
   ],
   "source": [
    "def kelime_cift_mi(cümle):\n",
    "  kucuk=\"abcçdefgğhıijklmnoöprsştuüvyz\"\n",
    "  toplam=0\n",
    "  for i in cümle.lower():\n",
    "    if i in kucuk:\n",
    "      toplam+=kucuk.index(i)+1\n",
    "  if toplam % 2 == 0:\n",
    "    return True\n",
    "  else:\n",
    "    return False\n",
    "print(kelime_cift_mi(\"B ç\")) "
   ]
  },
  {
   "cell_type": "markdown",
   "metadata": {
    "id": "yUnkroayPGvn"
   },
   "source": [
    "\n",
    "```\n",
    " 3. Write a program to prompt the user for hours and rate per hour using input to compute gross pay. Pay should be the normal rate for hours up to 40 and time-and-a-half for the hourly rate for all hours worked above 40 hours. Put the logic to do the computation of pay in a function called computepay() and use the function to do the computation. The function should return a value. Use 45 hours and a rate of 10.50 per hour to test the program (the pay should be 498.75). You should use input to read a string and float() to convert the string to a number. Do not worry about error checking the user input unless you want to - you can assume the user types numbers properly. Do not name your variable sum or use the sum() function\n",
    "\n",
    "```\n",
    "\n"
   ]
  },
  {
   "cell_type": "code",
   "execution_count": 13,
   "metadata": {
    "colab": {
     "base_uri": "https://localhost:8080/"
    },
    "id": "i5fWYRVSq2Z7",
    "outputId": "33d91c1b-5314-493c-bd1e-68a7aaafc719"
   },
   "outputs": [
    {
     "data": {
      "text/plain": [
       "95.0"
      ]
     },
     "execution_count": 13,
     "metadata": {
      "tags": []
     },
     "output_type": "execute_result"
    }
   ],
   "source": [
    "def compute_pay(h, r):\n",
    "  if h > 40:\n",
    "    p = 40*r + (h-40) * r* 1.5\n",
    "  else:\n",
    "    p= h*r\n",
    "  return p\n",
    "compute_pay(45, 2)"
   ]
  },
  {
   "cell_type": "markdown",
   "metadata": {
    "id": "agUSmN0iPGqB"
   },
   "source": [
    "```\n",
    "4. Sayının faktöriyelini hesaplayan fonksiyon yazalım.\n",
    "```\n",
    "\n",
    "\n"
   ]
  },
  {
   "cell_type": "code",
   "execution_count": 14,
   "metadata": {
    "colab": {
     "base_uri": "https://localhost:8080/"
    },
    "id": "X35_pYVbsIXM",
    "outputId": "b7432233-0ac8-4365-98d3-4ec87de01a8c"
   },
   "outputs": [
    {
     "data": {
      "text/plain": [
       "24"
      ]
     },
     "execution_count": 14,
     "metadata": {
      "tags": []
     },
     "output_type": "execute_result"
    }
   ],
   "source": [
    "def factoriel(sayi):\n",
    "  sonuc = 1\n",
    "  i = 1\n",
    "  while i <sayi+1:\n",
    "    sonuc *= i\n",
    "    i +=1\n",
    "  return sonuc\n",
    "factoriel(4)"
   ]
  },
  {
   "cell_type": "code",
   "execution_count": 15,
   "metadata": {
    "colab": {
     "base_uri": "https://localhost:8080/"
    },
    "id": "ZW3lrMv5s6WH",
    "outputId": "7002baec-0a59-40b2-f92f-9755d888408e"
   },
   "outputs": [
    {
     "data": {
      "text/plain": [
       "120"
      ]
     },
     "execution_count": 15,
     "metadata": {
      "tags": []
     },
     "output_type": "execute_result"
    }
   ],
   "source": [
    "def factoriel(sayi):\n",
    "  sonuc = 1\n",
    "  for i in range(1,sayi+1):\n",
    "    sonuc*=i\n",
    "  return sonuc\n",
    "factoriel(5)"
   ]
  },
  {
   "cell_type": "markdown",
   "metadata": {
    "id": "tPWXxyrEPGmw"
   },
   "source": [
    "```\n",
    "5. Sayı ve string paramestresi alan, sayıyı geriye doğru aralarında * olacak şekilde yazdıran, sonuna verilen stringi büyük harflerle ekleyen ve en sona ! işareti koyan bir fonksiyon yazalım\n",
    " ÖRNEK\n",
    "geri_say(3,\"go\")--> \"3*2*1*GO!\"**kalın metin**\n",
    "```\n",
    "\n"
   ]
  },
  {
   "cell_type": "code",
   "execution_count": 16,
   "metadata": {
    "colab": {
     "base_uri": "https://localhost:8080/",
     "height": 35
    },
    "id": "fUCs9qFZtseU",
    "outputId": "08ffb2b7-0d50-4d1c-84b2-7d258826082f"
   },
   "outputs": [
    {
     "data": {
      "application/vnd.google.colaboratory.intrinsic+json": {
       "type": "string"
      },
      "text/plain": [
       "'3*2*1*GO!'"
      ]
     },
     "execution_count": 16,
     "metadata": {
      "tags": []
     },
     "output_type": "execute_result"
    }
   ],
   "source": [
    "def geri_say(n, yazi):\n",
    "  sonuc = ''\n",
    "  for i in range(n,0,-1):\n",
    "    sonuc += str(i) + '*'\n",
    "  sonuc+= yazi.upper() + '!'\n",
    "  return sonuc\n",
    "geri_say(3,\"go\")"
   ]
  },
  {
   "cell_type": "markdown",
   "metadata": {
    "id": "X0np6sCFPGjA"
   },
   "source": [
    "```\n",
    "6. Arif ve Raife listede yanyana duruyorlasa True döndüren durmuyorlarsa False döndüren bir fonksiyon yazalım.\n",
    "print(yan_yana_mı([\"Arif\",\"Raife\",\"Nihal\"])) --> True\n",
    "print(yan_yana_mı([\"Arif\",\"Nihal\",\"Raife\"])) --> False\n",
    "```\n",
    "\n"
   ]
  },
  {
   "cell_type": "code",
   "execution_count": 19,
   "metadata": {
    "colab": {
     "base_uri": "https://localhost:8080/"
    },
    "id": "2WxAQYGevApA",
    "outputId": "fd14a40d-e658-4a59-dbaf-1df3e880d0ed"
   },
   "outputs": [
    {
     "name": "stdout",
     "output_type": "stream",
     "text": [
      "True\n",
      "False\n"
     ]
    }
   ],
   "source": [
    "def yan_yana_mi(liste):\n",
    "  for i in liste:\n",
    "    if liste.index('Arif')+1 == liste.index('Raife') or liste.index('Arif') == liste.index('Raife') +1:\n",
    "      return True\n",
    "    else:\n",
    "      return False\n",
    "print(yan_yana_mi([\"Arif\",\"Raife\",\"Nihal\"]))\n",
    "print(yan_yana_mi([\"Arif\",\"Nihal\",\"Raife\"]))"
   ]
  },
  {
   "cell_type": "markdown",
   "metadata": {
    "id": "o8RAQ9ZpPGcN"
   },
   "source": [
    "```\n",
    "7. Listedeki her elemanı kendi indexi ile çarpıp toplamı veren bir fonksiyon yazalım.\n",
    "print(carpip_topla([1,2,3,4,5,6,7,8,9,10])) --> 330\n",
    "```\n",
    "\n",
    "\n",
    "\n"
   ]
  },
  {
   "cell_type": "code",
   "execution_count": 21,
   "metadata": {
    "colab": {
     "base_uri": "https://localhost:8080/"
    },
    "id": "T_kLAmqewl7_",
    "outputId": "7bbb1416-c8b5-4c3f-b1f5-b1c1b6c3629c"
   },
   "outputs": [
    {
     "data": {
      "text/plain": [
       "1"
      ]
     },
     "execution_count": 21,
     "metadata": {
      "tags": []
     },
     "output_type": "execute_result"
    }
   ],
   "source": [
    "def carpıp_topla(liste):\n",
    "  toplam = 0\n",
    "  for i in range(len(liste)):\n",
    "    toplam += i* liste [i]\n",
    "  return toplam\n",
    "carpıp_topla([1,1])"
   ]
  },
  {
   "cell_type": "code",
   "execution_count": 20,
   "metadata": {
    "colab": {
     "base_uri": "https://localhost:8080/"
    },
    "id": "d9Y3djzdxYpj",
    "outputId": "9a04da67-f474-4318-fb5c-fef5bb4a4010"
   },
   "outputs": [
    {
     "data": {
      "text/plain": [
       "0"
      ]
     },
     "execution_count": 20,
     "metadata": {
      "tags": []
     },
     "output_type": "execute_result"
    }
   ],
   "source": [
    "#hatalı çözüm\n",
    "def carpıp_topla(liste):\n",
    "  toplam = 0\n",
    "  for i in liste:\n",
    "    toplam += i* liste.index(i)\n",
    "  return toplam\n",
    "carpıp_topla([1,1])"
   ]
  },
  {
   "cell_type": "markdown",
   "metadata": {
    "id": "6eFw-Cy2PGYg"
   },
   "source": [
    "```\n",
    "8. Cümledeki sayı ve harflerin sayısını bulan bir fonksiyon yazalım\n",
    "print(harf_sayi_sayisi(\"10'a kadar saysam ve sonrasında hayat bayram olsa.\")) --> Harfler: 39, Sayılar: 2\n",
    "\n",
    "```\n",
    "\n",
    "\n"
   ]
  },
  {
   "cell_type": "code",
   "execution_count": 23,
   "metadata": {
    "colab": {
     "base_uri": "https://localhost:8080/"
    },
    "id": "rDQnhdRQyFOY",
    "outputId": "e17ac0c4-44e3-41a2-de77-3eabee552154"
   },
   "outputs": [
    {
     "name": "stdout",
     "output_type": "stream",
     "text": [
      "Harfler: 39, sayılar 2, diğerleri 9\n"
     ]
    }
   ],
   "source": [
    "def harf_sayi_sayisi(cümle):\n",
    "  h = 0\n",
    "  s = 0\n",
    "  d = 0\n",
    "  for i in cümle:\n",
    "    if i.isalpha():\n",
    "      h+=1\n",
    "    elif i.isdigit():\n",
    "      s+=1\n",
    "    else:\n",
    "      d +=1\n",
    "  return f'Harfler: {h}, sayılar {s}, diğerleri {d}'\n",
    "print(harf_sayi_sayisi(\"10'a kadar saysam ve sonrasında hayat bayram olsa.\"))"
   ]
  },
  {
   "cell_type": "markdown",
   "metadata": {
    "id": "txt134wgPGVZ"
   },
   "source": [
    "```\n",
    "9.Stringin içindeki en büyük ve en küçük sayıyı veren fonksiyon yazalım.\n",
    "print(büyük_kücük(\"3 2 4 6 -1 12\")) --> 12 -1\n",
    "```\n",
    "\n"
   ]
  },
  {
   "cell_type": "code",
   "execution_count": 25,
   "metadata": {
    "colab": {
     "base_uri": "https://localhost:8080/"
    },
    "id": "bnbOeXxAzdJC",
    "outputId": "9f77c59c-b8f8-4f50-90bf-38aeaa55bd28"
   },
   "outputs": [
    {
     "name": "stdout",
     "output_type": "stream",
     "text": [
      "12 -1\n"
     ]
    }
   ],
   "source": [
    "def buyuk_kucuk(deger):\n",
    "  liste= list(map(int, deger.split()))\n",
    "  return f'{max(liste)} {min(liste)}'\n",
    "print(buyuk_kucuk(\"3 2 4 6 -1 12\"))"
   ]
  },
  {
   "cell_type": "markdown",
   "metadata": {
    "id": "RhGJCDaNPGIS"
   },
   "source": [
    "```\n",
    "10. Harfler ve boşluklardan oluşan stringin içindeki kelime nin uzunluğu beş veya dah fazla ise o kelimeyi ters çeviren bir fonksiyon yazalım.\n",
    "print(ters_döndür(\"Ah bir data scientist olabilsem:)\")) --> Ah bir data tsitneics ):meslibalo\n",
    "```\n",
    "\n"
   ]
  },
  {
   "cell_type": "code",
   "execution_count": 28,
   "metadata": {
    "colab": {
     "base_uri": "https://localhost:8080/"
    },
    "id": "_dfpXe790luM",
    "outputId": "e296c945-bf97-49e5-b9fe-cbcf1087abf3"
   },
   "outputs": [
    {
     "name": "stdout",
     "output_type": "stream",
     "text": [
      "Ah bir data tsitneics ):meslibalo\n"
     ]
    }
   ],
   "source": [
    "def ters_dondur(yazi):\n",
    "  liste = yazi.split()\n",
    "  yeni = ''\n",
    "  for i in liste :\n",
    "    if len(i) >= 5:\n",
    "      yeni += i [::-1] + ' '\n",
    "    else:\n",
    "      yeni += i + ' '\n",
    "  return yeni.strip()\n",
    "\n",
    "print(ters_dondur(\"Ah bir data scientist olabilsem:)\"))"
   ]
  }
 ],
 "metadata": {
  "colab": {
   "name": "group_1_cozumlu.ipynb",
   "provenance": []
  },
  "kernelspec": {
   "display_name": "Python 3",
   "language": "python",
   "name": "python3"
  },
  "language_info": {
   "codemirror_mode": {
    "name": "ipython",
    "version": 3
   },
   "file_extension": ".py",
   "mimetype": "text/x-python",
   "name": "python",
   "nbconvert_exporter": "python",
   "pygments_lexer": "ipython3",
   "version": "3.8.3"
  }
 },
 "nbformat": 4,
 "nbformat_minor": 1
}
