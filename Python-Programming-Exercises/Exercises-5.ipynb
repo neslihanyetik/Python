{
 "cells": [
  {
   "cell_type": "markdown",
   "metadata": {
    "id": "wF5X9vJ-9TOG"
   },
   "source": [
    "1- Write a program to prompt for a score between 0.0 and 1.0. If the score is out of range, print an error. If the score is between 0.0 and 1.0, print a grade using the following table: Score Grade\n",
    "\n",
    "0.9 A\n",
    "\n",
    "0.8 B\n",
    "\n",
    "0.7 C\n",
    "\n",
    "0.6 D\n",
    "\n",
    "0.6 F\n",
    "\n",
    "If the user enters a value out of range, print a suitable error message and exit. For the test, enter a score of 0.85"
   ]
  },
  {
   "cell_type": "code",
   "execution_count": 2,
   "metadata": {
    "colab": {
     "base_uri": "https://localhost:8080/"
    },
    "id": "8me-j3Iw8892",
    "outputId": "c37dfbe0-330f-419b-913c-dad15808b022"
   },
   "outputs": [
    {
     "name": "stdout",
     "output_type": "stream",
     "text": [
      "Enter Score: 0.85\n",
      "B\n"
     ]
    }
   ],
   "source": [
    "s = float(input(\"Enter Score: \"))\n",
    "\n",
    "if 0.0 <= s <= 1.0:\n",
    "\tif s>=0.9:\n",
    "\t\tprint(\"A\")\n",
    "\telif s>=0.8:\n",
    "\t\tprint(\"B\")\n",
    "\telif s>=0.7:\n",
    "\t\tprint(\"C\")\n",
    "\telif s>=0.6:\n",
    "\t\tprint(\"D\")\n",
    "\telif s<0.6:\n",
    "\t\tprint(\"F\")\n",
    "else:\n",
    "    print(\"Error\")"
   ]
  },
  {
   "cell_type": "markdown",
   "metadata": {
    "id": "ZhJvfs4E9ge3"
   },
   "source": [
    "2- Yazi olarak girilen string ifadenin içindeki harfler tamamen büyük veya tamamen küçük ise True, küçük ve büyük harlerden oluşmuş ise False veren bir fonksiyon yazalım."
   ]
  },
  {
   "cell_type": "code",
   "execution_count": null,
   "metadata": {
    "id": "VleRdT2X9jF8"
   },
   "outputs": [],
   "source": [
    "def büyük_kücük(yazi):\n",
    "  if yazi.upper()==yazi or yazi.lower()==yazi:\n",
    "    return True\n",
    "  else:\n",
    "    return False\n",
    "\n",
    " \n",
    "print(büyük_kücük(\"Merhaba\"))\n",
    "print(büyük_kücük(\"merhaba\"))\n",
    "print(büyük_kücük(\"merHaba\"))\n",
    "print(büyük_kücük(\"MERHABA\"))"
   ]
  },
  {
   "cell_type": "markdown",
   "metadata": {
    "id": "p26Ppin59jns"
   },
   "source": [
    "3- Sayıyı kalansız bölen sayıları bulan bir fonksiyon yazalım"
   ]
  },
  {
   "cell_type": "code",
   "execution_count": 3,
   "metadata": {
    "colab": {
     "base_uri": "https://localhost:8080/"
    },
    "id": "XVym8alt9kI0",
    "outputId": "bd5487fc-2aa9-4ea3-8291-fd716268585b"
   },
   "outputs": [
    {
     "name": "stdout",
     "output_type": "stream",
     "text": [
      "[1, 2, 5, 10, 25, 50, 125, 250]\n"
     ]
    }
   ],
   "source": [
    "def carpanlarina_ayir(sayi):\n",
    "  carpanlar=[]\n",
    "  for i in range(1,sayi+1):\n",
    "    if sayi % i ==0:\n",
    "      carpanlar.append(i)\n",
    "      \n",
    "  return carpanlar\n",
    "\n",
    "\n",
    "print(carpanlarina_ayir(250))"
   ]
  },
  {
   "cell_type": "markdown",
   "metadata": {
    "id": "Hus7WySA-anJ"
   },
   "source": [
    "4- Cümlenin içindeki sesli harfleri kaldıran bir fonksiyon yazalım."
   ]
  },
  {
   "cell_type": "code",
   "execution_count": 11,
   "metadata": {
    "colab": {
     "base_uri": "https://localhost:8080/"
    },
    "id": "T4lkUZCsNV_D",
    "outputId": "c5bbcc2c-106a-43b3-fdcf-3cff2ba10c55"
   },
   "outputs": [
    {
     "name": "stdout",
     "output_type": "stream",
     "text": [
      "Hyt bn ndn yrysn?:)\n",
      "HYT BN NDN YRYSN?:)\n"
     ]
    }
   ],
   "source": [
    "def sessiz_yap(text):\n",
    "    sesliler = \"aeıioöuüAEIİOÖUÜ\"\n",
    "    for i in text:\n",
    "        if i in sesliler:\n",
    "            text = text.replace(i, \"\")\n",
    "    return text\n",
    "print(sessiz_yap(\"Hayat beni neden yoruyosun?:)\"))\n",
    "print(sessiz_yap(\"HAYAT BENI NEDEN YORUYOSUN?:)\"))"
   ]
  },
  {
   "cell_type": "code",
   "execution_count": 13,
   "metadata": {
    "colab": {
     "base_uri": "https://localhost:8080/"
    },
    "id": "8DoOCx2E-bBC",
    "outputId": "151e81fb-3ae2-4132-9396-691b9e624e3f"
   },
   "outputs": [
    {
     "name": "stdout",
     "output_type": "stream",
     "text": [
      "Hyt bn ndn yrysn?:)\n",
      "HYT BN NDN YRYSN?:)\n"
     ]
    }
   ],
   "source": [
    "def sessiz_yap(cümle):\n",
    "  sesli=\"aeıioöuüAEIİOÖUÜ\"\n",
    "  yeni=\"\"\n",
    "  for i in cümle:\n",
    "    if i not in sesli:\n",
    "      yeni+=i\n",
    "  return yeni\n",
    "print(sessiz_yap(\"Hayat beni neden yoruyosun?:)\"))\n",
    "print(sessiz_yap(\"HAYAT BENI NEDEN YORUYOSUN?:)\"))"
   ]
  },
  {
   "cell_type": "markdown",
   "metadata": {
    "id": "9dXxmVq4_ULE"
   },
   "source": [
    "5- Tarihi yüzyıla çeviren bir fonksiyon yazalım.\n",
    "print(yüzyıl_yap(1738)) --> 18. yüzyıl"
   ]
  },
  {
   "cell_type": "code",
   "execution_count": 14,
   "metadata": {
    "colab": {
     "base_uri": "https://localhost:8080/"
    },
    "id": "NZcRA1UJ_Xyk",
    "outputId": "3d81d75d-c035-4f25-d194-1d321e9306a1"
   },
   "outputs": [
    {
     "name": "stdout",
     "output_type": "stream",
     "text": [
      "18. yüzyıl\n"
     ]
    }
   ],
   "source": [
    "def yüzyıl_yap(yıl):\n",
    "  return f\"{(yıl//100)+1}. yüzyıl\"\n",
    "print(yüzyıl_yap(1738))"
   ]
  },
  {
   "cell_type": "markdown",
   "metadata": {
    "id": "uBPqPsDQ_iC_"
   },
   "source": [
    "6- Yazının içersindeki kelimelerin ilk ve son karakterleri sabit tutup diğer karakterleri yerine - çizgi koyan fonksiyon yazalım.\n",
    "print(dönüstür(\"hello world\")) --> h---o w---d "
   ]
  },
  {
   "cell_type": "code",
   "execution_count": 17,
   "metadata": {
    "colab": {
     "base_uri": "https://localhost:8080/"
    },
    "id": "34wHuiDvAun_",
    "outputId": "bd637f6f-4183-4b48-8525-ced7c23b52fa"
   },
   "outputs": [
    {
     "name": "stdout",
     "output_type": "stream",
     "text": [
      "h---o w---d\n"
     ]
    }
   ],
   "source": [
    "def dönüstür(yazi):\n",
    "  liste=yazi.split()\n",
    "  yeni=\"\"\n",
    "  for i in liste:\n",
    "    for k in i:\n",
    "      if i.index(k)==0:\n",
    "        yeni+=k\n",
    "      elif i.index(k)== len(i)-1:\n",
    "        yeni+=k+\" \"\n",
    "      else:\n",
    "        yeni+=\"-\"\n",
    "  return yeni.strip()\n",
    "print(dönüstür(\"hello world\"))"
   ]
  },
  {
   "cell_type": "markdown",
   "metadata": {
    "id": "ugfPkddXA5hr"
   },
   "source": [
    "7- Her girdi listesinde iki tanesi hariç her rakam en az bir kere tekrarlıyor.iki benzersiz sayıyı döndüren bir fonksiyon yazalım.\n",
    "benzersizi_bul([2,2,3,11,3,6,5]) --> [6, 5]  # 11 te 2 tane 1 var"
   ]
  },
  {
   "cell_type": "code",
   "execution_count": 16,
   "metadata": {
    "colab": {
     "base_uri": "https://localhost:8080/"
    },
    "id": "H_6vgN59BXQL",
    "outputId": "9f7bc509-b533-442a-95c8-77e8b3d03f9e"
   },
   "outputs": [
    {
     "data": {
      "text/plain": [
       "[6, 5]"
      ]
     },
     "execution_count": 16,
     "metadata": {
      "tags": []
     },
     "output_type": "execute_result"
    }
   ],
   "source": [
    "def benzersizi_bul(girdi):\n",
    "  yeni=[]\n",
    "  a=\"\"\n",
    "  for i in girdi:\n",
    "    a+=str(i)\n",
    "  for s in set(a):\n",
    "    if a.count(s)==1:\n",
    "      yeni.append(int(s))\n",
    "  return yeni\n",
    "benzersizi_bul([2,2,3,11,3,6,5])"
   ]
  },
  {
   "cell_type": "markdown",
   "metadata": {
    "id": "nhdI-3npCBSW"
   },
   "source": [
    "8- Bir stringi(kelime) alan ve birbirini izleyen aynı harfleri çıkaran bir fonksiyon oluşturun.\n",
    "print(cıkar(\"mmmeeerrhhhaaabbbaaa\")) --> merhaba"
   ]
  },
  {
   "cell_type": "code",
   "execution_count": null,
   "metadata": {
    "colab": {
     "base_uri": "https://localhost:8080/"
    },
    "id": "K5kKE22OCCix",
    "outputId": "3c7e6c28-bca8-44b4-a3a2-a2a0db6ee99d"
   },
   "outputs": [
    {
     "name": "stdout",
     "output_type": "stream",
     "text": [
      "merhaba\n",
      "selam\n"
     ]
    }
   ],
   "source": [
    "def cıkar(kelime):\n",
    "  yeni=\"\"\n",
    "  for i in range(len(kelime)-1):\n",
    "    if kelime[i]!=kelime[i+1]:\n",
    "      yeni+=kelime[i]\n",
    "  yeni+=kelime[-1]\n",
    "  return yeni\n",
    "print(cıkar(\"mmmeeerrhhhaaabbbaaa\"))\n",
    "print(cıkar(\"ssseeellllaaammm\"))"
   ]
  },
  {
   "cell_type": "markdown",
   "metadata": {
    "id": "18m36uwdCPHG"
   },
   "source": [
    "9- Belirli aralıkta(sınırlar dahil) verilen rakamın kaç kere olduğunu sayan bir fonksiyon yazalım. print(kac_tane(50,55,5)) --> 7"
   ]
  },
  {
   "cell_type": "code",
   "execution_count": null,
   "metadata": {
    "colab": {
     "base_uri": "https://localhost:8080/"
    },
    "id": "wgOomteRCP4J",
    "outputId": "64daf5c3-335b-4eef-e0eb-72e7e7d57931"
   },
   "outputs": [
    {
     "name": "stdout",
     "output_type": "stream",
     "text": [
      "7\n"
     ]
    }
   ],
   "source": [
    "def kac_tane(baslangic, bitis, sayi):\n",
    "  sonuc = 0\n",
    "  for i in range(baslangic, bitis+1):\n",
    "    sonuc += str(i).count(str(sayi))\n",
    "  return sonuc\n",
    "\n",
    "print(kac_tane(50,55,5))"
   ]
  },
  {
   "cell_type": "markdown",
   "metadata": {
    "id": "hhmgH3FlInzz"
   },
   "source": [
    "10- Yüksekliği verilen yılbaşı ağacını oluşturan bir fonksiyon yazalım. agac(7)\n",
    "\n",
    "\n",
    "```\n",
    "      #      \n",
    "     ###     \n",
    "    #####    \n",
    "   #######   \n",
    "  #########  \n",
    " ########### \n",
    "############# \n",
    "```\n"
   ]
  },
  {
   "cell_type": "code",
   "execution_count": 24,
   "metadata": {
    "colab": {
     "base_uri": "https://localhost:8080/"
    },
    "id": "RRAIn45iRFqO",
    "outputId": "be26bb75-f491-4375-dbec-fe71a6d564c7"
   },
   "outputs": [
    {
     "name": "stdout",
     "output_type": "stream",
     "text": [
      "      #      \n",
      "     ###     \n",
      "    #####    \n",
      "   #######   \n",
      "  #########  \n",
      " ########### \n",
      "#############\n"
     ]
    }
   ],
   "source": [
    "def agac(yükseklik):\n",
    "  for i in range(1,2*yükseklik ,2):\n",
    "    print((i*\"#\").center(2*yükseklik-1))\n",
    "agac(7)"
   ]
  },
  {
   "cell_type": "code",
   "execution_count": null,
   "metadata": {
    "colab": {
     "base_uri": "https://localhost:8080/"
    },
    "id": "lyNnVi0mIvc3",
    "outputId": "c5b20049-81f6-48d8-d112-d378d35fc6d1"
   },
   "outputs": [
    {
     "name": "stdout",
     "output_type": "stream",
     "text": [
      "      #      \n",
      "     ###     \n",
      "    #####    \n",
      "   #######   \n",
      "  #########  \n",
      " ########### \n",
      "#############\n"
     ]
    }
   ],
   "source": [
    "def agac(yükseklik):\n",
    "  i=1\n",
    "  while i <= (2*yükseklik-1):\n",
    "    print((i*\"#\").center(2*yükseklik-1))\n",
    "    i+=2\n",
    "agac(7)"
   ]
  },
  {
   "cell_type": "code",
   "execution_count": null,
   "metadata": {
    "id": "Q2Le7V-ZSQRO"
   },
   "outputs": [],
   "source": []
  }
 ],
 "metadata": {
  "colab": {
   "name": "group_2_cozumlu.ipynb",
   "provenance": []
  },
  "kernelspec": {
   "display_name": "Python 3",
   "language": "python",
   "name": "python3"
  },
  "language_info": {
   "codemirror_mode": {
    "name": "ipython",
    "version": 3
   },
   "file_extension": ".py",
   "mimetype": "text/x-python",
   "name": "python",
   "nbconvert_exporter": "python",
   "pygments_lexer": "ipython3",
   "version": "3.8.3"
  }
 },
 "nbformat": 4,
 "nbformat_minor": 1
}
