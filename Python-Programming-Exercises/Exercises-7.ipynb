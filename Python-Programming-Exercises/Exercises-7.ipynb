{
 "cells": [
  {
   "cell_type": "markdown",
   "metadata": {},
   "source": [
    "### 1\n",
    "```\n",
    "Bir dize kabul eden ve rakam ve harf sayısını hesaplayan bir Python programı yazın. \n",
    "Örnek Veri : Python 3.2\n",
    "Beklenen Çıktı :\n",
    "Harfler 6\n",
    "Rakam 2\n",
    "```"
   ]
  },
  {
   "cell_type": "code",
   "execution_count": 2,
   "metadata": {},
   "outputs": [],
   "source": [
    "import string"
   ]
  },
  {
   "cell_type": "code",
   "execution_count": 3,
   "metadata": {},
   "outputs": [
    {
     "name": "stdout",
     "output_type": "stream",
     "text": [
      "['Formatter', 'Template', '_ChainMap', '_TemplateMetaclass', '__all__', '__builtins__', '__cached__', '__doc__', '__file__', '__loader__', '__name__', '__package__', '__spec__', '_re', '_sentinel_dict', '_string', 'ascii_letters', 'ascii_lowercase', 'ascii_uppercase', 'capwords', 'digits', 'hexdigits', 'octdigits', 'printable', 'punctuation', 'whitespace']\n"
     ]
    }
   ],
   "source": [
    "print(dir(string))"
   ]
  },
  {
   "cell_type": "code",
   "execution_count": 5,
   "metadata": {},
   "outputs": [],
   "source": [
    "harfler = string.ascii_lowercase"
   ]
  },
  {
   "cell_type": "code",
   "execution_count": 6,
   "metadata": {},
   "outputs": [
    {
     "data": {
      "text/plain": [
       "'abcdefghijklmnopqrstuvwxyz'"
      ]
     },
     "execution_count": 6,
     "metadata": {},
     "output_type": "execute_result"
    }
   ],
   "source": [
    "harfler"
   ]
  },
  {
   "cell_type": "code",
   "execution_count": 7,
   "metadata": {},
   "outputs": [],
   "source": [
    "rakamlar = string.digits"
   ]
  },
  {
   "cell_type": "code",
   "execution_count": 8,
   "metadata": {},
   "outputs": [
    {
     "name": "stdout",
     "output_type": "stream",
     "text": [
      "Enter a text here > lkfsdkjfsldk34584357934875\n",
      "rakam:  14 harf:  12\n"
     ]
    }
   ],
   "source": [
    "text = input('Enter a text here > ')\n",
    "harf, rakam = 0, 0 # [chr(i) for i in range(97, 112)]\n",
    "for i in text.lower():\n",
    "    if i in harfler:\n",
    "        harf += 1\n",
    "    elif i in rakamlar:\n",
    "        rakam += 1\n",
    "print('rakam: ', rakam, 'harf: ', harf)\n",
    "        "
   ]
  },
  {
   "cell_type": "markdown",
   "metadata": {},
   "source": [
    "### 2\n",
    "```\n",
    "A number is said to be Harshad if it's exactly divisible by the sum of its digits. Create a function that determines whether a number is a Harshad or not.\n",
    "\n",
    "is_harshad(75) ➞ False\n",
    "#7 + 5 = 12\n",
    "#75 is not exactly divisible by 12\n",
    " \n",
    "is_harshad(171) ➞ True\n",
    "#1 + 7 + 1 = 9\n",
    "#9 exactly divides 171\n",
    " \n",
    "is_harshad(481) ➞ True\n",
    "\n",
    "is_harshad(89) ➞ False\n",
    "\n",
    "is_harshad(516) ➞ True\n",
    "\n",
    "is_harshad(200) ➞ True\n",
    "```"
   ]
  },
  {
   "cell_type": "code",
   "execution_count": 11,
   "metadata": {},
   "outputs": [
    {
     "name": "stdout",
     "output_type": "stream",
     "text": [
      "Enter an integer > 89\n",
      "Not Harshad\n"
     ]
    }
   ],
   "source": [
    "num = int(input('Enter an integer > '))\n",
    "toplam = 0\n",
    "num = str(num)\n",
    "for i in num:\n",
    "    toplam += int(i)\n",
    "if int(num) % toplam == 0:\n",
    "    print('Harshad')\n",
    "else:\n",
    "    print('Not Harshad')"
   ]
  },
  {
   "cell_type": "markdown",
   "metadata": {},
   "source": [
    "### 3\n",
    "```\n",
    "\"Loves me, loves me not\" is a traditional game in which a person plucks off all the petals of a flower one by one, saying the phrase \"Loves me\" and \"Loves me not\" when determining whether the one that they love, loves them back.\n",
    "\n",
    "Given a number of petals, return a string which repeats the phrases \"Loves me\" and \"Loves me not\" for every alternating petal, and return the last phrase in all caps. Remember to put a comma and space between phrases.\n",
    "\n",
    "Loves me, Loves me not, Loves me, Loves me not, LOVES ME\n",
    "```"
   ]
  },
  {
   "cell_type": "code",
   "execution_count": 14,
   "metadata": {},
   "outputs": [
    {
     "name": "stdout",
     "output_type": "stream",
     "text": [
      "Enter a number here > 5\n",
      "Loves me, Loves me not, Loves me, Loves me not, LOVES ME\n"
     ]
    }
   ],
   "source": [
    "num = int(input('Enter a number here > '))\n",
    "result = ''\n",
    "text = 'Loves me'\n",
    "for i in range(1, num + 1):\n",
    "    if i % 2 == 0:\n",
    "        res = text + ' not'\n",
    "    else:\n",
    "        res = text\n",
    "    if i == num:\n",
    "        res = res.upper()\n",
    "    result += res + ', '\n",
    "result = result.rstrip(', ')\n",
    "print(result)"
   ]
  },
  {
   "cell_type": "markdown",
   "metadata": {},
   "source": [
    "### 4\n",
    "```\n",
    "Create a function that takes an integer n and returns the factorial of factorials. \n",
    "\n",
    "See below examples for a better understanding:\n",
    "\n",
    "fact_of_fact(4) ➞ 288\n",
    "#4! * 3! * 2! * 1! = 288\n",
    "\n",
    "fact_of_fact(5) ➞ 34560\n",
    "\n",
    "fact_of_fact(6) ➞ 24883200\n",
    "```"
   ]
  },
  {
   "cell_type": "code",
   "execution_count": 16,
   "metadata": {},
   "outputs": [
    {
     "name": "stdout",
     "output_type": "stream",
     "text": [
      "Enter an integer here > 6\n",
      "24883200\n"
     ]
    }
   ],
   "source": [
    "num = int(input('Enter an integer here > '))\n",
    "sonuc = 1\n",
    "for i in range(2, num + 1):\n",
    "    fact = 1\n",
    "    for j in range(1, i + 1):\n",
    "        fact *= j\n",
    "    sonuc *= fact\n",
    "print(sonuc)"
   ]
  },
  {
   "cell_type": "code",
   "execution_count": 18,
   "metadata": {},
   "outputs": [
    {
     "data": {
      "text/plain": [
       "24883200"
      ]
     },
     "execution_count": 18,
     "metadata": {},
     "output_type": "execute_result"
    }
   ],
   "source": [
    "def fact(x):\n",
    "    fact = 1\n",
    "    for i in range(1, x + 1):\n",
    "        fact *= i\n",
    "    return fact\n",
    "\n",
    "def factorial(n):\n",
    "    sonuc = 1\n",
    "    for i in range(2, n + 1):\n",
    "        sonuc *= fact(i)\n",
    "    return sonuc\n",
    "\n",
    "factorial(6)"
   ]
  },
  {
   "cell_type": "markdown",
   "metadata": {},
   "source": [
    "### 5\n",
    "```\n",
    "Given a list of words in the singular form, return a set of those words in the plural form if they appear more than once in the list.\n",
    "\n",
    "pluralize([\"cow\", \"pig\", \"cow\", \"cow\"]) ➞ { \"cows\", \"pig\" }\n",
    "\n",
    "pluralize([\"table\", \"table\", \"table\"]) ➞ { \"tables\" }\n",
    "\n",
    "pluralize([\"chair\", \"pencil\", \"arm\"]) ➞ { \"chair\", \"pencil\", \"arm\" }\n",
    "```"
   ]
  },
  {
   "cell_type": "code",
   "execution_count": 21,
   "metadata": {},
   "outputs": [
    {
     "name": "stdout",
     "output_type": "stream",
     "text": [
      "{'tables'}\n"
     ]
    }
   ],
   "source": [
    "liste = [\"table\", \"table\", \"table\"]\n",
    "sonuc = []\n",
    "for i in liste:\n",
    "    if liste.count(i) > 1:\n",
    "        i = i + 's'\n",
    "        sonuc.append(i)\n",
    "    else:\n",
    "        sonuc.append(i)\n",
    "sonuc = set(sonuc)\n",
    "print(sonuc)"
   ]
  },
  {
   "cell_type": "markdown",
   "metadata": {},
   "source": [
    "### 6\n",
    "```\n",
    "Mubashir needs your help to construct a building which will be a pile of n cubes. The cube at the bottom will have a volume of n^3, the cube above will have volume of (n-1)^3 and so on until the top which will have a volume of 1^3.\n",
    "\n",
    "Given the total volume m of the building, can you find the number of cubes n required for the building?\n",
    "\n",
    "In other words, you have to return an integer n such that:\n",
    "n^3 + (n-1)^3 + ... + 1^3 == m\n",
    "Return None if there is no such number.\n",
    "\n",
    "pile_of_cubes(1071225) ➞ 45\n",
    "\n",
    "pile_of_cubes(4183059834009) ➞ 2022\n",
    "\n",
    "pile_of_cubes(16) ➞ None\n",
    "```"
   ]
  },
  {
   "cell_type": "code",
   "execution_count": 25,
   "metadata": {},
   "outputs": [
    {
     "name": "stdout",
     "output_type": "stream",
     "text": [
      "None\n"
     ]
    }
   ],
   "source": [
    "num = 16\n",
    "n = 1\n",
    "toplam = 0\n",
    "while True:\n",
    "    toplam += n ** 3\n",
    "    if toplam == num:\n",
    "        sonuc = n\n",
    "        break\n",
    "    elif toplam > num:\n",
    "        sonuc = 'None'\n",
    "        break\n",
    "    n += 1\n",
    "print(sonuc)   "
   ]
  },
  {
   "cell_type": "markdown",
   "metadata": {},
   "source": [
    "### 7\n",
    "```\n",
    "There are three cups on a table, at positions A, B, and C. At the start, there is a ball hidden under the cup at position B.\n",
    "\n",
    "However, I perform several swaps on the cups, which is notated as two letters. For example, if I swap the cups at positions A and B, I could notate this as AB or BA.\n",
    "\n",
    "Create a function that returns the letter position that the ball is at, once I finish swapping the cups. The swaps will be given to you as a list.\n",
    "\n",
    "cup_swapping([\"AB\", \"CA\"]) ➞ \"C\"\n",
    "\n",
    "cup_swapping([\"AC\", \"CA\", \"CA\", \"AC\"]) ➞ \"B\"\n",
    "\n",
    "cup_swapping([\"BA\", \"AC\", \"CA\", \"BC\"]) ➞ \"A\"\n",
    "```"
   ]
  },
  {
   "cell_type": "code",
   "execution_count": 26,
   "metadata": {},
   "outputs": [
    {
     "name": "stdout",
     "output_type": "stream",
     "text": [
      "A\n"
     ]
    }
   ],
   "source": [
    "liste = [\"BA\", \"AC\", \"CA\", \"BC\"]\n",
    "top = 'B'\n",
    "for i in liste:\n",
    "    if top in i:\n",
    "        i = i.replace(top, '')\n",
    "        top = i\n",
    "print(top)"
   ]
  },
  {
   "cell_type": "markdown",
   "metadata": {},
   "source": [
    "### 8\n",
    "```\n",
    "Create a function that takes a number num and returns each place value in the number.\n",
    "\n",
    "num_split(39) ➞ [30, 9]\n",
    "\n",
    "num_split(-434) ➞ [-400, -30, -4]\n",
    "\n",
    "num_split(100) ➞ [100, 0, 0]\n",
    "```"
   ]
  },
  {
   "cell_type": "code",
   "execution_count": 28,
   "metadata": {},
   "outputs": [
    {
     "name": "stdout",
     "output_type": "stream",
     "text": [
      "Enter an integer > -434\n",
      "[-400, -30, -4]\n"
     ]
    }
   ],
   "source": [
    "num = input('Enter an integer > ')\n",
    "negative = False\n",
    "new_list = []\n",
    "if num.startswith('-'):\n",
    "    num = num.lstrip('-')\n",
    "    negative = True\n",
    "leng = len(num)\n",
    "for i in num:\n",
    "    sayi = i + (leng - 1) * '0'\n",
    "    if negative:\n",
    "        new_list.append(-int(sayi))\n",
    "    else:\n",
    "        new_list.append(int(sayi))\n",
    "    leng -= 1\n",
    "print(new_list)"
   ]
  },
  {
   "cell_type": "markdown",
   "metadata": {},
   "source": [
    "### 9\n",
    "```\n",
    "Create a function that returns a list containing the prime factors of whatever integer is passed to it.\n",
    "\n",
    "prime_factors(20) ➞ [2, 2, 5]\n",
    "\n",
    "prime_factors(100) ➞ [2, 2, 5, 5]\n",
    "\n",
    "prime_factors(8912234) ➞ [2, 47, 94811]\n",
    "```"
   ]
  },
  {
   "cell_type": "code",
   "execution_count": 31,
   "metadata": {},
   "outputs": [
    {
     "name": "stdout",
     "output_type": "stream",
     "text": [
      "Enter an integer > 8912234\n",
      "[2, 47, 94811]\n"
     ]
    }
   ],
   "source": [
    "num = int(input('Enter an integer > '))\n",
    "count = 2\n",
    "liste = []\n",
    "while True:\n",
    "    while num % count == 0:\n",
    "        num = num // count\n",
    "        liste.append(count)\n",
    "    count += 1\n",
    "    if num == 1:\n",
    "        break\n",
    "print(liste)"
   ]
  },
  {
   "cell_type": "markdown",
   "metadata": {},
   "source": [
    "### 10\n",
    "```\n",
    "Write a function that groups a string into parentheses cluster. Each cluster should be balanced.\n",
    "split(\"()()()\") ➞ [\"()\", \"()\", \"()\"]\n",
    "\n",
    "split(\"((()))\") ➞ [\"((()))\"]\n",
    "\n",
    "split(\"((()))(())()()(()())\") ➞ [\"((()))\", \"(())\", \"()\", \"()\", \"(()())\"]\n",
    "\n",
    "split(\"((())())(()(()()))\") ➞ [\"((())())\", \"(()(()()))\"]\n",
    "```"
   ]
  },
  {
   "cell_type": "code",
   "execution_count": 32,
   "metadata": {},
   "outputs": [
    {
     "name": "stdout",
     "output_type": "stream",
     "text": [
      "['((()))', '(())', '()', '()', '(()())']\n"
     ]
    }
   ],
   "source": [
    "text = \"((()))(())()()(()())\"\n",
    "sol, sag = 0, 0\n",
    "asama = ''\n",
    "sonuc = []\n",
    "for i in text:\n",
    "    if i == '(':\n",
    "        sol += 1\n",
    "        asama += i\n",
    "    elif i == ')':\n",
    "        sag += 1\n",
    "        asama += i\n",
    "    if sol == sag:\n",
    "        sonuc.append(asama)\n",
    "        asama = ''\n",
    "print(sonuc)"
   ]
  },
  {
   "cell_type": "markdown",
   "metadata": {},
   "source": [
    "### 11\n",
    "```\n",
    "Given a list of integers, create a function that will find the smallest positive integer that is evenly divisible by all the members of the list. In other words, find the least common multiple (LCM).\n",
    "\n",
    "Examples lcm([1, 2, 3, 4, 5, 6, 7, 8, 9]) ➞ 2520\n",
    "\n",
    "lcm([5]) ➞ 5\n",
    "\n",
    "lcm([5, 7, 11]) ➞ 385\n",
    "\n",
    "lcm([5, 7, 11, 35, 55, 77]) ➞ 385\n",
    "```"
   ]
  },
  {
   "cell_type": "code",
   "execution_count": 34,
   "metadata": {},
   "outputs": [
    {
     "name": "stdout",
     "output_type": "stream",
     "text": [
      "2520\n"
     ]
    }
   ],
   "source": [
    "liste = [1, 2, 3, 4, 5, 6, 7, 8, 9]\n",
    "n = max(liste)\n",
    "while True:\n",
    "    count = 0\n",
    "    for i in liste:\n",
    "        if n % i == 0:\n",
    "            count += 1\n",
    "    if count == len(liste):\n",
    "        result = n\n",
    "        break\n",
    "    n += 1\n",
    "print(result)"
   ]
  },
  {
   "cell_type": "markdown",
   "metadata": {},
   "source": [
    "### 12\n",
    "```\n",
    "Write a function that returns True if every consecutive sequence of ones is followed by a consecutive sequence of zeroes of the same length.\n",
    "\n",
    "same_length(\"110011100010\") ➞ True\n",
    "\n",
    "same_length(\"101010110\") ➞ False\n",
    "\n",
    "same_length(\"111100001100\") ➞ True\n",
    "\n",
    "same_length(\"111\") ➞ False\n",
    "```"
   ]
  },
  {
   "cell_type": "code",
   "execution_count": 53,
   "metadata": {},
   "outputs": [
    {
     "name": "stdout",
     "output_type": "stream",
     "text": [
      "True\n"
     ]
    }
   ],
   "source": [
    "text = \"110011100010\"\n",
    "while '10' in text or '01' in text:\n",
    "    text = text.replace('10', '').replace('01', '')\n",
    "if text == '':\n",
    "    print('True')\n",
    "else:\n",
    "    print('False')"
   ]
  },
  {
   "cell_type": "markdown",
   "metadata": {},
   "source": [
    "### 13\n",
    "```\n",
    "You are given a list which may contain sublists. Your task is to find the depth of the deepest sublist.\n",
    "\n",
    "[a] = 1 depth\n",
    "[[a]] = 2 depth\n",
    "[[[a]]] = 3 depth, etc\n",
    "Examples\n",
    "deepest([1, [2, 3], 4, [5, 6]]) ➞ 2\n",
    "\n",
    "deepest([[[[[[[[[[1]]]]]]]]]]) ➞ 10\n",
    "\n",
    "deepest([1, 4, [1, 4, [1, 4, [1, 4, [5]]]]]) ➞ 5\n",
    "```"
   ]
  },
  {
   "cell_type": "code",
   "execution_count": 44,
   "metadata": {},
   "outputs": [
    {
     "name": "stdout",
     "output_type": "stream",
     "text": [
      "[1, 2, 1, 1, 1, 2, 3, 4, 5, 6, 6, 5, 4, 3, 2, 1, 1, 1, 2, 3, 4, 5, 6, 7, 8, 8, 7, 6, 5, 4, 3, 2, 1, 1, 1, 2, 3, 4, 5, 6, 7, 8, 9, 10, 11, 12, 13, 13, 12, 11, 10, 9, 8, 7, 6, 5, 4, 3, 2, 1, 0]\n",
      "13\n"
     ]
    }
   ],
   "source": [
    "liste = [[],[[[[[5]]]]],[[[[[[[6]]]]]]],[[[[[[[[[[[[7]]]]]]]]]]]]]\n",
    "liste = str(liste)\n",
    "count = 0\n",
    "yeni = []\n",
    "for i in liste:\n",
    "    if i == '[':\n",
    "        count += 1\n",
    "    elif i == ']':\n",
    "        count -= 1\n",
    "    yeni.append(count)\n",
    "print(yeni)\n",
    "print(max(yeni))"
   ]
  },
  {
   "cell_type": "markdown",
   "metadata": {},
   "source": [
    "### 14\n",
    "```\n",
    "Given a 3x3 matrix of a completed tic-tac-toe game, create a function that returns whether the game is a win for \"X\", \"O\", or a \"Draw\", where \"X\" and \"O\" represent themselves on the matrix, and \"E\" represents an empty spot.\n",
    "\n",
    "Examples\n",
    "tic_tac_toe([\n",
    "  [\"X\", \"O\", \"X\"],\n",
    "  [\"O\", \"X\",  \"O\"],\n",
    "  [\"O\", \"X\",  \"X\"]\n",
    "]) ➞ \"X\"\n",
    "\n",
    "tic_tac_toe([\n",
    "  [\"O\", \"O\", \"O\"],\n",
    "  [\"O\", \"X\", \"X\"],\n",
    "  [\"E\", \"X\", \"X\"]\n",
    "]) ➞ \"O\"\n",
    "\n",
    "tic_tac_toe([\n",
    "  [\"X\", \"X\", \"O\"],\n",
    "  [\"O\", \"O\", \"X\"],\n",
    "  [\"X\", \"X\", \"O\"]\n",
    "]) ➞ \"Draw\"\n",
    "```"
   ]
  },
  {
   "cell_type": "code",
   "execution_count": 49,
   "metadata": {},
   "outputs": [
    {
     "name": "stdout",
     "output_type": "stream",
     "text": [
      "O\n"
     ]
    }
   ],
   "source": [
    "liste = [\n",
    "  [\"O\", \"E\", \"O\"],\n",
    "  [\"O\", \"X\", \"X\"],\n",
    "  [\"O\", \"X\", \"X\"]\n",
    "]\n",
    "\n",
    "result = 'Draw'\n",
    "for i in liste:\n",
    "    if len(set(i)) == 1 and i[0] != 'E':\n",
    "        result = i[0]\n",
    "        break\n",
    "        \n",
    "if result == 'Draw':\n",
    "    liste_2 = list(map(lambda x, y, z : x + y + z, *liste))\n",
    "    for i in liste_2:\n",
    "        if len(set(i)) == 1 and i[0] != 'E':\n",
    "            result = i[0]\n",
    "            break\n",
    "            \n",
    "if result == 'Draw':\n",
    "    if liste[0][0] == liste[1][1] == liste[2][2]:\n",
    "        result = liste[0][0]\n",
    "    elif liste[0][2] == liste[1][1] == liste[2][0]:\n",
    "        result = liste[0][2]\n",
    "print(result)"
   ]
  },
  {
   "cell_type": "markdown",
   "metadata": {},
   "source": [
    "### 15\n",
    "```\n",
    "An identity matrix is defined as a square matrix with 1s running from the top left of the square to the bottom right. The rest are 0s. The identity matrix has applications ranging from machine learning to the general theory of relativity.\n",
    "\n",
    "Create a function that takes an integer n and returns the identity matrix of n x n dimensions. For this challenge, if the integer is negative, return the mirror image of the identity matrix of n x n dimensions.. It does not matter if the mirror image is left-right or top-bottom.\n",
    "\n",
    "Incompatible types passed as n should return the string \"Error\".\n",
    "```"
   ]
  },
  {
   "cell_type": "code",
   "execution_count": 54,
   "metadata": {},
   "outputs": [
    {
     "name": "stdout",
     "output_type": "stream",
     "text": [
      "Enter an integer > 5\n",
      "[1, 0, 0, 0, 0]\n",
      "[0, 1, 0, 0, 0]\n",
      "[0, 0, 1, 0, 0]\n",
      "[0, 0, 0, 1, 0]\n",
      "[0, 0, 0, 0, 1]\n"
     ]
    }
   ],
   "source": [
    "num = input('Enter an integer > ')\n",
    "liste = []\n",
    "liste_2 = []\n",
    "nums = num.lstrip('-')\n",
    "if not nums.isdigit():\n",
    "    print('Error')\n",
    "else:\n",
    "    if int(nums) == 0:\n",
    "        print(liste)\n",
    "    else:\n",
    "        for i in range(int(nums)):\n",
    "            liste = []\n",
    "            for j in range(int(nums)):\n",
    "                if i == j:\n",
    "                    liste.append(1)\n",
    "                else:\n",
    "                    liste.append(0)\n",
    "            liste_2.append(liste)\n",
    "        if not num.startswith('-'):\n",
    "            for i in liste_2:\n",
    "                print(i)\n",
    "        else:\n",
    "            for i in liste_2:\n",
    "                print(i[::-1])"
   ]
  },
  {
   "cell_type": "code",
   "execution_count": null,
   "metadata": {},
   "outputs": [],
   "source": []
  }
 ],
 "metadata": {
  "kernelspec": {
   "display_name": "Python 3",
   "language": "python",
   "name": "python3"
  },
  "language_info": {
   "codemirror_mode": {
    "name": "ipython",
    "version": 3
   },
   "file_extension": ".py",
   "mimetype": "text/x-python",
   "name": "python",
   "nbconvert_exporter": "python",
   "pygments_lexer": "ipython3",
   "version": "3.8.3"
  }
 },
 "nbformat": 4,
 "nbformat_minor": 4
}
