{
 "cells": [
  {
   "cell_type": "markdown",
   "id": "406f2981",
   "metadata": {},
   "source": [
    "<img src=\"https://docs.google.com/uc?id=14xeXxFrVRjvOoUYWn_GuyE-v84wVzrqr\" class=\"img-fluid\" alt=\"CLRWY\" width=\"400\" height=\"200\">"
   ]
  },
  {
   "cell_type": "markdown",
   "id": "22263af8",
   "metadata": {},
   "source": [
    "<h1><p style=\"text-align: center; color:darkblue\">Python In-Class, <br>1 July 2021</p><h1>"
   ]
  },
  {
   "cell_type": "code",
   "execution_count": 2,
   "id": "65a76d1d",
   "metadata": {},
   "outputs": [],
   "source": [
    "list_1 = ['one', 'four', 'nine']\n",
    "list_2 = ['@', '*-', 'False']\n",
    "list_3 = [True, False]\n",
    "list_4 = [[3], [44], [-12]]\n",
    "list_5 = [[1, 3], [44, -40], [-12, 1]]"
   ]
  },
  {
   "cell_type": "code",
   "execution_count": 3,
   "id": "1035685a",
   "metadata": {},
   "outputs": [],
   "source": [
    "list_1.sort()"
   ]
  },
  {
   "cell_type": "code",
   "execution_count": 4,
   "id": "6d75f8ae",
   "metadata": {},
   "outputs": [
    {
     "data": {
      "text/plain": [
       "['four', 'nine', 'one']"
      ]
     },
     "execution_count": 4,
     "metadata": {},
     "output_type": "execute_result"
    }
   ],
   "source": [
    "list_1"
   ]
  },
  {
   "cell_type": "code",
   "execution_count": 5,
   "id": "a909a159",
   "metadata": {},
   "outputs": [],
   "source": [
    "list_2.sort()"
   ]
  },
  {
   "cell_type": "code",
   "execution_count": 6,
   "id": "cd6d7169",
   "metadata": {},
   "outputs": [
    {
     "data": {
      "text/plain": [
       "['*-', '@', 'False']"
      ]
     },
     "execution_count": 6,
     "metadata": {},
     "output_type": "execute_result"
    }
   ],
   "source": [
    "list_2"
   ]
  },
  {
   "cell_type": "code",
   "execution_count": 7,
   "id": "fe1b6a3f",
   "metadata": {},
   "outputs": [
    {
     "data": {
      "text/plain": [
       "42"
      ]
     },
     "execution_count": 7,
     "metadata": {},
     "output_type": "execute_result"
    }
   ],
   "source": [
    "ord(\"*\")"
   ]
  },
  {
   "cell_type": "code",
   "execution_count": 8,
   "id": "ae5cdba3",
   "metadata": {},
   "outputs": [
    {
     "data": {
      "text/plain": [
       "64"
      ]
     },
     "execution_count": 8,
     "metadata": {},
     "output_type": "execute_result"
    }
   ],
   "source": [
    "ord(\"@\")"
   ]
  },
  {
   "cell_type": "code",
   "execution_count": 9,
   "id": "7d0dd4d7",
   "metadata": {},
   "outputs": [
    {
     "data": {
      "text/plain": [
       "70"
      ]
     },
     "execution_count": 9,
     "metadata": {},
     "output_type": "execute_result"
    }
   ],
   "source": [
    "ord(\"F\")"
   ]
  },
  {
   "cell_type": "code",
   "execution_count": 10,
   "id": "d67a1844",
   "metadata": {},
   "outputs": [],
   "source": [
    "list_2.sort(reverse=True)"
   ]
  },
  {
   "cell_type": "code",
   "execution_count": 11,
   "id": "09a35233",
   "metadata": {},
   "outputs": [
    {
     "data": {
      "text/plain": [
       "['False', '@', '*-']"
      ]
     },
     "execution_count": 11,
     "metadata": {},
     "output_type": "execute_result"
    }
   ],
   "source": [
    "list_2"
   ]
  },
  {
   "cell_type": "code",
   "execution_count": 13,
   "id": "7637510e",
   "metadata": {},
   "outputs": [],
   "source": [
    "list_3.sort()"
   ]
  },
  {
   "cell_type": "code",
   "execution_count": 14,
   "id": "4dc0d1cb",
   "metadata": {},
   "outputs": [
    {
     "data": {
      "text/plain": [
       "[False, True]"
      ]
     },
     "execution_count": 14,
     "metadata": {},
     "output_type": "execute_result"
    }
   ],
   "source": [
    "list_3"
   ]
  },
  {
   "cell_type": "code",
   "execution_count": 15,
   "id": "f7d0f733",
   "metadata": {},
   "outputs": [],
   "source": [
    "list_5 = [[1, 3], [44, -40], [-12, 1]]"
   ]
  },
  {
   "cell_type": "code",
   "execution_count": 16,
   "id": "52154ead",
   "metadata": {},
   "outputs": [],
   "source": [
    "list_5.sort()"
   ]
  },
  {
   "cell_type": "code",
   "execution_count": 17,
   "id": "bdc7312e",
   "metadata": {},
   "outputs": [
    {
     "data": {
      "text/plain": [
       "[[-12, 1], [1, 3], [44, -40]]"
      ]
     },
     "execution_count": 17,
     "metadata": {},
     "output_type": "execute_result"
    }
   ],
   "source": [
    "list_5"
   ]
  },
  {
   "cell_type": "code",
   "execution_count": 18,
   "id": "26d7ee10",
   "metadata": {},
   "outputs": [
    {
     "data": {
      "text/plain": [
       "3"
      ]
     },
     "execution_count": 18,
     "metadata": {},
     "output_type": "execute_result"
    }
   ],
   "source": [
    "len(\"a b\")"
   ]
  },
  {
   "cell_type": "code",
   "execution_count": 19,
   "id": "e2971e95",
   "metadata": {},
   "outputs": [
    {
     "data": {
      "text/plain": [
       "1"
      ]
     },
     "execution_count": 19,
     "metadata": {},
     "output_type": "execute_result"
    }
   ],
   "source": [
    "len([\"a b\"])"
   ]
  },
  {
   "cell_type": "code",
   "execution_count": 20,
   "id": "1eaa1693",
   "metadata": {},
   "outputs": [
    {
     "data": {
      "text/plain": [
       "4"
      ]
     },
     "execution_count": 20,
     "metadata": {},
     "output_type": "execute_result"
    }
   ],
   "source": [
    "len([\"a b\", False, None, []])"
   ]
  },
  {
   "cell_type": "code",
   "execution_count": 21,
   "id": "0d31aedf",
   "metadata": {},
   "outputs": [
    {
     "ename": "TypeError",
     "evalue": "object of type 'int' has no len()",
     "output_type": "error",
     "traceback": [
      "\u001b[0;31m---------------------------------------------------------------------------\u001b[0m",
      "\u001b[0;31mTypeError\u001b[0m                                 Traceback (most recent call last)",
      "\u001b[0;32m<ipython-input-21-ec67a52704b7>\u001b[0m in \u001b[0;36m<module>\u001b[0;34m\u001b[0m\n\u001b[0;32m----> 1\u001b[0;31m \u001b[0mlen\u001b[0m\u001b[0;34m(\u001b[0m\u001b[0;36m1234\u001b[0m\u001b[0;34m)\u001b[0m\u001b[0;34m\u001b[0m\u001b[0;34m\u001b[0m\u001b[0m\n\u001b[0m",
      "\u001b[0;31mTypeError\u001b[0m: object of type 'int' has no len()"
     ]
    }
   ],
   "source": [
    "len(1234)"
   ]
  },
  {
   "cell_type": "code",
   "execution_count": 22,
   "id": "67bc6f09",
   "metadata": {},
   "outputs": [
    {
     "data": {
      "text/plain": [
       "6"
      ]
     },
     "execution_count": 22,
     "metadata": {},
     "output_type": "execute_result"
    }
   ],
   "source": [
    "[1,3,6,9][2]"
   ]
  },
  {
   "cell_type": "code",
   "execution_count": 23,
   "id": "c513bb56",
   "metadata": {},
   "outputs": [],
   "source": [
    "sayılar = [1,3,6,9]"
   ]
  },
  {
   "cell_type": "code",
   "execution_count": 24,
   "id": "11211122",
   "metadata": {},
   "outputs": [
    {
     "data": {
      "text/plain": [
       "6"
      ]
     },
     "execution_count": 24,
     "metadata": {},
     "output_type": "execute_result"
    }
   ],
   "source": [
    "sayılar[2]"
   ]
  },
  {
   "cell_type": "code",
   "execution_count": 26,
   "id": "36a257cb",
   "metadata": {},
   "outputs": [],
   "source": [
    "new = [\"h\", \"a\", 1, [\"p\", 2], True]"
   ]
  },
  {
   "cell_type": "code",
   "execution_count": 27,
   "id": "7ada31e4",
   "metadata": {},
   "outputs": [
    {
     "data": {
      "text/plain": [
       "1"
      ]
     },
     "execution_count": 27,
     "metadata": {},
     "output_type": "execute_result"
    }
   ],
   "source": [
    "new[2]"
   ]
  },
  {
   "cell_type": "code",
   "execution_count": 28,
   "id": "a70d5c54",
   "metadata": {},
   "outputs": [
    {
     "data": {
      "text/plain": [
       "int"
      ]
     },
     "execution_count": 28,
     "metadata": {},
     "output_type": "execute_result"
    }
   ],
   "source": [
    "type(new[2])"
   ]
  },
  {
   "cell_type": "code",
   "execution_count": 30,
   "id": "1af453ca",
   "metadata": {},
   "outputs": [
    {
     "data": {
      "text/plain": [
       "['p', 2]"
      ]
     },
     "execution_count": 30,
     "metadata": {},
     "output_type": "execute_result"
    }
   ],
   "source": [
    "new[3]"
   ]
  },
  {
   "cell_type": "code",
   "execution_count": 29,
   "id": "e37bb869",
   "metadata": {},
   "outputs": [
    {
     "data": {
      "text/plain": [
       "list"
      ]
     },
     "execution_count": 29,
     "metadata": {},
     "output_type": "execute_result"
    }
   ],
   "source": [
    "type(new[3])"
   ]
  },
  {
   "cell_type": "code",
   "execution_count": 33,
   "id": "7646f01c",
   "metadata": {},
   "outputs": [],
   "source": [
    "city_list = []"
   ]
  },
  {
   "cell_type": "code",
   "execution_count": 34,
   "id": "546a51d6",
   "metadata": {},
   "outputs": [],
   "source": [
    "city = ['New York', 'London', 'Istanbul', 'Seoul', 'Sydney']"
   ]
  },
  {
   "cell_type": "code",
   "execution_count": 35,
   "id": "1041b0e8",
   "metadata": {},
   "outputs": [],
   "source": [
    "city_list.append(city)"
   ]
  },
  {
   "cell_type": "code",
   "execution_count": 36,
   "id": "2a0b79c7",
   "metadata": {},
   "outputs": [
    {
     "data": {
      "text/plain": [
       "[['New York', 'London', 'Istanbul', 'Seoul', 'Sydney']]"
      ]
     },
     "execution_count": 36,
     "metadata": {},
     "output_type": "execute_result"
    }
   ],
   "source": [
    "city_list"
   ]
  },
  {
   "cell_type": "code",
   "execution_count": 37,
   "id": "4b98cb61",
   "metadata": {},
   "outputs": [
    {
     "data": {
      "text/plain": [
       "['New York', 'London', 'Istanbul', 'Seoul', 'Sydney']"
      ]
     },
     "execution_count": 37,
     "metadata": {},
     "output_type": "execute_result"
    }
   ],
   "source": [
    "city_list[0]"
   ]
  },
  {
   "cell_type": "code",
   "execution_count": 38,
   "id": "3b82964e",
   "metadata": {},
   "outputs": [
    {
     "data": {
      "text/plain": [
       "'Istanbul'"
      ]
     },
     "execution_count": 38,
     "metadata": {},
     "output_type": "execute_result"
    }
   ],
   "source": [
    "city_list[0][2]"
   ]
  },
  {
   "cell_type": "code",
   "execution_count": 39,
   "id": "02579e16",
   "metadata": {},
   "outputs": [
    {
     "data": {
      "text/plain": [
       "str"
      ]
     },
     "execution_count": 39,
     "metadata": {},
     "output_type": "execute_result"
    }
   ],
   "source": [
    "type(city_list[0][2])"
   ]
  },
  {
   "cell_type": "code",
   "execution_count": 40,
   "id": "e046b52e",
   "metadata": {},
   "outputs": [
    {
     "data": {
      "text/plain": [
       "'a'"
      ]
     },
     "execution_count": 40,
     "metadata": {},
     "output_type": "execute_result"
    }
   ],
   "source": [
    "city_list[0][2][3]"
   ]
  },
  {
   "cell_type": "code",
   "execution_count": 41,
   "id": "e2ab908e",
   "metadata": {},
   "outputs": [
    {
     "data": {
      "text/plain": [
       "range(0, 11)"
      ]
     },
     "execution_count": 41,
     "metadata": {},
     "output_type": "execute_result"
    }
   ],
   "source": [
    "range(11)"
   ]
  },
  {
   "cell_type": "code",
   "execution_count": 42,
   "id": "de567351",
   "metadata": {},
   "outputs": [],
   "source": [
    "odd_number = list(range(11))"
   ]
  },
  {
   "cell_type": "code",
   "execution_count": 43,
   "id": "5a8363fc",
   "metadata": {},
   "outputs": [
    {
     "data": {
      "text/plain": [
       "[0, 1, 2, 3, 4, 5, 6, 7, 8, 9, 10]"
      ]
     },
     "execution_count": 43,
     "metadata": {},
     "output_type": "execute_result"
    }
   ],
   "source": [
    "odd_number"
   ]
  },
  {
   "cell_type": "code",
   "execution_count": 44,
   "id": "9adca4ca",
   "metadata": {},
   "outputs": [
    {
     "data": {
      "text/plain": [
       "[1, 3, 5, 7, 9]"
      ]
     },
     "execution_count": 44,
     "metadata": {},
     "output_type": "execute_result"
    }
   ],
   "source": [
    "odd_number[1:10:2]"
   ]
  },
  {
   "cell_type": "code",
   "execution_count": 45,
   "id": "74b50963",
   "metadata": {},
   "outputs": [
    {
     "data": {
      "text/plain": [
       "[1, 3, 5, 7, 9]"
      ]
     },
     "execution_count": 45,
     "metadata": {},
     "output_type": "execute_result"
    }
   ],
   "source": [
    "odd_number[1::2]"
   ]
  },
  {
   "cell_type": "code",
   "execution_count": 46,
   "id": "5c0c6300",
   "metadata": {},
   "outputs": [],
   "source": [
    "sehir = ['I', 's', 't', 'a', 'n', 'b', 'u', 'l']"
   ]
  },
  {
   "cell_type": "code",
   "execution_count": 47,
   "id": "668ef99c",
   "metadata": {},
   "outputs": [
    {
     "data": {
      "text/plain": [
       "[]"
      ]
     },
     "execution_count": 47,
     "metadata": {},
     "output_type": "execute_result"
    }
   ],
   "source": [
    "sehir[-1:-6]"
   ]
  },
  {
   "cell_type": "code",
   "execution_count": null,
   "id": "2675db08",
   "metadata": {},
   "outputs": [],
   "source": [
    "sehir[-1:-6:-1]"
   ]
  },
  {
   "cell_type": "code",
   "execution_count": 48,
   "id": "bb7055a5",
   "metadata": {},
   "outputs": [
    {
     "data": {
      "text/plain": [
       "['l', 'u', 'b']"
      ]
     },
     "execution_count": 48,
     "metadata": {},
     "output_type": "execute_result"
    }
   ],
   "source": [
    "sehir[:4:-1]"
   ]
  },
  {
   "cell_type": "code",
   "execution_count": 49,
   "id": "0dc6f831",
   "metadata": {},
   "outputs": [],
   "source": [
    "a = tuple()"
   ]
  },
  {
   "cell_type": "code",
   "execution_count": 50,
   "id": "5fea756a",
   "metadata": {},
   "outputs": [
    {
     "data": {
      "text/plain": [
       "tuple"
      ]
     },
     "execution_count": 50,
     "metadata": {},
     "output_type": "execute_result"
    }
   ],
   "source": [
    "type(a)"
   ]
  },
  {
   "cell_type": "code",
   "execution_count": 51,
   "id": "817e399f",
   "metadata": {},
   "outputs": [],
   "source": [
    "star = (\"Solar\", 1, [22, \"22\"])"
   ]
  },
  {
   "cell_type": "code",
   "execution_count": 52,
   "id": "94f4dbba",
   "metadata": {},
   "outputs": [
    {
     "data": {
      "text/plain": [
       "tuple"
      ]
     },
     "execution_count": 52,
     "metadata": {},
     "output_type": "execute_result"
    }
   ],
   "source": [
    "type(star)"
   ]
  },
  {
   "cell_type": "code",
   "execution_count": 53,
   "id": "d3195e6a",
   "metadata": {},
   "outputs": [],
   "source": [
    "x = 1, 2, 3"
   ]
  },
  {
   "cell_type": "code",
   "execution_count": 54,
   "id": "1002a5b6",
   "metadata": {},
   "outputs": [
    {
     "data": {
      "text/plain": [
       "tuple"
      ]
     },
     "execution_count": 54,
     "metadata": {},
     "output_type": "execute_result"
    }
   ],
   "source": [
    "type(x)"
   ]
  },
  {
   "cell_type": "code",
   "execution_count": 55,
   "id": "1715a868",
   "metadata": {},
   "outputs": [],
   "source": [
    "y = 1,"
   ]
  },
  {
   "cell_type": "code",
   "execution_count": 56,
   "id": "50ca503f",
   "metadata": {},
   "outputs": [
    {
     "data": {
      "text/plain": [
       "tuple"
      ]
     },
     "execution_count": 56,
     "metadata": {},
     "output_type": "execute_result"
    }
   ],
   "source": [
    "type(y)"
   ]
  },
  {
   "cell_type": "code",
   "execution_count": 57,
   "id": "cae958fc",
   "metadata": {},
   "outputs": [],
   "source": [
    "z = (\"2\",)"
   ]
  },
  {
   "cell_type": "code",
   "execution_count": 58,
   "id": "746fcefc",
   "metadata": {},
   "outputs": [
    {
     "data": {
      "text/plain": [
       "tuple"
      ]
     },
     "execution_count": 58,
     "metadata": {},
     "output_type": "execute_result"
    }
   ],
   "source": [
    "type(z)"
   ]
  },
  {
   "cell_type": "code",
   "execution_count": 59,
   "id": "4ebef813",
   "metadata": {},
   "outputs": [],
   "source": [
    "city = [\"los-angeles\", \"beirut\", \"tokyo\"]"
   ]
  },
  {
   "cell_type": "code",
   "execution_count": 61,
   "id": "7032ebcd",
   "metadata": {},
   "outputs": [],
   "source": [
    "city[0] = True"
   ]
  },
  {
   "cell_type": "code",
   "execution_count": 62,
   "id": "04e85134",
   "metadata": {},
   "outputs": [
    {
     "data": {
      "text/plain": [
       "[True, 'beirut', 'tokyo']"
      ]
     },
     "execution_count": 62,
     "metadata": {},
     "output_type": "execute_result"
    }
   ],
   "source": [
    "city"
   ]
  },
  {
   "cell_type": "code",
   "execution_count": 63,
   "id": "0792eaba",
   "metadata": {},
   "outputs": [],
   "source": [
    "city[1:] = \"istanbul\", \"seoul\""
   ]
  },
  {
   "cell_type": "code",
   "execution_count": 64,
   "id": "5adaa35b",
   "metadata": {},
   "outputs": [
    {
     "data": {
      "text/plain": [
       "[True, 'istanbul', 'seoul']"
      ]
     },
     "execution_count": 64,
     "metadata": {},
     "output_type": "execute_result"
    }
   ],
   "source": [
    "city"
   ]
  },
  {
   "cell_type": "code",
   "execution_count": 65,
   "id": "ba8413f7",
   "metadata": {},
   "outputs": [],
   "source": [
    "city[1:] = [\"1\", \"2\", \"3\", 4, False]"
   ]
  },
  {
   "cell_type": "code",
   "execution_count": 66,
   "id": "a561900d",
   "metadata": {},
   "outputs": [
    {
     "data": {
      "text/plain": [
       "[True, '1', '2', '3', 4, False]"
      ]
     },
     "execution_count": 66,
     "metadata": {},
     "output_type": "execute_result"
    }
   ],
   "source": [
    "city"
   ]
  },
  {
   "cell_type": "code",
   "execution_count": 67,
   "id": "b551832e",
   "metadata": {},
   "outputs": [],
   "source": [
    "city[1:] = \"bangladeş\""
   ]
  },
  {
   "cell_type": "code",
   "execution_count": 68,
   "id": "bcb1b206",
   "metadata": {},
   "outputs": [
    {
     "data": {
      "text/plain": [
       "[True, 'b', 'a', 'n', 'g', 'l', 'a', 'd', 'e', 'ş']"
      ]
     },
     "execution_count": 68,
     "metadata": {},
     "output_type": "execute_result"
    }
   ],
   "source": [
    "city"
   ]
  },
  {
   "cell_type": "code",
   "execution_count": 69,
   "id": "73d8e3aa",
   "metadata": {},
   "outputs": [],
   "source": [
    "mix_tuple = ('11', 11, [2, 'two', ('six', 6)], (5, 'fair'))"
   ]
  },
  {
   "cell_type": "code",
   "execution_count": 70,
   "id": "53775b97",
   "metadata": {},
   "outputs": [
    {
     "data": {
      "text/plain": [
       "[2, 'two', ('six', 6)]"
      ]
     },
     "execution_count": 70,
     "metadata": {},
     "output_type": "execute_result"
    }
   ],
   "source": [
    "mix_tuple[2]"
   ]
  },
  {
   "cell_type": "code",
   "execution_count": 71,
   "id": "82250121",
   "metadata": {},
   "outputs": [
    {
     "data": {
      "text/plain": [
       "('six', 6)"
      ]
     },
     "execution_count": 71,
     "metadata": {},
     "output_type": "execute_result"
    }
   ],
   "source": [
    "mix_tuple[2][2]"
   ]
  },
  {
   "cell_type": "code",
   "execution_count": 72,
   "id": "e26a792c",
   "metadata": {},
   "outputs": [
    {
     "data": {
      "text/plain": [
       "'six'"
      ]
     },
     "execution_count": 72,
     "metadata": {},
     "output_type": "execute_result"
    }
   ],
   "source": [
    "mix_tuple[2][2][0]"
   ]
  },
  {
   "cell_type": "code",
   "execution_count": 74,
   "id": "1d8a99c9",
   "metadata": {},
   "outputs": [],
   "source": [
    "mix_tuple[2].append(\"çaktırmayın\")"
   ]
  },
  {
   "cell_type": "code",
   "execution_count": 75,
   "id": "f757dde3",
   "metadata": {},
   "outputs": [
    {
     "data": {
      "text/plain": [
       "('11', 11, [2, 'two', ('six', 6), 'çaktırmayın'], (5, 'fair'))"
      ]
     },
     "execution_count": 75,
     "metadata": {},
     "output_type": "execute_result"
    }
   ],
   "source": [
    "mix_tuple"
   ]
  },
  {
   "cell_type": "code",
   "execution_count": null,
   "id": "a49786a1",
   "metadata": {},
   "outputs": [],
   "source": []
  },
  {
   "cell_type": "code",
   "execution_count": null,
   "id": "2e06b0c7",
   "metadata": {},
   "outputs": [],
   "source": []
  },
  {
   "cell_type": "code",
   "execution_count": null,
   "id": "fcd0c301",
   "metadata": {},
   "outputs": [],
   "source": []
  },
  {
   "cell_type": "code",
   "execution_count": null,
   "id": "625eadad",
   "metadata": {},
   "outputs": [],
   "source": []
  }
 ],
 "metadata": {
  "kernelspec": {
   "display_name": "Python 3",
   "language": "python",
   "name": "python3"
  },
  "language_info": {
   "codemirror_mode": {
    "name": "ipython",
    "version": 3
   },
   "file_extension": ".py",
   "mimetype": "text/x-python",
   "name": "python",
   "nbconvert_exporter": "python",
   "pygments_lexer": "ipython3",
   "version": "3.8.8"
  }
 },
 "nbformat": 4,
 "nbformat_minor": 5
}
