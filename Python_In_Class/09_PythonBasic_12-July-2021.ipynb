{
 "cells": [
  {
   "cell_type": "markdown",
   "id": "406f2981",
   "metadata": {},
   "source": [
    "<img src=\"https://docs.google.com/uc?id=14xeXxFrVRjvOoUYWn_GuyE-v84wVzrqr\" class=\"img-fluid\" alt=\"CLRWY\" width=\"400\" height=\"200\">"
   ]
  },
  {
   "cell_type": "markdown",
   "id": "22263af8",
   "metadata": {},
   "source": [
    "<h1><p style=\"text-align: center; color:darkblue\">Python In-Class, <br>12 July 2021</p><h1>"
   ]
  },
  {
   "cell_type": "code",
   "execution_count": 1,
   "id": "18aaad53",
   "metadata": {},
   "outputs": [],
   "source": [
    "letter = \"a b c d e f g h i j l k m n o p q r s t x w v z\".split()"
   ]
  },
  {
   "cell_type": "code",
   "execution_count": 3,
   "id": "acf8bec2",
   "metadata": {},
   "outputs": [
    {
     "name": "stdout",
     "output_type": "stream",
     "text": [
      "['a', 'b', 'c', 'd', 'e', 'f', 'g', 'h', 'i', 'j', 'l', 'k', 'm', 'n', 'o', 'p', 'q', 'r', 's', 't', 'x', 'w', 'v', 'z']\n"
     ]
    }
   ],
   "source": [
    "print(letter)"
   ]
  },
  {
   "cell_type": "code",
   "execution_count": 4,
   "id": "6134d71b",
   "metadata": {},
   "outputs": [
    {
     "name": "stdout",
     "output_type": "stream",
     "text": [
      "{'v', 'k', 'x', 'm', 'w', 'd', 'h', 'j', 'g', 'e', 'c', 'b', 'n', 'r', 'o', 'f', 'i', 'p', 's', 'z', 't', 'a', 'q', 'l'}\n"
     ]
    }
   ],
   "source": [
    "print(set(letter))"
   ]
  },
  {
   "cell_type": "code",
   "execution_count": 5,
   "id": "9d304d28",
   "metadata": {},
   "outputs": [],
   "source": [
    "test = {1, \"bir\", 1.0}"
   ]
  },
  {
   "cell_type": "code",
   "execution_count": 6,
   "id": "2f0a4435",
   "metadata": {},
   "outputs": [
    {
     "data": {
      "text/plain": [
       "2"
      ]
     },
     "execution_count": 6,
     "metadata": {},
     "output_type": "execute_result"
    }
   ],
   "source": [
    "len(test)"
   ]
  },
  {
   "cell_type": "code",
   "execution_count": 7,
   "id": "e592c182",
   "metadata": {},
   "outputs": [
    {
     "data": {
      "text/plain": [
       "True"
      ]
     },
     "execution_count": 7,
     "metadata": {},
     "output_type": "execute_result"
    }
   ],
   "source": [
    "1 == 1.0"
   ]
  },
  {
   "cell_type": "code",
   "execution_count": 8,
   "id": "665f3343",
   "metadata": {},
   "outputs": [
    {
     "data": {
      "text/plain": [
       "dict"
      ]
     },
     "execution_count": 8,
     "metadata": {},
     "output_type": "execute_result"
    }
   ],
   "source": [
    "type({})"
   ]
  },
  {
   "cell_type": "code",
   "execution_count": 9,
   "id": "41f9df26",
   "metadata": {},
   "outputs": [
    {
     "data": {
      "text/plain": [
       "set"
      ]
     },
     "execution_count": 9,
     "metadata": {},
     "output_type": "execute_result"
    }
   ],
   "source": [
    "type(set())"
   ]
  },
  {
   "cell_type": "code",
   "execution_count": 10,
   "id": "9d08cff0",
   "metadata": {},
   "outputs": [],
   "source": [
    "a = {'carnation', 'orchid', 'rose', 'violet'} \n",
    "b = {'rose', 'orchid', 'rose', 'violet', 'carnation'} "
   ]
  },
  {
   "cell_type": "code",
   "execution_count": 11,
   "id": "ae6909d7",
   "metadata": {},
   "outputs": [
    {
     "data": {
      "text/plain": [
       "True"
      ]
     },
     "execution_count": 11,
     "metadata": {},
     "output_type": "execute_result"
    }
   ],
   "source": [
    "a == b"
   ]
  },
  {
   "cell_type": "code",
   "execution_count": 12,
   "id": "13a1691a",
   "metadata": {},
   "outputs": [],
   "source": [
    "date = \"12/07/2021\""
   ]
  },
  {
   "cell_type": "code",
   "execution_count": 13,
   "id": "c8cc4b07",
   "metadata": {},
   "outputs": [
    {
     "data": {
      "text/plain": [
       "{'/', '0', '1', '2', '7'}"
      ]
     },
     "execution_count": 13,
     "metadata": {},
     "output_type": "execute_result"
    }
   ],
   "source": [
    "set(date)"
   ]
  },
  {
   "cell_type": "code",
   "execution_count": 14,
   "id": "94230c05",
   "metadata": {},
   "outputs": [],
   "source": [
    "given_list = [1, 2, 3, 3, 3, 3, 4, 4, 5, 5]"
   ]
  },
  {
   "cell_type": "code",
   "execution_count": 15,
   "id": "47633a53",
   "metadata": {},
   "outputs": [
    {
     "ename": "TypeError",
     "evalue": "unhashable type: 'list'",
     "output_type": "error",
     "traceback": [
      "\u001b[0;31m---------------------------------------------------------------------------\u001b[0m",
      "\u001b[0;31mTypeError\u001b[0m                                 Traceback (most recent call last)",
      "\u001b[0;32m<ipython-input-15-3ff49a56a7ac>\u001b[0m in \u001b[0;36m<module>\u001b[0;34m\u001b[0m\n\u001b[0;32m----> 1\u001b[0;31m \u001b[0mtest\u001b[0m \u001b[0;34m=\u001b[0m \u001b[0;34m{\u001b[0m\u001b[0mgiven_list\u001b[0m\u001b[0;34m}\u001b[0m\u001b[0;34m\u001b[0m\u001b[0;34m\u001b[0m\u001b[0m\n\u001b[0m\u001b[1;32m      2\u001b[0m \u001b[0mtest\u001b[0m\u001b[0;34m\u001b[0m\u001b[0;34m\u001b[0m\u001b[0m\n",
      "\u001b[0;31mTypeError\u001b[0m: unhashable type: 'list'"
     ]
    }
   ],
   "source": [
    "test = {given_list}\n",
    "test"
   ]
  },
  {
   "cell_type": "code",
   "execution_count": 16,
   "id": "949ebc34",
   "metadata": {},
   "outputs": [
    {
     "data": {
      "text/plain": [
       "{1, 2, 3, 4, 5}"
      ]
     },
     "execution_count": 16,
     "metadata": {},
     "output_type": "execute_result"
    }
   ],
   "source": [
    "test = {1, 2, 3, 3, 3, 3, 4, 4, 5, 5}\n",
    "test"
   ]
  },
  {
   "cell_type": "code",
   "execution_count": 17,
   "id": "60cdda18",
   "metadata": {},
   "outputs": [
    {
     "ename": "TypeError",
     "evalue": "unhashable type: 'list'",
     "output_type": "error",
     "traceback": [
      "\u001b[0;31m---------------------------------------------------------------------------\u001b[0m",
      "\u001b[0;31mTypeError\u001b[0m                                 Traceback (most recent call last)",
      "\u001b[0;32m<ipython-input-17-8fe641c509c0>\u001b[0m in \u001b[0;36m<module>\u001b[0;34m\u001b[0m\n\u001b[0;32m----> 1\u001b[0;31m \u001b[0mkarışık\u001b[0m \u001b[0;34m=\u001b[0m \u001b[0;34m{\u001b[0m\u001b[0;34m[\u001b[0m\u001b[0;36m1\u001b[0m\u001b[0;34m,\u001b[0m\u001b[0;36m2\u001b[0m\u001b[0;34m,\u001b[0m\u001b[0;36m3\u001b[0m\u001b[0;34m]\u001b[0m\u001b[0;34m,\u001b[0m \u001b[0;34m{\u001b[0m\u001b[0;36m1\u001b[0m\u001b[0;34m:\u001b[0m\u001b[0;34m\"bir\"\u001b[0m\u001b[0;34m}\u001b[0m\u001b[0;34m,\u001b[0m \u001b[0;34m(\u001b[0m\u001b[0;34m\"iki\"\u001b[0m\u001b[0;34m,\u001b[0m \u001b[0;34m\"üç\"\u001b[0m\u001b[0;34m)\u001b[0m\u001b[0;34m}\u001b[0m\u001b[0;34m\u001b[0m\u001b[0;34m\u001b[0m\u001b[0m\n\u001b[0m",
      "\u001b[0;31mTypeError\u001b[0m: unhashable type: 'list'"
     ]
    }
   ],
   "source": [
    "karışık = {[1,2,3], {1:\"bir\"}, (\"iki\", \"üç\")}"
   ]
  },
  {
   "cell_type": "code",
   "execution_count": 18,
   "id": "5f0f539a",
   "metadata": {},
   "outputs": [
    {
     "ename": "TypeError",
     "evalue": "unhashable type: 'set'",
     "output_type": "error",
     "traceback": [
      "\u001b[0;31m---------------------------------------------------------------------------\u001b[0m",
      "\u001b[0;31mTypeError\u001b[0m                                 Traceback (most recent call last)",
      "\u001b[0;32m<ipython-input-18-68777fddf235>\u001b[0m in \u001b[0;36m<module>\u001b[0;34m\u001b[0m\n\u001b[0;32m----> 1\u001b[0;31m \u001b[0mmix\u001b[0m \u001b[0;34m=\u001b[0m \u001b[0;34m{\u001b[0m\u001b[0;36m1\u001b[0m\u001b[0;34m,\u001b[0m\u001b[0;36m2\u001b[0m\u001b[0;34m,\u001b[0m \u001b[0;34m{\u001b[0m\u001b[0;36m3\u001b[0m\u001b[0;34m,\u001b[0m\u001b[0;36m4\u001b[0m\u001b[0;34m}\u001b[0m\u001b[0;34m}\u001b[0m\u001b[0;34m\u001b[0m\u001b[0;34m\u001b[0m\u001b[0m\n\u001b[0m",
      "\u001b[0;31mTypeError\u001b[0m: unhashable type: 'set'"
     ]
    }
   ],
   "source": [
    "mix = {1,2, {3,4}}"
   ]
  },
  {
   "cell_type": "code",
   "execution_count": null,
   "id": "6058c73d",
   "metadata": {},
   "outputs": [],
   "source": [
    "print(\"ben clarusway için en az bir kişi bulacağım.\")"
   ]
  },
  {
   "cell_type": "code",
   "execution_count": 19,
   "id": "7e2b24a1",
   "metadata": {},
   "outputs": [
    {
     "name": "stdout",
     "output_type": "stream",
     "text": [
      "hello world\n"
     ]
    }
   ],
   "source": [
    "if \"0\" :\n",
    "    print(\"hello world\")"
   ]
  },
  {
   "cell_type": "code",
   "execution_count": 20,
   "id": "46c49598",
   "metadata": {},
   "outputs": [],
   "source": [
    "if 0 :\n",
    "    print(\"beni görebilecek misiniz?\")"
   ]
  },
  {
   "cell_type": "markdown",
   "id": "0d16337e",
   "metadata": {},
   "source": [
    "```python\n",
    "None\n",
    "[]\n",
    "()\n",
    "\"\"\n",
    "0\n",
    "0.0\n",
    "0j\n",
    "{}\n",
    "```"
   ]
  },
  {
   "cell_type": "code",
   "execution_count": 21,
   "id": "72bf41ca",
   "metadata": {},
   "outputs": [
    {
     "name": "stdout",
     "output_type": "stream",
     "text": [
      "bu çalışır\n"
     ]
    }
   ],
   "source": [
    "if 1 :\n",
    "    print(\"bu çalışır\")"
   ]
  },
  {
   "cell_type": "code",
   "execution_count": 23,
   "id": "53461a69",
   "metadata": {},
   "outputs": [],
   "source": [
    "minced = True\n",
    "bread = True\n",
    "#green\n",
    "lettuce = True\n",
    "onion = True\n",
    "grocer = True"
   ]
  },
  {
   "cell_type": "code",
   "execution_count": 24,
   "id": "8963b030",
   "metadata": {},
   "outputs": [],
   "source": [
    "hamburger = (minced and grocer and bread) and (lettuce or onion)"
   ]
  },
  {
   "cell_type": "code",
   "execution_count": 25,
   "id": "2ed5fa3b",
   "metadata": {},
   "outputs": [
    {
     "name": "stdout",
     "output_type": "stream",
     "text": [
      "Bon Appetit!\n"
     ]
    }
   ],
   "source": [
    "if hamburger :\n",
    "    print(\"Bon Appetit!\")"
   ]
  },
  {
   "cell_type": "code",
   "execution_count": 26,
   "id": "81bdeb11",
   "metadata": {},
   "outputs": [
    {
     "data": {
      "text/plain": [
       "True"
      ]
     },
     "execution_count": 26,
     "metadata": {},
     "output_type": "execute_result"
    }
   ],
   "source": [
    "\"a\" < \"b\""
   ]
  },
  {
   "cell_type": "code",
   "execution_count": 27,
   "id": "5bdacd1f",
   "metadata": {},
   "outputs": [
    {
     "data": {
      "text/plain": [
       "False"
      ]
     },
     "execution_count": 27,
     "metadata": {},
     "output_type": "execute_result"
    }
   ],
   "source": [
    "\"4\" < \"39\""
   ]
  },
  {
   "cell_type": "code",
   "execution_count": 28,
   "id": "85e2d168",
   "metadata": {},
   "outputs": [
    {
     "data": {
      "text/plain": [
       "52"
      ]
     },
     "execution_count": 28,
     "metadata": {},
     "output_type": "execute_result"
    }
   ],
   "source": [
    "ord(\"4\")"
   ]
  },
  {
   "cell_type": "code",
   "execution_count": 29,
   "id": "598bc0f1",
   "metadata": {},
   "outputs": [
    {
     "data": {
      "text/plain": [
       "51"
      ]
     },
     "execution_count": 29,
     "metadata": {},
     "output_type": "execute_result"
    }
   ],
   "source": [
    "ord(\"3\")"
   ]
  },
  {
   "cell_type": "code",
   "execution_count": 30,
   "id": "7051c039",
   "metadata": {},
   "outputs": [
    {
     "data": {
      "text/plain": [
       "3"
      ]
     },
     "execution_count": 30,
     "metadata": {},
     "output_type": "execute_result"
    }
   ],
   "source": [
    "1 and 2 and 3"
   ]
  },
  {
   "cell_type": "code",
   "execution_count": 31,
   "id": "caa463e6",
   "metadata": {},
   "outputs": [
    {
     "data": {
      "text/plain": [
       "True"
      ]
     },
     "execution_count": 31,
     "metadata": {},
     "output_type": "execute_result"
    }
   ],
   "source": [
    "2 >= 2"
   ]
  },
  {
   "cell_type": "code",
   "execution_count": 34,
   "id": "50707354",
   "metadata": {},
   "outputs": [],
   "source": [
    "a = set(\"TWELVE PLUS ONE\")\n",
    "b = set(\"ELEVEN PLUS TWO\")"
   ]
  },
  {
   "cell_type": "code",
   "execution_count": 35,
   "id": "499e1570",
   "metadata": {},
   "outputs": [
    {
     "data": {
      "text/plain": [
       "{' ', 'E', 'L', 'N', 'O', 'P', 'S', 'T', 'U', 'V', 'W'}"
      ]
     },
     "execution_count": 35,
     "metadata": {},
     "output_type": "execute_result"
    }
   ],
   "source": [
    "a"
   ]
  },
  {
   "cell_type": "code",
   "execution_count": 36,
   "id": "f656dd2e",
   "metadata": {},
   "outputs": [
    {
     "data": {
      "text/plain": [
       "{' ', 'E', 'L', 'N', 'O', 'P', 'S', 'T', 'U', 'V', 'W'}"
      ]
     },
     "execution_count": 36,
     "metadata": {},
     "output_type": "execute_result"
    }
   ],
   "source": [
    "b"
   ]
  },
  {
   "cell_type": "code",
   "execution_count": 37,
   "id": "c8db7206",
   "metadata": {},
   "outputs": [
    {
     "data": {
      "text/plain": [
       "True"
      ]
     },
     "execution_count": 37,
     "metadata": {},
     "output_type": "execute_result"
    }
   ],
   "source": [
    "a == b"
   ]
  },
  {
   "cell_type": "code",
   "execution_count": 41,
   "id": "3f2c5328",
   "metadata": {},
   "outputs": [
    {
     "name": "stdout",
     "output_type": "stream",
     "text": [
      "Enter yes or no : no\n"
     ]
    }
   ],
   "source": [
    "convert = input(\"Enter yes or no : \").title().strip() == \"Yes\""
   ]
  },
  {
   "cell_type": "code",
   "execution_count": 42,
   "id": "29f0c3d7",
   "metadata": {},
   "outputs": [
    {
     "name": "stdout",
     "output_type": "stream",
     "text": [
      "<class 'bool'>\n",
      "False\n"
     ]
    }
   ],
   "source": [
    "print(type(convert))\n",
    "print(convert)"
   ]
  },
  {
   "cell_type": "code",
   "execution_count": 43,
   "id": "d97298d4",
   "metadata": {},
   "outputs": [
    {
     "name": "stdout",
     "output_type": "stream",
     "text": [
      "You entered False\n"
     ]
    }
   ],
   "source": [
    "print(\"You entered\", convert)"
   ]
  },
  {
   "cell_type": "code",
   "execution_count": 45,
   "id": "e835b31e",
   "metadata": {},
   "outputs": [
    {
     "name": "stdout",
     "output_type": "stream",
     "text": [
      "Enter a number please : 5\n",
      "Girmiş olduğunuz sayı (5) Tektir.\n"
     ]
    }
   ],
   "source": [
    "num = int(input(\"Enter a number please : \"))\n",
    "\n",
    "if num % 2 == 0 :\n",
    "    print(\"Girmiş olduğunuz sayı ({}) Çifttir.\".format(num))\n",
    "    \n",
    "else:\n",
    "    print(\"Girmiş olduğunuz sayı ({}) Tektir.\".format(num))"
   ]
  },
  {
   "cell_type": "code",
   "execution_count": null,
   "id": "40a80b43",
   "metadata": {},
   "outputs": [],
   "source": []
  },
  {
   "cell_type": "code",
   "execution_count": null,
   "id": "b9f3420c",
   "metadata": {},
   "outputs": [],
   "source": []
  },
  {
   "cell_type": "code",
   "execution_count": null,
   "id": "f95a71b9",
   "metadata": {},
   "outputs": [],
   "source": []
  },
  {
   "cell_type": "code",
   "execution_count": null,
   "id": "159ec541",
   "metadata": {},
   "outputs": [],
   "source": []
  },
  {
   "cell_type": "code",
   "execution_count": null,
   "id": "7103573d",
   "metadata": {},
   "outputs": [],
   "source": []
  }
 ],
 "metadata": {
  "kernelspec": {
   "display_name": "Python 3",
   "language": "python",
   "name": "python3"
  },
  "language_info": {
   "codemirror_mode": {
    "name": "ipython",
    "version": 3
   },
   "file_extension": ".py",
   "mimetype": "text/x-python",
   "name": "python",
   "nbconvert_exporter": "python",
   "pygments_lexer": "ipython3",
   "version": "3.8.8"
  }
 },
 "nbformat": 4,
 "nbformat_minor": 5
}
