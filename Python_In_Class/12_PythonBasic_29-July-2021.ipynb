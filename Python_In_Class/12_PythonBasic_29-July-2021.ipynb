{
 "cells": [
  {
   "cell_type": "markdown",
   "id": "406f2981",
   "metadata": {},
   "source": [
    "<img src=\"https://docs.google.com/uc?id=14xeXxFrVRjvOoUYWn_GuyE-v84wVzrqr\" class=\"img-fluid\" alt=\"CLRWY\" width=\"400\" height=\"200\">"
   ]
  },
  {
   "cell_type": "markdown",
   "id": "22263af8",
   "metadata": {},
   "source": [
    "<h1><p style=\"text-align: center; color:darkblue\">Python In-Class, <br>29 July 2021</p><h1>"
   ]
  },
  {
   "cell_type": "code",
   "execution_count": 3,
   "id": "e785cd9c",
   "metadata": {},
   "outputs": [],
   "source": [
    "numbers = [11, 36, 33, 66, 89, 21, 32, 16, 10]"
   ]
  },
  {
   "cell_type": "code",
   "execution_count": 4,
   "id": "2073f525",
   "metadata": {},
   "outputs": [
    {
     "name": "stdout",
     "output_type": "stream",
     "text": [
      "The sum of odd numbers are : 4\n",
      "The sum of evens numbers are : 5\n"
     ]
    }
   ],
   "source": [
    "odds = 0\n",
    "evens = 0\n",
    "\n",
    "for i in numbers :\n",
    "    if not i % 2 :\n",
    "        evens += 1\n",
    "    else :\n",
    "        odds += 1\n",
    "print(\"The sum of odd numbers are :\", odds)\n",
    "print(\"The sum of evens numbers are :\", evens)"
   ]
  },
  {
   "cell_type": "code",
   "execution_count": 5,
   "id": "d1e5670a",
   "metadata": {},
   "outputs": [
    {
     "name": "stdout",
     "output_type": "stream",
     "text": [
      "The sum of odd numbers are : 4\n",
      "The sum of evens numbers are : 5\n"
     ]
    }
   ],
   "source": [
    "odds = 0\n",
    "evens = 0\n",
    "\n",
    "for i in numbers :\n",
    "    if i % 2 :\n",
    "        odds += 1\n",
    "    else :\n",
    "        evens += 1\n",
    "print(\"The sum of odd numbers are :\", odds)\n",
    "print(\"The sum of evens numbers are :\", evens)"
   ]
  },
  {
   "cell_type": "code",
   "execution_count": 6,
   "id": "792b4ee0",
   "metadata": {},
   "outputs": [
    {
     "name": "stdout",
     "output_type": "stream",
     "text": [
      "2775\n"
     ]
    }
   ],
   "source": [
    "toplam = 0\n",
    "\n",
    "for i in range(1,75) :\n",
    "    toplam += i\n",
    "print(toplam)"
   ]
  },
  {
   "cell_type": "markdown",
   "id": "d4b81f0f",
   "metadata": {},
   "source": [
    "## List Comprehension"
   ]
  },
  {
   "cell_type": "code",
   "execution_count": 7,
   "id": "30fb44d9",
   "metadata": {},
   "outputs": [
    {
     "data": {
      "text/plain": [
       "[0, 1, 2, 3, 4]"
      ]
     },
     "execution_count": 7,
     "metadata": {},
     "output_type": "execute_result"
    }
   ],
   "source": [
    "listem = []\n",
    "\n",
    "for i in range(5) :\n",
    "    listem.append(i)\n",
    "listem"
   ]
  },
  {
   "cell_type": "markdown",
   "id": "7cbe402e",
   "metadata": {},
   "source": [
    "```python\n",
    "\n",
    "for item in iterable :\n",
    "    expression\n",
    "\n",
    "\n",
    "[expression for item in iterable]\n",
    "```"
   ]
  },
  {
   "cell_type": "code",
   "execution_count": 8,
   "id": "250c0978",
   "metadata": {},
   "outputs": [
    {
     "data": {
      "text/plain": [
       "[0, 1, 2, 3, 4]"
      ]
     },
     "execution_count": 8,
     "metadata": {},
     "output_type": "execute_result"
    }
   ],
   "source": [
    "[item for item in range(5)]"
   ]
  },
  {
   "cell_type": "code",
   "execution_count": 9,
   "id": "c2acca0d",
   "metadata": {},
   "outputs": [
    {
     "data": {
      "text/plain": [
       "[0, 1, 4, 9, 16]"
      ]
     },
     "execution_count": 9,
     "metadata": {},
     "output_type": "execute_result"
    }
   ],
   "source": [
    "[i ** 2  for i in range(5)]"
   ]
  },
  {
   "cell_type": "markdown",
   "id": "03949ef8",
   "metadata": {},
   "source": [
    "## Ternary `if` Statements"
   ]
  },
  {
   "cell_type": "code",
   "execution_count": 11,
   "id": "04ceb74f",
   "metadata": {},
   "outputs": [
    {
     "name": "stdout",
     "output_type": "stream",
     "text": [
      "0\n"
     ]
    }
   ],
   "source": [
    "condition = False\n",
    "\n",
    "if condition :\n",
    "    a = 1\n",
    "else :\n",
    "    a = 0\n",
    "    \n",
    "print(a)"
   ]
  },
  {
   "cell_type": "markdown",
   "id": "70019fa2",
   "metadata": {},
   "source": [
    "```python\n",
    "\n",
    "if_body if condition else else_body \n",
    "\n",
    "```"
   ]
  },
  {
   "cell_type": "code",
   "execution_count": 12,
   "id": "15692f68",
   "metadata": {},
   "outputs": [
    {
     "data": {
      "text/plain": [
       "0"
      ]
     },
     "execution_count": 12,
     "metadata": {},
     "output_type": "execute_result"
    }
   ],
   "source": [
    "1 if condition else 0"
   ]
  },
  {
   "cell_type": "code",
   "execution_count": 13,
   "id": "55b5e4da",
   "metadata": {},
   "outputs": [
    {
     "data": {
      "text/plain": [
       "1"
      ]
     },
     "execution_count": 13,
     "metadata": {},
     "output_type": "execute_result"
    }
   ],
   "source": [
    "condition = True\n",
    "1 if condition else 0"
   ]
  },
  {
   "cell_type": "code",
   "execution_count": 14,
   "id": "1a825b67",
   "metadata": {},
   "outputs": [
    {
     "name": "stdout",
     "output_type": "stream",
     "text": [
      "1\n"
     ]
    }
   ],
   "source": [
    "a = 1 if condition else 0\n",
    "print(a)"
   ]
  },
  {
   "cell_type": "code",
   "execution_count": 15,
   "id": "619a353c",
   "metadata": {},
   "outputs": [
    {
     "name": "stdout",
     "output_type": "stream",
     "text": [
      "0\n"
     ]
    }
   ],
   "source": [
    "print(1 if False else 0)"
   ]
  },
  {
   "cell_type": "code",
   "execution_count": 16,
   "id": "5344145d",
   "metadata": {},
   "outputs": [],
   "source": [
    "listem = [1, 2, 3, 4, 5, 6]"
   ]
  },
  {
   "cell_type": "code",
   "execution_count": 17,
   "id": "ea8eb118",
   "metadata": {},
   "outputs": [
    {
     "data": {
      "text/plain": [
       "[1, 4, 9, 16, 25, 36]"
      ]
     },
     "execution_count": 17,
     "metadata": {},
     "output_type": "execute_result"
    }
   ],
   "source": [
    "[i**2 for i in listem]"
   ]
  },
  {
   "cell_type": "code",
   "execution_count": 18,
   "id": "4614042c",
   "metadata": {},
   "outputs": [
    {
     "data": {
      "text/plain": [
       "[1, 9, 25]"
      ]
     },
     "execution_count": 18,
     "metadata": {},
     "output_type": "execute_result"
    }
   ],
   "source": [
    "[i**2 for i in listem if i % 2]"
   ]
  },
  {
   "cell_type": "code",
   "execution_count": 19,
   "id": "d993a519",
   "metadata": {},
   "outputs": [
    {
     "ename": "SyntaxError",
     "evalue": "invalid syntax (<ipython-input-19-2fbbbe516f4a>, line 1)",
     "output_type": "error",
     "traceback": [
      "\u001b[0;36m  File \u001b[0;32m\"<ipython-input-19-2fbbbe516f4a>\"\u001b[0;36m, line \u001b[0;32m1\u001b[0m\n\u001b[0;31m    [i**2 for i in listem] if i % 2\u001b[0m\n\u001b[0m                                   ^\u001b[0m\n\u001b[0;31mSyntaxError\u001b[0m\u001b[0;31m:\u001b[0m invalid syntax\n"
     ]
    }
   ],
   "source": [
    "[i**2 for i in listem] if i % 2"
   ]
  },
  {
   "cell_type": "code",
   "execution_count": 25,
   "id": "3270bacd",
   "metadata": {},
   "outputs": [],
   "source": [
    "listA = [\"susan\", \"tom\", False, 0, \"0\"]"
   ]
  },
  {
   "cell_type": "code",
   "execution_count": 26,
   "id": "c544168e",
   "metadata": {},
   "outputs": [],
   "source": [
    "havadaki_object = filter(None, listA)"
   ]
  },
  {
   "cell_type": "code",
   "execution_count": 27,
   "id": "a36b04ca",
   "metadata": {},
   "outputs": [
    {
     "data": {
      "text/plain": [
       "<filter at 0x7fd09991dc10>"
      ]
     },
     "execution_count": 27,
     "metadata": {},
     "output_type": "execute_result"
    }
   ],
   "source": [
    "havadaki_object"
   ]
  },
  {
   "cell_type": "code",
   "execution_count": 28,
   "id": "57886b7e",
   "metadata": {},
   "outputs": [
    {
     "name": "stdout",
     "output_type": "stream",
     "text": [
      "susan\n",
      "tom\n",
      "0\n"
     ]
    }
   ],
   "source": [
    "for i in havadaki_object :\n",
    "    print(i)"
   ]
  },
  {
   "cell_type": "code",
   "execution_count": null,
   "id": "bd1f4e3b",
   "metadata": {},
   "outputs": [],
   "source": []
  }
 ],
 "metadata": {
  "kernelspec": {
   "display_name": "Python 3",
   "language": "python",
   "name": "python3"
  },
  "language_info": {
   "codemirror_mode": {
    "name": "ipython",
    "version": 3
   },
   "file_extension": ".py",
   "mimetype": "text/x-python",
   "name": "python",
   "nbconvert_exporter": "python",
   "pygments_lexer": "ipython3",
   "version": "3.8.8"
  }
 },
 "nbformat": 4,
 "nbformat_minor": 5
}
